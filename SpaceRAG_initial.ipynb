{
  "cells": [
    {
      "cell_type": "markdown",
      "metadata": {
        "id": "view-in-github",
        "colab_type": "text"
      },
      "source": [
        "<a href=\"https://colab.research.google.com/github/lavanyashukla/genai-class/blob/main/SpaceRAG_initial.ipynb\" target=\"_parent\"><img src=\"https://colab.research.google.com/assets/colab-badge.svg\" alt=\"Open In Colab\"/></a>"
      ]
    },
    {
      "cell_type": "markdown",
      "metadata": {
        "id": "THzPCsny7yLl"
      },
      "source": [
        "[![Open In Colab](https://colab.research.google.com/assets/colab-badge.svg)](https://colab.research.google.com/github/wandb/weave/blob/anish/add-spacerag-example/examples/cookbooks/rag/spacerag/part2.ipynb)\n",
        "<!--- @wandbcode{weave-spacerag-cookbook} -->"
      ]
    },
    {
      "cell_type": "code",
      "execution_count": 17,
      "metadata": {
        "id": "Pao9QWqE7yLn"
      },
      "outputs": [],
      "source": [
        "IN_COLAB = False\n",
        "try:\n",
        "    from google.colab import userdata\n",
        "    import os\n",
        "    os.environ[\"WANDB_API_KEY\"] = userdata.get(\"WANDB_API_KEY\")\n",
        "    os.environ[\"TOGETHER_API_KEY\"] = userdata.get(\"TOGETHER_API_KEY\")\n",
        "    os.environ[\"OPENAI_API_KEY\"] = userdata.get(\"OPENAI_API_KEY\")\n",
        "    IN_COLAB = True\n",
        "except:\n",
        "    from dotenv import load_dotenv\n",
        "    load_dotenv()"
      ]
    },
    {
      "cell_type": "code",
      "execution_count": 18,
      "metadata": {
        "colab": {
          "base_uri": "https://localhost:8080/"
        },
        "id": "XJNpOy777yLn",
        "outputId": "0c9ea353-4ae6-4296-c5b0-71dffb8d08e8"
      },
      "outputs": [
        {
          "output_type": "stream",
          "name": "stdout",
          "text": [
            "Cloning repository: https://github.com/wandb/weave.git\n",
            "Successfully cloned examples/cookbooks from branch 'anish/add-spacerag-example' to weave_cookbooks\n"
          ]
        }
      ],
      "source": [
        "import os\n",
        "import subprocess\n",
        "import shutil\n",
        "\n",
        "repo_url = \"https://github.com/wandb/weave.git\"\n",
        "target_folder = \"weave_cookbooks\"\n",
        "subdirectory = \"examples/cookbooks\"\n",
        "branch = \"anish/add-spacerag-example\"\n",
        "\n",
        "if not os.path.exists(target_folder) and IN_COLAB:\n",
        "    print(f\"Cloning repository: {repo_url}\")\n",
        "\n",
        "    # Clone the entire repository to a temporary folder\n",
        "    temp_folder = \"temp_weave_repo\"\n",
        "    subprocess.run([\"git\", \"clone\", \"--depth\", \"1\", \"--branch\", branch, repo_url, temp_folder], check=True)\n",
        "\n",
        "    # Move the desired subdirectory to the target folder\n",
        "    shutil.move(os.path.join(temp_folder, subdirectory), target_folder)\n",
        "\n",
        "    # Remove the temporary folder\n",
        "    shutil.rmtree(temp_folder)\n",
        "\n",
        "    print(f\"Successfully cloned {subdirectory} from branch '{branch}' to {target_folder}\")\n",
        "\n",
        "else:\n",
        "    print(f\"Folder '{target_folder}' already exists.\")"
      ]
    },
    {
      "cell_type": "code",
      "execution_count": 19,
      "metadata": {
        "colab": {
          "base_uri": "https://localhost:8080/"
        },
        "id": "BPU5GWX27yLo",
        "outputId": "1d0cf41a-b240-485a-8433-74ceacbf9571"
      },
      "outputs": [
        {
          "output_type": "stream",
          "name": "stdout",
          "text": [
            "/content/weave_cookbooks/rag/spacerag/weave_cookbooks/rag/spacerag\n",
            "Requirement already satisfied: weave in /usr/local/lib/python3.10/dist-packages (from -r requirements.txt (line 1)) (0.51.18)\n",
            "Requirement already satisfied: numpy in /usr/local/lib/python3.10/dist-packages (from -r requirements.txt (line 2)) (1.26.4)\n",
            "Requirement already satisfied: faiss-cpu in /usr/local/lib/python3.10/dist-packages (from -r requirements.txt (line 3)) (1.9.0)\n",
            "Requirement already satisfied: openai in /usr/local/lib/python3.10/dist-packages (from -r requirements.txt (line 4)) (1.52.2)\n",
            "Requirement already satisfied: together in /usr/local/lib/python3.10/dist-packages (from -r requirements.txt (line 5)) (1.3.3)\n",
            "Requirement already satisfied: python-dotenv in /usr/local/lib/python3.10/dist-packages (from -r requirements.txt (line 6)) (1.0.1)\n",
            "Requirement already satisfied: datasets in /usr/local/lib/python3.10/dist-packages (from -r requirements.txt (line 7)) (3.1.0)\n",
            "Requirement already satisfied: ragas in /usr/local/lib/python3.10/dist-packages (from -r requirements.txt (line 8)) (0.2.3)\n",
            "Requirement already satisfied: tonic-validate in /usr/local/lib/python3.10/dist-packages (from -r requirements.txt (line 9)) (6.1.0)\n",
            "Requirement already satisfied: emoji>=2.12.1 in /usr/local/lib/python3.10/dist-packages (from weave->-r requirements.txt (line 1)) (2.14.0)\n",
            "Requirement already satisfied: gql[aiohttp,requests] in /usr/local/lib/python3.10/dist-packages (from weave->-r requirements.txt (line 1)) (3.5.0)\n",
            "Requirement already satisfied: packaging>=21.0 in /usr/local/lib/python3.10/dist-packages (from weave->-r requirements.txt (line 1)) (24.1)\n",
            "Requirement already satisfied: pydantic>=2.0.0 in /usr/local/lib/python3.10/dist-packages (from weave->-r requirements.txt (line 1)) (2.9.2)\n",
            "Requirement already satisfied: rich in /usr/local/lib/python3.10/dist-packages (from weave->-r requirements.txt (line 1)) (13.9.3)\n",
            "Requirement already satisfied: tenacity!=8.4.0,>=8.3.0 in /usr/local/lib/python3.10/dist-packages (from weave->-r requirements.txt (line 1)) (9.0.0)\n",
            "Requirement already satisfied: uuid-utils>=0.9.0 in /usr/local/lib/python3.10/dist-packages (from weave->-r requirements.txt (line 1)) (0.9.0)\n",
            "Requirement already satisfied: wandb>=0.17.1 in /usr/local/lib/python3.10/dist-packages (from weave->-r requirements.txt (line 1)) (0.18.5)\n",
            "Requirement already satisfied: anyio<5,>=3.5.0 in /usr/local/lib/python3.10/dist-packages (from openai->-r requirements.txt (line 4)) (3.7.1)\n",
            "Requirement already satisfied: distro<2,>=1.7.0 in /usr/local/lib/python3.10/dist-packages (from openai->-r requirements.txt (line 4)) (1.9.0)\n",
            "Requirement already satisfied: httpx<1,>=0.23.0 in /usr/local/lib/python3.10/dist-packages (from openai->-r requirements.txt (line 4)) (0.27.2)\n",
            "Requirement already satisfied: jiter<1,>=0.4.0 in /usr/local/lib/python3.10/dist-packages (from openai->-r requirements.txt (line 4)) (0.6.1)\n",
            "Requirement already satisfied: sniffio in /usr/local/lib/python3.10/dist-packages (from openai->-r requirements.txt (line 4)) (1.3.1)\n",
            "Requirement already satisfied: tqdm>4 in /usr/local/lib/python3.10/dist-packages (from openai->-r requirements.txt (line 4)) (4.66.6)\n",
            "Requirement already satisfied: typing-extensions<5,>=4.11 in /usr/local/lib/python3.10/dist-packages (from openai->-r requirements.txt (line 4)) (4.12.2)\n",
            "Requirement already satisfied: aiohttp<4.0.0,>=3.9.3 in /usr/local/lib/python3.10/dist-packages (from together->-r requirements.txt (line 5)) (3.10.10)\n",
            "Requirement already satisfied: click<9.0.0,>=8.1.7 in /usr/local/lib/python3.10/dist-packages (from together->-r requirements.txt (line 5)) (8.1.7)\n",
            "Requirement already satisfied: eval-type-backport<0.3.0,>=0.1.3 in /usr/local/lib/python3.10/dist-packages (from together->-r requirements.txt (line 5)) (0.2.0)\n",
            "Requirement already satisfied: filelock<4.0.0,>=3.13.1 in /usr/local/lib/python3.10/dist-packages (from together->-r requirements.txt (line 5)) (3.16.1)\n",
            "Requirement already satisfied: pillow<11.0.0,>=10.3.0 in /usr/local/lib/python3.10/dist-packages (from together->-r requirements.txt (line 5)) (10.4.0)\n",
            "Requirement already satisfied: pyarrow>=10.0.1 in /usr/local/lib/python3.10/dist-packages (from together->-r requirements.txt (line 5)) (17.0.0)\n",
            "Requirement already satisfied: requests<3.0.0,>=2.31.0 in /usr/local/lib/python3.10/dist-packages (from together->-r requirements.txt (line 5)) (2.32.3)\n",
            "Requirement already satisfied: tabulate<0.10.0,>=0.9.0 in /usr/local/lib/python3.10/dist-packages (from together->-r requirements.txt (line 5)) (0.9.0)\n",
            "Requirement already satisfied: typer<0.13,>=0.9 in /usr/local/lib/python3.10/dist-packages (from together->-r requirements.txt (line 5)) (0.12.5)\n",
            "Requirement already satisfied: dill<0.3.9,>=0.3.0 in /usr/local/lib/python3.10/dist-packages (from datasets->-r requirements.txt (line 7)) (0.3.8)\n",
            "Requirement already satisfied: pandas in /usr/local/lib/python3.10/dist-packages (from datasets->-r requirements.txt (line 7)) (2.2.2)\n",
            "Requirement already satisfied: xxhash in /usr/local/lib/python3.10/dist-packages (from datasets->-r requirements.txt (line 7)) (3.5.0)\n",
            "Requirement already satisfied: multiprocess<0.70.17 in /usr/local/lib/python3.10/dist-packages (from datasets->-r requirements.txt (line 7)) (0.70.16)\n",
            "Requirement already satisfied: fsspec<=2024.9.0,>=2023.1.0 in /usr/local/lib/python3.10/dist-packages (from fsspec[http]<=2024.9.0,>=2023.1.0->datasets->-r requirements.txt (line 7)) (2024.9.0)\n",
            "Requirement already satisfied: huggingface-hub>=0.23.0 in /usr/local/lib/python3.10/dist-packages (from datasets->-r requirements.txt (line 7)) (0.24.7)\n",
            "Requirement already satisfied: pyyaml>=5.1 in /usr/local/lib/python3.10/dist-packages (from datasets->-r requirements.txt (line 7)) (6.0.2)\n",
            "Requirement already satisfied: tiktoken in /usr/local/lib/python3.10/dist-packages (from ragas->-r requirements.txt (line 8)) (0.7.0)\n",
            "Requirement already satisfied: langchain in /usr/local/lib/python3.10/dist-packages (from ragas->-r requirements.txt (line 8)) (0.3.7)\n",
            "Requirement already satisfied: langchain-core in /usr/local/lib/python3.10/dist-packages (from ragas->-r requirements.txt (line 8)) (0.3.15)\n",
            "Requirement already satisfied: langchain-community in /usr/local/lib/python3.10/dist-packages (from ragas->-r requirements.txt (line 8)) (0.3.5)\n",
            "Requirement already satisfied: langchain-openai in /usr/local/lib/python3.10/dist-packages (from ragas->-r requirements.txt (line 8)) (0.2.5)\n",
            "Requirement already satisfied: nest-asyncio in /usr/local/lib/python3.10/dist-packages (from ragas->-r requirements.txt (line 8)) (1.6.0)\n",
            "Requirement already satisfied: appdirs in /usr/local/lib/python3.10/dist-packages (from ragas->-r requirements.txt (line 8)) (1.4.4)\n",
            "Requirement already satisfied: pysbd>=0.3.4 in /usr/local/lib/python3.10/dist-packages (from ragas->-r requirements.txt (line 8)) (0.3.4)\n",
            "Requirement already satisfied: aioboto3<13.0.0,>=12.4.0 in /usr/local/lib/python3.10/dist-packages (from tonic-validate->-r requirements.txt (line 9)) (12.4.0)\n",
            "Requirement already satisfied: google-generativeai<0.6.0,>=0.5.2 in /usr/local/lib/python3.10/dist-packages (from tonic-validate->-r requirements.txt (line 9)) (0.5.4)\n",
            "Requirement already satisfied: litellm<2.0.0,>=1.35.8 in /usr/local/lib/python3.10/dist-packages (from tonic-validate->-r requirements.txt (line 9)) (1.51.3)\n",
            "Requirement already satisfied: aiobotocore==2.12.3 in /usr/local/lib/python3.10/dist-packages (from aiobotocore[boto3]==2.12.3->aioboto3<13.0.0,>=12.4.0->tonic-validate->-r requirements.txt (line 9)) (2.12.3)\n",
            "Requirement already satisfied: botocore<1.34.70,>=1.34.41 in /usr/local/lib/python3.10/dist-packages (from aiobotocore==2.12.3->aiobotocore[boto3]==2.12.3->aioboto3<13.0.0,>=12.4.0->tonic-validate->-r requirements.txt (line 9)) (1.34.69)\n",
            "Requirement already satisfied: wrapt<2.0.0,>=1.10.10 in /usr/local/lib/python3.10/dist-packages (from aiobotocore==2.12.3->aiobotocore[boto3]==2.12.3->aioboto3<13.0.0,>=12.4.0->tonic-validate->-r requirements.txt (line 9)) (1.16.0)\n",
            "Requirement already satisfied: aioitertools<1.0.0,>=0.5.1 in /usr/local/lib/python3.10/dist-packages (from aiobotocore==2.12.3->aiobotocore[boto3]==2.12.3->aioboto3<13.0.0,>=12.4.0->tonic-validate->-r requirements.txt (line 9)) (0.12.0)\n",
            "Requirement already satisfied: boto3<1.34.70,>=1.34.41 in /usr/local/lib/python3.10/dist-packages (from aiobotocore[boto3]==2.12.3->aioboto3<13.0.0,>=12.4.0->tonic-validate->-r requirements.txt (line 9)) (1.34.69)\n",
            "Requirement already satisfied: aiohappyeyeballs>=2.3.0 in /usr/local/lib/python3.10/dist-packages (from aiohttp<4.0.0,>=3.9.3->together->-r requirements.txt (line 5)) (2.4.3)\n",
            "Requirement already satisfied: aiosignal>=1.1.2 in /usr/local/lib/python3.10/dist-packages (from aiohttp<4.0.0,>=3.9.3->together->-r requirements.txt (line 5)) (1.3.1)\n",
            "Requirement already satisfied: attrs>=17.3.0 in /usr/local/lib/python3.10/dist-packages (from aiohttp<4.0.0,>=3.9.3->together->-r requirements.txt (line 5)) (24.2.0)\n",
            "Requirement already satisfied: frozenlist>=1.1.1 in /usr/local/lib/python3.10/dist-packages (from aiohttp<4.0.0,>=3.9.3->together->-r requirements.txt (line 5)) (1.5.0)\n",
            "Requirement already satisfied: multidict<7.0,>=4.5 in /usr/local/lib/python3.10/dist-packages (from aiohttp<4.0.0,>=3.9.3->together->-r requirements.txt (line 5)) (6.1.0)\n",
            "Requirement already satisfied: yarl<2.0,>=1.12.0 in /usr/local/lib/python3.10/dist-packages (from aiohttp<4.0.0,>=3.9.3->together->-r requirements.txt (line 5)) (1.17.0)\n",
            "Requirement already satisfied: async-timeout<5.0,>=4.0 in /usr/local/lib/python3.10/dist-packages (from aiohttp<4.0.0,>=3.9.3->together->-r requirements.txt (line 5)) (4.0.3)\n",
            "Requirement already satisfied: idna>=2.8 in /usr/local/lib/python3.10/dist-packages (from anyio<5,>=3.5.0->openai->-r requirements.txt (line 4)) (3.10)\n",
            "Requirement already satisfied: exceptiongroup in /usr/local/lib/python3.10/dist-packages (from anyio<5,>=3.5.0->openai->-r requirements.txt (line 4)) (1.2.2)\n",
            "Requirement already satisfied: google-ai-generativelanguage==0.6.4 in /usr/local/lib/python3.10/dist-packages (from google-generativeai<0.6.0,>=0.5.2->tonic-validate->-r requirements.txt (line 9)) (0.6.4)\n",
            "Requirement already satisfied: google-api-core in /usr/local/lib/python3.10/dist-packages (from google-generativeai<0.6.0,>=0.5.2->tonic-validate->-r requirements.txt (line 9)) (2.19.2)\n",
            "Requirement already satisfied: google-api-python-client in /usr/local/lib/python3.10/dist-packages (from google-generativeai<0.6.0,>=0.5.2->tonic-validate->-r requirements.txt (line 9)) (2.137.0)\n",
            "Requirement already satisfied: google-auth>=2.15.0 in /usr/local/lib/python3.10/dist-packages (from google-generativeai<0.6.0,>=0.5.2->tonic-validate->-r requirements.txt (line 9)) (2.27.0)\n",
            "Requirement already satisfied: protobuf in /usr/local/lib/python3.10/dist-packages (from google-generativeai<0.6.0,>=0.5.2->tonic-validate->-r requirements.txt (line 9)) (3.20.3)\n",
            "Requirement already satisfied: proto-plus<2.0.0dev,>=1.22.3 in /usr/local/lib/python3.10/dist-packages (from google-ai-generativelanguage==0.6.4->google-generativeai<0.6.0,>=0.5.2->tonic-validate->-r requirements.txt (line 9)) (1.25.0)\n",
            "Requirement already satisfied: certifi in /usr/local/lib/python3.10/dist-packages (from httpx<1,>=0.23.0->openai->-r requirements.txt (line 4)) (2024.8.30)\n",
            "Requirement already satisfied: httpcore==1.* in /usr/local/lib/python3.10/dist-packages (from httpx<1,>=0.23.0->openai->-r requirements.txt (line 4)) (1.0.6)\n",
            "Requirement already satisfied: h11<0.15,>=0.13 in /usr/local/lib/python3.10/dist-packages (from httpcore==1.*->httpx<1,>=0.23.0->openai->-r requirements.txt (line 4)) (0.14.0)\n",
            "Requirement already satisfied: importlib-metadata>=6.8.0 in /usr/local/lib/python3.10/dist-packages (from litellm<2.0.0,>=1.35.8->tonic-validate->-r requirements.txt (line 9)) (8.5.0)\n",
            "Requirement already satisfied: jinja2<4.0.0,>=3.1.2 in /usr/local/lib/python3.10/dist-packages (from litellm<2.0.0,>=1.35.8->tonic-validate->-r requirements.txt (line 9)) (3.1.4)\n",
            "Requirement already satisfied: jsonschema<5.0.0,>=4.22.0 in /usr/local/lib/python3.10/dist-packages (from litellm<2.0.0,>=1.35.8->tonic-validate->-r requirements.txt (line 9)) (4.23.0)\n",
            "Requirement already satisfied: tokenizers in /usr/local/lib/python3.10/dist-packages (from litellm<2.0.0,>=1.35.8->tonic-validate->-r requirements.txt (line 9)) (0.19.1)\n",
            "Requirement already satisfied: annotated-types>=0.6.0 in /usr/local/lib/python3.10/dist-packages (from pydantic>=2.0.0->weave->-r requirements.txt (line 1)) (0.7.0)\n",
            "Requirement already satisfied: pydantic-core==2.23.4 in /usr/local/lib/python3.10/dist-packages (from pydantic>=2.0.0->weave->-r requirements.txt (line 1)) (2.23.4)\n",
            "Requirement already satisfied: charset-normalizer<4,>=2 in /usr/local/lib/python3.10/dist-packages (from requests<3.0.0,>=2.31.0->together->-r requirements.txt (line 5)) (3.4.0)\n",
            "Requirement already satisfied: urllib3<3,>=1.21.1 in /usr/local/lib/python3.10/dist-packages (from requests<3.0.0,>=2.31.0->together->-r requirements.txt (line 5)) (2.2.3)\n",
            "Requirement already satisfied: markdown-it-py>=2.2.0 in /usr/local/lib/python3.10/dist-packages (from rich->weave->-r requirements.txt (line 1)) (3.0.0)\n",
            "Requirement already satisfied: pygments<3.0.0,>=2.13.0 in /usr/local/lib/python3.10/dist-packages (from rich->weave->-r requirements.txt (line 1)) (2.18.0)\n",
            "Requirement already satisfied: regex>=2022.1.18 in /usr/local/lib/python3.10/dist-packages (from tiktoken->ragas->-r requirements.txt (line 8)) (2024.9.11)\n",
            "Requirement already satisfied: shellingham>=1.3.0 in /usr/local/lib/python3.10/dist-packages (from typer<0.13,>=0.9->together->-r requirements.txt (line 5)) (1.5.4)\n",
            "Requirement already satisfied: docker-pycreds>=0.4.0 in /usr/local/lib/python3.10/dist-packages (from wandb>=0.17.1->weave->-r requirements.txt (line 1)) (0.4.0)\n",
            "Requirement already satisfied: gitpython!=3.1.29,>=1.0.0 in /usr/local/lib/python3.10/dist-packages (from wandb>=0.17.1->weave->-r requirements.txt (line 1)) (3.1.43)\n",
            "Requirement already satisfied: platformdirs in /usr/local/lib/python3.10/dist-packages (from wandb>=0.17.1->weave->-r requirements.txt (line 1)) (4.3.6)\n",
            "Requirement already satisfied: psutil>=5.0.0 in /usr/local/lib/python3.10/dist-packages (from wandb>=0.17.1->weave->-r requirements.txt (line 1)) (5.9.5)\n",
            "Requirement already satisfied: sentry-sdk>=2.0.0 in /usr/local/lib/python3.10/dist-packages (from wandb>=0.17.1->weave->-r requirements.txt (line 1)) (2.17.0)\n",
            "Requirement already satisfied: setproctitle in /usr/local/lib/python3.10/dist-packages (from wandb>=0.17.1->weave->-r requirements.txt (line 1)) (1.3.3)\n",
            "Requirement already satisfied: setuptools in /usr/local/lib/python3.10/dist-packages (from wandb>=0.17.1->weave->-r requirements.txt (line 1)) (75.1.0)\n",
            "Requirement already satisfied: graphql-core<3.3,>=3.2 in /usr/local/lib/python3.10/dist-packages (from gql[aiohttp,requests]->weave->-r requirements.txt (line 1)) (3.2.5)\n",
            "Requirement already satisfied: backoff<3.0,>=1.11.1 in /usr/local/lib/python3.10/dist-packages (from gql[aiohttp,requests]->weave->-r requirements.txt (line 1)) (2.2.1)\n",
            "Requirement already satisfied: requests-toolbelt<2,>=1.0.0 in /usr/local/lib/python3.10/dist-packages (from gql[aiohttp,requests]->weave->-r requirements.txt (line 1)) (1.0.0)\n",
            "Requirement already satisfied: SQLAlchemy<3,>=1.4 in /usr/local/lib/python3.10/dist-packages (from langchain->ragas->-r requirements.txt (line 8)) (2.0.35)\n",
            "Requirement already satisfied: langchain-text-splitters<0.4.0,>=0.3.0 in /usr/local/lib/python3.10/dist-packages (from langchain->ragas->-r requirements.txt (line 8)) (0.3.0)\n",
            "Requirement already satisfied: langsmith<0.2.0,>=0.1.17 in /usr/local/lib/python3.10/dist-packages (from langchain->ragas->-r requirements.txt (line 8)) (0.1.137)\n",
            "Requirement already satisfied: jsonpatch<2.0,>=1.33 in /usr/local/lib/python3.10/dist-packages (from langchain-core->ragas->-r requirements.txt (line 8)) (1.33)\n",
            "Requirement already satisfied: dataclasses-json<0.7,>=0.5.7 in /usr/local/lib/python3.10/dist-packages (from langchain-community->ragas->-r requirements.txt (line 8)) (0.6.7)\n",
            "Requirement already satisfied: httpx-sse<0.5.0,>=0.4.0 in /usr/local/lib/python3.10/dist-packages (from langchain-community->ragas->-r requirements.txt (line 8)) (0.4.0)\n",
            "Requirement already satisfied: pydantic-settings<3.0.0,>=2.4.0 in /usr/local/lib/python3.10/dist-packages (from langchain-community->ragas->-r requirements.txt (line 8)) (2.6.1)\n",
            "Requirement already satisfied: python-dateutil>=2.8.2 in /usr/local/lib/python3.10/dist-packages (from pandas->datasets->-r requirements.txt (line 7)) (2.8.2)\n",
            "Requirement already satisfied: pytz>=2020.1 in /usr/local/lib/python3.10/dist-packages (from pandas->datasets->-r requirements.txt (line 7)) (2024.2)\n",
            "Requirement already satisfied: tzdata>=2022.7 in /usr/local/lib/python3.10/dist-packages (from pandas->datasets->-r requirements.txt (line 7)) (2024.2)\n",
            "Requirement already satisfied: marshmallow<4.0.0,>=3.18.0 in /usr/local/lib/python3.10/dist-packages (from dataclasses-json<0.7,>=0.5.7->langchain-community->ragas->-r requirements.txt (line 8)) (3.23.1)\n",
            "Requirement already satisfied: typing-inspect<1,>=0.4.0 in /usr/local/lib/python3.10/dist-packages (from dataclasses-json<0.7,>=0.5.7->langchain-community->ragas->-r requirements.txt (line 8)) (0.9.0)\n",
            "Requirement already satisfied: six>=1.4.0 in /usr/local/lib/python3.10/dist-packages (from docker-pycreds>=0.4.0->wandb>=0.17.1->weave->-r requirements.txt (line 1)) (1.16.0)\n",
            "Requirement already satisfied: gitdb<5,>=4.0.1 in /usr/local/lib/python3.10/dist-packages (from gitpython!=3.1.29,>=1.0.0->wandb>=0.17.1->weave->-r requirements.txt (line 1)) (4.0.11)\n",
            "Requirement already satisfied: googleapis-common-protos<2.0.dev0,>=1.56.2 in /usr/local/lib/python3.10/dist-packages (from google-api-core->google-generativeai<0.6.0,>=0.5.2->tonic-validate->-r requirements.txt (line 9)) (1.65.0)\n",
            "Requirement already satisfied: cachetools<6.0,>=2.0.0 in /usr/local/lib/python3.10/dist-packages (from google-auth>=2.15.0->google-generativeai<0.6.0,>=0.5.2->tonic-validate->-r requirements.txt (line 9)) (5.5.0)\n",
            "Requirement already satisfied: pyasn1-modules>=0.2.1 in /usr/local/lib/python3.10/dist-packages (from google-auth>=2.15.0->google-generativeai<0.6.0,>=0.5.2->tonic-validate->-r requirements.txt (line 9)) (0.4.1)\n",
            "Requirement already satisfied: rsa<5,>=3.1.4 in /usr/local/lib/python3.10/dist-packages (from google-auth>=2.15.0->google-generativeai<0.6.0,>=0.5.2->tonic-validate->-r requirements.txt (line 9)) (4.9)\n",
            "Requirement already satisfied: zipp>=3.20 in /usr/local/lib/python3.10/dist-packages (from importlib-metadata>=6.8.0->litellm<2.0.0,>=1.35.8->tonic-validate->-r requirements.txt (line 9)) (3.20.2)\n",
            "Requirement already satisfied: MarkupSafe>=2.0 in /usr/local/lib/python3.10/dist-packages (from jinja2<4.0.0,>=3.1.2->litellm<2.0.0,>=1.35.8->tonic-validate->-r requirements.txt (line 9)) (3.0.2)\n",
            "Requirement already satisfied: jsonpointer>=1.9 in /usr/local/lib/python3.10/dist-packages (from jsonpatch<2.0,>=1.33->langchain-core->ragas->-r requirements.txt (line 8)) (3.0.0)\n",
            "Requirement already satisfied: jsonschema-specifications>=2023.03.6 in /usr/local/lib/python3.10/dist-packages (from jsonschema<5.0.0,>=4.22.0->litellm<2.0.0,>=1.35.8->tonic-validate->-r requirements.txt (line 9)) (2024.10.1)\n",
            "Requirement already satisfied: referencing>=0.28.4 in /usr/local/lib/python3.10/dist-packages (from jsonschema<5.0.0,>=4.22.0->litellm<2.0.0,>=1.35.8->tonic-validate->-r requirements.txt (line 9)) (0.35.1)\n",
            "Requirement already satisfied: rpds-py>=0.7.1 in /usr/local/lib/python3.10/dist-packages (from jsonschema<5.0.0,>=4.22.0->litellm<2.0.0,>=1.35.8->tonic-validate->-r requirements.txt (line 9)) (0.20.0)\n",
            "Requirement already satisfied: orjson<4.0.0,>=3.9.14 in /usr/local/lib/python3.10/dist-packages (from langsmith<0.2.0,>=0.1.17->langchain->ragas->-r requirements.txt (line 8)) (3.10.10)\n",
            "Requirement already satisfied: mdurl~=0.1 in /usr/local/lib/python3.10/dist-packages (from markdown-it-py>=2.2.0->rich->weave->-r requirements.txt (line 1)) (0.1.2)\n",
            "Requirement already satisfied: greenlet!=0.4.17 in /usr/local/lib/python3.10/dist-packages (from SQLAlchemy<3,>=1.4->langchain->ragas->-r requirements.txt (line 8)) (3.1.1)\n",
            "Requirement already satisfied: propcache>=0.2.0 in /usr/local/lib/python3.10/dist-packages (from yarl<2.0,>=1.12.0->aiohttp<4.0.0,>=3.9.3->together->-r requirements.txt (line 5)) (0.2.0)\n",
            "Requirement already satisfied: httplib2<1.dev0,>=0.19.0 in /usr/local/lib/python3.10/dist-packages (from google-api-python-client->google-generativeai<0.6.0,>=0.5.2->tonic-validate->-r requirements.txt (line 9)) (0.22.0)\n",
            "Requirement already satisfied: google-auth-httplib2<1.0.0,>=0.2.0 in /usr/local/lib/python3.10/dist-packages (from google-api-python-client->google-generativeai<0.6.0,>=0.5.2->tonic-validate->-r requirements.txt (line 9)) (0.2.0)\n",
            "Requirement already satisfied: uritemplate<5,>=3.0.1 in /usr/local/lib/python3.10/dist-packages (from google-api-python-client->google-generativeai<0.6.0,>=0.5.2->tonic-validate->-r requirements.txt (line 9)) (4.1.1)\n",
            "Requirement already satisfied: jmespath<2.0.0,>=0.7.1 in /usr/local/lib/python3.10/dist-packages (from boto3<1.34.70,>=1.34.41->aiobotocore[boto3]==2.12.3->aioboto3<13.0.0,>=12.4.0->tonic-validate->-r requirements.txt (line 9)) (1.0.1)\n",
            "Requirement already satisfied: s3transfer<0.11.0,>=0.10.0 in /usr/local/lib/python3.10/dist-packages (from boto3<1.34.70,>=1.34.41->aiobotocore[boto3]==2.12.3->aioboto3<13.0.0,>=12.4.0->tonic-validate->-r requirements.txt (line 9)) (0.10.3)\n",
            "Requirement already satisfied: smmap<6,>=3.0.1 in /usr/local/lib/python3.10/dist-packages (from gitdb<5,>=4.0.1->gitpython!=3.1.29,>=1.0.0->wandb>=0.17.1->weave->-r requirements.txt (line 1)) (5.0.1)\n",
            "Requirement already satisfied: grpcio<2.0dev,>=1.33.2 in /usr/local/lib/python3.10/dist-packages (from google-api-core[grpc]!=2.0.*,!=2.1.*,!=2.10.*,!=2.2.*,!=2.3.*,!=2.4.*,!=2.5.*,!=2.6.*,!=2.7.*,!=2.8.*,!=2.9.*,<3.0.0dev,>=1.34.1->google-ai-generativelanguage==0.6.4->google-generativeai<0.6.0,>=0.5.2->tonic-validate->-r requirements.txt (line 9)) (1.64.1)\n",
            "Requirement already satisfied: grpcio-status<2.0.dev0,>=1.33.2 in /usr/local/lib/python3.10/dist-packages (from google-api-core[grpc]!=2.0.*,!=2.1.*,!=2.10.*,!=2.2.*,!=2.3.*,!=2.4.*,!=2.5.*,!=2.6.*,!=2.7.*,!=2.8.*,!=2.9.*,<3.0.0dev,>=1.34.1->google-ai-generativelanguage==0.6.4->google-generativeai<0.6.0,>=0.5.2->tonic-validate->-r requirements.txt (line 9)) (1.48.2)\n",
            "Requirement already satisfied: pyparsing!=3.0.0,!=3.0.1,!=3.0.2,!=3.0.3,<4,>=2.4.2 in /usr/local/lib/python3.10/dist-packages (from httplib2<1.dev0,>=0.19.0->google-api-python-client->google-generativeai<0.6.0,>=0.5.2->tonic-validate->-r requirements.txt (line 9)) (3.2.0)\n",
            "Requirement already satisfied: pyasn1<0.7.0,>=0.4.6 in /usr/local/lib/python3.10/dist-packages (from pyasn1-modules>=0.2.1->google-auth>=2.15.0->google-generativeai<0.6.0,>=0.5.2->tonic-validate->-r requirements.txt (line 9)) (0.6.1)\n",
            "Requirement already satisfied: mypy-extensions>=0.3.0 in /usr/local/lib/python3.10/dist-packages (from typing-inspect<1,>=0.4.0->dataclasses-json<0.7,>=0.5.7->langchain-community->ragas->-r requirements.txt (line 8)) (1.0.0)\n"
          ]
        }
      ],
      "source": [
        "if os.path.exists(target_folder) and IN_COLAB:\n",
        "    %cd weave_cookbooks/rag/spacerag\n",
        "    !pip install -r requirements.txt"
      ]
    },
    {
      "cell_type": "code",
      "execution_count": 20,
      "metadata": {
        "id": "W38uw2oh7yLr"
      },
      "outputs": [],
      "source": [
        "import weave\n",
        "from weave import Evaluation\n",
        "import os\n",
        "import numpy as np\n",
        "import faiss\n",
        "from openai import OpenAI\n",
        "from together import Together\n",
        "import re\n",
        "import json"
      ]
    },
    {
      "cell_type": "code",
      "execution_count": 21,
      "metadata": {
        "colab": {
          "base_uri": "https://localhost:8080/"
        },
        "id": "JjF12eEJ7yLr",
        "outputId": "31fb42fe-23d2-4c6d-e69a-d7f995c06eef"
      },
      "outputs": [
        {
          "output_type": "stream",
          "name": "stderr",
          "text": [
            "INFO:gql.transport.requests:>>> {\"query\": \"query DefaultEntity {\\n  viewer {\\n    username\\n    defaultEntity {\\n      name\\n    }\\n  }\\n}\"}\n",
            "INFO:gql.transport.requests:<<< {\"data\":{\"viewer\":{\"username\":\"lavanyashukla\",\"defaultEntity\":{\"name\":\"lavanyashukla\"}}}}\n",
            "INFO:gql.transport.requests:>>> {\"query\": \"query DefaultEntity {\\n  viewer {\\n    username\\n    defaultEntity {\\n      name\\n    }\\n  }\\n}\"}\n",
            "INFO:gql.transport.requests:<<< {\"data\":{\"viewer\":{\"username\":\"lavanyashukla\",\"defaultEntity\":{\"name\":\"lavanyashukla\"}}}}\n"
          ]
        },
        {
          "output_type": "stream",
          "name": "stdout",
          "text": [
            "Logged in as Weights & Biases user: lavanyashukla.\n",
            "View Weave data at https://wandb.ai/lavanyashukla/spacerag_novtest2/weave\n"
          ]
        }
      ],
      "source": [
        "weave.init('spacerag_novtest2')\n",
        "\n",
        "# SERVE MODEL FROM TOGETHER ENDPOINT\n",
        "client = Together(api_key=os.environ.get(\"TOGETHER_API_KEY\"))"
      ]
    },
    {
      "cell_type": "code",
      "execution_count": 22,
      "metadata": {
        "id": "hGbs2ryx7yLs"
      },
      "outputs": [],
      "source": [
        "# CHUNK DATA FROM EXTERNAL KNOWLEDGEBASE\n",
        "@weave.op\n",
        "def get_chunked_data(file):\n",
        "    # get data - file\n",
        "    with open(file, 'r') as file:\n",
        "        # Read the contents of the file into a variable\n",
        "        text = file.read()\n",
        "\n",
        "    # split doc into chunks\n",
        "    chunk_size = 10000 # 🛠️LEVER\n",
        "    chunks = [text[i:i + chunk_size] for i in range(0, len(text), chunk_size)] # 🛠️LEVER (advanced)\n",
        "    return chunks\n",
        "\n",
        "# EMBED DATA\n",
        "@weave.op\n",
        "def get_text_embedding(input):\n",
        "    api_key_openai = os.environ[\"OPENAI_API_KEY\"]\n",
        "    client = OpenAI(api_key=api_key_openai)\n",
        "\n",
        "    response = client.embeddings.create(\n",
        "        model=\"text-embedding-3-small\", # 🛠️LEVER\n",
        "        input=input\n",
        "    )\n",
        "    return response.data[0].embedding\n",
        "\n",
        "# MAKE VECTORDB\n",
        "@weave.op\n",
        "def make_vector_db(file):\n",
        "    # get chunked data from function get_chunked_data()\n",
        "    chunks = get_chunked_data(file)\n",
        "    # embed data\n",
        "    text_embeddings = np.array([get_text_embedding(chunk) for chunk in chunks])\n",
        "    # embed data into vectordb\n",
        "    d = text_embeddings.shape[1]\n",
        "    index = faiss.IndexFlatL2(d)\n",
        "    index.add(text_embeddings)\n",
        "    return index, chunks"
      ]
    },
    {
      "cell_type": "code",
      "execution_count": 23,
      "metadata": {
        "colab": {
          "base_uri": "https://localhost:8080/"
        },
        "id": "kRh3mP_L7yLs",
        "outputId": "8b225ea8-2cdd-4912-dbb8-26cff589167c"
      },
      "outputs": [
        {
          "output_type": "stream",
          "name": "stderr",
          "text": [
            "INFO:httpx:HTTP Request: POST https://api.openai.com/v1/embeddings \"HTTP/1.1 200 OK\"\n",
            "INFO:httpx:HTTP Request: POST https://api.openai.com/v1/embeddings \"HTTP/1.1 200 OK\"\n",
            "INFO:httpx:HTTP Request: POST https://api.openai.com/v1/embeddings \"HTTP/1.1 200 OK\"\n",
            "INFO:httpx:HTTP Request: POST https://api.openai.com/v1/embeddings \"HTTP/1.1 200 OK\"\n",
            "INFO:httpx:HTTP Request: POST https://api.openai.com/v1/embeddings \"HTTP/1.1 200 OK\"\n",
            "INFO:httpx:HTTP Request: POST https://api.openai.com/v1/embeddings \"HTTP/1.1 200 OK\"\n",
            "INFO:httpx:HTTP Request: POST https://api.openai.com/v1/embeddings \"HTTP/1.1 200 OK\"\n",
            "INFO:httpx:HTTP Request: POST https://api.openai.com/v1/embeddings \"HTTP/1.1 200 OK\"\n",
            "INFO:httpx:HTTP Request: POST https://api.openai.com/v1/embeddings \"HTTP/1.1 200 OK\"\n",
            "INFO:httpx:HTTP Request: POST https://api.openai.com/v1/embeddings \"HTTP/1.1 200 OK\"\n",
            "INFO:httpx:HTTP Request: POST https://api.openai.com/v1/embeddings \"HTTP/1.1 200 OK\"\n",
            "INFO:httpx:HTTP Request: POST https://api.openai.com/v1/embeddings \"HTTP/1.1 200 OK\"\n",
            "INFO:httpx:HTTP Request: POST https://api.openai.com/v1/embeddings \"HTTP/1.1 200 OK\"\n",
            "INFO:httpx:HTTP Request: POST https://api.openai.com/v1/embeddings \"HTTP/1.1 200 OK\"\n",
            "INFO:httpx:HTTP Request: POST https://api.openai.com/v1/embeddings \"HTTP/1.1 200 OK\"\n",
            "INFO:httpx:HTTP Request: POST https://api.openai.com/v1/embeddings \"HTTP/1.1 200 OK\"\n",
            "INFO:httpx:HTTP Request: POST https://api.openai.com/v1/embeddings \"HTTP/1.1 200 OK\"\n",
            "INFO:httpx:HTTP Request: POST https://api.openai.com/v1/embeddings \"HTTP/1.1 200 OK\"\n",
            "INFO:httpx:HTTP Request: POST https://api.openai.com/v1/embeddings \"HTTP/1.1 200 OK\"\n",
            "INFO:httpx:HTTP Request: POST https://api.openai.com/v1/embeddings \"HTTP/1.1 200 OK\"\n",
            "INFO:httpx:HTTP Request: POST https://api.openai.com/v1/embeddings \"HTTP/1.1 200 OK\"\n",
            "INFO:httpx:HTTP Request: POST https://api.openai.com/v1/embeddings \"HTTP/1.1 200 OK\"\n",
            "INFO:httpx:HTTP Request: POST https://api.openai.com/v1/embeddings \"HTTP/1.1 200 OK\"\n",
            "INFO:httpx:HTTP Request: POST https://api.openai.com/v1/embeddings \"HTTP/1.1 200 OK\"\n",
            "INFO:httpx:HTTP Request: POST https://api.openai.com/v1/embeddings \"HTTP/1.1 200 OK\"\n",
            "INFO:httpx:HTTP Request: POST https://api.openai.com/v1/embeddings \"HTTP/1.1 200 OK\"\n",
            "INFO:httpx:HTTP Request: POST https://api.openai.com/v1/embeddings \"HTTP/1.1 200 OK\"\n",
            "INFO:httpx:HTTP Request: POST https://api.openai.com/v1/embeddings \"HTTP/1.1 200 OK\"\n",
            "INFO:httpx:HTTP Request: POST https://api.openai.com/v1/embeddings \"HTTP/1.1 200 OK\"\n",
            "INFO:httpx:HTTP Request: POST https://api.openai.com/v1/embeddings \"HTTP/1.1 200 OK\"\n",
            "INFO:httpx:HTTP Request: POST https://api.openai.com/v1/embeddings \"HTTP/1.1 200 OK\"\n",
            "INFO:httpx:HTTP Request: POST https://api.openai.com/v1/embeddings \"HTTP/1.1 200 OK\"\n",
            "INFO:httpx:HTTP Request: POST https://api.openai.com/v1/embeddings \"HTTP/1.1 200 OK\"\n",
            "INFO:httpx:HTTP Request: POST https://api.openai.com/v1/embeddings \"HTTP/1.1 200 OK\"\n",
            "INFO:httpx:HTTP Request: POST https://api.openai.com/v1/embeddings \"HTTP/1.1 200 OK\"\n",
            "INFO:httpx:HTTP Request: POST https://api.openai.com/v1/embeddings \"HTTP/1.1 200 OK\"\n",
            "INFO:httpx:HTTP Request: POST https://api.openai.com/v1/embeddings \"HTTP/1.1 200 OK\"\n",
            "INFO:httpx:HTTP Request: POST https://api.openai.com/v1/embeddings \"HTTP/1.1 200 OK\"\n",
            "INFO:httpx:HTTP Request: POST https://api.openai.com/v1/embeddings \"HTTP/1.1 200 OK\"\n",
            "INFO:httpx:HTTP Request: POST https://api.openai.com/v1/embeddings \"HTTP/1.1 200 OK\"\n",
            "INFO:httpx:HTTP Request: POST https://api.openai.com/v1/embeddings \"HTTP/1.1 200 OK\"\n",
            "INFO:httpx:HTTP Request: POST https://api.openai.com/v1/embeddings \"HTTP/1.1 200 OK\"\n",
            "INFO:httpx:HTTP Request: POST https://api.openai.com/v1/embeddings \"HTTP/1.1 200 OK\"\n",
            "INFO:httpx:HTTP Request: POST https://api.openai.com/v1/embeddings \"HTTP/1.1 200 OK\"\n",
            "INFO:httpx:HTTP Request: POST https://api.openai.com/v1/embeddings \"HTTP/1.1 200 OK\"\n",
            "INFO:httpx:HTTP Request: POST https://api.openai.com/v1/embeddings \"HTTP/1.1 200 OK\"\n",
            "INFO:httpx:HTTP Request: POST https://api.openai.com/v1/embeddings \"HTTP/1.1 200 OK\"\n",
            "INFO:httpx:HTTP Request: POST https://api.openai.com/v1/embeddings \"HTTP/1.1 200 OK\"\n",
            "INFO:httpx:HTTP Request: POST https://api.openai.com/v1/embeddings \"HTTP/1.1 200 OK\"\n",
            "INFO:httpx:HTTP Request: POST https://api.openai.com/v1/embeddings \"HTTP/1.1 200 OK\"\n",
            "INFO:httpx:HTTP Request: POST https://api.openai.com/v1/embeddings \"HTTP/1.1 200 OK\"\n",
            "INFO:httpx:HTTP Request: POST https://api.openai.com/v1/embeddings \"HTTP/1.1 200 OK\"\n",
            "INFO:httpx:HTTP Request: POST https://api.openai.com/v1/embeddings \"HTTP/1.1 200 OK\"\n",
            "INFO:httpx:HTTP Request: POST https://api.openai.com/v1/embeddings \"HTTP/1.1 200 OK\"\n",
            "INFO:httpx:HTTP Request: POST https://api.openai.com/v1/embeddings \"HTTP/1.1 200 OK\"\n",
            "INFO:httpx:HTTP Request: POST https://api.openai.com/v1/embeddings \"HTTP/1.1 200 OK\"\n",
            "INFO:httpx:HTTP Request: POST https://api.openai.com/v1/embeddings \"HTTP/1.1 200 OK\"\n",
            "INFO:httpx:HTTP Request: POST https://api.openai.com/v1/embeddings \"HTTP/1.1 200 OK\"\n",
            "INFO:httpx:HTTP Request: POST https://api.openai.com/v1/embeddings \"HTTP/1.1 200 OK\"\n",
            "INFO:httpx:HTTP Request: POST https://api.openai.com/v1/embeddings \"HTTP/1.1 200 OK\"\n",
            "INFO:httpx:HTTP Request: POST https://api.openai.com/v1/embeddings \"HTTP/1.1 200 OK\"\n",
            "INFO:httpx:HTTP Request: POST https://api.openai.com/v1/embeddings \"HTTP/1.1 200 OK\"\n",
            "INFO:httpx:HTTP Request: POST https://api.openai.com/v1/embeddings \"HTTP/1.1 200 OK\"\n",
            "INFO:httpx:HTTP Request: POST https://api.openai.com/v1/embeddings \"HTTP/1.1 200 OK\"\n",
            "INFO:httpx:HTTP Request: POST https://api.openai.com/v1/embeddings \"HTTP/1.1 200 OK\"\n",
            "INFO:httpx:HTTP Request: POST https://api.openai.com/v1/embeddings \"HTTP/1.1 200 OK\"\n",
            "INFO:httpx:HTTP Request: POST https://api.openai.com/v1/embeddings \"HTTP/1.1 200 OK\"\n",
            "INFO:httpx:HTTP Request: POST https://api.openai.com/v1/embeddings \"HTTP/1.1 200 OK\"\n",
            "INFO:httpx:HTTP Request: POST https://api.openai.com/v1/embeddings \"HTTP/1.1 200 OK\"\n",
            "INFO:httpx:HTTP Request: POST https://api.openai.com/v1/embeddings \"HTTP/1.1 200 OK\"\n",
            "INFO:httpx:HTTP Request: POST https://api.openai.com/v1/embeddings \"HTTP/1.1 200 OK\"\n",
            "INFO:httpx:HTTP Request: POST https://api.openai.com/v1/embeddings \"HTTP/1.1 200 OK\"\n",
            "INFO:httpx:HTTP Request: POST https://api.openai.com/v1/embeddings \"HTTP/1.1 200 OK\"\n",
            "INFO:httpx:HTTP Request: POST https://api.openai.com/v1/embeddings \"HTTP/1.1 200 OK\"\n"
          ]
        },
        {
          "output_type": "stream",
          "name": "stdout",
          "text": [
            "🍩 https://wandb.ai/lavanyashukla/spacerag_novtest2/r/call/0192f7f4-5775-7e83-9153-08c8af934ebc\n"
          ]
        }
      ],
      "source": [
        "file = './data/space.txt'\n",
        "index, chunks = make_vector_db(file)"
      ]
    },
    {
      "cell_type": "code",
      "execution_count": 24,
      "metadata": {
        "id": "f8RuuvYW7yLt"
      },
      "outputs": [],
      "source": [
        "# ANSWER QUESTION\n",
        "@weave.op\n",
        "def predict(model, prompt):\n",
        "    completion = client.chat.completions.create(\n",
        "        model=model,\n",
        "        messages=[{\"role\":\"user\",\"content\":prompt}],\n",
        "        temperature=1.0, # 🛠️LEVER\n",
        "        top_k=1000, # 🛠️LEVER\n",
        "        max_tokens=1024,\n",
        "        stream=True\n",
        "    )\n",
        "\n",
        "    answer = []\n",
        "    for chunk in completion:\n",
        "        if chunk.choices[0].delta.content is not None:\n",
        "            answer.append(chunk.choices[0].delta.content)\n",
        "\n",
        "    result = ''.join(answer)\n",
        "    print(result)\n",
        "\n",
        "    return result"
      ]
    },
    {
      "cell_type": "code",
      "execution_count": 25,
      "metadata": {
        "id": "4mLorY2M7yLt"
      },
      "outputs": [],
      "source": [
        "# RETRIEVE CHUNKS SIMILAR TO THE QUESTION\n",
        "@weave.op\n",
        "def retrieve_context(question: str) -> list:\n",
        "    question_embeddings = np.array([get_text_embedding(question)])\n",
        "    # Retrieve similar chunks from the vectorDB\n",
        "    D, I = index.search(question_embeddings, k=1) # 🛠️LEVER k=?\n",
        "    retrieved_chunk = [chunks[i] for i in I.tolist()[0]]\n",
        "    return retrieved_chunk\n",
        "\n",
        "class SpaceRAGModel(weave.Model):\n",
        "    model: str\n",
        "\n",
        "    @weave.op()\n",
        "    def predict(self, question: str):\n",
        "        retrieved_chunk = retrieve_context(question)\n",
        "        print(\"Question: \"+question)\n",
        "\n",
        "        # Combine context and question in a prompt # 🛠️LEVER\n",
        "        prompt = f\"\"\"\n",
        "        Use this context to answer the question, don't use any prior knowledge.\n",
        "        Be concise in your answers.\n",
        "        ---------------------\n",
        "        {retrieved_chunk}\n",
        "        ---------------------\n",
        "        Question: {question}\n",
        "        Answer:\n",
        "        \"\"\"\n",
        "        answer = predict(self.model, prompt)\n",
        "        print(\"___________________________\")\n",
        "        return {'answer': answer, 'retrieved_chunk': retrieved_chunk}"
      ]
    },
    {
      "cell_type": "code",
      "execution_count": 26,
      "metadata": {
        "id": "PpO97J2T7yLt"
      },
      "outputs": [],
      "source": [
        "def string_to_dict(input_string):\n",
        "    # Use regular expressions to find all JSON-like objects in the string\n",
        "    json_objects = re.findall(r'\\{.*?\\}', input_string)\n",
        "\n",
        "    # Initialize an empty dictionary to store the combined results\n",
        "    combined_dict = {}\n",
        "\n",
        "    for obj in json_objects:\n",
        "        try:\n",
        "            # Parse each JSON object\n",
        "            parsed_dict = json.loads(obj)\n",
        "            # Update the combined dictionary with the parsed data\n",
        "            combined_dict.update(parsed_dict)\n",
        "        except (ValueError, json.JSONDecodeError) as e:\n",
        "            print(f\"Error processing part: {obj}\\nError: {e}\")\n",
        "\n",
        "    return combined_dict"
      ]
    },
    {
      "cell_type": "code",
      "execution_count": 27,
      "metadata": {
        "id": "KWA1mI3R7yLu"
      },
      "outputs": [],
      "source": [
        "dataset_ref = weave.ref(\"weave:///lavanyashukla/spacedata/object/space_dataset_llm_comprehensive:VBd5Ys7b3hGFmJJqdGTATVQYgKKrg70EiNV5FdpwFxs\").get()\n",
        "small_questions = dataset_ref.rows[:50] # 🔵 NOTE: CHANGE THE 50 TO 5 WHEN RUNNING OUT YOUR EXPERIMENTS TO QUICKLY TEST.\n",
        "                                        # CHANGE BACK TO 50 BEFORE FINAL LEADERBOARD SUBMISSION"
      ]
    },
    {
      "cell_type": "code",
      "execution_count": 28,
      "metadata": {
        "id": "8Ou5EOu07yLu"
      },
      "outputs": [],
      "source": [
        "def replace_nan_in_dict(result):\n",
        "    for key in result:\n",
        "        if isinstance(result[key], float) and np.isnan(result[key]):\n",
        "            result[key] = 0\n",
        "    return result"
      ]
    },
    {
      "cell_type": "code",
      "execution_count": 29,
      "metadata": {
        "id": "h2K7y4jY7yLu"
      },
      "outputs": [],
      "source": [
        "# Evaluate with an LLM\n",
        "@weave.op\n",
        "def llm_judge_scorer(ground_truth: str, model_output: dict) -> dict:\n",
        "    scorer_llm = \"meta-llama/Meta-Llama-3-70B-Instruct-Turbo\"\n",
        "    answer = model_output['answer']\n",
        "    retrieved_chunk = model_output['retrieved_chunk']\n",
        "\n",
        "    eval_rubrics = [\n",
        "    {\n",
        "        \"metric\": \"concise\",\n",
        "        \"rubrics\": \"\"\"\n",
        "        false: The answer is long and difficult to understand.\n",
        "        true: The answer is completely concise, readable and engaging.\n",
        "        \"\"\",\n",
        "    },\n",
        "    {\n",
        "        \"metric\": \"relevant\",\n",
        "        \"rubrics\": \"\"\"\n",
        "        false: The answer is not relevant to the original text, or has significant flaws.\n",
        "        true: The answer is completely relevant to the original text, and provides additional value or insight.\n",
        "        \"\"\",\n",
        "    },\n",
        "    {\n",
        "        \"metric\": \"🥇accurate\",\n",
        "        \"rubrics\": \"\"\"\n",
        "        Compare the factual content of the model's answer with the correct answer. Ignore any differences in style, grammar, or punctuation.\n",
        "        false: There is a disagreement between the model's answer and the correct answer.\n",
        "        true: The model's answer contains all the same details as the correct answer.\n",
        "        \"\"\",\n",
        "    },\n",
        "]\n",
        "\n",
        "    scoring_prompt = \"\"\"\n",
        "    You have the correct answer, original text and the model's answer below.\n",
        "    Based on the specified evaluation metric and rubric, assign a true or false score the summary.\n",
        "    Then, return a JSON object with the metric name as the key and the evaluation score (false or true) as the value. Don't output anything else.\n",
        "\n",
        "    # Evaluation metric:\n",
        "    {metric}\n",
        "\n",
        "    # Evaluation rubrics:\n",
        "    {rubrics}\n",
        "\n",
        "    # Correct Answer\n",
        "    {ground_truth}\n",
        "\n",
        "    # Original Text\n",
        "    {retrieved_chunk}\n",
        "\n",
        "    # Model Answer\n",
        "    {model_answer}\n",
        "\n",
        "    \"\"\"\n",
        "    evals = \"\"\n",
        "    for i in eval_rubrics:\n",
        "        eval_output = predict(scorer_llm,\n",
        "            scoring_prompt.format(\n",
        "                ground_truth=ground_truth, retrieved_chunk=retrieved_chunk, model_answer=answer,\n",
        "                metric=i[\"metric\"], rubrics=i[\"rubrics\"]\n",
        "            ))+\" \"\n",
        "        evals+=eval_output\n",
        "    # evals_json = format_string_to_json(evals)\n",
        "    evals_dict = string_to_dict(evals)\n",
        "    # print(\"___________________________\")\n",
        "    # print(evals_dict)\n",
        "    # print(\"___________________________\")\n",
        "    return evals_dict"
      ]
    },
    {
      "cell_type": "code",
      "execution_count": 30,
      "metadata": {
        "id": "y4cRBlJt7yLu"
      },
      "outputs": [],
      "source": [
        "# def ragas_score(question, ground_truth, model_output):\n",
        "#     from datasets import Dataset\n",
        "#     from ragas import evaluate\n",
        "#     from ragas.metrics import faithfulness, answer_relevancy, answer_correctness, context_recall, context_precision\n",
        "\n",
        "#     metric_modules = [\n",
        "#         answer_relevancy,\n",
        "#         context_recall,\n",
        "#     ]\n",
        "\n",
        "#     # Convert the retrieved_chunk to a list of strings\n",
        "#     contexts = [str(chunk) for chunk in model_output[\"retrieved_chunk\"]]\n",
        "\n",
        "#     qa_dataset = Dataset.from_dict(\n",
        "#         {\n",
        "#             \"question\": [question],\n",
        "#             \"ground_truth\": [ground_truth],\n",
        "#             \"answer\": [model_output[\"answer\"]],\n",
        "#             \"contexts\": [contexts],  # Wrap contexts in another list\n",
        "#         }\n",
        "#     )\n",
        "#     result = evaluate(qa_dataset, metrics=metric_modules,\n",
        "#                       raise_exceptions=False)\n",
        "#     return replace_nan_in_dict(result)"
      ]
    },
    {
      "cell_type": "code",
      "execution_count": 31,
      "metadata": {
        "id": "aoqWszGw7yLu"
      },
      "outputs": [],
      "source": [
        "@weave.op()\n",
        "def tonic_validate_score(question: str, ground_truth: str, model_output: dict) -> dict:\n",
        "    from tonic_validate import Benchmark, ValidateScorer\n",
        "    from tonic_validate.metrics import DuplicationMetric, AnswerSimilarityMetric, AnswerConsistencyMetric\n",
        "\n",
        "    metric_modules = [DuplicationMetric(), AnswerSimilarityMetric(), AnswerConsistencyMetric()]\n",
        "\n",
        "    def get_llm_response(question):\n",
        "        return {\n",
        "            \"llm_answer\": model_output['answer'],\n",
        "            \"llm_context_list\": (\n",
        "                [model_output['retrieved_chunk']]\n",
        "                if isinstance(model_output['retrieved_chunk'], str)\n",
        "                else model_output['retrieved_chunk']\n",
        "            ),\n",
        "        }\n",
        "\n",
        "    benchmark = Benchmark(questions=[question], answers=[ground_truth])\n",
        "    scorer = ValidateScorer(metrics=metric_modules)\n",
        "    run = scorer.score(benchmark, get_llm_response)\n",
        "    return run.run_data[0].scores"
      ]
    },
    {
      "cell_type": "code",
      "execution_count": null,
      "metadata": {
        "colab": {
          "base_uri": "https://localhost:8080/",
          "height": 1000
        },
        "id": "8LnvJEcy7yLu",
        "outputId": "0291a454-01a8-45d2-c25c-9272d2ad0992"
      },
      "outputs": [
        {
          "metadata": {
            "tags": null
          },
          "name": "stdout",
          "output_type": "stream",
          "text": [
            "RAG Model: meta-llama/Meta-Llama-3-70B-Instruct-Turbo\n"
          ]
        },
        {
          "metadata": {
            "tags": null
          },
          "name": "stderr",
          "output_type": "stream",
          "text": [
            "INFO:httpx:HTTP Request: POST https://api.openai.com/v1/embeddings \"HTTP/1.1 200 OK\"\n"
          ]
        },
        {
          "metadata": {
            "tags": null
          },
          "name": "stdout",
          "output_type": "stream",
          "text": [
            "Question: How is the sense of spaciousness addressed in the design of habitats for the colony?\n",
            "The sense of spaciousness is addressed in the design of habitats for the colony by:\n",
            "\n",
            "* Providing large-scale vistas to lessen the sense of artificiality\n",
            "* Limiting the colonist's view so that the entire structure cannot be seen in a single scan\n",
            "* Offering convenient access to regions of zero gravity and views of the Earth, the Moon, and stars\n",
            "* Incorporating live, growing things such as vegetation, children playing, and animals into the interior architecture\n",
            "* Designing the habitat to have a flexible, modular architecture that allows for individual variation and manipulation of spaces\n",
            "* Providing a sufficient area per person (at least 40 m^2) to minimize the sense of crowding.\n",
            "___________________________\n"
          ]
        },
        {
          "metadata": {
            "tags": null
          },
          "name": "stderr",
          "output_type": "stream",
          "text": [
            "INFO:httpx:HTTP Request: POST https://api.openai.com/v1/embeddings \"HTTP/1.1 200 OK\"\n"
          ]
        },
        {
          "metadata": {
            "tags": null
          },
          "name": "stdout",
          "output_type": "stream",
          "text": [
            "Question: What are the steps involved in the process of producing aluminum from lunar soil, specifically in regards to glass grinding and acid leaching?\n",
            "There is no mention of glass grinding and acid leaching in the process of producing aluminum from lunar soil. The text describes the process of producing aluminum as \"melt-quench-leach production of alumina followed by high temperature electro-winning of aluminum from aluminum chloride\" (paragraph 14).\n",
            "___________________________\n"
          ]
        },
        {
          "metadata": {
            "tags": null
          },
          "name": "stderr",
          "output_type": "stream",
          "text": [
            "INFO:httpx:HTTP Request: POST https://api.openai.com/v1/embeddings \"HTTP/1.1 200 OK\"\n"
          ]
        },
        {
          "metadata": {
            "tags": null
          },
          "name": "stdout",
          "output_type": "stream",
          "text": [
            "Question: What is the importance of atmospheric pressure in large colonies in space?\n",
            "The importance of atmospheric pressure in large colonies in space is to maintain life processes adequately, providing a partial pressure of oxygen sufficient for good respiration and preventing losses in blood cell mass and large changes in micro-organisms. Additionally, it is desirable to include an inert gas, such as nitrogen, to prevent decompression in the body's chambers and sinuses, and to provide a safety margin during accidental pressure drops or oxygen dilution.\n",
            "___________________________\n"
          ]
        },
        {
          "metadata": {
            "tags": null
          },
          "name": "stderr",
          "output_type": "stream",
          "text": [
            "INFO:httpx:HTTP Request: POST https://api.openai.com/v1/embeddings \"HTTP/1.1 200 OK\"\n"
          ]
        },
        {
          "metadata": {
            "tags": null
          },
          "name": "stdout",
          "output_type": "stream",
          "text": [
            "Question: How does the expense of providing human workers encourage reliance on automation and the push for extreme reliability and maintainability in space commercial ventures?\n",
            "There is no mention in the provided text about the expense of providing human workers encouraging reliance on automation and the push for extreme reliability and maintainability in space commercial ventures. The text discusses various aspects of space colonization, energy production, and potential benefits, but it does not address this specific question.\n",
            "___________________________\n"
          ]
        },
        {
          "metadata": {
            "tags": null
          },
          "name": "stderr",
          "output_type": "stream",
          "text": [
            "INFO:httpx:HTTP Request: POST https://api.openai.com/v1/embeddings \"HTTP/1.1 200 OK\"\n"
          ]
        },
        {
          "metadata": {
            "tags": null
          },
          "name": "stdout",
          "output_type": "stream",
          "text": [
            "Question: What are some potential benefits of long-term development in space?\n",
            "Some potential benefits of long-term development in space mentioned in the text include:\n",
            "\n",
            "* Generation of electricity from space at a lower cost\n",
            "* Environmental benefits due to clean energy production\n",
            "* Energy independence for the nation\n",
            "* Inexpensive electrical energy for electrolysis of water to produce transportable fuels\n",
            "* Widespread application of low-cost energy to benefit low-income people\n",
            "* Development of space manufacturing, such as growing large crystals and producing new composite materials\n",
            "* Use of lunar resources to reduce costs\n",
            "* Return cargo for rocket traffic, such as space-manufactured goods\n",
            "* Potential for fabrication of glider-like lifting bodies in space for transportation of materials to Earth with minimal environmental impact\n",
            "* Opportunities for research in deep space, such as construction of large objects in zero-gravity regions.\n",
            "___________________________\n"
          ]
        },
        {
          "metadata": {
            "tags": null
          },
          "name": "stderr",
          "output_type": "stream",
          "text": [
            "INFO:httpx:HTTP Request: POST https://api.openai.com/v1/embeddings \"HTTP/1.1 200 OK\"\n"
          ]
        },
        {
          "metadata": {
            "tags": null
          },
          "name": "stdout",
          "output_type": "stream",
          "text": [
            "Question: What are the gravities of Jupiter's Galilean moons and Saturn's Titan compared to Earth's Moon?\n",
            "The gravities of Jupiter's Galilean moons and Saturn's Titan compared to Earth's Moon are:\n",
            "\n",
            "* Io: 0.18g\n",
            "* Europa: 0.13g\n",
            "* Ganymede: 0.15g\n",
            "* Callisto: 0.13g\n",
            "* Titan: 0.14g\n",
            "\n",
            "All of these are comparable to Earth's Moon, which has a gravity of 0.17g.\n",
            "___________________________\n"
          ]
        },
        {
          "metadata": {
            "tags": null
          },
          "name": "stderr",
          "output_type": "stream",
          "text": [
            "INFO:httpx:HTTP Request: POST https://api.openai.com/v1/embeddings \"HTTP/1.1 200 OK\"\n"
          ]
        },
        {
          "metadata": {
            "tags": null
          },
          "name": "stdout",
          "output_type": "stream",
          "text": [
            "Question: What needs to be better understood before evaluating the usefulness of other libration points for space colonies?\n",
            "The cost of station keeping needs to be better understood before evaluating the usefulness of other libration points for space colonies.\n",
            "___________________________\n"
          ]
        },
        {
          "metadata": {
            "tags": null
          },
          "name": "stderr",
          "output_type": "stream",
          "text": [
            "INFO:httpx:HTTP Request: POST https://api.openai.com/v1/embeddings \"HTTP/1.1 200 OK\"\n"
          ]
        },
        {
          "metadata": {
            "tags": null
          },
          "name": "stdout",
          "output_type": "stream",
          "text": [
            "Question: What is the likelihood of gaseous sub-Neptunes being habitable?\n",
            "There is no mention of \"gaseous sub-Neptunes\" in the provided text. The text discusses terrestrial planets, gas giants, and their moons, but does not specifically mention \"gaseous sub-Neptunes\".\n",
            "___________________________\n"
          ]
        },
        {
          "metadata": {
            "tags": null
          },
          "name": "stderr",
          "output_type": "stream",
          "text": [
            "INFO:httpx:HTTP Request: POST https://api.openai.com/v1/embeddings \"HTTP/1.1 200 OK\"\n"
          ]
        },
        {
          "metadata": {
            "tags": null
          },
          "name": "stdout",
          "output_type": "stream",
          "text": [
            "Question: How can a metabolism exist outside the classical habitable zone?\n",
            "A metabolism can exist outside the classical habitable zone if it does not depend on the stellar light and can thrive in the interior of the planet where liquid water is available.\n",
            "___________________________\n"
          ]
        },
        {
          "metadata": {
            "tags": null
          },
          "name": "stderr",
          "output_type": "stream",
          "text": [
            "INFO:httpx:HTTP Request: POST https://api.openai.com/v1/embeddings \"HTTP/1.1 200 OK\"\n"
          ]
        },
        {
          "metadata": {
            "tags": null
          },
          "name": "stdout",
          "output_type": "stream",
          "text": [
            "Question: Why do some scientists and experts argue for the colonization of space as a means of saving humanity?\n",
            "According to the text, some scientists and experts argue for the colonization of space as a means of saving humanity because it would:\n",
            "\n",
            "* Mitigate the proposed impacts of overpopulation on Earth, such as resource depletion.\n",
            "* Ensure the survival of the human species.\n",
            "* Spread life and beauty throughout the universe.\n",
            "\n",
            "They believe that colonizing space could provide a long-term solution to the problems facing humanity on Earth, ensuring the continuation of human existence and allowing for further growth and progress.\n",
            "___________________________\n"
          ]
        },
        {
          "metadata": {
            "tags": null
          },
          "name": "stderr",
          "output_type": "stream",
          "text": [
            "INFO:httpx:HTTP Request: POST https://api.openai.com/v1/embeddings \"HTTP/1.1 200 OK\"\n"
          ]
        },
        {
          "metadata": {
            "tags": null
          },
          "name": "stdout",
          "output_type": "stream",
          "text": [
            "Question: What are some criticisms of space colonization?\n",
            "Some criticisms of space colonization mentioned in the text are:\n",
            "\n",
            "1. The costs of commercial activity in space are too high to be profitable against Earth-based industries.\n",
            "2. The exploitation of space resources is unlikely to see significant progress in the foreseeable future.\n",
            "3. Changing only the location but not the logic of exploitation will not create a more sustainable future.\n",
            "4. Shipping excess population into space is not a viable solution to human overpopulation.\n",
            "5. The problem of overpopulation must be addressed on Earth, not by shipping people into space.\n",
            "6. The forthcoming colonization and commodification of the cosmos is likely to enhance the interests of the already powerful, including major economic and military institutions.\n",
            "___________________________\n"
          ]
        },
        {
          "metadata": {
            "tags": null
          },
          "name": "stderr",
          "output_type": "stream",
          "text": [
            "INFO:httpx:HTTP Request: POST https://api.openai.com/v1/embeddings \"HTTP/1.1 200 OK\"\n"
          ]
        },
        {
          "metadata": {
            "tags": null
          },
          "name": "stdout",
          "output_type": "stream",
          "text": [
            "Question: What is the purpose of positioning another spacecraft fueled for a return to Earth in orbit around Mars?\n",
            "To enable the initial crew to eventually return to Earth.\n",
            "___________________________\n"
          ]
        },
        {
          "metadata": {
            "tags": null
          },
          "name": "stderr",
          "output_type": "stream",
          "text": [
            "INFO:httpx:HTTP Request: POST https://api.openai.com/v1/embeddings \"HTTP/1.1 200 OK\"\n"
          ]
        },
        {
          "metadata": {
            "tags": null
          },
          "name": "stdout",
          "output_type": "stream",
          "text": [
            "Question: What is the relationship between propulsive effort and travel time in space travel?\n",
            "In space travel, time and effort (propulsive effort) of transportation are inversely related.\n",
            "___________________________\n"
          ]
        },
        {
          "metadata": {
            "tags": null
          },
          "name": "stderr",
          "output_type": "stream",
          "text": [
            "INFO:httpx:HTTP Request: POST https://api.openai.com/v1/embeddings \"HTTP/1.1 200 OK\"\n"
          ]
        },
        {
          "metadata": {
            "tags": null
          },
          "name": "stdout",
          "output_type": "stream",
          "text": [
            "Question: What are the advantages of the Moon for the space colonization program?\n",
            "According to the text, the advantages of the Moon for space colonization include:\n",
            "\n",
            "1. Proximity to Earth\n",
            "2. Lower escape velocity\n",
            "3. Abundant ice trapped in permanently shadowed craters near the poles, which could provide support for the water needs of a lunar colony\n",
            "4. Native precious metals, such as gold, silver, and probably platinum, concentrated at the lunar poles by electrostatic dust transport\n",
            "___________________________\n"
          ]
        },
        {
          "metadata": {
            "tags": null
          },
          "name": "stderr",
          "output_type": "stream",
          "text": [
            "INFO:httpx:HTTP Request: POST https://api.openai.com/v1/embeddings \"HTTP/1.1 200 OK\"\n"
          ]
        },
        {
          "metadata": {
            "tags": null
          },
          "name": "stdout",
          "output_type": "stream",
          "text": [
            "Question: How could self-replication enable exponential growth in space colonization?\n",
            "Self-replication could enable exponential growth in space colonization by allowing colonies to increase exponentially without relying on resources from Earth.\n",
            "___________________________\n"
          ]
        },
        {
          "metadata": {
            "tags": null
          },
          "name": "stderr",
          "output_type": "stream",
          "text": [
            "INFO:httpx:HTTP Request: POST https://api.openai.com/v1/embeddings \"HTTP/1.1 200 OK\"\n"
          ]
        },
        {
          "metadata": {
            "tags": null
          },
          "name": "stdout",
          "output_type": "stream",
          "text": [
            "Question: What factors determine the habitability of planets within galactic habitable zones?\n",
            "According to the text, the factors that determine the habitability of planets within galactic habitable zones include:\n",
            "\n",
            "* Bulk composition\n",
            "* Orbital properties\n",
            "* Atmosphere\n",
            "* Potential chemical interactions\n",
            "* Stellar characteristics such as mass, luminosity, stable variability, and high metallicity.\n",
            "___________________________\n"
          ]
        },
        {
          "metadata": {
            "tags": null
          },
          "name": "stderr",
          "output_type": "stream",
          "text": [
            "INFO:httpx:HTTP Request: POST https://api.openai.com/v1/embeddings \"HTTP/1.1 200 OK\"\n"
          ]
        },
        {
          "metadata": {
            "tags": null
          },
          "name": "stdout",
          "output_type": "stream",
          "text": [
            "Question: What are the difficulties associated with automated rendezvous and interception in the context of the transport system for a lunar colony?\n",
            "The difficulties associated with automated rendezvous and interception are the uncertainties about precision of aim and the associated propulsion requirements.\n",
            "___________________________\n"
          ]
        },
        {
          "metadata": {
            "tags": null
          },
          "name": "stderr",
          "output_type": "stream",
          "text": [
            "INFO:httpx:HTTP Request: POST https://api.openai.com/v1/embeddings \"HTTP/1.1 200 OK\"\n"
          ]
        },
        {
          "metadata": {
            "tags": null
          },
          "name": "stdout",
          "output_type": "stream",
          "text": [
            "Question: How does the design of the space colonization system incorporate existing technology?\n",
            "The design of the space colonization system incorporates existing technology by using it to meet the subsidiary goals, such as designing a habitat, obtaining raw materials, providing transportation, and developing commercial activities.\n",
            "___________________________\n"
          ]
        },
        {
          "metadata": {
            "tags": null
          },
          "name": "stderr",
          "output_type": "stream",
          "text": [
            "INFO:httpx:HTTP Request: POST https://api.openai.com/v1/embeddings \"HTTP/1.1 200 OK\"\n"
          ]
        },
        {
          "metadata": {
            "tags": null
          },
          "name": "stdout",
          "output_type": "stream",
          "text": [
            "Question: What is the chosen location for the first space colony?\n",
            "The chosen location for the first space colony is not explicitly stated in the text, but it is mentioned that the habitat is to be located at either the Lagrangian point L4 or L5 in order to make delivery of lunar ore as simple as possible.\n",
            "___________________________\n"
          ]
        },
        {
          "metadata": {
            "tags": null
          },
          "name": "stderr",
          "output_type": "stream",
          "text": [
            "INFO:httpx:HTTP Request: POST https://api.openai.com/v1/embeddings \"HTTP/1.1 200 OK\"\n"
          ]
        },
        {
          "metadata": {
            "tags": null
          },
          "name": "stdout",
          "output_type": "stream",
          "text": [
            "Question: What role does critical path analysis play in determining the sequencing of mirror, power plant, shield, and internal construction in the fabrication of space habitats?\n",
            "According to the text, critical path analysis will reveal the best sequencing of mirror, power plant, shield, and internal construction in the fabrication of space habitats.\n",
            "___________________________\n",
            "{\"concise\": true}\n",
            "{\"relevant\": true}\n",
            "{\"accurate\": true}\n",
            "{\"concise\": false}\n",
            "{\"relevant\": false}\n",
            "{\"accurate\": false}\n",
            "{\"concise\": true}\n",
            "{\"relevant\": true}\n",
            "{\"accurate\": true}\n",
            "{\"concise\": true}\n",
            "{\"relevant\": false}\n",
            "{\"accurate\": false}\n",
            "{\"concise\": true}\n",
            "{\"relevant\": true}\n",
            "{\"accurate\": true}\n",
            "{\"concise\": true}\n",
            "{\"relevant\": true}\n",
            "{\"accurate\": true}\n",
            "{\"concise\": true}\n",
            "{\"relevant\": true}\n",
            "{\"accurate\": true}\n",
            "{\"concise\": true}\n",
            "{\"relevant\": false}\n",
            "{\"accurate\": true}\n",
            "{\"concise\": true}\n",
            "{\"relevant\": true}\n",
            "{\"accurate\": true}\n",
            "{\"concise\": true}\n",
            "{\"relevant\": true}\n",
            "{\"accurate\": true}\n",
            "{\"concise\": true}\n",
            "{\"relevant\": true}\n",
            "{\"accurate\": true}\n",
            "{\"concise\": true}\n",
            "{\"relevant\": true}\n",
            "{\"accurate\": true}\n",
            "{\"concise\": true}\n",
            "{\"relevant\": true}\n",
            "{\"accurate\": true}\n",
            "{\"concise\": true}\n",
            "{\"relevant\": true}\n",
            "{\"accurate\": true}\n",
            "{\"concise\": true}\n",
            "{\"relevant\": true}\n",
            "{\"accurate\": true}\n",
            "{\"concise\": true}\n",
            "{\"relevant\": true}\n",
            "{\"accurate\": false}\n",
            "{\"concise\": true}\n",
            "{\"relevant\": true}\n",
            "{\"accurate\": true}\n",
            "{\"concise\": true}\n",
            "{\"relevant\": true}\n",
            "{\"accurate\": true}\n",
            "{\"concise\": false}\n",
            "{\"relevant\": true}\n",
            "{\"accurate\": true}\n",
            "{\"concise\": true}\n",
            "{\"relevant\": true}\n",
            "{\"accurate\": true}\n"
          ]
        },
        {
          "metadata": {
            "tags": null
          },
          "name": "stderr",
          "output_type": "stream",
          "text": [
            "Retrieving responses: 100%|██████████| 1/1 [00:00<00:00, 4588.95it/s]\n",
            "Scoring responses:   0%|          | 0/1 [00:00<?, ?it/s]INFO:httpx:HTTP Request: POST https://api.openai.com/v1/chat/completions \"HTTP/1.1 200 OK\"\n"
          ]
        },
        {
          "metadata": {
            "tags": null
          },
          "name": "stdout",
          "output_type": "stream",
          "text": [
            "🍩 https://wandb.ai/lavanyashukla/spacerag_novtest2/r/call/0192f7f7-e335-77e1-80cc-4376611044cf\n"
          ]
        },
        {
          "metadata": {
            "tags": null
          },
          "name": "stderr",
          "output_type": "stream",
          "text": [
            "INFO:httpx:HTTP Request: POST https://api.openai.com/v1/chat/completions \"HTTP/1.1 200 OK\"\n"
          ]
        },
        {
          "metadata": {
            "tags": null
          },
          "name": "stdout",
          "output_type": "stream",
          "text": [
            "🍩 https://wandb.ai/lavanyashukla/spacerag_novtest2/r/call/0192f7f7-e5b2-7043-90fd-f970c42a4b2d\n"
          ]
        },
        {
          "metadata": {
            "tags": null
          },
          "name": "stderr",
          "output_type": "stream",
          "text": [
            "INFO:httpx:HTTP Request: POST https://api.openai.com/v1/chat/completions \"HTTP/1.1 200 OK\"\n"
          ]
        },
        {
          "metadata": {
            "tags": null
          },
          "name": "stdout",
          "output_type": "stream",
          "text": [
            "🍩 https://wandb.ai/lavanyashukla/spacerag_novtest2/r/call/0192f7f7-e7f2-7f10-a887-91fbd43f6731\n"
          ]
        },
        {
          "metadata": {
            "tags": null
          },
          "name": "stderr",
          "output_type": "stream",
          "text": [
            "INFO:httpx:HTTP Request: POST https://api.openai.com/v1/chat/completions \"HTTP/1.1 200 OK\"\n"
          ]
        },
        {
          "metadata": {
            "tags": null
          },
          "name": "stdout",
          "output_type": "stream",
          "text": [
            "🍩 https://wandb.ai/lavanyashukla/spacerag_novtest2/r/call/0192f7f8-0268-78a2-b809-d28bc2a2f5b2\n"
          ]
        },
        {
          "metadata": {
            "tags": null
          },
          "name": "stderr",
          "output_type": "stream",
          "text": [
            "INFO:httpx:HTTP Request: POST https://api.openai.com/v1/chat/completions \"HTTP/1.1 200 OK\"\n"
          ]
        },
        {
          "metadata": {
            "tags": null
          },
          "name": "stdout",
          "output_type": "stream",
          "text": [
            "🍩 https://wandb.ai/lavanyashukla/spacerag_novtest2/r/call/0192f7f8-0593-7350-bf75-c0152993f7a0\n"
          ]
        },
        {
          "metadata": {
            "tags": null
          },
          "name": "stderr",
          "output_type": "stream",
          "text": [
            "INFO:httpx:HTTP Request: POST https://api.openai.com/v1/chat/completions \"HTTP/1.1 200 OK\"\n"
          ]
        },
        {
          "metadata": {
            "tags": null
          },
          "name": "stdout",
          "output_type": "stream",
          "text": [
            "🍩 https://wandb.ai/lavanyashukla/spacerag_novtest2/r/call/0192f7f8-086b-7ad1-96ad-cd2a8ed9c299\n"
          ]
        },
        {
          "metadata": {
            "tags": null
          },
          "name": "stderr",
          "output_type": "stream",
          "text": [
            "INFO:httpx:HTTP Request: POST https://api.openai.com/v1/chat/completions \"HTTP/1.1 200 OK\"\n"
          ]
        },
        {
          "metadata": {
            "tags": null
          },
          "name": "stdout",
          "output_type": "stream",
          "text": [
            "🍩 https://wandb.ai/lavanyashukla/spacerag_novtest2/r/call/0192f7f8-0c8f-72f1-8867-f7438c3b3a79\n"
          ]
        },
        {
          "metadata": {
            "tags": null
          },
          "name": "stderr",
          "output_type": "stream",
          "text": [
            "INFO:httpx:HTTP Request: POST https://api.openai.com/v1/chat/completions \"HTTP/1.1 200 OK\"\n"
          ]
        },
        {
          "metadata": {
            "tags": null
          },
          "name": "stdout",
          "output_type": "stream",
          "text": [
            "🍩 https://wandb.ai/lavanyashukla/spacerag_novtest2/r/call/0192f7f8-1000-7d81-8e82-ce82ebb4a724\n"
          ]
        },
        {
          "metadata": {
            "tags": null
          },
          "name": "stderr",
          "output_type": "stream",
          "text": [
            "INFO:httpx:HTTP Request: POST https://api.openai.com/v1/chat/completions \"HTTP/1.1 200 OK\"\n",
            "Scoring responses: 100%|██████████| 1/1 [00:13<00:00, 13.93s/it]\n"
          ]
        },
        {
          "metadata": {
            "tags": null
          },
          "name": "stdout",
          "output_type": "stream",
          "text": [
            "🍩 https://wandb.ai/lavanyashukla/spacerag_novtest2/r/call/0192f7f8-16a3-76d2-9e40-4a6119eeab51\n"
          ]
        },
        {
          "metadata": {
            "tags": null
          },
          "name": "stderr",
          "output_type": "stream",
          "text": [
            "Retrieving responses: 100%|██████████| 1/1 [00:00<00:00, 1286.20it/s]\n",
            "Scoring responses:   0%|          | 0/1 [00:00<?, ?it/s]INFO:httpx:HTTP Request: POST https://api.openai.com/v1/chat/completions \"HTTP/1.1 200 OK\"\n"
          ]
        },
        {
          "metadata": {
            "tags": null
          },
          "name": "stdout",
          "output_type": "stream",
          "text": [
            "🍩 https://wandb.ai/lavanyashukla/spacerag_novtest2/r/call/0192f7f8-1d64-7353-9515-ab68a11f2e7c\n"
          ]
        },
        {
          "metadata": {
            "tags": null
          },
          "name": "stderr",
          "output_type": "stream",
          "text": [
            "INFO:httpx:HTTP Request: POST https://api.openai.com/v1/chat/completions \"HTTP/1.1 200 OK\"\n"
          ]
        },
        {
          "metadata": {
            "tags": null
          },
          "name": "stdout",
          "output_type": "stream",
          "text": [
            "🍩 https://wandb.ai/lavanyashukla/spacerag_novtest2/r/call/0192f7f8-2057-7342-b352-17c732118d96\n"
          ]
        },
        {
          "metadata": {
            "tags": null
          },
          "name": "stderr",
          "output_type": "stream",
          "text": [
            "INFO:httpx:HTTP Request: POST https://api.openai.com/v1/chat/completions \"HTTP/1.1 200 OK\"\n"
          ]
        },
        {
          "metadata": {
            "tags": null
          },
          "name": "stdout",
          "output_type": "stream",
          "text": [
            "🍩 https://wandb.ai/lavanyashukla/spacerag_novtest2/r/call/0192f7f8-227a-7283-b173-ff80307f72c8\n"
          ]
        },
        {
          "metadata": {
            "tags": null
          },
          "name": "stderr",
          "output_type": "stream",
          "text": [
            "INFO:httpx:HTTP Request: POST https://api.openai.com/v1/chat/completions \"HTTP/1.1 200 OK\"\n"
          ]
        },
        {
          "metadata": {
            "tags": null
          },
          "name": "stdout",
          "output_type": "stream",
          "text": [
            "🍩 https://wandb.ai/lavanyashukla/spacerag_novtest2/r/call/0192f7f8-2bfb-7052-ab83-433e956e8c9f\n"
          ]
        },
        {
          "metadata": {
            "tags": null
          },
          "name": "stderr",
          "output_type": "stream",
          "text": [
            "INFO:httpx:HTTP Request: POST https://api.openai.com/v1/chat/completions \"HTTP/1.1 200 OK\"\n",
            "Scoring responses: 100%|██████████| 1/1 [00:05<00:00,  5.73s/it]\n"
          ]
        },
        {
          "metadata": {
            "tags": null
          },
          "name": "stdout",
          "output_type": "stream",
          "text": [
            "🍩 https://wandb.ai/lavanyashukla/spacerag_novtest2/r/call/0192f7f8-2f99-7083-9544-01383df0f032\n"
          ]
        },
        {
          "metadata": {
            "tags": null
          },
          "name": "stderr",
          "output_type": "stream",
          "text": [
            "Retrieving responses: 100%|██████████| 1/1 [00:00<00:00, 8439.24it/s]\n",
            "Scoring responses:   0%|          | 0/1 [00:00<?, ?it/s]INFO:httpx:HTTP Request: POST https://api.openai.com/v1/chat/completions \"HTTP/1.1 200 OK\"\n"
          ]
        },
        {
          "metadata": {
            "tags": null
          },
          "name": "stdout",
          "output_type": "stream",
          "text": [
            "🍩 https://wandb.ai/lavanyashukla/spacerag_novtest2/r/call/0192f7f8-37a5-7d41-a4cc-a4fe93e46683\n"
          ]
        },
        {
          "metadata": {
            "tags": null
          },
          "name": "stderr",
          "output_type": "stream",
          "text": [
            "INFO:httpx:HTTP Request: POST https://api.openai.com/v1/chat/completions \"HTTP/1.1 200 OK\"\n"
          ]
        },
        {
          "metadata": {
            "tags": null
          },
          "name": "stdout",
          "output_type": "stream",
          "text": [
            "🍩 https://wandb.ai/lavanyashukla/spacerag_novtest2/r/call/0192f7f8-3df4-7250-b7ea-1c5812050371\n"
          ]
        },
        {
          "metadata": {
            "tags": null
          },
          "name": "stderr",
          "output_type": "stream",
          "text": [
            "INFO:httpx:HTTP Request: POST https://api.openai.com/v1/chat/completions \"HTTP/1.1 200 OK\"\n"
          ]
        },
        {
          "metadata": {
            "tags": null
          },
          "name": "stdout",
          "output_type": "stream",
          "text": [
            "🍩 https://wandb.ai/lavanyashukla/spacerag_novtest2/r/call/0192f7f8-402e-7ac1-acf2-8617c932df75\n"
          ]
        },
        {
          "metadata": {
            "tags": null
          },
          "name": "stderr",
          "output_type": "stream",
          "text": [
            "INFO:httpx:HTTP Request: POST https://api.openai.com/v1/chat/completions \"HTTP/1.1 200 OK\"\n"
          ]
        },
        {
          "metadata": {
            "tags": null
          },
          "name": "stdout",
          "output_type": "stream",
          "text": [
            "🍩 https://wandb.ai/lavanyashukla/spacerag_novtest2/r/call/0192f7f8-4f26-7223-bfa6-27b428a82d39\n"
          ]
        },
        {
          "metadata": {
            "tags": null
          },
          "name": "stderr",
          "output_type": "stream",
          "text": [
            "INFO:httpx:HTTP Request: POST https://api.openai.com/v1/chat/completions \"HTTP/1.1 200 OK\"\n"
          ]
        },
        {
          "metadata": {
            "tags": null
          },
          "name": "stdout",
          "output_type": "stream",
          "text": [
            "🍩 https://wandb.ai/lavanyashukla/spacerag_novtest2/r/call/0192f7f8-54f0-7dd1-b76b-2787239af244\n"
          ]
        },
        {
          "metadata": {
            "tags": null
          },
          "name": "stderr",
          "output_type": "stream",
          "text": [
            "INFO:httpx:HTTP Request: POST https://api.openai.com/v1/chat/completions \"HTTP/1.1 200 OK\"\n"
          ]
        },
        {
          "metadata": {
            "tags": null
          },
          "name": "stdout",
          "output_type": "stream",
          "text": [
            "🍩 https://wandb.ai/lavanyashukla/spacerag_novtest2/r/call/0192f7f8-580a-7513-b6a0-5f93782897b8\n"
          ]
        },
        {
          "metadata": {
            "tags": null
          },
          "name": "stderr",
          "output_type": "stream",
          "text": [
            "INFO:httpx:HTTP Request: POST https://api.openai.com/v1/chat/completions \"HTTP/1.1 200 OK\"\n"
          ]
        },
        {
          "metadata": {
            "tags": null
          },
          "name": "stdout",
          "output_type": "stream",
          "text": [
            "🍩 https://wandb.ai/lavanyashukla/spacerag_novtest2/r/call/0192f7f8-5c89-7410-83d7-d3a33f64c12c\n"
          ]
        },
        {
          "metadata": {
            "tags": null
          },
          "name": "stderr",
          "output_type": "stream",
          "text": [
            "INFO:httpx:HTTP Request: POST https://api.openai.com/v1/chat/completions \"HTTP/1.1 200 OK\"\n",
            "Scoring responses: 100%|██████████| 1/1 [00:11<00:00, 11.35s/it]\n"
          ]
        },
        {
          "metadata": {
            "tags": null
          },
          "name": "stdout",
          "output_type": "stream",
          "text": [
            "🍩 https://wandb.ai/lavanyashukla/spacerag_novtest2/r/call/0192f7f8-60dc-7cd3-8ef8-21be87a3c49d\n"
          ]
        },
        {
          "metadata": {
            "tags": null
          },
          "name": "stderr",
          "output_type": "stream",
          "text": [
            "Retrieving responses: 100%|██████████| 1/1 [00:00<00:00, 3741.57it/s]\n",
            "Scoring responses:   0%|          | 0/1 [00:00<?, ?it/s]INFO:httpx:HTTP Request: POST https://api.openai.com/v1/chat/completions \"HTTP/1.1 200 OK\"\n"
          ]
        },
        {
          "metadata": {
            "tags": null
          },
          "name": "stdout",
          "output_type": "stream",
          "text": [
            "🍩 https://wandb.ai/lavanyashukla/spacerag_novtest2/r/call/0192f7f8-67cd-77f1-9c23-b599f25c535c\n"
          ]
        },
        {
          "metadata": {
            "tags": null
          },
          "name": "stderr",
          "output_type": "stream",
          "text": [
            "INFO:httpx:HTTP Request: POST https://api.openai.com/v1/chat/completions \"HTTP/1.1 200 OK\"\n"
          ]
        },
        {
          "metadata": {
            "tags": null
          },
          "name": "stdout",
          "output_type": "stream",
          "text": [
            "🍩 https://wandb.ai/lavanyashukla/spacerag_novtest2/r/call/0192f7f8-6abf-7391-a550-0ba335c1e834\n"
          ]
        },
        {
          "metadata": {
            "tags": null
          },
          "name": "stderr",
          "output_type": "stream",
          "text": [
            "INFO:httpx:HTTP Request: POST https://api.openai.com/v1/chat/completions \"HTTP/1.1 200 OK\"\n"
          ]
        },
        {
          "metadata": {
            "tags": null
          },
          "name": "stdout",
          "output_type": "stream",
          "text": [
            "🍩 https://wandb.ai/lavanyashukla/spacerag_novtest2/r/call/0192f7f8-6cdf-7891-8444-508466012e8f\n"
          ]
        },
        {
          "metadata": {
            "tags": null
          },
          "name": "stderr",
          "output_type": "stream",
          "text": [
            "INFO:httpx:HTTP Request: POST https://api.openai.com/v1/chat/completions \"HTTP/1.1 200 OK\"\n"
          ]
        },
        {
          "metadata": {
            "tags": null
          },
          "name": "stdout",
          "output_type": "stream",
          "text": [
            "🍩 https://wandb.ai/lavanyashukla/spacerag_novtest2/r/call/0192f7f8-7838-7e83-9113-0a88ad1c8f41\n"
          ]
        },
        {
          "metadata": {
            "tags": null
          },
          "name": "stderr",
          "output_type": "stream",
          "text": [
            "INFO:httpx:HTTP Request: POST https://api.openai.com/v1/chat/completions \"HTTP/1.1 200 OK\"\n"
          ]
        },
        {
          "metadata": {
            "tags": null
          },
          "name": "stdout",
          "output_type": "stream",
          "text": [
            "🍩 https://wandb.ai/lavanyashukla/spacerag_novtest2/r/call/0192f7f8-7c20-7273-abd6-1b66894226fc\n"
          ]
        },
        {
          "metadata": {
            "tags": null
          },
          "name": "stderr",
          "output_type": "stream",
          "text": [
            "INFO:httpx:HTTP Request: POST https://api.openai.com/v1/chat/completions \"HTTP/1.1 200 OK\"\n"
          ]
        },
        {
          "metadata": {
            "tags": null
          },
          "name": "stdout",
          "output_type": "stream",
          "text": [
            "🍩 https://wandb.ai/lavanyashukla/spacerag_novtest2/r/call/0192f7f8-7f01-7683-ba25-59f76eb230cf\n"
          ]
        },
        {
          "metadata": {
            "tags": null
          },
          "name": "stderr",
          "output_type": "stream",
          "text": [
            "INFO:httpx:HTTP Request: POST https://api.openai.com/v1/chat/completions \"HTTP/1.1 200 OK\"\n",
            "Scoring responses: 100%|██████████| 1/1 [00:07<00:00,  7.57s/it]\n"
          ]
        },
        {
          "metadata": {
            "tags": null
          },
          "name": "stdout",
          "output_type": "stream",
          "text": [
            "🍩 https://wandb.ai/lavanyashukla/spacerag_novtest2/r/call/0192f7f8-821b-7853-900f-aece3cb176a0\n"
          ]
        },
        {
          "metadata": {
            "tags": null
          },
          "name": "stderr",
          "output_type": "stream",
          "text": [
            "Retrieving responses: 100%|██████████| 1/1 [00:00<00:00, 6808.94it/s]\n",
            "Scoring responses:   0%|          | 0/1 [00:00<?, ?it/s]INFO:httpx:HTTP Request: POST https://api.openai.com/v1/chat/completions \"HTTP/1.1 200 OK\"\n"
          ]
        },
        {
          "metadata": {
            "tags": null
          },
          "name": "stdout",
          "output_type": "stream",
          "text": [
            "🍩 https://wandb.ai/lavanyashukla/spacerag_novtest2/r/call/0192f7f8-890e-7e22-a73b-9a2a51a167a0\n"
          ]
        },
        {
          "metadata": {
            "tags": null
          },
          "name": "stderr",
          "output_type": "stream",
          "text": [
            "INFO:httpx:HTTP Request: POST https://api.openai.com/v1/chat/completions \"HTTP/1.1 200 OK\"\n"
          ]
        },
        {
          "metadata": {
            "tags": null
          },
          "name": "stdout",
          "output_type": "stream",
          "text": [
            "🍩 https://wandb.ai/lavanyashukla/spacerag_novtest2/r/call/0192f7f8-8bd6-70a3-ae1b-0391304a65f2\n"
          ]
        },
        {
          "metadata": {
            "tags": null
          },
          "name": "stderr",
          "output_type": "stream",
          "text": [
            "INFO:httpx:HTTP Request: POST https://api.openai.com/v1/chat/completions \"HTTP/1.1 200 OK\"\n"
          ]
        },
        {
          "metadata": {
            "tags": null
          },
          "name": "stdout",
          "output_type": "stream",
          "text": [
            "🍩 https://wandb.ai/lavanyashukla/spacerag_novtest2/r/call/0192f7f8-8e7b-7f10-93a6-28b9ea4c2362\n"
          ]
        },
        {
          "metadata": {
            "tags": null
          },
          "name": "stderr",
          "output_type": "stream",
          "text": [
            "INFO:httpx:HTTP Request: POST https://api.openai.com/v1/chat/completions \"HTTP/1.1 200 OK\"\n"
          ]
        },
        {
          "metadata": {
            "tags": null
          },
          "name": "stdout",
          "output_type": "stream",
          "text": [
            "🍩 https://wandb.ai/lavanyashukla/spacerag_novtest2/r/call/0192f7f8-a7ef-7e03-9cd9-220143328522\n"
          ]
        },
        {
          "metadata": {
            "tags": null
          },
          "name": "stderr",
          "output_type": "stream",
          "text": [
            "INFO:httpx:HTTP Request: POST https://api.openai.com/v1/chat/completions \"HTTP/1.1 200 OK\"\n"
          ]
        },
        {
          "metadata": {
            "tags": null
          },
          "name": "stdout",
          "output_type": "stream",
          "text": [
            "🍩 https://wandb.ai/lavanyashukla/spacerag_novtest2/r/call/0192f7f8-ab27-78f3-85c3-d7012eadf6ce\n"
          ]
        },
        {
          "metadata": {
            "tags": null
          },
          "name": "stderr",
          "output_type": "stream",
          "text": [
            "INFO:httpx:HTTP Request: POST https://api.openai.com/v1/chat/completions \"HTTP/1.1 200 OK\"\n"
          ]
        },
        {
          "metadata": {
            "tags": null
          },
          "name": "stdout",
          "output_type": "stream",
          "text": [
            "🍩 https://wandb.ai/lavanyashukla/spacerag_novtest2/r/call/0192f7f8-af70-72b1-8e49-c4b39bf4b085\n"
          ]
        },
        {
          "metadata": {
            "tags": null
          },
          "name": "stderr",
          "output_type": "stream",
          "text": [
            "INFO:httpx:HTTP Request: POST https://api.openai.com/v1/chat/completions \"HTTP/1.1 200 OK\"\n"
          ]
        },
        {
          "metadata": {
            "tags": null
          },
          "name": "stdout",
          "output_type": "stream",
          "text": [
            "🍩 https://wandb.ai/lavanyashukla/spacerag_novtest2/r/call/0192f7f8-b2bc-7102-acd3-a80c2f311914\n"
          ]
        },
        {
          "metadata": {
            "tags": null
          },
          "name": "stderr",
          "output_type": "stream",
          "text": [
            "INFO:httpx:HTTP Request: POST https://api.openai.com/v1/chat/completions \"HTTP/1.1 200 OK\"\n"
          ]
        },
        {
          "metadata": {
            "tags": null
          },
          "name": "stdout",
          "output_type": "stream",
          "text": [
            "🍩 https://wandb.ai/lavanyashukla/spacerag_novtest2/r/call/0192f7f8-b5b0-75b2-b219-7d5d57852eb8\n"
          ]
        },
        {
          "metadata": {
            "tags": null
          },
          "name": "stderr",
          "output_type": "stream",
          "text": [
            "INFO:httpx:HTTP Request: POST https://api.openai.com/v1/chat/completions \"HTTP/1.1 200 OK\"\n"
          ]
        },
        {
          "metadata": {
            "tags": null
          },
          "name": "stdout",
          "output_type": "stream",
          "text": [
            "🍩 https://wandb.ai/lavanyashukla/spacerag_novtest2/r/call/0192f7f8-b8c2-7022-b8d4-b3b23a37cbd5\n"
          ]
        },
        {
          "metadata": {
            "tags": null
          },
          "name": "stderr",
          "output_type": "stream",
          "text": [
            "INFO:httpx:HTTP Request: POST https://api.openai.com/v1/chat/completions \"HTTP/1.1 200 OK\"\n"
          ]
        },
        {
          "metadata": {
            "tags": null
          },
          "name": "stdout",
          "output_type": "stream",
          "text": [
            "🍩 https://wandb.ai/lavanyashukla/spacerag_novtest2/r/call/0192f7f8-bbec-7ef2-8e7f-41ddf01808f1\n"
          ]
        },
        {
          "metadata": {
            "tags": null
          },
          "name": "stderr",
          "output_type": "stream",
          "text": [
            "INFO:httpx:HTTP Request: POST https://api.openai.com/v1/chat/completions \"HTTP/1.1 200 OK\"\n"
          ]
        },
        {
          "metadata": {
            "tags": null
          },
          "name": "stdout",
          "output_type": "stream",
          "text": [
            "🍩 https://wandb.ai/lavanyashukla/spacerag_novtest2/r/call/0192f7f8-bf11-7e41-bd7b-7e3c16548470\n"
          ]
        },
        {
          "metadata": {
            "tags": null
          },
          "name": "stderr",
          "output_type": "stream",
          "text": [
            "INFO:httpx:HTTP Request: POST https://api.openai.com/v1/chat/completions \"HTTP/1.1 200 OK\"\n"
          ]
        },
        {
          "metadata": {
            "tags": null
          },
          "name": "stdout",
          "output_type": "stream",
          "text": [
            "🍩 https://wandb.ai/lavanyashukla/spacerag_novtest2/r/call/0192f7f8-c26e-7a71-8fd3-0ff319a585b5\n"
          ]
        },
        {
          "metadata": {
            "tags": null
          },
          "name": "stderr",
          "output_type": "stream",
          "text": [
            "INFO:httpx:HTTP Request: POST https://api.openai.com/v1/chat/completions \"HTTP/1.1 200 OK\"\n",
            "Scoring responses: 100%|██████████| 1/1 [00:17<00:00, 17.11s/it]\n"
          ]
        },
        {
          "metadata": {
            "tags": null
          },
          "name": "stdout",
          "output_type": "stream",
          "text": [
            "🍩 https://wandb.ai/lavanyashukla/spacerag_novtest2/r/call/0192f7f8-c7cb-79c0-8d4e-9c0cc268c611\n"
          ]
        },
        {
          "metadata": {
            "tags": null
          },
          "name": "stderr",
          "output_type": "stream",
          "text": [
            "Retrieving responses: 100%|██████████| 1/1 [00:00<00:00, 7436.71it/s]\n",
            "Scoring responses:   0%|          | 0/1 [00:00<?, ?it/s]INFO:httpx:HTTP Request: POST https://api.openai.com/v1/chat/completions \"HTTP/1.1 200 OK\"\n"
          ]
        },
        {
          "metadata": {
            "tags": null
          },
          "name": "stdout",
          "output_type": "stream",
          "text": [
            "🍩 https://wandb.ai/lavanyashukla/spacerag_novtest2/r/call/0192f7f8-cf8a-7590-9360-3603f6888da8\n"
          ]
        },
        {
          "metadata": {
            "tags": null
          },
          "name": "stderr",
          "output_type": "stream",
          "text": [
            "INFO:httpx:HTTP Request: POST https://api.openai.com/v1/chat/completions \"HTTP/1.1 200 OK\"\n"
          ]
        },
        {
          "metadata": {
            "tags": null
          },
          "name": "stdout",
          "output_type": "stream",
          "text": [
            "🍩 https://wandb.ai/lavanyashukla/spacerag_novtest2/r/call/0192f7f8-d2b3-7031-9669-9aaf08e8b4b3\n"
          ]
        },
        {
          "metadata": {
            "tags": null
          },
          "name": "stderr",
          "output_type": "stream",
          "text": [
            "INFO:httpx:HTTP Request: POST https://api.openai.com/v1/chat/completions \"HTTP/1.1 200 OK\"\n"
          ]
        },
        {
          "metadata": {
            "tags": null
          },
          "name": "stdout",
          "output_type": "stream",
          "text": [
            "🍩 https://wandb.ai/lavanyashukla/spacerag_novtest2/r/call/0192f7f8-d507-7433-9360-0c27246c3609\n"
          ]
        },
        {
          "metadata": {
            "tags": null
          },
          "name": "stderr",
          "output_type": "stream",
          "text": [
            "INFO:httpx:HTTP Request: POST https://api.openai.com/v1/chat/completions \"HTTP/1.1 200 OK\"\n"
          ]
        },
        {
          "metadata": {
            "tags": null
          },
          "name": "stdout",
          "output_type": "stream",
          "text": [
            "🍩 https://wandb.ai/lavanyashukla/spacerag_novtest2/r/call/0192f7f8-e39f-77a2-b2b8-a4d9afe61e14\n"
          ]
        },
        {
          "metadata": {
            "tags": null
          },
          "name": "stderr",
          "output_type": "stream",
          "text": [
            "INFO:httpx:HTTP Request: POST https://api.openai.com/v1/chat/completions \"HTTP/1.1 200 OK\"\n"
          ]
        },
        {
          "metadata": {
            "tags": null
          },
          "name": "stdout",
          "output_type": "stream",
          "text": [
            "🍩 https://wandb.ai/lavanyashukla/spacerag_novtest2/r/call/0192f7f8-e80d-7b63-858e-9ad22887190f\n"
          ]
        },
        {
          "metadata": {
            "tags": null
          },
          "name": "stderr",
          "output_type": "stream",
          "text": [
            "INFO:httpx:HTTP Request: POST https://api.openai.com/v1/chat/completions \"HTTP/1.1 200 OK\"\n"
          ]
        },
        {
          "metadata": {
            "tags": null
          },
          "name": "stdout",
          "output_type": "stream",
          "text": [
            "🍩 https://wandb.ai/lavanyashukla/spacerag_novtest2/r/call/0192f7f8-ebc3-7630-bdc0-5ba314b66596\n"
          ]
        },
        {
          "metadata": {
            "tags": null
          },
          "name": "stderr",
          "output_type": "stream",
          "text": [
            "INFO:httpx:HTTP Request: POST https://api.openai.com/v1/chat/completions \"HTTP/1.1 200 OK\"\n"
          ]
        },
        {
          "metadata": {
            "tags": null
          },
          "name": "stdout",
          "output_type": "stream",
          "text": [
            "🍩 https://wandb.ai/lavanyashukla/spacerag_novtest2/r/call/0192f7f8-efb0-73f2-a7cf-e4525386f1bb\n"
          ]
        },
        {
          "metadata": {
            "tags": null
          },
          "name": "stderr",
          "output_type": "stream",
          "text": [
            "INFO:httpx:HTTP Request: POST https://api.openai.com/v1/chat/completions \"HTTP/1.1 200 OK\"\n"
          ]
        },
        {
          "metadata": {
            "tags": null
          },
          "name": "stdout",
          "output_type": "stream",
          "text": [
            "🍩 https://wandb.ai/lavanyashukla/spacerag_novtest2/r/call/0192f7f8-f35c-7a21-a1a5-28d1bd18ba4b\n"
          ]
        },
        {
          "metadata": {
            "tags": null
          },
          "name": "stderr",
          "output_type": "stream",
          "text": [
            "INFO:httpx:HTTP Request: POST https://api.openai.com/v1/chat/completions \"HTTP/1.1 200 OK\"\n",
            "Scoring responses: 100%|██████████| 1/1 [00:11<00:00, 11.10s/it]\n"
          ]
        },
        {
          "metadata": {
            "tags": null
          },
          "name": "stdout",
          "output_type": "stream",
          "text": [
            "🍩 https://wandb.ai/lavanyashukla/spacerag_novtest2/r/call/0192f7f8-f6bf-7082-9631-6c7183db7cda\n"
          ]
        },
        {
          "metadata": {
            "tags": null
          },
          "name": "stderr",
          "output_type": "stream",
          "text": [
            "Retrieving responses: 100%|██████████| 1/1 [00:00<00:00, 751.53it/s]\n",
            "Scoring responses:   0%|          | 0/1 [00:00<?, ?it/s]INFO:httpx:HTTP Request: POST https://api.openai.com/v1/chat/completions \"HTTP/1.1 200 OK\"\n"
          ]
        },
        {
          "metadata": {
            "tags": null
          },
          "name": "stdout",
          "output_type": "stream",
          "text": [
            "🍩 https://wandb.ai/lavanyashukla/spacerag_novtest2/r/call/0192f7f8-fed0-79a2-bc5e-23ee7e6480bf\n"
          ]
        },
        {
          "metadata": {
            "tags": null
          },
          "name": "stderr",
          "output_type": "stream",
          "text": [
            "INFO:httpx:HTTP Request: POST https://api.openai.com/v1/chat/completions \"HTTP/1.1 200 OK\"\n"
          ]
        },
        {
          "metadata": {
            "tags": null
          },
          "name": "stdout",
          "output_type": "stream",
          "text": [
            "🍩 https://wandb.ai/lavanyashukla/spacerag_novtest2/r/call/0192f7f9-0121-7dc1-ab5e-ccf56f414e11\n"
          ]
        },
        {
          "metadata": {
            "tags": null
          },
          "name": "stderr",
          "output_type": "stream",
          "text": [
            "INFO:httpx:HTTP Request: POST https://api.openai.com/v1/chat/completions \"HTTP/1.1 200 OK\"\n"
          ]
        },
        {
          "metadata": {
            "tags": null
          },
          "name": "stdout",
          "output_type": "stream",
          "text": [
            "🍩 https://wandb.ai/lavanyashukla/spacerag_novtest2/r/call/0192f7f9-054e-7340-8f4d-b69352070433\n"
          ]
        },
        {
          "metadata": {
            "tags": null
          },
          "name": "stderr",
          "output_type": "stream",
          "text": [
            "INFO:httpx:HTTP Request: POST https://api.openai.com/v1/chat/completions \"HTTP/1.1 200 OK\"\n"
          ]
        },
        {
          "metadata": {
            "tags": null
          },
          "name": "stdout",
          "output_type": "stream",
          "text": [
            "🍩 https://wandb.ai/lavanyashukla/spacerag_novtest2/r/call/0192f7f9-0aa7-7fc2-b021-01f3aadb97ba\n"
          ]
        },
        {
          "metadata": {
            "tags": null
          },
          "name": "stderr",
          "output_type": "stream",
          "text": [
            "INFO:httpx:HTTP Request: POST https://api.openai.com/v1/chat/completions \"HTTP/1.1 200 OK\"\n",
            "Scoring responses: 100%|██████████| 1/1 [00:05<00:00,  5.10s/it]\n"
          ]
        },
        {
          "metadata": {
            "tags": null
          },
          "name": "stdout",
          "output_type": "stream",
          "text": [
            "🍩 https://wandb.ai/lavanyashukla/spacerag_novtest2/r/call/0192f7f9-0e6a-7650-8b0e-062ebf7640b9\n"
          ]
        },
        {
          "metadata": {
            "tags": null
          },
          "name": "stderr",
          "output_type": "stream",
          "text": [
            "Retrieving responses: 100%|██████████| 1/1 [00:00<00:00, 3072.75it/s]\n",
            "Scoring responses:   0%|          | 0/1 [00:00<?, ?it/s]INFO:httpx:HTTP Request: POST https://api.openai.com/v1/chat/completions \"HTTP/1.1 200 OK\"\n"
          ]
        },
        {
          "metadata": {
            "tags": null
          },
          "name": "stdout",
          "output_type": "stream",
          "text": [
            "🍩 https://wandb.ai/lavanyashukla/spacerag_novtest2/r/call/0192f7f9-168c-7140-8228-717658319604\n"
          ]
        },
        {
          "metadata": {
            "tags": null
          },
          "name": "stderr",
          "output_type": "stream",
          "text": [
            "INFO:httpx:HTTP Request: POST https://api.openai.com/v1/chat/completions \"HTTP/1.1 200 OK\"\n"
          ]
        },
        {
          "metadata": {
            "tags": null
          },
          "name": "stdout",
          "output_type": "stream",
          "text": [
            "🍩 https://wandb.ai/lavanyashukla/spacerag_novtest2/r/call/0192f7f9-19c2-7fc3-bce0-3624b46e1e7d\n"
          ]
        },
        {
          "metadata": {
            "tags": null
          },
          "name": "stderr",
          "output_type": "stream",
          "text": [
            "INFO:httpx:HTTP Request: POST https://api.openai.com/v1/chat/completions \"HTTP/1.1 200 OK\"\n"
          ]
        },
        {
          "metadata": {
            "tags": null
          },
          "name": "stdout",
          "output_type": "stream",
          "text": [
            "🍩 https://wandb.ai/lavanyashukla/spacerag_novtest2/r/call/0192f7f9-1c5e-7fc2-9080-8dc6ff171a9a\n"
          ]
        },
        {
          "metadata": {
            "tags": null
          },
          "name": "stderr",
          "output_type": "stream",
          "text": [
            "INFO:httpx:HTTP Request: POST https://api.openai.com/v1/chat/completions \"HTTP/1.1 200 OK\"\n"
          ]
        },
        {
          "metadata": {
            "tags": null
          },
          "name": "stdout",
          "output_type": "stream",
          "text": [
            "🍩 https://wandb.ai/lavanyashukla/spacerag_novtest2/r/call/0192f7f9-2c78-7791-9a54-ea390d2d5662\n"
          ]
        },
        {
          "metadata": {
            "tags": null
          },
          "name": "stderr",
          "output_type": "stream",
          "text": [
            "INFO:httpx:HTTP Request: POST https://api.openai.com/v1/chat/completions \"HTTP/1.1 200 OK\"\n"
          ]
        },
        {
          "metadata": {
            "tags": null
          },
          "name": "stdout",
          "output_type": "stream",
          "text": [
            "🍩 https://wandb.ai/lavanyashukla/spacerag_novtest2/r/call/0192f7f9-30a9-7f72-baa3-66467716100f\n"
          ]
        },
        {
          "metadata": {
            "tags": null
          },
          "name": "stderr",
          "output_type": "stream",
          "text": [
            "INFO:httpx:HTTP Request: POST https://api.openai.com/v1/chat/completions \"HTTP/1.1 200 OK\"\n"
          ]
        },
        {
          "metadata": {
            "tags": null
          },
          "name": "stdout",
          "output_type": "stream",
          "text": [
            "🍩 https://wandb.ai/lavanyashukla/spacerag_novtest2/r/call/0192f7f9-373c-7021-946b-52f38123b928\n"
          ]
        },
        {
          "metadata": {
            "tags": null
          },
          "name": "stderr",
          "output_type": "stream",
          "text": [
            "INFO:httpx:HTTP Request: POST https://api.openai.com/v1/chat/completions \"HTTP/1.1 200 OK\"\n"
          ]
        },
        {
          "metadata": {
            "tags": null
          },
          "name": "stdout",
          "output_type": "stream",
          "text": [
            "🍩 https://wandb.ai/lavanyashukla/spacerag_novtest2/r/call/0192f7f9-3b2a-75f3-b9e4-5f605b256875\n"
          ]
        },
        {
          "metadata": {
            "tags": null
          },
          "name": "stderr",
          "output_type": "stream",
          "text": [
            "INFO:httpx:HTTP Request: POST https://api.openai.com/v1/chat/completions \"HTTP/1.1 200 OK\"\n",
            "Scoring responses: 100%|██████████| 1/1 [00:13<00:00, 13.18s/it]\n"
          ]
        },
        {
          "metadata": {
            "tags": null
          },
          "name": "stdout",
          "output_type": "stream",
          "text": [
            "🍩 https://wandb.ai/lavanyashukla/spacerag_novtest2/r/call/0192f7f9-43f1-71f2-b02d-ccf3e590d5db\n"
          ]
        },
        {
          "metadata": {
            "tags": null
          },
          "name": "stderr",
          "output_type": "stream",
          "text": [
            "Retrieving responses: 100%|██████████| 1/1 [00:00<00:00, 1324.80it/s]\n",
            "Scoring responses:   0%|          | 0/1 [00:00<?, ?it/s]INFO:httpx:HTTP Request: POST https://api.openai.com/v1/chat/completions \"HTTP/1.1 200 OK\"\n"
          ]
        },
        {
          "metadata": {
            "tags": null
          },
          "name": "stdout",
          "output_type": "stream",
          "text": [
            "🍩 https://wandb.ai/lavanyashukla/spacerag_novtest2/r/call/0192f7f9-4e65-7151-820e-256d7ca9d075\n"
          ]
        },
        {
          "metadata": {
            "tags": null
          },
          "name": "stderr",
          "output_type": "stream",
          "text": [
            "INFO:httpx:HTTP Request: POST https://api.openai.com/v1/chat/completions \"HTTP/1.1 200 OK\"\n"
          ]
        },
        {
          "metadata": {
            "tags": null
          },
          "name": "stdout",
          "output_type": "stream",
          "text": [
            "🍩 https://wandb.ai/lavanyashukla/spacerag_novtest2/r/call/0192f7f9-517c-7653-b21b-281b7711f08f\n"
          ]
        },
        {
          "metadata": {
            "tags": null
          },
          "name": "stderr",
          "output_type": "stream",
          "text": [
            "INFO:httpx:HTTP Request: POST https://api.openai.com/v1/chat/completions \"HTTP/1.1 200 OK\"\n"
          ]
        },
        {
          "metadata": {
            "tags": null
          },
          "name": "stdout",
          "output_type": "stream",
          "text": [
            "🍩 https://wandb.ai/lavanyashukla/spacerag_novtest2/r/call/0192f7f9-543b-7a73-8bb1-d6db36e5c8c1\n"
          ]
        },
        {
          "metadata": {
            "tags": null
          },
          "name": "stderr",
          "output_type": "stream",
          "text": [
            "INFO:httpx:HTTP Request: POST https://api.openai.com/v1/chat/completions \"HTTP/1.1 200 OK\"\n"
          ]
        },
        {
          "metadata": {
            "tags": null
          },
          "name": "stdout",
          "output_type": "stream",
          "text": [
            "🍩 https://wandb.ai/lavanyashukla/spacerag_novtest2/r/call/0192f7f9-61a3-71d1-a79e-78b5a548ff39\n"
          ]
        },
        {
          "metadata": {
            "tags": null
          },
          "name": "stderr",
          "output_type": "stream",
          "text": [
            "INFO:httpx:HTTP Request: POST https://api.openai.com/v1/chat/completions \"HTTP/1.1 200 OK\"\n"
          ]
        },
        {
          "metadata": {
            "tags": null
          },
          "name": "stdout",
          "output_type": "stream",
          "text": [
            "🍩 https://wandb.ai/lavanyashukla/spacerag_novtest2/r/call/0192f7f9-65c1-72f0-a67e-1a9d29926547\n"
          ]
        },
        {
          "metadata": {
            "tags": null
          },
          "name": "stderr",
          "output_type": "stream",
          "text": [
            "INFO:httpx:HTTP Request: POST https://api.openai.com/v1/chat/completions \"HTTP/1.1 200 OK\"\n"
          ]
        },
        {
          "metadata": {
            "tags": null
          },
          "name": "stdout",
          "output_type": "stream",
          "text": [
            "🍩 https://wandb.ai/lavanyashukla/spacerag_novtest2/r/call/0192f7f9-6ae1-7723-9e8b-c17471f4c08c\n"
          ]
        },
        {
          "metadata": {
            "tags": null
          },
          "name": "stderr",
          "output_type": "stream",
          "text": [
            "INFO:httpx:HTTP Request: POST https://api.openai.com/v1/chat/completions \"HTTP/1.1 200 OK\"\n",
            "Scoring responses: 100%|██████████| 1/1 [00:10<00:00, 10.50s/it]\n"
          ]
        },
        {
          "metadata": {
            "tags": null
          },
          "name": "stdout",
          "output_type": "stream",
          "text": [
            "🍩 https://wandb.ai/lavanyashukla/spacerag_novtest2/r/call/0192f7f9-746a-79f2-a9f7-bfe2f9315ba5\n"
          ]
        },
        {
          "metadata": {
            "tags": null
          },
          "name": "stderr",
          "output_type": "stream",
          "text": [
            "Retrieving responses: 100%|██████████| 1/1 [00:00<00:00, 6069.90it/s]\n",
            "Scoring responses:   0%|          | 0/1 [00:00<?, ?it/s]INFO:httpx:HTTP Request: POST https://api.openai.com/v1/chat/completions \"HTTP/1.1 200 OK\"\n"
          ]
        },
        {
          "metadata": {
            "tags": null
          },
          "name": "stdout",
          "output_type": "stream",
          "text": [
            "🍩 https://wandb.ai/lavanyashukla/spacerag_novtest2/r/call/0192f7f9-7bee-7102-a774-e9df9d8de44b\n"
          ]
        },
        {
          "metadata": {
            "tags": null
          },
          "name": "stderr",
          "output_type": "stream",
          "text": [
            "INFO:httpx:HTTP Request: POST https://api.openai.com/v1/chat/completions \"HTTP/1.1 200 OK\"\n"
          ]
        },
        {
          "metadata": {
            "tags": null
          },
          "name": "stdout",
          "output_type": "stream",
          "text": [
            "🍩 https://wandb.ai/lavanyashukla/spacerag_novtest2/r/call/0192f7f9-7eb3-7700-8085-6b584649346c\n"
          ]
        },
        {
          "metadata": {
            "tags": null
          },
          "name": "stderr",
          "output_type": "stream",
          "text": [
            "INFO:httpx:HTTP Request: POST https://api.openai.com/v1/chat/completions \"HTTP/1.1 200 OK\"\n"
          ]
        },
        {
          "metadata": {
            "tags": null
          },
          "name": "stdout",
          "output_type": "stream",
          "text": [
            "🍩 https://wandb.ai/lavanyashukla/spacerag_novtest2/r/call/0192f7f9-81f2-7cb0-90e4-31f5c892f75f\n"
          ]
        },
        {
          "metadata": {
            "tags": null
          },
          "name": "stderr",
          "output_type": "stream",
          "text": [
            "INFO:httpx:HTTP Request: POST https://api.openai.com/v1/chat/completions \"HTTP/1.1 200 OK\"\n"
          ]
        },
        {
          "metadata": {
            "tags": null
          },
          "name": "stdout",
          "output_type": "stream",
          "text": [
            "🍩 https://wandb.ai/lavanyashukla/spacerag_novtest2/r/call/0192f7f9-8b17-7921-a417-a326be720693\n"
          ]
        },
        {
          "metadata": {
            "tags": null
          },
          "name": "stderr",
          "output_type": "stream",
          "text": [
            "INFO:httpx:HTTP Request: POST https://api.openai.com/v1/chat/completions \"HTTP/1.1 200 OK\"\n"
          ]
        },
        {
          "metadata": {
            "tags": null
          },
          "name": "stdout",
          "output_type": "stream",
          "text": [
            "🍩 https://wandb.ai/lavanyashukla/spacerag_novtest2/r/call/0192f7f9-8e4f-7ac3-96db-9bb3df733d98\n"
          ]
        },
        {
          "metadata": {
            "tags": null
          },
          "name": "stderr",
          "output_type": "stream",
          "text": [
            "INFO:httpx:HTTP Request: POST https://api.openai.com/v1/chat/completions \"HTTP/1.1 200 OK\"\n",
            "Scoring responses: 100%|██████████| 1/1 [00:06<00:00,  6.95s/it]\n"
          ]
        },
        {
          "metadata": {
            "tags": null
          },
          "name": "stdout",
          "output_type": "stream",
          "text": [
            "🍩 https://wandb.ai/lavanyashukla/spacerag_novtest2/r/call/0192f7f9-93e3-70e2-9e9e-99b033bff572\n"
          ]
        },
        {
          "metadata": {
            "tags": null
          },
          "name": "stderr",
          "output_type": "stream",
          "text": [
            "Retrieving responses: 100%|██████████| 1/1 [00:00<00:00, 6123.07it/s]\n",
            "Scoring responses:   0%|          | 0/1 [00:00<?, ?it/s]INFO:httpx:HTTP Request: POST https://api.openai.com/v1/chat/completions \"HTTP/1.1 200 OK\"\n"
          ]
        },
        {
          "metadata": {
            "tags": null
          },
          "name": "stdout",
          "output_type": "stream",
          "text": [
            "🍩 https://wandb.ai/lavanyashukla/spacerag_novtest2/r/call/0192f7f9-9cc0-7642-983a-131f15a07829\n"
          ]
        },
        {
          "metadata": {
            "tags": null
          },
          "name": "stderr",
          "output_type": "stream",
          "text": [
            "INFO:httpx:HTTP Request: POST https://api.openai.com/v1/chat/completions \"HTTP/1.1 200 OK\"\n"
          ]
        },
        {
          "metadata": {
            "tags": null
          },
          "name": "stdout",
          "output_type": "stream",
          "text": [
            "🍩 https://wandb.ai/lavanyashukla/spacerag_novtest2/r/call/0192f7f9-9f5b-7253-820e-71d46caa3567\n"
          ]
        },
        {
          "metadata": {
            "tags": null
          },
          "name": "stderr",
          "output_type": "stream",
          "text": [
            "INFO:httpx:HTTP Request: POST https://api.openai.com/v1/chat/completions \"HTTP/1.1 200 OK\"\n"
          ]
        },
        {
          "metadata": {
            "tags": null
          },
          "name": "stdout",
          "output_type": "stream",
          "text": [
            "🍩 https://wandb.ai/lavanyashukla/spacerag_novtest2/r/call/0192f7f9-a210-7b60-afd1-5f5b0712a700\n"
          ]
        },
        {
          "metadata": {
            "tags": null
          },
          "name": "stderr",
          "output_type": "stream",
          "text": [
            "INFO:httpx:HTTP Request: POST https://api.openai.com/v1/chat/completions \"HTTP/1.1 200 OK\"\n"
          ]
        },
        {
          "metadata": {
            "tags": null
          },
          "name": "stdout",
          "output_type": "stream",
          "text": [
            "🍩 https://wandb.ai/lavanyashukla/spacerag_novtest2/r/call/0192f7f9-b4fb-7632-9721-527db74ee8b9\n"
          ]
        },
        {
          "metadata": {
            "tags": null
          },
          "name": "stderr",
          "output_type": "stream",
          "text": [
            "INFO:httpx:HTTP Request: POST https://api.openai.com/v1/chat/completions \"HTTP/1.1 200 OK\"\n"
          ]
        },
        {
          "metadata": {
            "tags": null
          },
          "name": "stdout",
          "output_type": "stream",
          "text": [
            "🍩 https://wandb.ai/lavanyashukla/spacerag_novtest2/r/call/0192f7f9-b81f-7883-b530-a237175f4f3d\n"
          ]
        },
        {
          "metadata": {
            "tags": null
          },
          "name": "stderr",
          "output_type": "stream",
          "text": [
            "INFO:httpx:HTTP Request: POST https://api.openai.com/v1/chat/completions \"HTTP/1.1 200 OK\"\n"
          ]
        },
        {
          "metadata": {
            "tags": null
          },
          "name": "stdout",
          "output_type": "stream",
          "text": [
            "🍩 https://wandb.ai/lavanyashukla/spacerag_novtest2/r/call/0192f7f9-bb25-7e62-8425-7ef3f3c02c7f\n"
          ]
        },
        {
          "metadata": {
            "tags": null
          },
          "name": "stderr",
          "output_type": "stream",
          "text": [
            "INFO:httpx:HTTP Request: POST https://api.openai.com/v1/chat/completions \"HTTP/1.1 200 OK\"\n"
          ]
        },
        {
          "metadata": {
            "tags": null
          },
          "name": "stdout",
          "output_type": "stream",
          "text": [
            "🍩 https://wandb.ai/lavanyashukla/spacerag_novtest2/r/call/0192f7f9-be5b-7ff3-aa1d-24e84d65f08e\n"
          ]
        },
        {
          "metadata": {
            "tags": null
          },
          "name": "stderr",
          "output_type": "stream",
          "text": [
            "INFO:httpx:HTTP Request: POST https://api.openai.com/v1/chat/completions \"HTTP/1.1 200 OK\"\n"
          ]
        },
        {
          "metadata": {
            "tags": null
          },
          "name": "stdout",
          "output_type": "stream",
          "text": [
            "🍩 https://wandb.ai/lavanyashukla/spacerag_novtest2/r/call/0192f7f9-c19b-71a3-a543-5cce4d2ef3b7\n"
          ]
        },
        {
          "metadata": {
            "tags": null
          },
          "name": "stderr",
          "output_type": "stream",
          "text": [
            "INFO:httpx:HTTP Request: POST https://api.openai.com/v1/chat/completions \"HTTP/1.1 200 OK\"\n",
            "Scoring responses: 100%|██████████| 1/1 [00:11<00:00, 11.56s/it]\n"
          ]
        },
        {
          "metadata": {
            "tags": null
          },
          "name": "stdout",
          "output_type": "stream",
          "text": [
            "🍩 https://wandb.ai/lavanyashukla/spacerag_novtest2/r/call/0192f7f9-c4ae-7513-815b-e5560665e04a\n"
          ]
        },
        {
          "metadata": {
            "tags": null
          },
          "name": "stderr",
          "output_type": "stream",
          "text": [
            "Retrieving responses: 100%|██████████| 1/1 [00:00<00:00, 6150.01it/s]\n",
            "Scoring responses:   0%|          | 0/1 [00:00<?, ?it/s]INFO:httpx:HTTP Request: POST https://api.openai.com/v1/chat/completions \"HTTP/1.1 200 OK\"\n"
          ]
        },
        {
          "metadata": {
            "tags": null
          },
          "name": "stdout",
          "output_type": "stream",
          "text": [
            "🍩 https://wandb.ai/lavanyashukla/spacerag_novtest2/r/call/0192f7f9-cd8b-7501-8cb9-85faa0428d2a\n"
          ]
        },
        {
          "metadata": {
            "tags": null
          },
          "name": "stderr",
          "output_type": "stream",
          "text": [
            "INFO:httpx:HTTP Request: POST https://api.openai.com/v1/chat/completions \"HTTP/1.1 200 OK\"\n"
          ]
        },
        {
          "metadata": {
            "tags": null
          },
          "name": "stdout",
          "output_type": "stream",
          "text": [
            "🍩 https://wandb.ai/lavanyashukla/spacerag_novtest2/r/call/0192f7f9-cf7a-7440-bce7-02e80d7c7369\n"
          ]
        },
        {
          "metadata": {
            "tags": null
          },
          "name": "stderr",
          "output_type": "stream",
          "text": [
            "INFO:httpx:HTTP Request: POST https://api.openai.com/v1/chat/completions \"HTTP/1.1 200 OK\"\n"
          ]
        },
        {
          "metadata": {
            "tags": null
          },
          "name": "stdout",
          "output_type": "stream",
          "text": [
            "🍩 https://wandb.ai/lavanyashukla/spacerag_novtest2/r/call/0192f7f9-d209-7ac1-9579-878570b64efb\n"
          ]
        },
        {
          "metadata": {
            "tags": null
          },
          "name": "stderr",
          "output_type": "stream",
          "text": [
            "INFO:httpx:HTTP Request: POST https://api.openai.com/v1/chat/completions \"HTTP/1.1 200 OK\"\n",
            "Scoring responses: 100%|██████████| 1/1 [00:03<00:00,  3.23s/it]\n"
          ]
        },
        {
          "metadata": {
            "tags": null
          },
          "name": "stdout",
          "output_type": "stream",
          "text": [
            "🍩 https://wandb.ai/lavanyashukla/spacerag_novtest2/r/call/0192f7f9-d6ab-7e21-ad71-a4dbb8d07cda\n"
          ]
        },
        {
          "metadata": {
            "tags": null
          },
          "name": "stderr",
          "output_type": "stream",
          "text": [
            "Retrieving responses: 100%|██████████| 1/1 [00:00<00:00, 6335.81it/s]\n",
            "Scoring responses:   0%|          | 0/1 [00:00<?, ?it/s]INFO:httpx:HTTP Request: POST https://api.openai.com/v1/chat/completions \"HTTP/1.1 200 OK\"\n"
          ]
        },
        {
          "metadata": {
            "tags": null
          },
          "name": "stdout",
          "output_type": "stream",
          "text": [
            "🍩 https://wandb.ai/lavanyashukla/spacerag_novtest2/r/call/0192f7f9-de27-74f3-b08a-23015719f671\n"
          ]
        },
        {
          "metadata": {
            "tags": null
          },
          "name": "stderr",
          "output_type": "stream",
          "text": [
            "INFO:httpx:HTTP Request: POST https://api.openai.com/v1/chat/completions \"HTTP/1.1 200 OK\"\n"
          ]
        },
        {
          "metadata": {
            "tags": null
          },
          "name": "stdout",
          "output_type": "stream",
          "text": [
            "🍩 https://wandb.ai/lavanyashukla/spacerag_novtest2/r/call/0192f7f9-e0c4-7042-8a01-59c75e837b90\n"
          ]
        },
        {
          "metadata": {
            "tags": null
          },
          "name": "stderr",
          "output_type": "stream",
          "text": [
            "INFO:httpx:HTTP Request: POST https://api.openai.com/v1/chat/completions \"HTTP/1.1 200 OK\"\n"
          ]
        },
        {
          "metadata": {
            "tags": null
          },
          "name": "stdout",
          "output_type": "stream",
          "text": [
            "🍩 https://wandb.ai/lavanyashukla/spacerag_novtest2/r/call/0192f7f9-e36d-7512-b6f2-eaed01495837\n"
          ]
        },
        {
          "metadata": {
            "tags": null
          },
          "name": "stderr",
          "output_type": "stream",
          "text": [
            "INFO:httpx:HTTP Request: POST https://api.openai.com/v1/chat/completions \"HTTP/1.1 200 OK\"\n",
            "Scoring responses: 100%|██████████| 1/1 [00:04<00:00,  4.89s/it]\n"
          ]
        },
        {
          "metadata": {
            "tags": null
          },
          "name": "stdout",
          "output_type": "stream",
          "text": [
            "🍩 https://wandb.ai/lavanyashukla/spacerag_novtest2/r/call/0192f7f9-ea3f-7ab3-bac5-fb5e7bb3e201\n"
          ]
        },
        {
          "metadata": {
            "tags": null
          },
          "name": "stderr",
          "output_type": "stream",
          "text": [
            "Retrieving responses: 100%|██████████| 1/1 [00:00<00:00, 7231.56it/s]\n",
            "Scoring responses:   0%|          | 0/1 [00:00<?, ?it/s]INFO:httpx:HTTP Request: POST https://api.openai.com/v1/chat/completions \"HTTP/1.1 200 OK\"\n"
          ]
        },
        {
          "metadata": {
            "tags": null
          },
          "name": "stdout",
          "output_type": "stream",
          "text": [
            "🍩 https://wandb.ai/lavanyashukla/spacerag_novtest2/r/call/0192f7f9-f5cf-7231-8d93-c98410c8882c\n"
          ]
        },
        {
          "metadata": {
            "tags": null
          },
          "name": "stderr",
          "output_type": "stream",
          "text": [
            "INFO:httpx:HTTP Request: POST https://api.openai.com/v1/chat/completions \"HTTP/1.1 200 OK\"\n"
          ]
        },
        {
          "metadata": {
            "tags": null
          },
          "name": "stdout",
          "output_type": "stream",
          "text": [
            "🍩 https://wandb.ai/lavanyashukla/spacerag_novtest2/r/call/0192f7f9-f867-7fa2-8ec2-c3e7093d59d8\n"
          ]
        },
        {
          "metadata": {
            "tags": null
          },
          "name": "stderr",
          "output_type": "stream",
          "text": [
            "INFO:httpx:HTTP Request: POST https://api.openai.com/v1/chat/completions \"HTTP/1.1 200 OK\"\n"
          ]
        },
        {
          "metadata": {
            "tags": null
          },
          "name": "stdout",
          "output_type": "stream",
          "text": [
            "🍩 https://wandb.ai/lavanyashukla/spacerag_novtest2/r/call/0192f7f9-fb12-7852-a5fd-c1f393999040\n"
          ]
        },
        {
          "metadata": {
            "tags": null
          },
          "name": "stderr",
          "output_type": "stream",
          "text": [
            "INFO:httpx:HTTP Request: POST https://api.openai.com/v1/chat/completions \"HTTP/1.1 200 OK\"\n"
          ]
        },
        {
          "metadata": {
            "tags": null
          },
          "name": "stdout",
          "output_type": "stream",
          "text": [
            "🍩 https://wandb.ai/lavanyashukla/spacerag_novtest2/r/call/0192f7fa-07d7-7cc0-9651-0a7f1d74149d\n"
          ]
        },
        {
          "metadata": {
            "tags": null
          },
          "name": "stderr",
          "output_type": "stream",
          "text": [
            "INFO:httpx:HTTP Request: POST https://api.openai.com/v1/chat/completions \"HTTP/1.1 200 OK\"\n"
          ]
        },
        {
          "metadata": {
            "tags": null
          },
          "name": "stdout",
          "output_type": "stream",
          "text": [
            "🍩 https://wandb.ai/lavanyashukla/spacerag_novtest2/r/call/0192f7fa-0d8e-7061-ae78-f39959e72822\n"
          ]
        },
        {
          "metadata": {
            "tags": null
          },
          "name": "stderr",
          "output_type": "stream",
          "text": [
            "INFO:httpx:HTTP Request: POST https://api.openai.com/v1/chat/completions \"HTTP/1.1 200 OK\"\n"
          ]
        },
        {
          "metadata": {
            "tags": null
          },
          "name": "stdout",
          "output_type": "stream",
          "text": [
            "🍩 https://wandb.ai/lavanyashukla/spacerag_novtest2/r/call/0192f7fa-10fb-7c43-a0c4-7e67036bcee6\n"
          ]
        },
        {
          "metadata": {
            "tags": null
          },
          "name": "stderr",
          "output_type": "stream",
          "text": [
            "INFO:httpx:HTTP Request: POST https://api.openai.com/v1/chat/completions \"HTTP/1.1 200 OK\"\n",
            "Scoring responses: 100%|██████████| 1/1 [00:09<00:00,  9.35s/it]\n"
          ]
        },
        {
          "metadata": {
            "tags": null
          },
          "name": "stdout",
          "output_type": "stream",
          "text": [
            "🍩 https://wandb.ai/lavanyashukla/spacerag_novtest2/r/call/0192f7fa-15ec-71f3-b7a6-290c2db381d1\n"
          ]
        },
        {
          "metadata": {
            "tags": null
          },
          "name": "stderr",
          "output_type": "stream",
          "text": [
            "Retrieving responses: 100%|██████████| 1/1 [00:00<00:00, 723.03it/s]\n",
            "Scoring responses:   0%|          | 0/1 [00:00<?, ?it/s]INFO:httpx:HTTP Request: POST https://api.openai.com/v1/chat/completions \"HTTP/1.1 200 OK\"\n"
          ]
        },
        {
          "metadata": {
            "tags": null
          },
          "name": "stdout",
          "output_type": "stream",
          "text": [
            "🍩 https://wandb.ai/lavanyashukla/spacerag_novtest2/r/call/0192f7fa-1e0d-7790-b61f-bf2c6a89c40e\n"
          ]
        },
        {
          "metadata": {
            "tags": null
          },
          "name": "stderr",
          "output_type": "stream",
          "text": [
            "INFO:httpx:HTTP Request: POST https://api.openai.com/v1/chat/completions \"HTTP/1.1 200 OK\"\n"
          ]
        },
        {
          "metadata": {
            "tags": null
          },
          "name": "stdout",
          "output_type": "stream",
          "text": [
            "🍩 https://wandb.ai/lavanyashukla/spacerag_novtest2/r/call/0192f7fa-2080-71e1-bc21-2a56ec3d3ee6\n"
          ]
        },
        {
          "metadata": {
            "tags": null
          },
          "name": "stderr",
          "output_type": "stream",
          "text": [
            "INFO:httpx:HTTP Request: POST https://api.openai.com/v1/chat/completions \"HTTP/1.1 200 OK\"\n"
          ]
        },
        {
          "metadata": {
            "tags": null
          },
          "name": "stdout",
          "output_type": "stream",
          "text": [
            "🍩 https://wandb.ai/lavanyashukla/spacerag_novtest2/r/call/0192f7fa-2316-7841-92bd-86193b693909\n"
          ]
        },
        {
          "metadata": {
            "tags": null
          },
          "name": "stderr",
          "output_type": "stream",
          "text": [
            "INFO:httpx:HTTP Request: POST https://api.openai.com/v1/chat/completions \"HTTP/1.1 200 OK\"\n"
          ]
        },
        {
          "metadata": {
            "tags": null
          },
          "name": "stdout",
          "output_type": "stream",
          "text": [
            "🍩 https://wandb.ai/lavanyashukla/spacerag_novtest2/r/call/0192f7fa-292a-78b3-a53c-cfaced03d200\n"
          ]
        },
        {
          "metadata": {
            "tags": null
          },
          "name": "stderr",
          "output_type": "stream",
          "text": [
            "INFO:httpx:HTTP Request: POST https://api.openai.com/v1/chat/completions \"HTTP/1.1 200 OK\"\n"
          ]
        },
        {
          "metadata": {
            "tags": null
          },
          "name": "stdout",
          "output_type": "stream",
          "text": [
            "🍩 https://wandb.ai/lavanyashukla/spacerag_novtest2/r/call/0192f7fa-2fb3-7b61-8b52-086f6a269f69\n"
          ]
        },
        {
          "metadata": {
            "tags": null
          },
          "name": "stderr",
          "output_type": "stream",
          "text": [
            "INFO:httpx:HTTP Request: POST https://api.openai.com/v1/chat/completions \"HTTP/1.1 200 OK\"\n"
          ]
        },
        {
          "metadata": {
            "tags": null
          },
          "name": "stdout",
          "output_type": "stream",
          "text": [
            "🍩 https://wandb.ai/lavanyashukla/spacerag_novtest2/r/call/0192f7fa-3345-7962-95b8-3e5f92097dcf\n"
          ]
        },
        {
          "metadata": {
            "tags": null
          },
          "name": "stderr",
          "output_type": "stream",
          "text": [
            "INFO:httpx:HTTP Request: POST https://api.openai.com/v1/chat/completions \"HTTP/1.1 200 OK\"\n",
            "Scoring responses: 100%|██████████| 1/1 [00:08<00:00,  8.20s/it]\n"
          ]
        },
        {
          "metadata": {
            "tags": null
          },
          "name": "stdout",
          "output_type": "stream",
          "text": [
            "🍩 https://wandb.ai/lavanyashukla/spacerag_novtest2/r/call/0192f7fa-3a71-7110-a4c6-ee2601dc274b\n"
          ]
        },
        {
          "metadata": {
            "tags": null
          },
          "name": "stderr",
          "output_type": "stream",
          "text": [
            "Retrieving responses: 100%|██████████| 1/1 [00:00<00:00, 1406.54it/s]\n",
            "Scoring responses:   0%|          | 0/1 [00:00<?, ?it/s]INFO:httpx:HTTP Request: POST https://api.openai.com/v1/chat/completions \"HTTP/1.1 200 OK\"\n"
          ]
        },
        {
          "metadata": {
            "tags": null
          },
          "name": "stdout",
          "output_type": "stream",
          "text": [
            "🍩 https://wandb.ai/lavanyashukla/spacerag_novtest2/r/call/0192f7fa-41d7-76c0-a140-1a83aea672e8\n"
          ]
        },
        {
          "metadata": {
            "tags": null
          },
          "name": "stderr",
          "output_type": "stream",
          "text": [
            "INFO:httpx:HTTP Request: POST https://api.openai.com/v1/chat/completions \"HTTP/1.1 200 OK\"\n"
          ]
        },
        {
          "metadata": {
            "tags": null
          },
          "name": "stdout",
          "output_type": "stream",
          "text": [
            "🍩 https://wandb.ai/lavanyashukla/spacerag_novtest2/r/call/0192f7fa-45e7-7901-892b-eda67c9ac75f\n"
          ]
        },
        {
          "metadata": {
            "tags": null
          },
          "name": "stderr",
          "output_type": "stream",
          "text": [
            "INFO:httpx:HTTP Request: POST https://api.openai.com/v1/chat/completions \"HTTP/1.1 200 OK\"\n"
          ]
        },
        {
          "metadata": {
            "tags": null
          },
          "name": "stdout",
          "output_type": "stream",
          "text": [
            "🍩 https://wandb.ai/lavanyashukla/spacerag_novtest2/r/call/0192f7fa-4831-77c2-ac47-a528cb35abf4\n"
          ]
        },
        {
          "metadata": {
            "tags": null
          },
          "name": "stderr",
          "output_type": "stream",
          "text": [
            "INFO:httpx:HTTP Request: POST https://api.openai.com/v1/chat/completions \"HTTP/1.1 200 OK\"\n"
          ]
        },
        {
          "metadata": {
            "tags": null
          },
          "name": "stdout",
          "output_type": "stream",
          "text": [
            "🍩 https://wandb.ai/lavanyashukla/spacerag_novtest2/r/call/0192f7fa-511f-7e11-807b-bb988cc13f72\n"
          ]
        },
        {
          "metadata": {
            "tags": null
          },
          "name": "stderr",
          "output_type": "stream",
          "text": [
            "INFO:httpx:HTTP Request: POST https://api.openai.com/v1/chat/completions \"HTTP/1.1 200 OK\"\n"
          ]
        },
        {
          "metadata": {
            "tags": null
          },
          "name": "stdout",
          "output_type": "stream",
          "text": [
            "🍩 https://wandb.ai/lavanyashukla/spacerag_novtest2/r/call/0192f7fa-5446-7951-836a-bca9ae765e9d\n"
          ]
        },
        {
          "metadata": {
            "tags": null
          },
          "name": "stderr",
          "output_type": "stream",
          "text": [
            "INFO:httpx:HTTP Request: POST https://api.openai.com/v1/chat/completions \"HTTP/1.1 200 OK\"\n"
          ]
        },
        {
          "metadata": {
            "tags": null
          },
          "name": "stdout",
          "output_type": "stream",
          "text": [
            "🍩 https://wandb.ai/lavanyashukla/spacerag_novtest2/r/call/0192f7fa-5744-7cf0-bbcb-3418771c0621\n"
          ]
        },
        {
          "metadata": {
            "tags": null
          },
          "name": "stderr",
          "output_type": "stream",
          "text": [
            "INFO:httpx:HTTP Request: POST https://api.openai.com/v1/chat/completions \"HTTP/1.1 200 OK\"\n"
          ]
        },
        {
          "metadata": {
            "tags": null
          },
          "name": "stdout",
          "output_type": "stream",
          "text": [
            "🍩 https://wandb.ai/lavanyashukla/spacerag_novtest2/r/call/0192f7fa-5b10-7c72-bfb2-4e20cc4c7d94\n"
          ]
        },
        {
          "metadata": {
            "tags": null
          },
          "name": "stderr",
          "output_type": "stream",
          "text": [
            "INFO:httpx:HTTP Request: POST https://api.openai.com/v1/chat/completions \"HTTP/1.1 200 OK\"\n",
            "Scoring responses: 100%|██████████| 1/1 [00:08<00:00,  8.46s/it]\n"
          ]
        },
        {
          "metadata": {
            "tags": null
          },
          "name": "stdout",
          "output_type": "stream",
          "text": [
            "🍩 https://wandb.ai/lavanyashukla/spacerag_novtest2/r/call/0192f7fa-5e4b-7713-879f-4e841574abb7\n"
          ]
        },
        {
          "metadata": {
            "tags": null
          },
          "name": "stderr",
          "output_type": "stream",
          "text": [
            "Retrieving responses: 100%|██████████| 1/1 [00:00<00:00, 8388.61it/s]\n",
            "Scoring responses:   0%|          | 0/1 [00:00<?, ?it/s]INFO:httpx:HTTP Request: POST https://api.openai.com/v1/chat/completions \"HTTP/1.1 200 OK\"\n"
          ]
        },
        {
          "metadata": {
            "tags": null
          },
          "name": "stdout",
          "output_type": "stream",
          "text": [
            "🍩 https://wandb.ai/lavanyashukla/spacerag_novtest2/r/call/0192f7fa-679b-7cd2-8e59-ea79ad09d9f1\n"
          ]
        },
        {
          "metadata": {
            "tags": null
          },
          "name": "stderr",
          "output_type": "stream",
          "text": [
            "INFO:httpx:HTTP Request: POST https://api.openai.com/v1/chat/completions \"HTTP/1.1 200 OK\"\n"
          ]
        },
        {
          "metadata": {
            "tags": null
          },
          "name": "stdout",
          "output_type": "stream",
          "text": [
            "🍩 https://wandb.ai/lavanyashukla/spacerag_novtest2/r/call/0192f7fa-69f3-7b12-8acf-2c8b30d62661\n"
          ]
        },
        {
          "metadata": {
            "tags": null
          },
          "name": "stderr",
          "output_type": "stream",
          "text": [
            "INFO:httpx:HTTP Request: POST https://api.openai.com/v1/chat/completions \"HTTP/1.1 200 OK\"\n"
          ]
        },
        {
          "metadata": {
            "tags": null
          },
          "name": "stdout",
          "output_type": "stream",
          "text": [
            "🍩 https://wandb.ai/lavanyashukla/spacerag_novtest2/r/call/0192f7fa-6ca0-7162-967c-cbe10124c1c1\n"
          ]
        },
        {
          "metadata": {
            "tags": null
          },
          "name": "stderr",
          "output_type": "stream",
          "text": [
            "INFO:httpx:HTTP Request: POST https://api.openai.com/v1/chat/completions \"HTTP/1.1 200 OK\"\n"
          ]
        },
        {
          "metadata": {
            "tags": null
          },
          "name": "stdout",
          "output_type": "stream",
          "text": [
            "🍩 https://wandb.ai/lavanyashukla/spacerag_novtest2/r/call/0192f7fa-760d-7c10-a717-099cd2b8fb5e\n"
          ]
        },
        {
          "metadata": {
            "tags": null
          },
          "name": "stderr",
          "output_type": "stream",
          "text": [
            "INFO:httpx:HTTP Request: POST https://api.openai.com/v1/chat/completions \"HTTP/1.1 200 OK\"\n"
          ]
        },
        {
          "metadata": {
            "tags": null
          },
          "name": "stdout",
          "output_type": "stream",
          "text": [
            "🍩 https://wandb.ai/lavanyashukla/spacerag_novtest2/r/call/0192f7fa-791e-7090-8a58-0e93deca7896\n"
          ]
        },
        {
          "metadata": {
            "tags": null
          },
          "name": "stderr",
          "output_type": "stream",
          "text": [
            "INFO:httpx:HTTP Request: POST https://api.openai.com/v1/chat/completions \"HTTP/1.1 200 OK\"\n",
            "Scoring responses: 100%|██████████| 1/1 [00:07<00:00,  7.39s/it]\n"
          ]
        },
        {
          "metadata": {
            "tags": null
          },
          "name": "stdout",
          "output_type": "stream",
          "text": [
            "🍩 https://wandb.ai/lavanyashukla/spacerag_novtest2/r/call/0192f7fa-7c39-7fe3-be3e-ea4ba1dc1810\n"
          ]
        },
        {
          "metadata": {
            "tags": null
          },
          "name": "stderr",
          "output_type": "stream",
          "text": [
            "Retrieving responses: 100%|██████████| 1/1 [00:00<00:00, 701.74it/s]\n",
            "Scoring responses:   0%|          | 0/1 [00:00<?, ?it/s]INFO:httpx:HTTP Request: POST https://api.openai.com/v1/chat/completions \"HTTP/1.1 200 OK\"\n"
          ]
        },
        {
          "metadata": {
            "tags": null
          },
          "name": "stdout",
          "output_type": "stream",
          "text": [
            "🍩 https://wandb.ai/lavanyashukla/spacerag_novtest2/r/call/0192f7fa-87e0-75e3-b9d0-69e8aa421583\n"
          ]
        },
        {
          "metadata": {
            "tags": null
          },
          "name": "stderr",
          "output_type": "stream",
          "text": [
            "INFO:httpx:HTTP Request: POST https://api.openai.com/v1/chat/completions \"HTTP/1.1 200 OK\"\n"
          ]
        },
        {
          "metadata": {
            "tags": null
          },
          "name": "stdout",
          "output_type": "stream",
          "text": [
            "🍩 https://wandb.ai/lavanyashukla/spacerag_novtest2/r/call/0192f7fa-8a4b-78f0-9e34-509dbc0dff24\n"
          ]
        },
        {
          "metadata": {
            "tags": null
          },
          "name": "stderr",
          "output_type": "stream",
          "text": [
            "INFO:httpx:HTTP Request: POST https://api.openai.com/v1/chat/completions \"HTTP/1.1 200 OK\"\n"
          ]
        },
        {
          "metadata": {
            "tags": null
          },
          "name": "stdout",
          "output_type": "stream",
          "text": [
            "🍩 https://wandb.ai/lavanyashukla/spacerag_novtest2/r/call/0192f7fa-8cc2-7843-a4f2-e57812b6eb8f\n"
          ]
        },
        {
          "metadata": {
            "tags": null
          },
          "name": "stderr",
          "output_type": "stream",
          "text": [
            "INFO:httpx:HTTP Request: POST https://api.openai.com/v1/chat/completions \"HTTP/1.1 200 OK\"\n"
          ]
        },
        {
          "metadata": {
            "tags": null
          },
          "name": "stdout",
          "output_type": "stream",
          "text": [
            "🍩 https://wandb.ai/lavanyashukla/spacerag_novtest2/r/call/0192f7fa-9c58-7683-9119-99fad049db96\n"
          ]
        },
        {
          "metadata": {
            "tags": null
          },
          "name": "stderr",
          "output_type": "stream",
          "text": [
            "INFO:httpx:HTTP Request: POST https://api.openai.com/v1/chat/completions \"HTTP/1.1 200 OK\"\n"
          ]
        },
        {
          "metadata": {
            "tags": null
          },
          "name": "stdout",
          "output_type": "stream",
          "text": [
            "🍩 https://wandb.ai/lavanyashukla/spacerag_novtest2/r/call/0192f7fa-9fbf-7241-bb65-cc04607bcc3a\n"
          ]
        },
        {
          "metadata": {
            "tags": null
          },
          "name": "stderr",
          "output_type": "stream",
          "text": [
            "INFO:httpx:HTTP Request: POST https://api.openai.com/v1/chat/completions \"HTTP/1.1 200 OK\"\n"
          ]
        },
        {
          "metadata": {
            "tags": null
          },
          "name": "stdout",
          "output_type": "stream",
          "text": [
            "🍩 https://wandb.ai/lavanyashukla/spacerag_novtest2/r/call/0192f7fa-a355-7b02-8361-c6d9b926470c\n"
          ]
        },
        {
          "metadata": {
            "tags": null
          },
          "name": "stderr",
          "output_type": "stream",
          "text": [
            "INFO:httpx:HTTP Request: POST https://api.openai.com/v1/chat/completions \"HTTP/1.1 200 OK\"\n"
          ]
        },
        {
          "metadata": {
            "tags": null
          },
          "name": "stdout",
          "output_type": "stream",
          "text": [
            "🍩 https://wandb.ai/lavanyashukla/spacerag_novtest2/r/call/0192f7fa-a837-7a73-b4a0-79a79605d233\n"
          ]
        },
        {
          "metadata": {
            "tags": null
          },
          "name": "stderr",
          "output_type": "stream",
          "text": [
            "INFO:httpx:HTTP Request: POST https://api.openai.com/v1/chat/completions \"HTTP/1.1 200 OK\"\n"
          ]
        },
        {
          "metadata": {
            "tags": null
          },
          "name": "stdout",
          "output_type": "stream",
          "text": [
            "🍩 https://wandb.ai/lavanyashukla/spacerag_novtest2/r/call/0192f7fa-ab52-7ea0-b879-47382509f9fa\n"
          ]
        },
        {
          "metadata": {
            "tags": null
          },
          "name": "stderr",
          "output_type": "stream",
          "text": [
            "INFO:httpx:HTTP Request: POST https://api.openai.com/v1/chat/completions \"HTTP/1.1 200 OK\"\n",
            "Scoring responses: 100%|██████████| 1/1 [00:11<00:00, 11.43s/it]\n"
          ]
        },
        {
          "metadata": {
            "tags": null
          },
          "name": "stdout",
          "output_type": "stream",
          "text": [
            "🍩 https://wandb.ai/lavanyashukla/spacerag_novtest2/r/call/0192f7fa-b156-7de1-8da0-066a1fdd172c\n"
          ]
        },
        {
          "metadata": {
            "tags": null
          },
          "name": "stderr",
          "output_type": "stream",
          "text": [
            "Retrieving responses: 100%|██████████| 1/1 [00:00<00:00, 6141.00it/s]\n",
            "Scoring responses:   0%|          | 0/1 [00:00<?, ?it/s]INFO:httpx:HTTP Request: POST https://api.openai.com/v1/chat/completions \"HTTP/1.1 200 OK\"\n"
          ]
        },
        {
          "metadata": {
            "tags": null
          },
          "name": "stdout",
          "output_type": "stream",
          "text": [
            "🍩 https://wandb.ai/lavanyashukla/spacerag_novtest2/r/call/0192f7fa-b825-7653-99ef-ef49eb7f3181\n"
          ]
        },
        {
          "metadata": {
            "tags": null
          },
          "name": "stderr",
          "output_type": "stream",
          "text": [
            "INFO:httpx:HTTP Request: POST https://api.openai.com/v1/chat/completions \"HTTP/1.1 200 OK\"\n"
          ]
        },
        {
          "metadata": {
            "tags": null
          },
          "name": "stdout",
          "output_type": "stream",
          "text": [
            "🍩 https://wandb.ai/lavanyashukla/spacerag_novtest2/r/call/0192f7fa-ba87-75e1-a54a-53f3b8a4cd6d\n"
          ]
        },
        {
          "metadata": {
            "tags": null
          },
          "name": "stderr",
          "output_type": "stream",
          "text": [
            "INFO:httpx:HTTP Request: POST https://api.openai.com/v1/chat/completions \"HTTP/1.1 200 OK\"\n"
          ]
        },
        {
          "metadata": {
            "tags": null
          },
          "name": "stdout",
          "output_type": "stream",
          "text": [
            "🍩 https://wandb.ai/lavanyashukla/spacerag_novtest2/r/call/0192f7fa-bcd4-7513-8f0e-1051a4044b83\n"
          ]
        },
        {
          "metadata": {
            "tags": null
          },
          "name": "stderr",
          "output_type": "stream",
          "text": [
            "INFO:httpx:HTTP Request: POST https://api.openai.com/v1/chat/completions \"HTTP/1.1 200 OK\"\n"
          ]
        },
        {
          "metadata": {
            "tags": null
          },
          "name": "stdout",
          "output_type": "stream",
          "text": [
            "🍩 https://wandb.ai/lavanyashukla/spacerag_novtest2/r/call/0192f7fa-c6e9-7192-9df6-cc357a6447a8\n"
          ]
        },
        {
          "metadata": {
            "tags": null
          },
          "name": "stderr",
          "output_type": "stream",
          "text": [
            "INFO:httpx:HTTP Request: POST https://api.openai.com/v1/chat/completions \"HTTP/1.1 200 OK\"\n"
          ]
        },
        {
          "metadata": {
            "tags": null
          },
          "name": "stdout",
          "output_type": "stream",
          "text": [
            "🍩 https://wandb.ai/lavanyashukla/spacerag_novtest2/r/call/0192f7fa-cb57-76a2-99b8-6a02a749ec0b\n"
          ]
        },
        {
          "metadata": {
            "tags": null
          },
          "name": "stderr",
          "output_type": "stream",
          "text": [
            "INFO:httpx:HTTP Request: POST https://api.openai.com/v1/chat/completions \"HTTP/1.1 200 OK\"\n",
            "Scoring responses: 100%|██████████| 1/1 [00:06<00:00,  6.78s/it]\n"
          ]
        },
        {
          "metadata": {
            "tags": null
          },
          "name": "stdout",
          "output_type": "stream",
          "text": [
            "🍩 https://wandb.ai/lavanyashukla/spacerag_novtest2/r/call/0192f7fa-cefc-73d3-bfaa-1f5901892f19\n"
          ]
        },
        {
          "metadata": {
            "tags": null
          },
          "name": "stderr",
          "output_type": "stream",
          "text": [
            "Retrieving responses: 100%|██████████| 1/1 [00:00<00:00, 763.99it/s]\n",
            "Scoring responses:   0%|          | 0/1 [00:00<?, ?it/s]INFO:httpx:HTTP Request: POST https://api.openai.com/v1/chat/completions \"HTTP/1.1 200 OK\"\n"
          ]
        },
        {
          "metadata": {
            "tags": null
          },
          "name": "stdout",
          "output_type": "stream",
          "text": [
            "🍩 https://wandb.ai/lavanyashukla/spacerag_novtest2/r/call/0192f7fa-d629-7792-bf16-39f2d02cdbf3\n"
          ]
        },
        {
          "metadata": {
            "tags": null
          },
          "name": "stderr",
          "output_type": "stream",
          "text": [
            "INFO:httpx:HTTP Request: POST https://api.openai.com/v1/chat/completions \"HTTP/1.1 200 OK\"\n"
          ]
        },
        {
          "metadata": {
            "tags": null
          },
          "name": "stdout",
          "output_type": "stream",
          "text": [
            "🍩 https://wandb.ai/lavanyashukla/spacerag_novtest2/r/call/0192f7fa-d874-7052-9eb8-c7805542e6a3\n"
          ]
        },
        {
          "metadata": {
            "tags": null
          },
          "name": "stderr",
          "output_type": "stream",
          "text": [
            "INFO:httpx:HTTP Request: POST https://api.openai.com/v1/chat/completions \"HTTP/1.1 200 OK\"\n"
          ]
        },
        {
          "metadata": {
            "tags": null
          },
          "name": "stdout",
          "output_type": "stream",
          "text": [
            "🍩 https://wandb.ai/lavanyashukla/spacerag_novtest2/r/call/0192f7fa-dab8-7d73-8e47-e0cd45b37025\n"
          ]
        },
        {
          "metadata": {
            "tags": null
          },
          "name": "stderr",
          "output_type": "stream",
          "text": [
            "INFO:httpx:HTTP Request: POST https://api.openai.com/v1/chat/completions \"HTTP/1.1 200 OK\"\n"
          ]
        },
        {
          "metadata": {
            "tags": null
          },
          "name": "stdout",
          "output_type": "stream",
          "text": [
            "🍩 https://wandb.ai/lavanyashukla/spacerag_novtest2/r/call/0192f7fa-e2af-7820-8698-cdee874744f3\n"
          ]
        },
        {
          "metadata": {
            "tags": null
          },
          "name": "stderr",
          "output_type": "stream",
          "text": [
            "INFO:httpx:HTTP Request: POST https://api.openai.com/v1/chat/completions \"HTTP/1.1 200 OK\"\n"
          ]
        },
        {
          "metadata": {
            "tags": null
          },
          "name": "stdout",
          "output_type": "stream",
          "text": [
            "🍩 https://wandb.ai/lavanyashukla/spacerag_novtest2/r/call/0192f7fa-e938-79f1-a834-0a9f258169fe\n"
          ]
        },
        {
          "metadata": {
            "tags": null
          },
          "name": "stderr",
          "output_type": "stream",
          "text": [
            "INFO:httpx:HTTP Request: POST https://api.openai.com/v1/chat/completions \"HTTP/1.1 200 OK\"\n"
          ]
        },
        {
          "metadata": {
            "tags": null
          },
          "name": "stdout",
          "output_type": "stream",
          "text": [
            "🍩 https://wandb.ai/lavanyashukla/spacerag_novtest2/r/call/0192f7fa-ed9f-7d32-bb22-abcb8e77e39a\n"
          ]
        },
        {
          "metadata": {
            "tags": null
          },
          "name": "stderr",
          "output_type": "stream",
          "text": [
            "INFO:httpx:HTTP Request: POST https://api.openai.com/v1/chat/completions \"HTTP/1.1 200 OK\"\n"
          ]
        },
        {
          "metadata": {
            "tags": null
          },
          "name": "stdout",
          "output_type": "stream",
          "text": [
            "🍩 https://wandb.ai/lavanyashukla/spacerag_novtest2/r/call/0192f7fa-f205-7043-b2ed-48961f8a8908\n"
          ]
        },
        {
          "metadata": {
            "tags": null
          },
          "name": "stderr",
          "output_type": "stream",
          "text": [
            "INFO:httpx:HTTP Request: POST https://api.openai.com/v1/chat/completions \"HTTP/1.1 200 OK\"\n"
          ]
        },
        {
          "metadata": {
            "tags": null
          },
          "name": "stdout",
          "output_type": "stream",
          "text": [
            "🍩 https://wandb.ai/lavanyashukla/spacerag_novtest2/r/call/0192f7fa-f54a-73d0-8387-b570c0ae5443\n"
          ]
        },
        {
          "metadata": {
            "tags": null
          },
          "name": "stderr",
          "output_type": "stream",
          "text": [
            "INFO:httpx:HTTP Request: POST https://api.openai.com/v1/chat/completions \"HTTP/1.1 200 OK\"\n",
            "Scoring responses: 100%|██████████| 1/1 [00:09<00:00,  9.68s/it]\n"
          ]
        },
        {
          "metadata": {
            "tags": null
          },
          "name": "stdout",
          "output_type": "stream",
          "text": [
            "🍩 https://wandb.ai/lavanyashukla/spacerag_novtest2/r/call/0192f7fa-f8a0-7011-8cb5-5c8bc6f3bf26\n"
          ]
        },
        {
          "metadata": {
            "tags": null
          },
          "name": "stderr",
          "output_type": "stream",
          "text": [
            "INFO:weave.trace_server_bindings.remote_http_trace_server:retry_attempt\n",
            "INFO:httpx:HTTP Request: POST https://api.openai.com/v1/embeddings \"HTTP/1.1 200 OK\"\n"
          ]
        },
        {
          "metadata": {
            "tags": null
          },
          "name": "stdout",
          "output_type": "stream",
          "text": [
            "Question: What are the disadvantages of the intense ionizing radiation on the moons of Jupiter for colonization?\n",
            "The disadvantages of the intense ionizing radiation on the moons of Jupiter for colonization are that it delivers about 36 Sv per day to unshielded colonists on Io and about 5.40 Sv per day on Europa, which is enough to cause radiation poisoning and even be fatal.\n",
            "___________________________\n"
          ]
        },
        {
          "metadata": {
            "tags": null
          },
          "name": "stderr",
          "output_type": "stream",
          "text": [
            "INFO:httpx:HTTP Request: POST https://api.openai.com/v1/embeddings \"HTTP/1.1 200 OK\"\n"
          ]
        },
        {
          "metadata": {
            "tags": null
          },
          "name": "stdout",
          "output_type": "stream",
          "text": [
            "Question: Why did Stephen Hawking argue for space colonization as a means of saving humanity?\n",
            "According to the text, Stephen Hawking argued for space colonization as a means of mitigating the impacts of overpopulation on Earth, such as resource depletion.\n",
            "___________________________\n"
          ]
        },
        {
          "metadata": {
            "tags": null
          },
          "name": "stderr",
          "output_type": "stream",
          "text": [
            "INFO:httpx:HTTP Request: POST https://api.openai.com/v1/embeddings \"HTTP/1.1 200 OK\"\n"
          ]
        },
        {
          "metadata": {
            "tags": null
          },
          "name": "stdout",
          "output_type": "stream",
          "text": [
            "Question: How does the mass launcher use the principle of the linear induction motor to launch lunar material?\n",
            "The mass launcher uses the principle of the linear induction motor to launch lunar material by accelerating a \"bucket\" containing the material at 30g over a 10km track. The bucket is suspended by liquid helium-cooled superconducting magnets, and the linear electric motor running the length of the track accelerates the bucket to lunar escape velocity (2400 m/s). Once the velocity is reached, the payload is released, and the bucket is decelerated at over 100g using a trackside linear synchronous motor.\n",
            "___________________________\n"
          ]
        },
        {
          "metadata": {
            "tags": null
          },
          "name": "stderr",
          "output_type": "stream",
          "text": [
            "INFO:httpx:HTTP Request: POST https://api.openai.com/v1/embeddings \"HTTP/1.1 200 OK\"\n"
          ]
        },
        {
          "metadata": {
            "tags": null
          },
          "name": "stdout",
          "output_type": "stream",
          "text": [
            "Question: What are the advantages of locating the colony in large orbits around L4 and L5?\n",
            "This question is not answered in the provided context. The context only mentions L2 and L5 as locations, but does not discuss the advantages of locating the colony in large orbits around L4 and L5.\n",
            "___________________________\n"
          ]
        },
        {
          "metadata": {
            "tags": null
          },
          "name": "stderr",
          "output_type": "stream",
          "text": [
            "INFO:httpx:HTTP Request: POST https://api.openai.com/v1/embeddings \"HTTP/1.1 200 OK\"\n"
          ]
        },
        {
          "metadata": {
            "tags": null
          },
          "name": "stdout",
          "output_type": "stream",
          "text": [
            "Question: What are alternative biochemistries and how do they relate to the search for extraterrestrial life?\n",
            "This topic is not discussed in the provided context. The text assumes that any extraterrestrial life would be based on the same fundamental biochemistry as found on Earth, involving the same four elements (carbon, hydrogen, oxygen, and nitrogen). There is no mention of alternative biochemistries or their relevance to the search for extraterrestrial life.\n",
            "___________________________\n"
          ]
        },
        {
          "metadata": {
            "tags": null
          },
          "name": "stderr",
          "output_type": "stream",
          "text": [
            "INFO:httpx:HTTP Request: POST https://api.openai.com/v1/embeddings \"HTTP/1.1 200 OK\"\n"
          ]
        },
        {
          "metadata": {
            "tags": null
          },
          "name": "stdout",
          "output_type": "stream",
          "text": [
            "Question: What is the significance of water availability in determining habitability?\n",
            "Water availability is a crucial factor in determining habitability because it is the solvent in which biological processes take place and is necessary for life's emergence.\n",
            "___________________________\n"
          ]
        },
        {
          "metadata": {
            "tags": null
          },
          "name": "stderr",
          "output_type": "stream",
          "text": [
            "INFO:httpx:HTTP Request: POST https://api.openai.com/v1/embeddings \"HTTP/1.1 200 OK\"\n"
          ]
        },
        {
          "metadata": {
            "tags": null
          },
          "name": "stdout",
          "output_type": "stream",
          "text": [
            "Question: What is the significance of the list of extrasolar planet candidates released by the Kepler Space Observatory Mission team?\n",
            "Not applicable. The provided text does not mention the Kepler Space Observatory Mission team or their list of extrasolar planet candidates. The text appears to be a list of potentially habitable exoplanets with their characteristics and notes on their habitability.\n",
            "___________________________\n"
          ]
        },
        {
          "metadata": {
            "tags": null
          },
          "name": "stderr",
          "output_type": "stream",
          "text": [
            "INFO:httpx:HTTP Request: POST https://api.openai.com/v1/embeddings \"HTTP/1.1 200 OK\"\n"
          ]
        },
        {
          "metadata": {
            "tags": null
          },
          "name": "stdout",
          "output_type": "stream",
          "text": [
            "Question: What are some arguments against using space colonization as a solution to human overpopulation?\n",
            "Some arguments against using space colonization as a solution to human overpopulation are:\n",
            "\n",
            "* Shipping vast numbers of people into space is physically impractical.\n",
            "* Changing only the location but not the logic of exploitation will not create a more sustainable future.\n",
            "* The problem of overpopulation must be addressed on Earth, not by shipping people to space.\n",
            "* It is unclear if space colonization can be a viable solution to human overpopulation, as it is unlikely to be able to accommodate the vast numbers of people on Earth.\n",
            "* The costs of commercial activity in space are too high to be profitable against Earth-based industries, and hence it is unlikely to see significant exploitation of space resources in the foreseeable future.\n",
            "___________________________\n"
          ]
        },
        {
          "metadata": {
            "tags": null
          },
          "name": "stderr",
          "output_type": "stream",
          "text": [
            "INFO:httpx:HTTP Request: POST https://api.openai.com/v1/embeddings \"HTTP/1.1 200 OK\"\n"
          ]
        },
        {
          "metadata": {
            "tags": null
          },
          "name": "stdout",
          "output_type": "stream",
          "text": [
            "Question: What are some arguments for and against space settlement?\n",
            "According to the text, many arguments for and against space settlement have been made, but the specific arguments are not listed. However, it mentions that the two most common reasons in favor of colonization are:\n",
            "\n",
            "1. Survival of human civilization and life on Earth in the event of a planetary-scale disaster (natural or human-made).\n",
            "2. The availability of additional resources in space that could enable expansion of human society.\n",
            "\n",
            "It does not specify the arguments against space settlement.\n",
            "___________________________\n"
          ]
        },
        {
          "metadata": {
            "tags": null
          },
          "name": "stderr",
          "output_type": "stream",
          "text": [
            "INFO:httpx:HTTP Request: POST https://api.openai.com/v1/embeddings \"HTTP/1.1 200 OK\"\n"
          ]
        },
        {
          "metadata": {
            "tags": null
          },
          "name": "stdout",
          "output_type": "stream",
          "text": [
            "Question: What is the role of electrical supply and distribution in a space colony?\n",
            "There is no mention of electrical supply and distribution in the provided context. The text discusses government, life support, food, waste recycling, atmosphere composition, and satellite solar power stations, but does not mention electrical supply and distribution.\n",
            "___________________________\n"
          ]
        },
        {
          "metadata": {
            "tags": null
          },
          "name": "stderr",
          "output_type": "stream",
          "text": [
            "INFO:httpx:HTTP Request: POST https://api.openai.com/v1/embeddings \"HTTP/1.1 200 OK\"\n"
          ]
        },
        {
          "metadata": {
            "tags": null
          },
          "name": "stdout",
          "output_type": "stream",
          "text": [
            "Question: What is the proposed trajectory for mankind's expansion into space colonization?\n",
            "The proposed trajectory for mankind's expansion into space colonization involves several steps, including:\n",
            "\n",
            "1. Initial investment: A high upfront cost is required to establish a space colony, which can take 50 years or more to return on investment.\n",
            "2. Expansion to the outer Solar System: Colonization will involve expanding to the outer planets and dwarf planets, which poses challenges such as distance, extreme cold, and limited power sources.\n",
            "3. Overcoming difficulties: Humans will need to overcome difficulties such as the effects of low gravity on the human body, dust, and other risks associated with space travel.\n",
            "4. Establishing sustainable colonies: The goal is to establish sustainable colonies that can thrive in space, potentially alleviating issues such as overpopulation and resource depletion on Earth.\n",
            "5. Exploiting space resources: Space colonization aims to exploit space resources, such as asteroid mining, solar-power satellites, and space manufacturing, to support human life and industry in space.\n",
            "6. Ensuring the survival of humanity: By establishing a human presence in space, the risk of extinction due to global catastrophes or existential risks can be mitigated.\n",
            "7. Pursuing a utilitarian goal: Space colonization is seen as a means to increase the probability of human survival and flourishing, potentially leading to an enormous amount of utility (or happiness) for humanity as a whole.\n",
            "\n",
            "Overall, the proposed trajectory for space colonization is a long-term process that requires significant investment, technological advancements, and overcoming numerous challenges to establish sustainable human colonies in space.\n",
            "___________________________\n"
          ]
        },
        {
          "metadata": {
            "tags": null
          },
          "name": "stderr",
          "output_type": "stream",
          "text": [
            "INFO:httpx:HTTP Request: POST https://api.openai.com/v1/embeddings \"HTTP/1.1 200 OK\"\n"
          ]
        },
        {
          "metadata": {
            "tags": null
          },
          "name": "stdout",
          "output_type": "stream",
          "text": [
            "Question: What is the purpose of a heavy lift launch vehicle in space colonization?\n",
            "There is no mention of a heavy lift launch vehicle in the provided context. The text discusses Space Solar Power Systems (SSPS), space colonies, and the benefits of space colonization, but it does not mention a heavy lift launch vehicle.\n",
            "___________________________\n"
          ]
        },
        {
          "metadata": {
            "tags": null
          },
          "name": "stderr",
          "output_type": "stream",
          "text": [
            "INFO:httpx:HTTP Request: POST https://api.openai.com/v1/embeddings \"HTTP/1.1 200 OK\"\n"
          ]
        },
        {
          "metadata": {
            "tags": null
          },
          "name": "stdout",
          "output_type": "stream",
          "text": [
            "Question: What are the advantages and disadvantages of the Bernal sphere as a habitat configuration?\n",
            "The advantages of the Bernal sphere as a habitat configuration are:\n",
            "\n",
            "* It is particularly efficient in its shielding requirements, needing 300,000 t less than the banded torus and millions of tonnes less than any other configuration.\n",
            "* It supplies exactly the right amount of space for a colony of 10,000.\n",
            "\n",
            "The disadvantages of the Bernal sphere are:\n",
            "\n",
            "* It requires from 3 to 4 times as much atmospheric mass as the other possible forms.\n",
            "* It requires from 2 to 4 times as much structural mass as the other possible forms.\n",
            "___________________________\n"
          ]
        },
        {
          "metadata": {
            "tags": null
          },
          "name": "stderr",
          "output_type": "stream",
          "text": [
            "INFO:httpx:HTTP Request: POST https://api.openai.com/v1/embeddings \"HTTP/1.1 200 OK\"\n"
          ]
        },
        {
          "metadata": {
            "tags": null
          },
          "name": "stdout",
          "output_type": "stream",
          "text": [
            "Question: What factors affect the economic viability of space colonization for the production of SSPS's?\n",
            "According to the text, the factors affecting the economic viability of space colonization for the production of SSPS's include:\n",
            "\n",
            "1. The cost of establishing colonies in space\n",
            "2. The cost of producing SSPS's\n",
            "3. The cost of transporting mass from the Moon\n",
            "4. The cost of building additional construction shacks and lunar SSPS's\n",
            "5. The cost of developing a second-generation shuttle system\n",
            "6. The market size and growth rate of electrical energy demand\n",
            "7. The time it takes for SSPS's to penetrate the market (10 years assumed)\n",
            "8. The lifetime of SSPS's (30 years assumed)\n",
            "9. The impact of an international organization funding the colonization program\n",
            "10. The benefits of lower electricity costs to foreign nationals and colonists.\n",
            "___________________________\n"
          ]
        },
        {
          "metadata": {
            "tags": null
          },
          "name": "stderr",
          "output_type": "stream",
          "text": [
            "INFO:httpx:HTTP Request: POST https://api.openai.com/v1/embeddings \"HTTP/1.1 200 OK\"\n"
          ]
        },
        {
          "metadata": {
            "tags": null
          },
          "name": "stdout",
          "output_type": "stream",
          "text": [
            "Question: What factors were considered in determining the size and distribution of the population in the space colony design?\n",
            "According to the text, the following factors were considered in determining the size and distribution of the population in the space colony design:\n",
            "\n",
            "1. Area available per person (at least 40 m^2 of projected area per inhabitant)\n",
            "2. Population density and sense of crowding\n",
            "3. Services and facilities provided to the inhabitants\n",
            "4. Organization of space to minimize the sense of crowding\n",
            "5. Distribution of space within cities on Earth as a reference point\n",
            "___________________________\n"
          ]
        },
        {
          "metadata": {
            "tags": null
          },
          "name": "stderr",
          "output_type": "stream",
          "text": [
            "INFO:httpx:HTTP Request: POST https://api.openai.com/v1/embeddings \"HTTP/1.1 200 OK\"\n"
          ]
        },
        {
          "metadata": {
            "tags": null
          },
          "name": "stdout",
          "output_type": "stream",
          "text": [
            "Question: What are some proposed models of transplanetary or extraterrestrial governance in the context of space colonization?\n",
            "Based on the provided context, some proposed models of transplanetary or extraterrestrial governance in the context of space colonization include:\n",
            "\n",
            "1. The Outer Space Treaty, which established that outer space is not subject to national appropriation by claim of sovereignty, and that its exploration and use shall be carried out for the benefit and in the interests of all countries.\n",
            "2. The concept of \"common heritage of humanity\", which suggests that outer space is a shared resource that belongs to all humanity, and should be managed and governed collectively.\n",
            "3. No other specific models of governance are mentioned in the provided context, but it implies that space law and policy are still evolving fields that will need to be developed further as space colonization progresses.\n",
            "___________________________\n"
          ]
        },
        {
          "metadata": {
            "tags": null
          },
          "name": "stderr",
          "output_type": "stream",
          "text": [
            "INFO:httpx:HTTP Request: POST https://api.openai.com/v1/embeddings \"HTTP/1.1 200 OK\"\n"
          ]
        },
        {
          "metadata": {
            "tags": null
          },
          "name": "stdout",
          "output_type": "stream",
          "text": [
            "Question: What role did NASA play in determining the habitability of KOI-1686.01?\n",
            "NASA played a role in disproving the habitability of KOI-1686.01 by declaring it a false positive in 2015.\n",
            "___________________________\n"
          ]
        },
        {
          "metadata": {
            "tags": null
          },
          "name": "stderr",
          "output_type": "stream",
          "text": [
            "INFO:httpx:HTTP Request: POST https://api.openai.com/v1/embeddings \"HTTP/1.1 200 OK\"\n"
          ]
        },
        {
          "metadata": {
            "tags": null
          },
          "name": "stdout",
          "output_type": "stream",
          "text": [
            "Question: What are the effects of isolation in closed environments on the mental and emotional health of colonists in space colonization?\n",
            "According to the text, isolation in closed environments in space colonization can lead to depression, sleep disorders, and diminished personal interactions, likely due to confined spaces and the monotony and boredom of long space flight.\n",
            "___________________________\n"
          ]
        },
        {
          "data": {
            "text/html": [
              "<pre style=\"white-space:pre;overflow-x:auto;line-height:normal;font-family:Menlo,'DejaVu Sans Mono',consolas,'Courier New',monospace\">Evaluated <span style=\"color: #008080; text-decoration-color: #008080; font-weight: bold\">1</span> of <span style=\"color: #008080; text-decoration-color: #008080; font-weight: bold\">50</span> examples\n",
              "</pre>\n"
            ],
            "text/plain": [
              "Evaluated \u001b[1;36m1\u001b[0m of \u001b[1;36m50\u001b[0m examples\n"
            ]
          },
          "metadata": {},
          "output_type": "display_data"
        },
        {
          "data": {
            "text/html": [
              "<pre style=\"white-space:pre;overflow-x:auto;line-height:normal;font-family:Menlo,'DejaVu Sans Mono',consolas,'Courier New',monospace\">Evaluated <span style=\"color: #008080; text-decoration-color: #008080; font-weight: bold\">2</span> of <span style=\"color: #008080; text-decoration-color: #008080; font-weight: bold\">50</span> examples\n",
              "</pre>\n"
            ],
            "text/plain": [
              "Evaluated \u001b[1;36m2\u001b[0m of \u001b[1;36m50\u001b[0m examples\n"
            ]
          },
          "metadata": {},
          "output_type": "display_data"
        },
        {
          "data": {
            "text/html": [
              "<pre style=\"white-space:pre;overflow-x:auto;line-height:normal;font-family:Menlo,'DejaVu Sans Mono',consolas,'Courier New',monospace\">Evaluated <span style=\"color: #008080; text-decoration-color: #008080; font-weight: bold\">3</span> of <span style=\"color: #008080; text-decoration-color: #008080; font-weight: bold\">50</span> examples\n",
              "</pre>\n"
            ],
            "text/plain": [
              "Evaluated \u001b[1;36m3\u001b[0m of \u001b[1;36m50\u001b[0m examples\n"
            ]
          },
          "metadata": {},
          "output_type": "display_data"
        },
        {
          "data": {
            "text/html": [
              "<pre style=\"white-space:pre;overflow-x:auto;line-height:normal;font-family:Menlo,'DejaVu Sans Mono',consolas,'Courier New',monospace\">Evaluated <span style=\"color: #008080; text-decoration-color: #008080; font-weight: bold\">4</span> of <span style=\"color: #008080; text-decoration-color: #008080; font-weight: bold\">50</span> examples\n",
              "</pre>\n"
            ],
            "text/plain": [
              "Evaluated \u001b[1;36m4\u001b[0m of \u001b[1;36m50\u001b[0m examples\n"
            ]
          },
          "metadata": {},
          "output_type": "display_data"
        },
        {
          "data": {
            "text/html": [
              "<pre style=\"white-space:pre;overflow-x:auto;line-height:normal;font-family:Menlo,'DejaVu Sans Mono',consolas,'Courier New',monospace\">Evaluated <span style=\"color: #008080; text-decoration-color: #008080; font-weight: bold\">5</span> of <span style=\"color: #008080; text-decoration-color: #008080; font-weight: bold\">50</span> examples\n",
              "</pre>\n"
            ],
            "text/plain": [
              "Evaluated \u001b[1;36m5\u001b[0m of \u001b[1;36m50\u001b[0m examples\n"
            ]
          },
          "metadata": {},
          "output_type": "display_data"
        },
        {
          "data": {
            "text/html": [
              "<pre style=\"white-space:pre;overflow-x:auto;line-height:normal;font-family:Menlo,'DejaVu Sans Mono',consolas,'Courier New',monospace\">Evaluated <span style=\"color: #008080; text-decoration-color: #008080; font-weight: bold\">6</span> of <span style=\"color: #008080; text-decoration-color: #008080; font-weight: bold\">50</span> examples\n",
              "</pre>\n"
            ],
            "text/plain": [
              "Evaluated \u001b[1;36m6\u001b[0m of \u001b[1;36m50\u001b[0m examples\n"
            ]
          },
          "metadata": {},
          "output_type": "display_data"
        },
        {
          "data": {
            "text/html": [
              "<pre style=\"white-space:pre;overflow-x:auto;line-height:normal;font-family:Menlo,'DejaVu Sans Mono',consolas,'Courier New',monospace\">Evaluated <span style=\"color: #008080; text-decoration-color: #008080; font-weight: bold\">7</span> of <span style=\"color: #008080; text-decoration-color: #008080; font-weight: bold\">50</span> examples\n",
              "</pre>\n"
            ],
            "text/plain": [
              "Evaluated \u001b[1;36m7\u001b[0m of \u001b[1;36m50\u001b[0m examples\n"
            ]
          },
          "metadata": {},
          "output_type": "display_data"
        },
        {
          "data": {
            "text/html": [
              "<pre style=\"white-space:pre;overflow-x:auto;line-height:normal;font-family:Menlo,'DejaVu Sans Mono',consolas,'Courier New',monospace\">Evaluated <span style=\"color: #008080; text-decoration-color: #008080; font-weight: bold\">8</span> of <span style=\"color: #008080; text-decoration-color: #008080; font-weight: bold\">50</span> examples\n",
              "</pre>\n"
            ],
            "text/plain": [
              "Evaluated \u001b[1;36m8\u001b[0m of \u001b[1;36m50\u001b[0m examples\n"
            ]
          },
          "metadata": {},
          "output_type": "display_data"
        },
        {
          "data": {
            "text/html": [
              "<pre style=\"white-space:pre;overflow-x:auto;line-height:normal;font-family:Menlo,'DejaVu Sans Mono',consolas,'Courier New',monospace\">Evaluated <span style=\"color: #008080; text-decoration-color: #008080; font-weight: bold\">9</span> of <span style=\"color: #008080; text-decoration-color: #008080; font-weight: bold\">50</span> examples\n",
              "</pre>\n"
            ],
            "text/plain": [
              "Evaluated \u001b[1;36m9\u001b[0m of \u001b[1;36m50\u001b[0m examples\n"
            ]
          },
          "metadata": {},
          "output_type": "display_data"
        },
        {
          "data": {
            "text/html": [
              "<pre style=\"white-space:pre;overflow-x:auto;line-height:normal;font-family:Menlo,'DejaVu Sans Mono',consolas,'Courier New',monospace\">Evaluated <span style=\"color: #008080; text-decoration-color: #008080; font-weight: bold\">10</span> of <span style=\"color: #008080; text-decoration-color: #008080; font-weight: bold\">50</span> examples\n",
              "</pre>\n"
            ],
            "text/plain": [
              "Evaluated \u001b[1;36m10\u001b[0m of \u001b[1;36m50\u001b[0m examples\n"
            ]
          },
          "metadata": {},
          "output_type": "display_data"
        },
        {
          "data": {
            "text/html": [
              "<pre style=\"white-space:pre;overflow-x:auto;line-height:normal;font-family:Menlo,'DejaVu Sans Mono',consolas,'Courier New',monospace\">Evaluated <span style=\"color: #008080; text-decoration-color: #008080; font-weight: bold\">11</span> of <span style=\"color: #008080; text-decoration-color: #008080; font-weight: bold\">50</span> examples\n",
              "</pre>\n"
            ],
            "text/plain": [
              "Evaluated \u001b[1;36m11\u001b[0m of \u001b[1;36m50\u001b[0m examples\n"
            ]
          },
          "metadata": {},
          "output_type": "display_data"
        },
        {
          "data": {
            "text/html": [
              "<pre style=\"white-space:pre;overflow-x:auto;line-height:normal;font-family:Menlo,'DejaVu Sans Mono',consolas,'Courier New',monospace\">Evaluated <span style=\"color: #008080; text-decoration-color: #008080; font-weight: bold\">12</span> of <span style=\"color: #008080; text-decoration-color: #008080; font-weight: bold\">50</span> examples\n",
              "</pre>\n"
            ],
            "text/plain": [
              "Evaluated \u001b[1;36m12\u001b[0m of \u001b[1;36m50\u001b[0m examples\n"
            ]
          },
          "metadata": {},
          "output_type": "display_data"
        },
        {
          "data": {
            "text/html": [
              "<pre style=\"white-space:pre;overflow-x:auto;line-height:normal;font-family:Menlo,'DejaVu Sans Mono',consolas,'Courier New',monospace\">Evaluated <span style=\"color: #008080; text-decoration-color: #008080; font-weight: bold\">13</span> of <span style=\"color: #008080; text-decoration-color: #008080; font-weight: bold\">50</span> examples\n",
              "</pre>\n"
            ],
            "text/plain": [
              "Evaluated \u001b[1;36m13\u001b[0m of \u001b[1;36m50\u001b[0m examples\n"
            ]
          },
          "metadata": {},
          "output_type": "display_data"
        },
        {
          "data": {
            "text/html": [
              "<pre style=\"white-space:pre;overflow-x:auto;line-height:normal;font-family:Menlo,'DejaVu Sans Mono',consolas,'Courier New',monospace\">Evaluated <span style=\"color: #008080; text-decoration-color: #008080; font-weight: bold\">14</span> of <span style=\"color: #008080; text-decoration-color: #008080; font-weight: bold\">50</span> examples\n",
              "</pre>\n"
            ],
            "text/plain": [
              "Evaluated \u001b[1;36m14\u001b[0m of \u001b[1;36m50\u001b[0m examples\n"
            ]
          },
          "metadata": {},
          "output_type": "display_data"
        },
        {
          "data": {
            "text/html": [
              "<pre style=\"white-space:pre;overflow-x:auto;line-height:normal;font-family:Menlo,'DejaVu Sans Mono',consolas,'Courier New',monospace\">Evaluated <span style=\"color: #008080; text-decoration-color: #008080; font-weight: bold\">15</span> of <span style=\"color: #008080; text-decoration-color: #008080; font-weight: bold\">50</span> examples\n",
              "</pre>\n"
            ],
            "text/plain": [
              "Evaluated \u001b[1;36m15\u001b[0m of \u001b[1;36m50\u001b[0m examples\n"
            ]
          },
          "metadata": {},
          "output_type": "display_data"
        },
        {
          "data": {
            "text/html": [
              "<pre style=\"white-space:pre;overflow-x:auto;line-height:normal;font-family:Menlo,'DejaVu Sans Mono',consolas,'Courier New',monospace\">Evaluated <span style=\"color: #008080; text-decoration-color: #008080; font-weight: bold\">16</span> of <span style=\"color: #008080; text-decoration-color: #008080; font-weight: bold\">50</span> examples\n",
              "</pre>\n"
            ],
            "text/plain": [
              "Evaluated \u001b[1;36m16\u001b[0m of \u001b[1;36m50\u001b[0m examples\n"
            ]
          },
          "metadata": {},
          "output_type": "display_data"
        },
        {
          "data": {
            "text/html": [
              "<pre style=\"white-space:pre;overflow-x:auto;line-height:normal;font-family:Menlo,'DejaVu Sans Mono',consolas,'Courier New',monospace\">Evaluated <span style=\"color: #008080; text-decoration-color: #008080; font-weight: bold\">17</span> of <span style=\"color: #008080; text-decoration-color: #008080; font-weight: bold\">50</span> examples\n",
              "</pre>\n"
            ],
            "text/plain": [
              "Evaluated \u001b[1;36m17\u001b[0m of \u001b[1;36m50\u001b[0m examples\n"
            ]
          },
          "metadata": {},
          "output_type": "display_data"
        },
        {
          "data": {
            "text/html": [
              "<pre style=\"white-space:pre;overflow-x:auto;line-height:normal;font-family:Menlo,'DejaVu Sans Mono',consolas,'Courier New',monospace\">Evaluated <span style=\"color: #008080; text-decoration-color: #008080; font-weight: bold\">18</span> of <span style=\"color: #008080; text-decoration-color: #008080; font-weight: bold\">50</span> examples\n",
              "</pre>\n"
            ],
            "text/plain": [
              "Evaluated \u001b[1;36m18\u001b[0m of \u001b[1;36m50\u001b[0m examples\n"
            ]
          },
          "metadata": {},
          "output_type": "display_data"
        },
        {
          "metadata": {
            "tags": null
          },
          "name": "stderr",
          "output_type": "stream",
          "text": [
            "INFO:httpx:HTTP Request: POST https://api.openai.com/v1/embeddings \"HTTP/1.1 200 OK\"\n"
          ]
        },
        {
          "metadata": {
            "tags": null
          },
          "name": "stdout",
          "output_type": "stream",
          "text": [
            "Question: What are the characteristics of TOI-700_d?\n",
            "According to the context, the characteristics of TOI-700_d are:\n",
            "\n",
            "* Star: TOI-700 (M2V type)\n",
            "* Mass: ~1.72\n",
            "* Radius: 1.14\n",
            "* Surface gravity: —\n",
            "* Equilibrium temperature: 246\n",
            "* Orbital period: 37.4\n",
            "* Semi-major axis: 101\n",
            "___________________________\n",
            "{\"concise\": true}\n",
            "{\"relevant\": true}\n",
            "{\"accurate\": true}\n",
            "{\"concise\": true}\n",
            "{\"relevant\": true}\n",
            "{\"accurate\": true}\n",
            "{ \"concise\": true }\n",
            "{\"relevant\": true}\n",
            "{\"accurate\": true}\n"
          ]
        },
        {
          "metadata": {
            "tags": null
          },
          "name": "stderr",
          "output_type": "stream",
          "text": [
            "INFO:httpx:HTTP Request: POST https://api.openai.com/v1/embeddings \"HTTP/1.1 200 OK\"\n"
          ]
        },
        {
          "metadata": {
            "tags": null
          },
          "name": "stdout",
          "output_type": "stream",
          "text": [
            "Question: How is a solar furnace used in the production of aluminum from lunar soil?\n",
            "The solar furnace is used to generate high temperatures in the production of aluminum from lunar soil. Specifically, it is used to produce alumina through a melt-quench-leach process, which is then followed by high temperature electro-winning of aluminum from aluminum chloride.\n",
            "___________________________\n",
            "{\"concise\": false}\n",
            "{\"relevant\": false}\n",
            "{\"accurate\": false}\n",
            "{\"concise\": false}\n",
            "{\"relevant\": false}\n",
            "{\"accurate\": false}\n",
            "{\"concise\": true}\n",
            "{\"relevant\": true}\n",
            "{\"accurate\": true}\n",
            "{\"concise\": false}\n",
            "{\"relevant\": false}\n",
            "{\"accurate\": false}\n",
            "{\"concise\": true}\n",
            "{\"relevant\": true}\n",
            "{\"accurate\": true}\n",
            "{\"concise\": false}\n",
            "{\"relevant\": true}\n",
            "{\"accurate\": false}\n",
            "{ \"concise\": false }\n",
            "{\"relevant\": false}\n",
            "{\"accurate\": false}\n",
            "{\"concise\": false}\n",
            "{\"relevant\": true}\n",
            "{\"accurate\": true}\n",
            "{\"concise\": false}\n",
            "{\"relevant\": false}\n",
            "{\"\": false}\n",
            "{\"concise\": true}\n",
            "{\"relevant\": true}\n",
            "{\"accurate\": true}\n",
            "{\"concie\": false}\n",
            "{\"relevant\": true}\n",
            "{\"accurate\": true}\n",
            "{\"concise\": false}\n",
            "{\"relevant\": true}\n",
            "{\"accurate\": true}\n",
            "{\"concise\": false}\n",
            "{\"relevant\": true}\n",
            "{\"accurate\": true}\n",
            "{\"concise\": true}\n",
            "{\"relevant\": true}\n",
            "{\"accurate\": true}\n",
            "{ \"concise\": true }\n",
            "{\"relevant\": true}\n",
            "{\"accurate\": true}\n"
          ]
        },
        {
          "data": {
            "text/html": [
              "<pre style=\"white-space:pre;overflow-x:auto;line-height:normal;font-family:Menlo,'DejaVu Sans Mono',consolas,'Courier New',monospace\">Evaluated <span style=\"color: #008080; text-decoration-color: #008080; font-weight: bold\">19</span> of <span style=\"color: #008080; text-decoration-color: #008080; font-weight: bold\">50</span> examples\n",
              "</pre>\n"
            ],
            "text/plain": [
              "Evaluated \u001b[1;36m19\u001b[0m of \u001b[1;36m50\u001b[0m examples\n"
            ]
          },
          "metadata": {},
          "output_type": "display_data"
        },
        {
          "data": {
            "text/html": [
              "<pre style=\"white-space:pre;overflow-x:auto;line-height:normal;font-family:Menlo,'DejaVu Sans Mono',consolas,'Courier New',monospace\">Evaluated <span style=\"color: #008080; text-decoration-color: #008080; font-weight: bold\">20</span> of <span style=\"color: #008080; text-decoration-color: #008080; font-weight: bold\">50</span> examples\n",
              "</pre>\n"
            ],
            "text/plain": [
              "Evaluated \u001b[1;36m20\u001b[0m of \u001b[1;36m50\u001b[0m examples\n"
            ]
          },
          "metadata": {},
          "output_type": "display_data"
        },
        {
          "metadata": {
            "tags": null
          },
          "name": "stdout",
          "output_type": "stream",
          "text": [
            "{\"concise\": true}\n",
            "{\"relevant\": true}\n",
            "{ \"accurate\": true }\n"
          ]
        },
        {
          "metadata": {
            "tags": null
          },
          "name": "stderr",
          "output_type": "stream",
          "text": [
            "Retrieving responses: 100%|██████████| 1/1 [00:00<00:00, 1489.98it/s]\n",
            "Scoring responses:   0%|          | 0/1 [00:00<?, ?it/s]INFO:httpx:HTTP Request: POST https://api.openai.com/v1/chat/completions \"HTTP/1.1 200 OK\"\n"
          ]
        },
        {
          "metadata": {
            "tags": null
          },
          "name": "stdout",
          "output_type": "stream",
          "text": [
            "🍩 https://wandb.ai/lavanyashukla/spacerag_novtest2/r/call/0192f7fc-d695-7682-9fe6-f27095c081e4\n"
          ]
        },
        {
          "metadata": {
            "tags": null
          },
          "name": "stderr",
          "output_type": "stream",
          "text": [
            "INFO:httpx:HTTP Request: POST https://api.openai.com/v1/chat/completions \"HTTP/1.1 200 OK\"\n"
          ]
        },
        {
          "metadata": {
            "tags": null
          },
          "name": "stdout",
          "output_type": "stream",
          "text": [
            "🍩 https://wandb.ai/lavanyashukla/spacerag_novtest2/r/call/0192f7fc-d91f-7e71-b750-b07c228400da\n"
          ]
        },
        {
          "metadata": {
            "tags": null
          },
          "name": "stderr",
          "output_type": "stream",
          "text": [
            "INFO:httpx:HTTP Request: POST https://api.openai.com/v1/chat/completions \"HTTP/1.1 200 OK\"\n"
          ]
        },
        {
          "metadata": {
            "tags": null
          },
          "name": "stdout",
          "output_type": "stream",
          "text": [
            "🍩 https://wandb.ai/lavanyashukla/spacerag_novtest2/r/call/0192f7fc-db60-7ec1-a0a4-1312e55d3b4d\n"
          ]
        },
        {
          "metadata": {
            "tags": null
          },
          "name": "stderr",
          "output_type": "stream",
          "text": [
            "INFO:httpx:HTTP Request: POST https://api.openai.com/v1/chat/completions \"HTTP/1.1 200 OK\"\n"
          ]
        },
        {
          "metadata": {
            "tags": null
          },
          "name": "stdout",
          "output_type": "stream",
          "text": [
            "🍩 https://wandb.ai/lavanyashukla/spacerag_novtest2/r/call/0192f7fc-e70e-72c2-9724-04316594c41e\n"
          ]
        },
        {
          "metadata": {
            "tags": null
          },
          "name": "stderr",
          "output_type": "stream",
          "text": [
            "INFO:httpx:HTTP Request: POST https://api.openai.com/v1/chat/completions \"HTTP/1.1 200 OK\"\n"
          ]
        },
        {
          "metadata": {
            "tags": null
          },
          "name": "stdout",
          "output_type": "stream",
          "text": [
            "🍩 https://wandb.ai/lavanyashukla/spacerag_novtest2/r/call/0192f7fc-ea17-7990-92b8-9405df4b5546\n"
          ]
        },
        {
          "metadata": {
            "tags": null
          },
          "name": "stderr",
          "output_type": "stream",
          "text": [
            "INFO:httpx:HTTP Request: POST https://api.openai.com/v1/chat/completions \"HTTP/1.1 200 OK\"\n"
          ]
        },
        {
          "metadata": {
            "tags": null
          },
          "name": "stdout",
          "output_type": "stream",
          "text": [
            "🍩 https://wandb.ai/lavanyashukla/spacerag_novtest2/r/call/0192f7fc-f054-7f23-922c-523e8c11fab8\n"
          ]
        },
        {
          "metadata": {
            "tags": null
          },
          "name": "stderr",
          "output_type": "stream",
          "text": [
            "INFO:httpx:HTTP Request: POST https://api.openai.com/v1/chat/completions \"HTTP/1.1 200 OK\"\n"
          ]
        },
        {
          "metadata": {
            "tags": null
          },
          "name": "stdout",
          "output_type": "stream",
          "text": [
            "🍩 https://wandb.ai/lavanyashukla/spacerag_novtest2/r/call/0192f7fc-f35a-7470-95fe-67a92e645ed4\n"
          ]
        },
        {
          "metadata": {
            "tags": null
          },
          "name": "stderr",
          "output_type": "stream",
          "text": [
            "INFO:httpx:HTTP Request: POST https://api.openai.com/v1/chat/completions \"HTTP/1.1 200 OK\"\n",
            "Scoring responses: 100%|██████████| 1/1 [00:09<00:00,  9.01s/it]\n"
          ]
        },
        {
          "metadata": {
            "tags": null
          },
          "name": "stdout",
          "output_type": "stream",
          "text": [
            "🍩 https://wandb.ai/lavanyashukla/spacerag_novtest2/r/call/0192f7fc-f699-7240-a74a-c35ddc31de9e\n"
          ]
        },
        {
          "metadata": {
            "tags": null
          },
          "name": "stderr",
          "output_type": "stream",
          "text": [
            "Retrieving responses: 100%|██████████| 1/1 [00:00<00:00, 6326.25it/s]\n",
            "Scoring responses:   0%|          | 0/1 [00:00<?, ?it/s]INFO:httpx:HTTP Request: POST https://api.openai.com/v1/chat/completions \"HTTP/1.1 200 OK\"\n"
          ]
        },
        {
          "metadata": {
            "tags": null
          },
          "name": "stdout",
          "output_type": "stream",
          "text": [
            "🍩 https://wandb.ai/lavanyashukla/spacerag_novtest2/r/call/0192f7fc-fdc8-74e0-a76a-9484033f48fd\n"
          ]
        },
        {
          "metadata": {
            "tags": null
          },
          "name": "stderr",
          "output_type": "stream",
          "text": [
            "INFO:httpx:HTTP Request: POST https://api.openai.com/v1/chat/completions \"HTTP/1.1 200 OK\"\n"
          ]
        },
        {
          "metadata": {
            "tags": null
          },
          "name": "stdout",
          "output_type": "stream",
          "text": [
            "🍩 https://wandb.ai/lavanyashukla/spacerag_novtest2/r/call/0192f7fc-ffd3-7f23-9235-20f0a2539335\n"
          ]
        },
        {
          "metadata": {
            "tags": null
          },
          "name": "stderr",
          "output_type": "stream",
          "text": [
            "INFO:httpx:HTTP Request: POST https://api.openai.com/v1/chat/completions \"HTTP/1.1 200 OK\"\n"
          ]
        },
        {
          "metadata": {
            "tags": null
          },
          "name": "stdout",
          "output_type": "stream",
          "text": [
            "🍩 https://wandb.ai/lavanyashukla/spacerag_novtest2/r/call/0192f7fd-02d2-7e92-a1f8-f2ccf3c269a8\n"
          ]
        },
        {
          "metadata": {
            "tags": null
          },
          "name": "stderr",
          "output_type": "stream",
          "text": [
            "INFO:httpx:HTTP Request: POST https://api.openai.com/v1/chat/completions \"HTTP/1.1 200 OK\"\n"
          ]
        },
        {
          "metadata": {
            "tags": null
          },
          "name": "stdout",
          "output_type": "stream",
          "text": [
            "🍩 https://wandb.ai/lavanyashukla/spacerag_novtest2/r/call/0192f7fd-08cd-7891-87b6-0eaa6e8f750b\n"
          ]
        },
        {
          "metadata": {
            "tags": null
          },
          "name": "stderr",
          "output_type": "stream",
          "text": [
            "INFO:httpx:HTTP Request: POST https://api.openai.com/v1/chat/completions \"HTTP/1.1 200 OK\"\n"
          ]
        },
        {
          "metadata": {
            "tags": null
          },
          "name": "stdout",
          "output_type": "stream",
          "text": [
            "🍩 https://wandb.ai/lavanyashukla/spacerag_novtest2/r/call/0192f7fd-0be8-7912-b470-55409d8dac59\n"
          ]
        },
        {
          "metadata": {
            "tags": null
          },
          "name": "stderr",
          "output_type": "stream",
          "text": [
            "INFO:httpx:HTTP Request: POST https://api.openai.com/v1/chat/completions \"HTTP/1.1 200 OK\"\n",
            "Scoring responses: 100%|██████████| 1/1 [00:06<00:00,  6.19s/it]\n"
          ]
        },
        {
          "metadata": {
            "tags": null
          },
          "name": "stdout",
          "output_type": "stream",
          "text": [
            "🍩 https://wandb.ai/lavanyashukla/spacerag_novtest2/r/call/0192f7fd-0f01-7462-a4a4-b69b2a12a3fa\n"
          ]
        },
        {
          "metadata": {
            "tags": null
          },
          "name": "stderr",
          "output_type": "stream",
          "text": [
            "Retrieving responses: 100%|██████████| 1/1 [00:00<00:00, 2532.79it/s]\n",
            "Scoring responses:   0%|          | 0/1 [00:00<?, ?it/s]INFO:httpx:HTTP Request: POST https://api.openai.com/v1/chat/completions \"HTTP/1.1 200 OK\"\n"
          ]
        },
        {
          "metadata": {
            "tags": null
          },
          "name": "stdout",
          "output_type": "stream",
          "text": [
            "🍩 https://wandb.ai/lavanyashukla/spacerag_novtest2/r/call/0192f7fd-19ad-7160-8ff2-f6673a2205d6\n"
          ]
        },
        {
          "metadata": {
            "tags": null
          },
          "name": "stderr",
          "output_type": "stream",
          "text": [
            "INFO:httpx:HTTP Request: POST https://api.openai.com/v1/chat/completions \"HTTP/1.1 200 OK\"\n"
          ]
        },
        {
          "metadata": {
            "tags": null
          },
          "name": "stdout",
          "output_type": "stream",
          "text": [
            "🍩 https://wandb.ai/lavanyashukla/spacerag_novtest2/r/call/0192f7fd-1c37-7bf2-9976-e3c326020fb5\n"
          ]
        },
        {
          "metadata": {
            "tags": null
          },
          "name": "stderr",
          "output_type": "stream",
          "text": [
            "INFO:httpx:HTTP Request: POST https://api.openai.com/v1/chat/completions \"HTTP/1.1 200 OK\"\n"
          ]
        },
        {
          "metadata": {
            "tags": null
          },
          "name": "stdout",
          "output_type": "stream",
          "text": [
            "🍩 https://wandb.ai/lavanyashukla/spacerag_novtest2/r/call/0192f7fd-1fe0-7ca0-b7f0-b83d24d50cc5\n"
          ]
        },
        {
          "metadata": {
            "tags": null
          },
          "name": "stderr",
          "output_type": "stream",
          "text": [
            "INFO:httpx:HTTP Request: POST https://api.openai.com/v1/chat/completions \"HTTP/1.1 200 OK\"\n"
          ]
        },
        {
          "metadata": {
            "tags": null
          },
          "name": "stdout",
          "output_type": "stream",
          "text": [
            "🍩 https://wandb.ai/lavanyashukla/spacerag_novtest2/r/call/0192f7fd-33e0-7db3-9da1-36d547d582b6\n"
          ]
        },
        {
          "metadata": {
            "tags": null
          },
          "name": "stderr",
          "output_type": "stream",
          "text": [
            "INFO:httpx:HTTP Request: POST https://api.openai.com/v1/chat/completions \"HTTP/1.1 200 OK\"\n"
          ]
        },
        {
          "metadata": {
            "tags": null
          },
          "name": "stdout",
          "output_type": "stream",
          "text": [
            "🍩 https://wandb.ai/lavanyashukla/spacerag_novtest2/r/call/0192f7fd-38b0-7ba3-8984-254942e21cc1\n"
          ]
        },
        {
          "metadata": {
            "tags": null
          },
          "name": "stderr",
          "output_type": "stream",
          "text": [
            "INFO:httpx:HTTP Request: POST https://api.openai.com/v1/chat/completions \"HTTP/1.1 200 OK\"\n"
          ]
        },
        {
          "metadata": {
            "tags": null
          },
          "name": "stdout",
          "output_type": "stream",
          "text": [
            "🍩 https://wandb.ai/lavanyashukla/spacerag_novtest2/r/call/0192f7fd-3c25-75a0-97f0-14e06db452e9\n"
          ]
        },
        {
          "metadata": {
            "tags": null
          },
          "name": "stderr",
          "output_type": "stream",
          "text": [
            "INFO:httpx:HTTP Request: POST https://api.openai.com/v1/chat/completions \"HTTP/1.1 200 OK\"\n"
          ]
        },
        {
          "metadata": {
            "tags": null
          },
          "name": "stdout",
          "output_type": "stream",
          "text": [
            "🍩 https://wandb.ai/lavanyashukla/spacerag_novtest2/r/call/0192f7fd-3fa2-7b53-aab5-bf5907e6f4eb\n"
          ]
        },
        {
          "metadata": {
            "tags": null
          },
          "name": "stderr",
          "output_type": "stream",
          "text": [
            "INFO:httpx:HTTP Request: POST https://api.openai.com/v1/chat/completions \"HTTP/1.1 200 OK\"\n"
          ]
        },
        {
          "metadata": {
            "tags": null
          },
          "name": "stdout",
          "output_type": "stream",
          "text": [
            "🍩 https://wandb.ai/lavanyashukla/spacerag_novtest2/r/call/0192f7fd-42ed-7e53-9816-45797ca06f1a\n"
          ]
        },
        {
          "metadata": {
            "tags": null
          },
          "name": "stderr",
          "output_type": "stream",
          "text": [
            "INFO:httpx:HTTP Request: POST https://api.openai.com/v1/chat/completions \"HTTP/1.1 200 OK\"\n",
            "Scoring responses: 100%|██████████| 1/1 [00:12<00:00, 12.25s/it]\n"
          ]
        },
        {
          "metadata": {
            "tags": null
          },
          "name": "stdout",
          "output_type": "stream",
          "text": [
            "🍩 https://wandb.ai/lavanyashukla/spacerag_novtest2/r/call/0192f7fd-4625-7bc0-8d51-bb0b8e3479fa\n",
            "{\"concise\": true}\n",
            "{\"relevant\": true}\n",
            "{\"accurate\": true}\n"
          ]
        },
        {
          "metadata": {
            "tags": null
          },
          "name": "stderr",
          "output_type": "stream",
          "text": [
            "Retrieving responses: 100%|██████████| 1/1 [00:00<00:00, 6978.88it/s]\n",
            "Scoring responses:   0%|          | 0/1 [00:00<?, ?it/s]INFO:httpx:HTTP Request: POST https://api.openai.com/v1/chat/completions \"HTTP/1.1 200 OK\"\n"
          ]
        },
        {
          "metadata": {
            "tags": null
          },
          "name": "stdout",
          "output_type": "stream",
          "text": [
            "🍩 https://wandb.ai/lavanyashukla/spacerag_novtest2/r/call/0192f7fd-5346-77c1-979d-2e267164ce0b\n"
          ]
        },
        {
          "metadata": {
            "tags": null
          },
          "name": "stderr",
          "output_type": "stream",
          "text": [
            "INFO:httpx:HTTP Request: POST https://api.openai.com/v1/chat/completions \"HTTP/1.1 200 OK\"\n"
          ]
        },
        {
          "metadata": {
            "tags": null
          },
          "name": "stdout",
          "output_type": "stream",
          "text": [
            "🍩 https://wandb.ai/lavanyashukla/spacerag_novtest2/r/call/0192f7fd-55bd-7f51-8a52-db16fbf92e64\n"
          ]
        },
        {
          "metadata": {
            "tags": null
          },
          "name": "stderr",
          "output_type": "stream",
          "text": [
            "INFO:httpx:HTTP Request: POST https://api.openai.com/v1/chat/completions \"HTTP/1.1 200 OK\"\n"
          ]
        },
        {
          "metadata": {
            "tags": null
          },
          "name": "stdout",
          "output_type": "stream",
          "text": [
            "🍩 https://wandb.ai/lavanyashukla/spacerag_novtest2/r/call/0192f7fd-57c5-7690-8603-7564f58783b7\n"
          ]
        },
        {
          "metadata": {
            "tags": null
          },
          "name": "stderr",
          "output_type": "stream",
          "text": [
            "INFO:httpx:HTTP Request: POST https://api.openai.com/v1/chat/completions \"HTTP/1.1 200 OK\"\n"
          ]
        },
        {
          "metadata": {
            "tags": null
          },
          "name": "stdout",
          "output_type": "stream",
          "text": [
            "🍩 https://wandb.ai/lavanyashukla/spacerag_novtest2/r/call/0192f7fd-6018-7da2-b4f0-b1fce7cd98af\n"
          ]
        },
        {
          "metadata": {
            "tags": null
          },
          "name": "stderr",
          "output_type": "stream",
          "text": [
            "INFO:httpx:HTTP Request: POST https://api.openai.com/v1/chat/completions \"HTTP/1.1 200 OK\"\n"
          ]
        },
        {
          "metadata": {
            "tags": null
          },
          "name": "stdout",
          "output_type": "stream",
          "text": [
            "🍩 https://wandb.ai/lavanyashukla/spacerag_novtest2/r/call/0192f7fd-62f0-7143-86ad-93421f1ce9b1\n"
          ]
        },
        {
          "metadata": {
            "tags": null
          },
          "name": "stderr",
          "output_type": "stream",
          "text": [
            "INFO:httpx:HTTP Request: POST https://api.openai.com/v1/chat/completions \"HTTP/1.1 200 OK\"\n",
            "Scoring responses: 100%|██████████| 1/1 [00:05<00:00,  5.76s/it]\n"
          ]
        },
        {
          "metadata": {
            "tags": null
          },
          "name": "stdout",
          "output_type": "stream",
          "text": [
            "🍩 https://wandb.ai/lavanyashukla/spacerag_novtest2/r/call/0192f7fd-661a-7190-9518-7163279f6ba9\n"
          ]
        },
        {
          "metadata": {
            "tags": null
          },
          "name": "stderr",
          "output_type": "stream",
          "text": [
            "Retrieving responses: 100%|██████████| 1/1 [00:00<00:00, 5454.23it/s]\n",
            "Scoring responses:   0%|          | 0/1 [00:00<?, ?it/s]INFO:httpx:HTTP Request: POST https://api.openai.com/v1/chat/completions \"HTTP/1.1 200 OK\"\n"
          ]
        },
        {
          "metadata": {
            "tags": null
          },
          "name": "stdout",
          "output_type": "stream",
          "text": [
            "🍩 https://wandb.ai/lavanyashukla/spacerag_novtest2/r/call/0192f7fd-6f65-7b72-8057-a97bf0fd1842\n"
          ]
        },
        {
          "metadata": {
            "tags": null
          },
          "name": "stderr",
          "output_type": "stream",
          "text": [
            "INFO:httpx:HTTP Request: POST https://api.openai.com/v1/chat/completions \"HTTP/1.1 200 OK\"\n"
          ]
        },
        {
          "metadata": {
            "tags": null
          },
          "name": "stdout",
          "output_type": "stream",
          "text": [
            "🍩 https://wandb.ai/lavanyashukla/spacerag_novtest2/r/call/0192f7fd-7261-7b21-bc1b-b5b146871262\n"
          ]
        },
        {
          "metadata": {
            "tags": null
          },
          "name": "stderr",
          "output_type": "stream",
          "text": [
            "INFO:httpx:HTTP Request: POST https://api.openai.com/v1/chat/completions \"HTTP/1.1 200 OK\"\n"
          ]
        },
        {
          "metadata": {
            "tags": null
          },
          "name": "stdout",
          "output_type": "stream",
          "text": [
            "🍩 https://wandb.ai/lavanyashukla/spacerag_novtest2/r/call/0192f7fd-74ad-7e31-9494-1b7813b55a7a\n"
          ]
        },
        {
          "metadata": {
            "tags": null
          },
          "name": "stderr",
          "output_type": "stream",
          "text": [
            "INFO:httpx:HTTP Request: POST https://api.openai.com/v1/chat/completions \"HTTP/1.1 200 OK\"\n"
          ]
        },
        {
          "metadata": {
            "tags": null
          },
          "name": "stdout",
          "output_type": "stream",
          "text": [
            "🍩 https://wandb.ai/lavanyashukla/spacerag_novtest2/r/call/0192f7fd-8133-7b33-820e-c1bb51e28f76\n"
          ]
        },
        {
          "metadata": {
            "tags": null
          },
          "name": "stderr",
          "output_type": "stream",
          "text": [
            "INFO:httpx:HTTP Request: POST https://api.openai.com/v1/chat/completions \"HTTP/1.1 200 OK\"\n"
          ]
        },
        {
          "metadata": {
            "tags": null
          },
          "name": "stdout",
          "output_type": "stream",
          "text": [
            "🍩 https://wandb.ai/lavanyashukla/spacerag_novtest2/r/call/0192f7fd-8493-70d1-8618-3d7aedc3ae4a\n"
          ]
        },
        {
          "metadata": {
            "tags": null
          },
          "name": "stderr",
          "output_type": "stream",
          "text": [
            "INFO:httpx:HTTP Request: POST https://api.openai.com/v1/chat/completions \"HTTP/1.1 200 OK\"\n"
          ]
        },
        {
          "metadata": {
            "tags": null
          },
          "name": "stdout",
          "output_type": "stream",
          "text": [
            "🍩 https://wandb.ai/lavanyashukla/spacerag_novtest2/r/call/0192f7fd-8b20-74e1-bf50-579db21a3179\n"
          ]
        },
        {
          "metadata": {
            "tags": null
          },
          "name": "stderr",
          "output_type": "stream",
          "text": [
            "INFO:httpx:HTTP Request: POST https://api.openai.com/v1/chat/completions \"HTTP/1.1 200 OK\"\n",
            "Scoring responses: 100%|██████████| 1/1 [00:09<00:00,  9.59s/it]\n"
          ]
        },
        {
          "metadata": {
            "tags": null
          },
          "name": "stdout",
          "output_type": "stream",
          "text": [
            "🍩 https://wandb.ai/lavanyashukla/spacerag_novtest2/r/call/0192f7fd-90a0-7fd0-baae-f183f6e10133\n"
          ]
        },
        {
          "metadata": {
            "tags": null
          },
          "name": "stderr",
          "output_type": "stream",
          "text": [
            "Retrieving responses: 100%|██████████| 1/1 [00:00<00:00, 4696.87it/s]\n",
            "Scoring responses:   0%|          | 0/1 [00:00<?, ?it/s]INFO:httpx:HTTP Request: POST https://api.openai.com/v1/chat/completions \"HTTP/1.1 200 OK\"\n"
          ]
        },
        {
          "metadata": {
            "tags": null
          },
          "name": "stdout",
          "output_type": "stream",
          "text": [
            "🍩 https://wandb.ai/lavanyashukla/spacerag_novtest2/r/call/0192f7fd-98ba-7fc0-8f45-06f9bc18f84e\n"
          ]
        },
        {
          "metadata": {
            "tags": null
          },
          "name": "stderr",
          "output_type": "stream",
          "text": [
            "INFO:httpx:HTTP Request: POST https://api.openai.com/v1/chat/completions \"HTTP/1.1 200 OK\"\n"
          ]
        },
        {
          "metadata": {
            "tags": null
          },
          "name": "stdout",
          "output_type": "stream",
          "text": [
            "🍩 https://wandb.ai/lavanyashukla/spacerag_novtest2/r/call/0192f7fd-9b03-7110-9890-9cd600a3c91e\n"
          ]
        },
        {
          "metadata": {
            "tags": null
          },
          "name": "stderr",
          "output_type": "stream",
          "text": [
            "INFO:httpx:HTTP Request: POST https://api.openai.com/v1/chat/completions \"HTTP/1.1 200 OK\"\n"
          ]
        },
        {
          "metadata": {
            "tags": null
          },
          "name": "stdout",
          "output_type": "stream",
          "text": [
            "🍩 https://wandb.ai/lavanyashukla/spacerag_novtest2/r/call/0192f7fd-9d2a-7e31-8298-6c912a0c1793\n"
          ]
        },
        {
          "metadata": {
            "tags": null
          },
          "name": "stderr",
          "output_type": "stream",
          "text": [
            "INFO:httpx:HTTP Request: POST https://api.openai.com/v1/chat/completions \"HTTP/1.1 200 OK\"\n"
          ]
        },
        {
          "metadata": {
            "tags": null
          },
          "name": "stdout",
          "output_type": "stream",
          "text": [
            "🍩 https://wandb.ai/lavanyashukla/spacerag_novtest2/r/call/0192f7fd-a5bf-7d00-944b-6315cc5da60d\n"
          ]
        },
        {
          "metadata": {
            "tags": null
          },
          "name": "stderr",
          "output_type": "stream",
          "text": [
            "INFO:httpx:HTTP Request: POST https://api.openai.com/v1/chat/completions \"HTTP/1.1 200 OK\"\n"
          ]
        },
        {
          "metadata": {
            "tags": null
          },
          "name": "stdout",
          "output_type": "stream",
          "text": [
            "🍩 https://wandb.ai/lavanyashukla/spacerag_novtest2/r/call/0192f7fd-a8f4-7bb0-a9dc-ec85fdfd9d20\n"
          ]
        },
        {
          "metadata": {
            "tags": null
          },
          "name": "stderr",
          "output_type": "stream",
          "text": [
            "INFO:httpx:HTTP Request: POST https://api.openai.com/v1/chat/completions \"HTTP/1.1 200 OK\"\n",
            "Scoring responses: 100%|██████████| 1/1 [00:06<00:00,  6.01s/it]\n"
          ]
        },
        {
          "metadata": {
            "tags": null
          },
          "name": "stdout",
          "output_type": "stream",
          "text": [
            "🍩 https://wandb.ai/lavanyashukla/spacerag_novtest2/r/call/0192f7fd-ac57-73b2-9775-177b886a0341\n"
          ]
        },
        {
          "metadata": {
            "tags": null
          },
          "name": "stderr",
          "output_type": "stream",
          "text": [
            "Retrieving responses: 100%|██████████| 1/1 [00:00<00:00, 1291.35it/s]\n",
            "Scoring responses:   0%|          | 0/1 [00:00<?, ?it/s]INFO:httpx:HTTP Request: POST https://api.openai.com/v1/chat/completions \"HTTP/1.1 200 OK\"\n"
          ]
        },
        {
          "metadata": {
            "tags": null
          },
          "name": "stdout",
          "output_type": "stream",
          "text": [
            "🍩 https://wandb.ai/lavanyashukla/spacerag_novtest2/r/call/0192f7fd-b3c5-7c11-ac97-a13ed07d58b4\n"
          ]
        },
        {
          "metadata": {
            "tags": null
          },
          "name": "stderr",
          "output_type": "stream",
          "text": [
            "INFO:httpx:HTTP Request: POST https://api.openai.com/v1/chat/completions \"HTTP/1.1 200 OK\"\n"
          ]
        },
        {
          "metadata": {
            "tags": null
          },
          "name": "stdout",
          "output_type": "stream",
          "text": [
            "🍩 https://wandb.ai/lavanyashukla/spacerag_novtest2/r/call/0192f7fd-b641-75f2-b32f-b6a63d702f38\n"
          ]
        },
        {
          "metadata": {
            "tags": null
          },
          "name": "stderr",
          "output_type": "stream",
          "text": [
            "INFO:httpx:HTTP Request: POST https://api.openai.com/v1/chat/completions \"HTTP/1.1 200 OK\"\n"
          ]
        },
        {
          "metadata": {
            "tags": null
          },
          "name": "stdout",
          "output_type": "stream",
          "text": [
            "🍩 https://wandb.ai/lavanyashukla/spacerag_novtest2/r/call/0192f7fd-b891-7812-9e5f-046f8120ccae\n"
          ]
        },
        {
          "metadata": {
            "tags": null
          },
          "name": "stderr",
          "output_type": "stream",
          "text": [
            "INFO:httpx:HTTP Request: POST https://api.openai.com/v1/chat/completions \"HTTP/1.1 200 OK\"\n"
          ]
        },
        {
          "metadata": {
            "tags": null
          },
          "name": "stdout",
          "output_type": "stream",
          "text": [
            "🍩 https://wandb.ai/lavanyashukla/spacerag_novtest2/r/call/0192f7fd-c394-7313-89c2-80bfbd5da041\n"
          ]
        },
        {
          "metadata": {
            "tags": null
          },
          "name": "stderr",
          "output_type": "stream",
          "text": [
            "INFO:httpx:HTTP Request: POST https://api.openai.com/v1/chat/completions \"HTTP/1.1 200 OK\"\n"
          ]
        },
        {
          "metadata": {
            "tags": null
          },
          "name": "stdout",
          "output_type": "stream",
          "text": [
            "🍩 https://wandb.ai/lavanyashukla/spacerag_novtest2/r/call/0192f7fd-c849-78f2-a27d-4ac43cdc97a5\n"
          ]
        },
        {
          "metadata": {
            "tags": null
          },
          "name": "stderr",
          "output_type": "stream",
          "text": [
            "INFO:httpx:HTTP Request: POST https://api.openai.com/v1/chat/completions \"HTTP/1.1 200 OK\"\n"
          ]
        },
        {
          "metadata": {
            "tags": null
          },
          "name": "stdout",
          "output_type": "stream",
          "text": [
            "🍩 https://wandb.ai/lavanyashukla/spacerag_novtest2/r/call/0192f7fd-cc0d-75a3-a313-091f79fd34f4\n"
          ]
        },
        {
          "metadata": {
            "tags": null
          },
          "name": "stderr",
          "output_type": "stream",
          "text": [
            "INFO:httpx:HTTP Request: POST https://api.openai.com/v1/chat/completions \"HTTP/1.1 200 OK\"\n"
          ]
        },
        {
          "metadata": {
            "tags": null
          },
          "name": "stdout",
          "output_type": "stream",
          "text": [
            "🍩 https://wandb.ai/lavanyashukla/spacerag_novtest2/r/call/0192f7fd-cf3b-7140-8825-226827ceb34e\n"
          ]
        },
        {
          "metadata": {
            "tags": null
          },
          "name": "stderr",
          "output_type": "stream",
          "text": [
            "INFO:httpx:HTTP Request: POST https://api.openai.com/v1/chat/completions \"HTTP/1.1 200 OK\"\n",
            "Scoring responses: 100%|██████████| 1/1 [00:08<00:00,  8.75s/it]\n"
          ]
        },
        {
          "metadata": {
            "tags": null
          },
          "name": "stdout",
          "output_type": "stream",
          "text": [
            "🍩 https://wandb.ai/lavanyashukla/spacerag_novtest2/r/call/0192f7fd-d27d-7952-bd0e-2a720141051b\n"
          ]
        },
        {
          "metadata": {
            "tags": null
          },
          "name": "stderr",
          "output_type": "stream",
          "text": [
            "Retrieving responses: 100%|██████████| 1/1 [00:00<00:00, 6743.25it/s]\n",
            "Scoring responses:   0%|          | 0/1 [00:00<?, ?it/s]INFO:httpx:HTTP Request: POST https://api.openai.com/v1/chat/completions \"HTTP/1.1 200 OK\"\n"
          ]
        },
        {
          "metadata": {
            "tags": null
          },
          "name": "stdout",
          "output_type": "stream",
          "text": [
            "🍩 https://wandb.ai/lavanyashukla/spacerag_novtest2/r/call/0192f7fd-d9b1-72a0-955a-495ec913f9c6\n"
          ]
        },
        {
          "metadata": {
            "tags": null
          },
          "name": "stderr",
          "output_type": "stream",
          "text": [
            "INFO:httpx:HTTP Request: POST https://api.openai.com/v1/chat/completions \"HTTP/1.1 200 OK\"\n"
          ]
        },
        {
          "metadata": {
            "tags": null
          },
          "name": "stdout",
          "output_type": "stream",
          "text": [
            "🍩 https://wandb.ai/lavanyashukla/spacerag_novtest2/r/call/0192f7fd-de20-7982-9889-3c646f79c9eb\n"
          ]
        },
        {
          "metadata": {
            "tags": null
          },
          "name": "stderr",
          "output_type": "stream",
          "text": [
            "INFO:httpx:HTTP Request: POST https://api.openai.com/v1/chat/completions \"HTTP/1.1 200 OK\"\n"
          ]
        },
        {
          "metadata": {
            "tags": null
          },
          "name": "stdout",
          "output_type": "stream",
          "text": [
            "🍩 https://wandb.ai/lavanyashukla/spacerag_novtest2/r/call/0192f7fd-e21d-7ab0-a16a-f4c8cd7a0e8a\n"
          ]
        },
        {
          "metadata": {
            "tags": null
          },
          "name": "stderr",
          "output_type": "stream",
          "text": [
            "INFO:httpx:HTTP Request: POST https://api.openai.com/v1/chat/completions \"HTTP/1.1 200 OK\"\n"
          ]
        },
        {
          "metadata": {
            "tags": null
          },
          "name": "stdout",
          "output_type": "stream",
          "text": [
            "🍩 https://wandb.ai/lavanyashukla/spacerag_novtest2/r/call/0192f7fd-fcac-7672-a512-01619d0cb141\n"
          ]
        },
        {
          "metadata": {
            "tags": null
          },
          "name": "stderr",
          "output_type": "stream",
          "text": [
            "INFO:httpx:HTTP Request: POST https://api.openai.com/v1/chat/completions \"HTTP/1.1 200 OK\"\n"
          ]
        },
        {
          "metadata": {
            "tags": null
          },
          "name": "stdout",
          "output_type": "stream",
          "text": [
            "🍩 https://wandb.ai/lavanyashukla/spacerag_novtest2/r/call/0192f7fd-ffdb-7f82-998b-65b3eb55af1a\n"
          ]
        },
        {
          "metadata": {
            "tags": null
          },
          "name": "stderr",
          "output_type": "stream",
          "text": [
            "INFO:httpx:HTTP Request: POST https://api.openai.com/v1/chat/completions \"HTTP/1.1 200 OK\"\n"
          ]
        },
        {
          "metadata": {
            "tags": null
          },
          "name": "stdout",
          "output_type": "stream",
          "text": [
            "🍩 https://wandb.ai/lavanyashukla/spacerag_novtest2/r/call/0192f7fe-030a-71e0-b55e-2ca239bc1884\n"
          ]
        },
        {
          "metadata": {
            "tags": null
          },
          "name": "stderr",
          "output_type": "stream",
          "text": [
            "INFO:httpx:HTTP Request: POST https://api.openai.com/v1/chat/completions \"HTTP/1.1 200 OK\"\n"
          ]
        },
        {
          "metadata": {
            "tags": null
          },
          "name": "stdout",
          "output_type": "stream",
          "text": [
            "🍩 https://wandb.ai/lavanyashukla/spacerag_novtest2/r/call/0192f7fe-08b8-7413-a4de-33b5dd0a6f12\n"
          ]
        },
        {
          "metadata": {
            "tags": null
          },
          "name": "stderr",
          "output_type": "stream",
          "text": [
            "INFO:httpx:HTTP Request: POST https://api.openai.com/v1/chat/completions \"HTTP/1.1 200 OK\"\n",
            "Scoring responses: 100%|██████████| 1/1 [00:14<00:00, 14.74s/it]\n"
          ]
        },
        {
          "metadata": {
            "tags": null
          },
          "name": "stdout",
          "output_type": "stream",
          "text": [
            "🍩 https://wandb.ai/lavanyashukla/spacerag_novtest2/r/call/0192f7fe-0fe9-7f12-8368-f29478f6b8fa\n"
          ]
        },
        {
          "metadata": {
            "tags": null
          },
          "name": "stderr",
          "output_type": "stream",
          "text": [
            "Retrieving responses: 100%|██████████| 1/1 [00:00<00:00, 746.85it/s]\n",
            "Scoring responses:   0%|          | 0/1 [00:00<?, ?it/s]INFO:httpx:HTTP Request: POST https://api.openai.com/v1/chat/completions \"HTTP/1.1 200 OK\"\n"
          ]
        },
        {
          "metadata": {
            "tags": null
          },
          "name": "stdout",
          "output_type": "stream",
          "text": [
            "🍩 https://wandb.ai/lavanyashukla/spacerag_novtest2/r/call/0192f7fe-1749-7bf1-9065-658e44d360c4\n"
          ]
        },
        {
          "metadata": {
            "tags": null
          },
          "name": "stderr",
          "output_type": "stream",
          "text": [
            "INFO:httpx:HTTP Request: POST https://api.openai.com/v1/chat/completions \"HTTP/1.1 200 OK\"\n"
          ]
        },
        {
          "metadata": {
            "tags": null
          },
          "name": "stdout",
          "output_type": "stream",
          "text": [
            "🍩 https://wandb.ai/lavanyashukla/spacerag_novtest2/r/call/0192f7fe-19a0-7183-b258-06853a54dc07\n"
          ]
        },
        {
          "metadata": {
            "tags": null
          },
          "name": "stderr",
          "output_type": "stream",
          "text": [
            "INFO:httpx:HTTP Request: POST https://api.openai.com/v1/chat/completions \"HTTP/1.1 200 OK\"\n"
          ]
        },
        {
          "metadata": {
            "tags": null
          },
          "name": "stdout",
          "output_type": "stream",
          "text": [
            "🍩 https://wandb.ai/lavanyashukla/spacerag_novtest2/r/call/0192f7fe-1d1a-7a62-b5ae-0c21f40b3181\n"
          ]
        },
        {
          "metadata": {
            "tags": null
          },
          "name": "stderr",
          "output_type": "stream",
          "text": [
            "INFO:httpx:HTTP Request: POST https://api.openai.com/v1/chat/completions \"HTTP/1.1 200 OK\"\n"
          ]
        },
        {
          "metadata": {
            "tags": null
          },
          "name": "stdout",
          "output_type": "stream",
          "text": [
            "🍩 https://wandb.ai/lavanyashukla/spacerag_novtest2/r/call/0192f7fe-25a1-7ff0-a895-6e7825c55889\n"
          ]
        },
        {
          "metadata": {
            "tags": null
          },
          "name": "stderr",
          "output_type": "stream",
          "text": [
            "INFO:httpx:HTTP Request: POST https://api.openai.com/v1/chat/completions \"HTTP/1.1 200 OK\"\n",
            "Scoring responses: 100%|██████████| 1/1 [00:05<00:00,  5.33s/it]\n"
          ]
        },
        {
          "metadata": {
            "tags": null
          },
          "name": "stdout",
          "output_type": "stream",
          "text": [
            "🍩 https://wandb.ai/lavanyashukla/spacerag_novtest2/r/call/0192f7fe-28e8-7033-9baf-b24d4174a8b1\n"
          ]
        },
        {
          "metadata": {
            "tags": null
          },
          "name": "stderr",
          "output_type": "stream",
          "text": [
            "Retrieving responses: 100%|██████████| 1/1 [00:00<00:00, 734.17it/s]\n",
            "Scoring responses:   0%|          | 0/1 [00:00<?, ?it/s]INFO:httpx:HTTP Request: POST https://api.openai.com/v1/chat/completions \"HTTP/1.1 200 OK\"\n"
          ]
        },
        {
          "metadata": {
            "tags": null
          },
          "name": "stdout",
          "output_type": "stream",
          "text": [
            "🍩 https://wandb.ai/lavanyashukla/spacerag_novtest2/r/call/0192f7fe-2fe4-7de1-905b-cb77529d7cec\n"
          ]
        },
        {
          "metadata": {
            "tags": null
          },
          "name": "stderr",
          "output_type": "stream",
          "text": [
            "INFO:httpx:HTTP Request: POST https://api.openai.com/v1/chat/completions \"HTTP/1.1 200 OK\"\n"
          ]
        },
        {
          "metadata": {
            "tags": null
          },
          "name": "stdout",
          "output_type": "stream",
          "text": [
            "🍩 https://wandb.ai/lavanyashukla/spacerag_novtest2/r/call/0192f7fe-322a-75d1-9c19-0852e0c8389a\n"
          ]
        },
        {
          "metadata": {
            "tags": null
          },
          "name": "stderr",
          "output_type": "stream",
          "text": [
            "INFO:httpx:HTTP Request: POST https://api.openai.com/v1/chat/completions \"HTTP/1.1 200 OK\"\n"
          ]
        },
        {
          "metadata": {
            "tags": null
          },
          "name": "stdout",
          "output_type": "stream",
          "text": [
            "🍩 https://wandb.ai/lavanyashukla/spacerag_novtest2/r/call/0192f7fe-3497-72f3-885b-048c71ad635e\n"
          ]
        },
        {
          "metadata": {
            "tags": null
          },
          "name": "stderr",
          "output_type": "stream",
          "text": [
            "INFO:httpx:HTTP Request: POST https://api.openai.com/v1/chat/completions \"HTTP/1.1 200 OK\"\n"
          ]
        },
        {
          "metadata": {
            "tags": null
          },
          "name": "stdout",
          "output_type": "stream",
          "text": [
            "🍩 https://wandb.ai/lavanyashukla/spacerag_novtest2/r/call/0192f7fe-4433-7e93-acf2-35f5ae280b81\n"
          ]
        },
        {
          "metadata": {
            "tags": null
          },
          "name": "stderr",
          "output_type": "stream",
          "text": [
            "INFO:httpx:HTTP Request: POST https://api.openai.com/v1/chat/completions \"HTTP/1.1 200 OK\"\n"
          ]
        },
        {
          "metadata": {
            "tags": null
          },
          "name": "stdout",
          "output_type": "stream",
          "text": [
            "🍩 https://wandb.ai/lavanyashukla/spacerag_novtest2/r/call/0192f7fe-4711-72e0-85b1-d038bccedecd\n"
          ]
        },
        {
          "metadata": {
            "tags": null
          },
          "name": "stderr",
          "output_type": "stream",
          "text": [
            "INFO:httpx:HTTP Request: POST https://api.openai.com/v1/chat/completions \"HTTP/1.1 200 OK\"\n",
            "Scoring responses: 100%|██████████| 1/1 [00:08<00:00,  8.38s/it]\n"
          ]
        },
        {
          "metadata": {
            "tags": null
          },
          "name": "stdout",
          "output_type": "stream",
          "text": [
            "🍩 https://wandb.ai/lavanyashukla/spacerag_novtest2/r/call/0192f7fe-4d50-7e90-a184-2e51d5970743\n"
          ]
        },
        {
          "metadata": {
            "tags": null
          },
          "name": "stderr",
          "output_type": "stream",
          "text": [
            "Retrieving responses: 100%|██████████| 1/1 [00:00<00:00, 5667.98it/s]\n",
            "Scoring responses:   0%|          | 0/1 [00:00<?, ?it/s]INFO:httpx:HTTP Request: POST https://api.openai.com/v1/chat/completions \"HTTP/1.1 200 OK\"\n"
          ]
        },
        {
          "metadata": {
            "tags": null
          },
          "name": "stdout",
          "output_type": "stream",
          "text": [
            "🍩 https://wandb.ai/lavanyashukla/spacerag_novtest2/r/call/0192f7fe-5f9d-7d03-877e-dc02883ba0cc\n"
          ]
        },
        {
          "metadata": {
            "tags": null
          },
          "name": "stderr",
          "output_type": "stream",
          "text": [
            "INFO:httpx:HTTP Request: POST https://api.openai.com/v1/chat/completions \"HTTP/1.1 200 OK\"\n"
          ]
        },
        {
          "metadata": {
            "tags": null
          },
          "name": "stdout",
          "output_type": "stream",
          "text": [
            "🍩 https://wandb.ai/lavanyashukla/spacerag_novtest2/r/call/0192f7fe-6256-7812-9c47-709a3fd5cef0\n"
          ]
        },
        {
          "metadata": {
            "tags": null
          },
          "name": "stderr",
          "output_type": "stream",
          "text": [
            "INFO:httpx:HTTP Request: POST https://api.openai.com/v1/chat/completions \"HTTP/1.1 200 OK\"\n"
          ]
        },
        {
          "metadata": {
            "tags": null
          },
          "name": "stdout",
          "output_type": "stream",
          "text": [
            "🍩 https://wandb.ai/lavanyashukla/spacerag_novtest2/r/call/0192f7fe-64e6-7bb1-a5db-41fc58a42054\n"
          ]
        },
        {
          "metadata": {
            "tags": null
          },
          "name": "stderr",
          "output_type": "stream",
          "text": [
            "INFO:httpx:HTTP Request: POST https://api.openai.com/v1/chat/completions \"HTTP/1.1 200 OK\"\n"
          ]
        },
        {
          "metadata": {
            "tags": null
          },
          "name": "stdout",
          "output_type": "stream",
          "text": [
            "🍩 https://wandb.ai/lavanyashukla/spacerag_novtest2/r/call/0192f7fe-9adb-78d3-8360-30001e6793fd\n"
          ]
        },
        {
          "metadata": {
            "tags": null
          },
          "name": "stderr",
          "output_type": "stream",
          "text": [
            "INFO:httpx:HTTP Request: POST https://api.openai.com/v1/chat/completions \"HTTP/1.1 200 OK\"\n"
          ]
        },
        {
          "metadata": {
            "tags": null
          },
          "name": "stdout",
          "output_type": "stream",
          "text": [
            "🍩 https://wandb.ai/lavanyashukla/spacerag_novtest2/r/call/0192f7fe-9fb7-7c91-b21a-736608b1868f\n"
          ]
        },
        {
          "metadata": {
            "tags": null
          },
          "name": "stderr",
          "output_type": "stream",
          "text": [
            "INFO:httpx:HTTP Request: POST https://api.openai.com/v1/chat/completions \"HTTP/1.1 200 OK\"\n"
          ]
        },
        {
          "metadata": {
            "tags": null
          },
          "name": "stdout",
          "output_type": "stream",
          "text": [
            "🍩 https://wandb.ai/lavanyashukla/spacerag_novtest2/r/call/0192f7fe-a305-7982-a627-ceba3f36bb46\n"
          ]
        },
        {
          "metadata": {
            "tags": null
          },
          "name": "stderr",
          "output_type": "stream",
          "text": [
            "INFO:httpx:HTTP Request: POST https://api.openai.com/v1/chat/completions \"HTTP/1.1 200 OK\"\n"
          ]
        },
        {
          "metadata": {
            "tags": null
          },
          "name": "stdout",
          "output_type": "stream",
          "text": [
            "🍩 https://wandb.ai/lavanyashukla/spacerag_novtest2/r/call/0192f7fe-a64a-7472-9a03-4a89ed3d75ea\n"
          ]
        },
        {
          "metadata": {
            "tags": null
          },
          "name": "stderr",
          "output_type": "stream",
          "text": [
            "INFO:httpx:HTTP Request: POST https://api.openai.com/v1/chat/completions \"HTTP/1.1 200 OK\"\n"
          ]
        },
        {
          "metadata": {
            "tags": null
          },
          "name": "stdout",
          "output_type": "stream",
          "text": [
            "🍩 https://wandb.ai/lavanyashukla/spacerag_novtest2/r/call/0192f7fe-aa35-7e42-807d-4705358ab08b\n"
          ]
        },
        {
          "metadata": {
            "tags": null
          },
          "name": "stderr",
          "output_type": "stream",
          "text": [
            "INFO:httpx:HTTP Request: POST https://api.openai.com/v1/chat/completions \"HTTP/1.1 200 OK\"\n"
          ]
        },
        {
          "metadata": {
            "tags": null
          },
          "name": "stdout",
          "output_type": "stream",
          "text": [
            "🍩 https://wandb.ai/lavanyashukla/spacerag_novtest2/r/call/0192f7fe-ad9a-7120-a564-e8381719c16c\n"
          ]
        },
        {
          "metadata": {
            "tags": null
          },
          "name": "stderr",
          "output_type": "stream",
          "text": [
            "INFO:httpx:HTTP Request: POST https://api.openai.com/v1/chat/completions \"HTTP/1.1 200 OK\"\n",
            "Scoring responses: 100%|██████████| 1/1 [00:21<00:00, 21.66s/it]\n"
          ]
        },
        {
          "metadata": {
            "tags": null
          },
          "name": "stdout",
          "output_type": "stream",
          "text": [
            "🍩 https://wandb.ai/lavanyashukla/spacerag_novtest2/r/call/0192f7fe-b0f0-7411-95da-974800544629\n"
          ]
        },
        {
          "metadata": {
            "tags": null
          },
          "name": "stderr",
          "output_type": "stream",
          "text": [
            "Retrieving responses: 100%|██████████| 1/1 [00:00<00:00, 7345.54it/s]\n",
            "Scoring responses:   0%|          | 0/1 [00:00<?, ?it/s]INFO:httpx:HTTP Request: POST https://api.openai.com/v1/chat/completions \"HTTP/1.1 200 OK\"\n"
          ]
        },
        {
          "metadata": {
            "tags": null
          },
          "name": "stdout",
          "output_type": "stream",
          "text": [
            "🍩 https://wandb.ai/lavanyashukla/spacerag_novtest2/r/call/0192f7fe-b83c-7aa3-afc1-a7059840acce\n"
          ]
        },
        {
          "metadata": {
            "tags": null
          },
          "name": "stderr",
          "output_type": "stream",
          "text": [
            "INFO:httpx:HTTP Request: POST https://api.openai.com/v1/chat/completions \"HTTP/1.1 200 OK\"\n"
          ]
        },
        {
          "metadata": {
            "tags": null
          },
          "name": "stdout",
          "output_type": "stream",
          "text": [
            "🍩 https://wandb.ai/lavanyashukla/spacerag_novtest2/r/call/0192f7fe-baf3-7b81-b496-4748a0620c44\n"
          ]
        },
        {
          "metadata": {
            "tags": null
          },
          "name": "stderr",
          "output_type": "stream",
          "text": [
            "INFO:httpx:HTTP Request: POST https://api.openai.com/v1/chat/completions \"HTTP/1.1 200 OK\"\n"
          ]
        },
        {
          "metadata": {
            "tags": null
          },
          "name": "stdout",
          "output_type": "stream",
          "text": [
            "🍩 https://wandb.ai/lavanyashukla/spacerag_novtest2/r/call/0192f7fe-be5f-7093-9284-458308d8a6d9\n"
          ]
        },
        {
          "metadata": {
            "tags": null
          },
          "name": "stderr",
          "output_type": "stream",
          "text": [
            "INFO:httpx:HTTP Request: POST https://api.openai.com/v1/chat/completions \"HTTP/1.1 200 OK\"\n"
          ]
        },
        {
          "metadata": {
            "tags": null
          },
          "name": "stdout",
          "output_type": "stream",
          "text": [
            "🍩 https://wandb.ai/lavanyashukla/spacerag_novtest2/r/call/0192f7fe-c8aa-7321-bbea-742c30a4e665\n"
          ]
        },
        {
          "metadata": {
            "tags": null
          },
          "name": "stderr",
          "output_type": "stream",
          "text": [
            "INFO:httpx:HTTP Request: POST https://api.openai.com/v1/chat/completions \"HTTP/1.1 200 OK\"\n"
          ]
        },
        {
          "metadata": {
            "tags": null
          },
          "name": "stdout",
          "output_type": "stream",
          "text": [
            "🍩 https://wandb.ai/lavanyashukla/spacerag_novtest2/r/call/0192f7fe-cbd7-7071-abfb-83fef29271be\n"
          ]
        },
        {
          "metadata": {
            "tags": null
          },
          "name": "stderr",
          "output_type": "stream",
          "text": [
            "INFO:httpx:HTTP Request: POST https://api.openai.com/v1/chat/completions \"HTTP/1.1 200 OK\"\n",
            "Scoring responses: 100%|██████████| 1/1 [00:07<00:00,  7.23s/it]\n"
          ]
        },
        {
          "metadata": {
            "tags": null
          },
          "name": "stdout",
          "output_type": "stream",
          "text": [
            "🍩 https://wandb.ai/lavanyashukla/spacerag_novtest2/r/call/0192f7fe-d005-70f1-8f66-ea9793b3c0d3\n"
          ]
        },
        {
          "metadata": {
            "tags": null
          },
          "name": "stderr",
          "output_type": "stream",
          "text": [
            "Retrieving responses: 100%|██████████| 1/1 [00:00<00:00, 772.86it/s]\n",
            "Scoring responses:   0%|          | 0/1 [00:00<?, ?it/s]INFO:httpx:HTTP Request: POST https://api.openai.com/v1/chat/completions \"HTTP/1.1 200 OK\"\n"
          ]
        },
        {
          "metadata": {
            "tags": null
          },
          "name": "stdout",
          "output_type": "stream",
          "text": [
            "🍩 https://wandb.ai/lavanyashukla/spacerag_novtest2/r/call/0192f7fe-d87c-7401-8529-9458e042a150\n"
          ]
        },
        {
          "metadata": {
            "tags": null
          },
          "name": "stderr",
          "output_type": "stream",
          "text": [
            "INFO:httpx:HTTP Request: POST https://api.openai.com/v1/chat/completions \"HTTP/1.1 200 OK\"\n"
          ]
        },
        {
          "metadata": {
            "tags": null
          },
          "name": "stdout",
          "output_type": "stream",
          "text": [
            "🍩 https://wandb.ai/lavanyashukla/spacerag_novtest2/r/call/0192f7fe-daf4-7fd0-8327-00c02656d580\n"
          ]
        },
        {
          "metadata": {
            "tags": null
          },
          "name": "stderr",
          "output_type": "stream",
          "text": [
            "INFO:httpx:HTTP Request: POST https://api.openai.com/v1/chat/completions \"HTTP/1.1 200 OK\"\n"
          ]
        },
        {
          "metadata": {
            "tags": null
          },
          "name": "stdout",
          "output_type": "stream",
          "text": [
            "🍩 https://wandb.ai/lavanyashukla/spacerag_novtest2/r/call/0192f7fe-dd15-7141-ae94-c1468eabc5f4\n"
          ]
        },
        {
          "metadata": {
            "tags": null
          },
          "name": "stderr",
          "output_type": "stream",
          "text": [
            "INFO:httpx:HTTP Request: POST https://api.openai.com/v1/chat/completions \"HTTP/1.1 200 OK\"\n"
          ]
        },
        {
          "metadata": {
            "tags": null
          },
          "name": "stdout",
          "output_type": "stream",
          "text": [
            "🍩 https://wandb.ai/lavanyashukla/spacerag_novtest2/r/call/0192f7fe-ec94-7b82-ae4c-51cce0981636\n"
          ]
        },
        {
          "metadata": {
            "tags": null
          },
          "name": "stderr",
          "output_type": "stream",
          "text": [
            "INFO:httpx:HTTP Request: POST https://api.openai.com/v1/chat/completions \"HTTP/1.1 200 OK\"\n"
          ]
        },
        {
          "metadata": {
            "tags": null
          },
          "name": "stdout",
          "output_type": "stream",
          "text": [
            "🍩 https://wandb.ai/lavanyashukla/spacerag_novtest2/r/call/0192f7fe-efdb-7070-8dd4-f295299c21bd\n"
          ]
        },
        {
          "metadata": {
            "tags": null
          },
          "name": "stderr",
          "output_type": "stream",
          "text": [
            "INFO:httpx:HTTP Request: POST https://api.openai.com/v1/chat/completions \"HTTP/1.1 200 OK\"\n"
          ]
        },
        {
          "metadata": {
            "tags": null
          },
          "name": "stdout",
          "output_type": "stream",
          "text": [
            "🍩 https://wandb.ai/lavanyashukla/spacerag_novtest2/r/call/0192f7fe-f353-7983-a946-bfebdd71aaa6\n"
          ]
        },
        {
          "metadata": {
            "tags": null
          },
          "name": "stderr",
          "output_type": "stream",
          "text": [
            "INFO:httpx:HTTP Request: POST https://api.openai.com/v1/chat/completions \"HTTP/1.1 200 OK\"\n",
            "Scoring responses: 100%|██████████| 1/1 [00:09<00:00,  9.23s/it]\n"
          ]
        },
        {
          "metadata": {
            "tags": null
          },
          "name": "stdout",
          "output_type": "stream",
          "text": [
            "🍩 https://wandb.ai/lavanyashukla/spacerag_novtest2/r/call/0192f7fe-f760-7502-8193-c7db8ecdd458\n"
          ]
        },
        {
          "metadata": {
            "tags": null
          },
          "name": "stderr",
          "output_type": "stream",
          "text": [
            "Retrieving responses: 100%|██████████| 1/1 [00:00<00:00, 8388.61it/s]\n",
            "Scoring responses:   0%|          | 0/1 [00:00<?, ?it/s]INFO:httpx:HTTP Request: POST https://api.openai.com/v1/chat/completions \"HTTP/1.1 200 OK\"\n"
          ]
        },
        {
          "metadata": {
            "tags": null
          },
          "name": "stdout",
          "output_type": "stream",
          "text": [
            "🍩 https://wandb.ai/lavanyashukla/spacerag_novtest2/r/call/0192f7ff-004e-79d0-a6d7-798f04d5eb3d\n"
          ]
        },
        {
          "metadata": {
            "tags": null
          },
          "name": "stderr",
          "output_type": "stream",
          "text": [
            "INFO:httpx:HTTP Request: POST https://api.openai.com/v1/chat/completions \"HTTP/1.1 200 OK\"\n"
          ]
        },
        {
          "metadata": {
            "tags": null
          },
          "name": "stdout",
          "output_type": "stream",
          "text": [
            "🍩 https://wandb.ai/lavanyashukla/spacerag_novtest2/r/call/0192f7ff-027a-74c0-b48c-03ef2057f2ed\n"
          ]
        },
        {
          "metadata": {
            "tags": null
          },
          "name": "stderr",
          "output_type": "stream",
          "text": [
            "INFO:httpx:HTTP Request: POST https://api.openai.com/v1/chat/completions \"HTTP/1.1 200 OK\"\n"
          ]
        },
        {
          "metadata": {
            "tags": null
          },
          "name": "stdout",
          "output_type": "stream",
          "text": [
            "🍩 https://wandb.ai/lavanyashukla/spacerag_novtest2/r/call/0192f7ff-05f5-79f1-95fe-8b569dea8659\n"
          ]
        },
        {
          "metadata": {
            "tags": null
          },
          "name": "stderr",
          "output_type": "stream",
          "text": [
            "INFO:httpx:HTTP Request: POST https://api.openai.com/v1/chat/completions \"HTTP/1.1 200 OK\"\n"
          ]
        },
        {
          "metadata": {
            "tags": null
          },
          "name": "stdout",
          "output_type": "stream",
          "text": [
            "🍩 https://wandb.ai/lavanyashukla/spacerag_novtest2/r/call/0192f7ff-1a13-72b1-be0b-69603e363ede\n"
          ]
        },
        {
          "metadata": {
            "tags": null
          },
          "name": "stderr",
          "output_type": "stream",
          "text": [
            "INFO:httpx:HTTP Request: POST https://api.openai.com/v1/chat/completions \"HTTP/1.1 200 OK\"\n"
          ]
        },
        {
          "metadata": {
            "tags": null
          },
          "name": "stdout",
          "output_type": "stream",
          "text": [
            "🍩 https://wandb.ai/lavanyashukla/spacerag_novtest2/r/call/0192f7ff-1de2-77e0-80e2-dc7b72960308\n"
          ]
        },
        {
          "metadata": {
            "tags": null
          },
          "name": "stderr",
          "output_type": "stream",
          "text": [
            "INFO:httpx:HTTP Request: POST https://api.openai.com/v1/chat/completions \"HTTP/1.1 200 OK\"\n"
          ]
        },
        {
          "metadata": {
            "tags": null
          },
          "name": "stdout",
          "output_type": "stream",
          "text": [
            "🍩 https://wandb.ai/lavanyashukla/spacerag_novtest2/r/call/0192f7ff-2212-7052-818f-97b304a1c551\n"
          ]
        },
        {
          "metadata": {
            "tags": null
          },
          "name": "stderr",
          "output_type": "stream",
          "text": [
            "INFO:httpx:HTTP Request: POST https://api.openai.com/v1/chat/completions \"HTTP/1.1 200 OK\"\n"
          ]
        },
        {
          "metadata": {
            "tags": null
          },
          "name": "stdout",
          "output_type": "stream",
          "text": [
            "🍩 https://wandb.ai/lavanyashukla/spacerag_novtest2/r/call/0192f7ff-5642-7cc0-bc21-2fe23620210f\n"
          ]
        },
        {
          "metadata": {
            "tags": null
          },
          "name": "stderr",
          "output_type": "stream",
          "text": [
            "INFO:httpx:HTTP Request: POST https://api.openai.com/v1/chat/completions \"HTTP/1.1 200 OK\"\n"
          ]
        },
        {
          "metadata": {
            "tags": null
          },
          "name": "stdout",
          "output_type": "stream",
          "text": [
            "🍩 https://wandb.ai/lavanyashukla/spacerag_novtest2/r/call/0192f7ff-5a04-71a1-9b22-99af59225aac\n"
          ]
        },
        {
          "metadata": {
            "tags": null
          },
          "name": "stderr",
          "output_type": "stream",
          "text": [
            "INFO:httpx:HTTP Request: POST https://api.openai.com/v1/chat/completions \"HTTP/1.1 200 OK\"\n"
          ]
        },
        {
          "metadata": {
            "tags": null
          },
          "name": "stdout",
          "output_type": "stream",
          "text": [
            "🍩 https://wandb.ai/lavanyashukla/spacerag_novtest2/r/call/0192f7ff-5d99-7931-8c4e-75fbb9261362\n"
          ]
        },
        {
          "metadata": {
            "tags": null
          },
          "name": "stderr",
          "output_type": "stream",
          "text": [
            "INFO:httpx:HTTP Request: POST https://api.openai.com/v1/chat/completions \"HTTP/1.1 200 OK\"\n"
          ]
        },
        {
          "metadata": {
            "tags": null
          },
          "name": "stdout",
          "output_type": "stream",
          "text": [
            "🍩 https://wandb.ai/lavanyashukla/spacerag_novtest2/r/call/0192f7ff-6120-79c2-8b06-64cdc0178e9e\n"
          ]
        },
        {
          "metadata": {
            "tags": null
          },
          "name": "stderr",
          "output_type": "stream",
          "text": [
            "INFO:httpx:HTTP Request: POST https://api.openai.com/v1/chat/completions \"HTTP/1.1 200 OK\"\n"
          ]
        },
        {
          "metadata": {
            "tags": null
          },
          "name": "stdout",
          "output_type": "stream",
          "text": [
            "🍩 https://wandb.ai/lavanyashukla/spacerag_novtest2/r/call/0192f7ff-6568-7181-8ad5-93218ad97add\n"
          ]
        },
        {
          "metadata": {
            "tags": null
          },
          "name": "stderr",
          "output_type": "stream",
          "text": [
            "INFO:httpx:HTTP Request: POST https://api.openai.com/v1/chat/completions \"HTTP/1.1 200 OK\"\n"
          ]
        },
        {
          "metadata": {
            "tags": null
          },
          "name": "stdout",
          "output_type": "stream",
          "text": [
            "🍩 https://wandb.ai/lavanyashukla/spacerag_novtest2/r/call/0192f7ff-6a27-7543-b23a-4c2f7fcde5ac\n"
          ]
        },
        {
          "metadata": {
            "tags": null
          },
          "name": "stderr",
          "output_type": "stream",
          "text": [
            "INFO:httpx:HTTP Request: POST https://api.openai.com/v1/chat/completions \"HTTP/1.1 200 OK\"\n",
            "Scoring responses: 100%|██████████| 1/1 [00:29<00:00, 29.91s/it]\n"
          ]
        },
        {
          "metadata": {
            "tags": null
          },
          "name": "stdout",
          "output_type": "stream",
          "text": [
            "🍩 https://wandb.ai/lavanyashukla/spacerag_novtest2/r/call/0192f7ff-7171-7601-8c96-92c48faea338\n"
          ]
        },
        {
          "metadata": {
            "tags": null
          },
          "name": "stderr",
          "output_type": "stream",
          "text": [
            "Retrieving responses: 100%|██████████| 1/1 [00:00<00:00, 705.16it/s]\n",
            "Scoring responses:   0%|          | 0/1 [00:00<?, ?it/s]INFO:httpx:HTTP Request: POST https://api.openai.com/v1/chat/completions \"HTTP/1.1 200 OK\"\n"
          ]
        },
        {
          "metadata": {
            "tags": null
          },
          "name": "stdout",
          "output_type": "stream",
          "text": [
            "🍩 https://wandb.ai/lavanyashukla/spacerag_novtest2/r/call/0192f7ff-78ee-7251-8211-f5ca448bb246\n"
          ]
        },
        {
          "metadata": {
            "tags": null
          },
          "name": "stderr",
          "output_type": "stream",
          "text": [
            "INFO:httpx:HTTP Request: POST https://api.openai.com/v1/chat/completions \"HTTP/1.1 200 OK\"\n"
          ]
        },
        {
          "metadata": {
            "tags": null
          },
          "name": "stdout",
          "output_type": "stream",
          "text": [
            "🍩 https://wandb.ai/lavanyashukla/spacerag_novtest2/r/call/0192f7ff-7b8a-75c2-896b-50bd1c460a7f\n"
          ]
        },
        {
          "metadata": {
            "tags": null
          },
          "name": "stderr",
          "output_type": "stream",
          "text": [
            "INFO:httpx:HTTP Request: POST https://api.openai.com/v1/chat/completions \"HTTP/1.1 200 OK\"\n"
          ]
        },
        {
          "metadata": {
            "tags": null
          },
          "name": "stdout",
          "output_type": "stream",
          "text": [
            "🍩 https://wandb.ai/lavanyashukla/spacerag_novtest2/r/call/0192f7ff-8041-77d1-8d45-564258663214\n"
          ]
        },
        {
          "metadata": {
            "tags": null
          },
          "name": "stderr",
          "output_type": "stream",
          "text": [
            "INFO:httpx:HTTP Request: POST https://api.openai.com/v1/chat/completions \"HTTP/1.1 200 OK\"\n"
          ]
        },
        {
          "metadata": {
            "tags": null
          },
          "name": "stdout",
          "output_type": "stream",
          "text": [
            "🍩 https://wandb.ai/lavanyashukla/spacerag_novtest2/r/call/0192f7ff-90cf-76f1-a632-ce9df89d621b\n"
          ]
        },
        {
          "metadata": {
            "tags": null
          },
          "name": "stderr",
          "output_type": "stream",
          "text": [
            "INFO:httpx:HTTP Request: POST https://api.openai.com/v1/chat/completions \"HTTP/1.1 200 OK\"\n"
          ]
        },
        {
          "metadata": {
            "tags": null
          },
          "name": "stdout",
          "output_type": "stream",
          "text": [
            "🍩 https://wandb.ai/lavanyashukla/spacerag_novtest2/r/call/0192f7ff-94c0-74d3-b967-cb8aee6f1b29\n"
          ]
        },
        {
          "metadata": {
            "tags": null
          },
          "name": "stderr",
          "output_type": "stream",
          "text": [
            "INFO:httpx:HTTP Request: POST https://api.openai.com/v1/chat/completions \"HTTP/1.1 200 OK\"\n"
          ]
        },
        {
          "metadata": {
            "tags": null
          },
          "name": "stdout",
          "output_type": "stream",
          "text": [
            "🍩 https://wandb.ai/lavanyashukla/spacerag_novtest2/r/call/0192f7ff-97ce-7be1-b3f2-b5e0d84f2c1d\n"
          ]
        },
        {
          "metadata": {
            "tags": null
          },
          "name": "stderr",
          "output_type": "stream",
          "text": [
            "INFO:httpx:HTTP Request: POST https://api.openai.com/v1/chat/completions \"HTTP/1.1 200 OK\"\n"
          ]
        },
        {
          "metadata": {
            "tags": null
          },
          "name": "stdout",
          "output_type": "stream",
          "text": [
            "🍩 https://wandb.ai/lavanyashukla/spacerag_novtest2/r/call/0192f7ff-9af7-7213-b74d-04f16dea6b91\n"
          ]
        },
        {
          "metadata": {
            "tags": null
          },
          "name": "stderr",
          "output_type": "stream",
          "text": [
            "INFO:httpx:HTTP Request: POST https://api.openai.com/v1/chat/completions \"HTTP/1.1 200 OK\"\n",
            "Scoring responses: 100%|██████████| 1/1 [00:10<00:00, 10.47s/it]\n"
          ]
        },
        {
          "metadata": {
            "tags": null
          },
          "name": "stdout",
          "output_type": "stream",
          "text": [
            "🍩 https://wandb.ai/lavanyashukla/spacerag_novtest2/r/call/0192f7ff-9e52-7463-8136-3e93f0b1cef0\n"
          ]
        },
        {
          "metadata": {
            "tags": null
          },
          "name": "stderr",
          "output_type": "stream",
          "text": [
            "Retrieving responses: 100%|██████████| 1/1 [00:00<00:00, 7653.84it/s]\n",
            "Scoring responses:   0%|          | 0/1 [00:00<?, ?it/s]INFO:httpx:HTTP Request: POST https://api.openai.com/v1/chat/completions \"HTTP/1.1 200 OK\"\n"
          ]
        },
        {
          "metadata": {
            "tags": null
          },
          "name": "stdout",
          "output_type": "stream",
          "text": [
            "🍩 https://wandb.ai/lavanyashukla/spacerag_novtest2/r/call/0192f7ff-a58f-7e13-a02d-dabad50d2305\n"
          ]
        },
        {
          "metadata": {
            "tags": null
          },
          "name": "stderr",
          "output_type": "stream",
          "text": [
            "INFO:httpx:HTTP Request: POST https://api.openai.com/v1/chat/completions \"HTTP/1.1 200 OK\"\n"
          ]
        },
        {
          "metadata": {
            "tags": null
          },
          "name": "stdout",
          "output_type": "stream",
          "text": [
            "🍩 https://wandb.ai/lavanyashukla/spacerag_novtest2/r/call/0192f7ff-a8c0-7cd2-b33d-16022557704a\n"
          ]
        },
        {
          "metadata": {
            "tags": null
          },
          "name": "stderr",
          "output_type": "stream",
          "text": [
            "INFO:httpx:HTTP Request: POST https://api.openai.com/v1/chat/completions \"HTTP/1.1 200 OK\"\n"
          ]
        },
        {
          "metadata": {
            "tags": null
          },
          "name": "stdout",
          "output_type": "stream",
          "text": [
            "🍩 https://wandb.ai/lavanyashukla/spacerag_novtest2/r/call/0192f7ff-aeb0-7093-a133-7c086649e9c2\n"
          ]
        },
        {
          "metadata": {
            "tags": null
          },
          "name": "stderr",
          "output_type": "stream",
          "text": [
            "INFO:httpx:HTTP Request: POST https://api.openai.com/v1/chat/completions \"HTTP/1.1 200 OK\"\n"
          ]
        },
        {
          "metadata": {
            "tags": null
          },
          "name": "stdout",
          "output_type": "stream",
          "text": [
            "🍩 https://wandb.ai/lavanyashukla/spacerag_novtest2/r/call/0192f7ff-c23d-7130-9a60-5a9f8eab2d7b\n"
          ]
        },
        {
          "metadata": {
            "tags": null
          },
          "name": "stderr",
          "output_type": "stream",
          "text": [
            "INFO:httpx:HTTP Request: POST https://api.openai.com/v1/chat/completions \"HTTP/1.1 200 OK\"\n"
          ]
        },
        {
          "metadata": {
            "tags": null
          },
          "name": "stdout",
          "output_type": "stream",
          "text": [
            "🍩 https://wandb.ai/lavanyashukla/spacerag_novtest2/r/call/0192f7ff-c581-7ec0-ab81-7136b979d494\n"
          ]
        },
        {
          "metadata": {
            "tags": null
          },
          "name": "stderr",
          "output_type": "stream",
          "text": [
            "INFO:httpx:HTTP Request: POST https://api.openai.com/v1/chat/completions \"HTTP/1.1 200 OK\"\n",
            "Scoring responses: 100%|██████████| 1/1 [00:09<00:00,  9.84s/it]\n"
          ]
        },
        {
          "metadata": {
            "tags": null
          },
          "name": "stdout",
          "output_type": "stream",
          "text": [
            "🍩 https://wandb.ai/lavanyashukla/spacerag_novtest2/r/call/0192f7ff-c8db-74e3-9474-c1bd9d951f1b\n"
          ]
        },
        {
          "metadata": {
            "tags": null
          },
          "name": "stderr",
          "output_type": "stream",
          "text": [
            "Retrieving responses: 100%|██████████| 1/1 [00:00<00:00, 5793.24it/s]\n",
            "Scoring responses:   0%|          | 0/1 [00:00<?, ?it/s]INFO:httpx:HTTP Request: POST https://api.openai.com/v1/chat/completions \"HTTP/1.1 200 OK\"\n"
          ]
        },
        {
          "metadata": {
            "tags": null
          },
          "name": "stdout",
          "output_type": "stream",
          "text": [
            "🍩 https://wandb.ai/lavanyashukla/spacerag_novtest2/r/call/0192f7ff-cfcd-78d2-b9d7-e73c67a6fb6e\n"
          ]
        },
        {
          "metadata": {
            "tags": null
          },
          "name": "stderr",
          "output_type": "stream",
          "text": [
            "INFO:httpx:HTTP Request: POST https://api.openai.com/v1/chat/completions \"HTTP/1.1 200 OK\"\n"
          ]
        },
        {
          "metadata": {
            "tags": null
          },
          "name": "stdout",
          "output_type": "stream",
          "text": [
            "🍩 https://wandb.ai/lavanyashukla/spacerag_novtest2/r/call/0192f7ff-d283-74c3-acd4-f1f73f0dc30f\n"
          ]
        },
        {
          "metadata": {
            "tags": null
          },
          "name": "stderr",
          "output_type": "stream",
          "text": [
            "INFO:httpx:HTTP Request: POST https://api.openai.com/v1/chat/completions \"HTTP/1.1 200 OK\"\n"
          ]
        },
        {
          "metadata": {
            "tags": null
          },
          "name": "stdout",
          "output_type": "stream",
          "text": [
            "🍩 https://wandb.ai/lavanyashukla/spacerag_novtest2/r/call/0192f7ff-d51b-7bb3-930e-f93d3541f468\n"
          ]
        },
        {
          "metadata": {
            "tags": null
          },
          "name": "stderr",
          "output_type": "stream",
          "text": [
            "INFO:httpx:HTTP Request: POST https://api.openai.com/v1/chat/completions \"HTTP/1.1 200 OK\"\n"
          ]
        },
        {
          "metadata": {
            "tags": null
          },
          "name": "stdout",
          "output_type": "stream",
          "text": [
            "🍩 https://wandb.ai/lavanyashukla/spacerag_novtest2/r/call/0192f7ff-dede-7c02-97e7-8dd3b217e8e9\n"
          ]
        },
        {
          "metadata": {
            "tags": null
          },
          "name": "stderr",
          "output_type": "stream",
          "text": [
            "INFO:httpx:HTTP Request: POST https://api.openai.com/v1/chat/completions \"HTTP/1.1 200 OK\"\n",
            "Scoring responses: 100%|██████████| 1/1 [00:05<00:00,  5.78s/it]\n"
          ]
        },
        {
          "metadata": {
            "tags": null
          },
          "name": "stdout",
          "output_type": "stream",
          "text": [
            "🍩 https://wandb.ai/lavanyashukla/spacerag_novtest2/r/call/0192f7ff-e32f-7ab0-9c38-df3e2a228f23\n"
          ]
        },
        {
          "metadata": {
            "tags": null
          },
          "name": "stderr",
          "output_type": "stream",
          "text": [
            "Retrieving responses: 100%|██████████| 1/1 [00:00<00:00, 1520.78it/s]\n",
            "Scoring responses:   0%|          | 0/1 [00:00<?, ?it/s]INFO:httpx:HTTP Request: POST https://api.openai.com/v1/chat/completions \"HTTP/1.1 200 OK\"\n"
          ]
        },
        {
          "metadata": {
            "tags": null
          },
          "name": "stdout",
          "output_type": "stream",
          "text": [
            "🍩 https://wandb.ai/lavanyashukla/spacerag_novtest2/r/call/0192f7ff-ea3c-76d3-9702-bb8b52992a40\n"
          ]
        },
        {
          "metadata": {
            "tags": null
          },
          "name": "stderr",
          "output_type": "stream",
          "text": [
            "INFO:httpx:HTTP Request: POST https://api.openai.com/v1/chat/completions \"HTTP/1.1 200 OK\"\n"
          ]
        },
        {
          "metadata": {
            "tags": null
          },
          "name": "stdout",
          "output_type": "stream",
          "text": [
            "🍩 https://wandb.ai/lavanyashukla/spacerag_novtest2/r/call/0192f7ff-ed49-77f2-b96a-ecf64763dc16\n"
          ]
        },
        {
          "metadata": {
            "tags": null
          },
          "name": "stderr",
          "output_type": "stream",
          "text": [
            "INFO:httpx:HTTP Request: POST https://api.openai.com/v1/chat/completions \"HTTP/1.1 200 OK\"\n"
          ]
        },
        {
          "metadata": {
            "tags": null
          },
          "name": "stdout",
          "output_type": "stream",
          "text": [
            "🍩 https://wandb.ai/lavanyashukla/spacerag_novtest2/r/call/0192f7ff-f218-74a2-975b-0cd816c4c1de\n"
          ]
        },
        {
          "metadata": {
            "tags": null
          },
          "name": "stderr",
          "output_type": "stream",
          "text": [
            "INFO:httpx:HTTP Request: POST https://api.openai.com/v1/chat/completions \"HTTP/1.1 200 OK\"\n"
          ]
        },
        {
          "metadata": {
            "tags": null
          },
          "name": "stdout",
          "output_type": "stream",
          "text": [
            "🍩 https://wandb.ai/lavanyashukla/spacerag_novtest2/r/call/0192f7ff-fa4d-7760-8077-8263e4452220\n"
          ]
        },
        {
          "metadata": {
            "tags": null
          },
          "name": "stderr",
          "output_type": "stream",
          "text": [
            "INFO:httpx:HTTP Request: POST https://api.openai.com/v1/chat/completions \"HTTP/1.1 200 OK\"\n",
            "Scoring responses: 100%|██████████| 1/1 [00:06<00:00,  6.64s/it]\n"
          ]
        },
        {
          "metadata": {
            "tags": null
          },
          "name": "stdout",
          "output_type": "stream",
          "text": [
            "🍩 https://wandb.ai/lavanyashukla/spacerag_novtest2/r/call/0192f800-009b-7660-988f-e36420f71274\n"
          ]
        },
        {
          "metadata": {
            "tags": null
          },
          "name": "stderr",
          "output_type": "stream",
          "text": [
            "Retrieving responses: 100%|██████████| 1/1 [00:00<00:00, 676.94it/s]\n",
            "Scoring responses:   0%|          | 0/1 [00:00<?, ?it/s]INFO:httpx:HTTP Request: POST https://api.openai.com/v1/chat/completions \"HTTP/1.1 200 OK\"\n"
          ]
        },
        {
          "metadata": {
            "tags": null
          },
          "name": "stdout",
          "output_type": "stream",
          "text": [
            "🍩 https://wandb.ai/lavanyashukla/spacerag_novtest2/r/call/0192f800-0827-7f11-ac12-93e34fc46393\n"
          ]
        },
        {
          "metadata": {
            "tags": null
          },
          "name": "stderr",
          "output_type": "stream",
          "text": [
            "INFO:httpx:HTTP Request: POST https://api.openai.com/v1/chat/completions \"HTTP/1.1 200 OK\"\n"
          ]
        },
        {
          "metadata": {
            "tags": null
          },
          "name": "stdout",
          "output_type": "stream",
          "text": [
            "🍩 https://wandb.ai/lavanyashukla/spacerag_novtest2/r/call/0192f800-0a91-72c0-80c3-4f8ba68c3b45\n"
          ]
        },
        {
          "metadata": {
            "tags": null
          },
          "name": "stderr",
          "output_type": "stream",
          "text": [
            "INFO:httpx:HTTP Request: POST https://api.openai.com/v1/chat/completions \"HTTP/1.1 200 OK\"\n"
          ]
        },
        {
          "metadata": {
            "tags": null
          },
          "name": "stdout",
          "output_type": "stream",
          "text": [
            "🍩 https://wandb.ai/lavanyashukla/spacerag_novtest2/r/call/0192f800-0d9a-7481-993d-484de1b3cc06\n"
          ]
        },
        {
          "metadata": {
            "tags": null
          },
          "name": "stderr",
          "output_type": "stream",
          "text": [
            "INFO:httpx:HTTP Request: POST https://api.openai.com/v1/chat/completions \"HTTP/1.1 200 OK\"\n"
          ]
        },
        {
          "metadata": {
            "tags": null
          },
          "name": "stdout",
          "output_type": "stream",
          "text": [
            "🍩 https://wandb.ai/lavanyashukla/spacerag_novtest2/r/call/0192f800-16dc-7c51-8dcd-830b20d8c884\n"
          ]
        },
        {
          "metadata": {
            "tags": null
          },
          "name": "stderr",
          "output_type": "stream",
          "text": [
            "INFO:httpx:HTTP Request: POST https://api.openai.com/v1/chat/completions \"HTTP/1.1 200 OK\"\n"
          ]
        },
        {
          "metadata": {
            "tags": null
          },
          "name": "stdout",
          "output_type": "stream",
          "text": [
            "🍩 https://wandb.ai/lavanyashukla/spacerag_novtest2/r/call/0192f800-1a98-7421-8a58-5e22b82d2a50\n"
          ]
        },
        {
          "metadata": {
            "tags": null
          },
          "name": "stderr",
          "output_type": "stream",
          "text": [
            "INFO:httpx:HTTP Request: POST https://api.openai.com/v1/chat/completions \"HTTP/1.1 200 OK\"\n"
          ]
        },
        {
          "metadata": {
            "tags": null
          },
          "name": "stdout",
          "output_type": "stream",
          "text": [
            "🍩 https://wandb.ai/lavanyashukla/spacerag_novtest2/r/call/0192f800-1f86-7c70-b842-de6a601b442c\n"
          ]
        },
        {
          "metadata": {
            "tags": null
          },
          "name": "stderr",
          "output_type": "stream",
          "text": [
            "INFO:httpx:HTTP Request: POST https://api.openai.com/v1/chat/completions \"HTTP/1.1 200 OK\"\n"
          ]
        },
        {
          "metadata": {
            "tags": null
          },
          "name": "stdout",
          "output_type": "stream",
          "text": [
            "🍩 https://wandb.ai/lavanyashukla/spacerag_novtest2/r/call/0192f800-250b-7232-a228-cb7278e160b2\n"
          ]
        },
        {
          "metadata": {
            "tags": null
          },
          "name": "stderr",
          "output_type": "stream",
          "text": [
            "INFO:httpx:HTTP Request: POST https://api.openai.com/v1/chat/completions \"HTTP/1.1 200 OK\"\n"
          ]
        },
        {
          "metadata": {
            "tags": null
          },
          "name": "stdout",
          "output_type": "stream",
          "text": [
            "🍩 https://wandb.ai/lavanyashukla/spacerag_novtest2/r/call/0192f800-2894-7fc1-9bb0-b85fecf0d2d0\n"
          ]
        },
        {
          "metadata": {
            "tags": null
          },
          "name": "stderr",
          "output_type": "stream",
          "text": [
            "INFO:httpx:HTTP Request: POST https://api.openai.com/v1/chat/completions \"HTTP/1.1 200 OK\"\n"
          ]
        },
        {
          "metadata": {
            "tags": null
          },
          "name": "stdout",
          "output_type": "stream",
          "text": [
            "🍩 https://wandb.ai/lavanyashukla/spacerag_novtest2/r/call/0192f800-2c62-7d63-a64d-152f54910f16\n"
          ]
        },
        {
          "metadata": {
            "tags": null
          },
          "name": "stderr",
          "output_type": "stream",
          "text": [
            "INFO:httpx:HTTP Request: POST https://api.openai.com/v1/chat/completions \"HTTP/1.1 200 OK\"\n",
            "Scoring responses: 100%|██████████| 1/1 [00:11<00:00, 11.48s/it]\n"
          ]
        },
        {
          "metadata": {
            "tags": null
          },
          "name": "stdout",
          "output_type": "stream",
          "text": [
            "🍩 https://wandb.ai/lavanyashukla/spacerag_novtest2/r/call/0192f800-30ba-75f2-a78f-44e46d717fd5\n"
          ]
        },
        {
          "metadata": {
            "tags": null
          },
          "name": "stderr",
          "output_type": "stream",
          "text": [
            "Retrieving responses: 100%|██████████| 1/1 [00:00<00:00, 754.91it/s]\n",
            "Scoring responses:   0%|          | 0/1 [00:00<?, ?it/s]INFO:httpx:HTTP Request: POST https://api.openai.com/v1/chat/completions \"HTTP/1.1 200 OK\"\n"
          ]
        },
        {
          "metadata": {
            "tags": null
          },
          "name": "stdout",
          "output_type": "stream",
          "text": [
            "🍩 https://wandb.ai/lavanyashukla/spacerag_novtest2/r/call/0192f800-390e-7693-8b0f-00792bb65aec\n"
          ]
        },
        {
          "metadata": {
            "tags": null
          },
          "name": "stderr",
          "output_type": "stream",
          "text": [
            "INFO:httpx:HTTP Request: POST https://api.openai.com/v1/chat/completions \"HTTP/1.1 200 OK\"\n"
          ]
        },
        {
          "metadata": {
            "tags": null
          },
          "name": "stdout",
          "output_type": "stream",
          "text": [
            "🍩 https://wandb.ai/lavanyashukla/spacerag_novtest2/r/call/0192f800-3dfe-7300-85a0-12657d357599\n"
          ]
        },
        {
          "metadata": {
            "tags": null
          },
          "name": "stderr",
          "output_type": "stream",
          "text": [
            "INFO:httpx:HTTP Request: POST https://api.openai.com/v1/chat/completions \"HTTP/1.1 200 OK\"\n"
          ]
        },
        {
          "metadata": {
            "tags": null
          },
          "name": "stdout",
          "output_type": "stream",
          "text": [
            "🍩 https://wandb.ai/lavanyashukla/spacerag_novtest2/r/call/0192f800-4142-7e80-84dc-8f2773ba4078\n"
          ]
        },
        {
          "metadata": {
            "tags": null
          },
          "name": "stderr",
          "output_type": "stream",
          "text": [
            "INFO:httpx:HTTP Request: POST https://api.openai.com/v1/chat/completions \"HTTP/1.1 200 OK\"\n"
          ]
        },
        {
          "metadata": {
            "tags": null
          },
          "name": "stdout",
          "output_type": "stream",
          "text": [
            "🍩 https://wandb.ai/lavanyashukla/spacerag_novtest2/r/call/0192f800-4e54-7913-b09b-569e72111888\n"
          ]
        },
        {
          "metadata": {
            "tags": null
          },
          "name": "stderr",
          "output_type": "stream",
          "text": [
            "INFO:httpx:HTTP Request: POST https://api.openai.com/v1/chat/completions \"HTTP/1.1 200 OK\"\n"
          ]
        },
        {
          "metadata": {
            "tags": null
          },
          "name": "stdout",
          "output_type": "stream",
          "text": [
            "🍩 https://wandb.ai/lavanyashukla/spacerag_novtest2/r/call/0192f800-5165-7993-ab35-0e4322de9a50\n"
          ]
        },
        {
          "metadata": {
            "tags": null
          },
          "name": "stderr",
          "output_type": "stream",
          "text": [
            "INFO:httpx:HTTP Request: POST https://api.openai.com/v1/chat/completions \"HTTP/1.1 200 OK\"\n",
            "Scoring responses: 100%|██████████| 1/1 [00:08<00:00,  8.16s/it]\n"
          ]
        },
        {
          "metadata": {
            "tags": null
          },
          "name": "stdout",
          "output_type": "stream",
          "text": [
            "🍩 https://wandb.ai/lavanyashukla/spacerag_novtest2/r/call/0192f800-54f1-7753-b395-b0d87712ee42\n"
          ]
        },
        {
          "metadata": {
            "tags": null
          },
          "name": "stderr",
          "output_type": "stream",
          "text": [
            "INFO:httpx:HTTP Request: POST https://api.openai.com/v1/embeddings \"HTTP/1.1 200 OK\"\n"
          ]
        },
        {
          "metadata": {
            "tags": null
          },
          "name": "stdout",
          "output_type": "stream",
          "text": [
            "Question: What are the psychological challenges faced by astronauts during prolonged space missions?\n",
            "Unfortunately, this context does not specifically discuss psychological challenges faced by astronauts during prolonged space missions. It primarily focuses on the physical effects of space travel, such as radiation exposure, weightlessness, and other physiological concerns. Therefore, I cannot provide an answer to this question based on this context.\n",
            "___________________________\n"
          ]
        },
        {
          "metadata": {
            "tags": null
          },
          "name": "stderr",
          "output_type": "stream",
          "text": [
            "INFO:httpx:HTTP Request: POST https://api.openai.com/v1/embeddings \"HTTP/1.1 200 OK\"\n"
          ]
        },
        {
          "metadata": {
            "tags": null
          },
          "name": "stdout",
          "output_type": "stream",
          "text": [
            "Question: How does volcanic activity affect the colonization potential of the Saturnian moons?\n",
            "The text does not mention the effect of volcanic activity on the colonization potential of the Saturnian moons.\n",
            "___________________________\n"
          ]
        },
        {
          "metadata": {
            "tags": null
          },
          "name": "stderr",
          "output_type": "stream",
          "text": [
            "INFO:httpx:HTTP Request: POST https://api.openai.com/v1/embeddings \"HTTP/1.1 200 OK\"\n"
          ]
        },
        {
          "metadata": {
            "tags": null
          },
          "name": "stdout",
          "output_type": "stream",
          "text": [
            "Question: What factors limit the habitability of exoplanets around red dwarf stars?\n",
            "According to the text, the factors that limit the habitability of exoplanets around red dwarf stars are:\n",
            "\n",
            "1. The small size of the star, which means that the planet would have to huddle very close to the star to attain Earth-like surface temperatures.\n",
            "2. The star's gravity would cause tidal locking, resulting in one side of the planet eternally facing the star and the other side always facing away from it.\n",
            "3. The planet would need a thick atmosphere to transfer the star's heat from the day side to the night side, which would prevent sunlight from reaching the surface and prevent photosynthesis.\n",
            "4. The star's flares could greatly reduce the habitability of exoplanets by eroding their atmosphere.\n",
            "___________________________\n"
          ]
        },
        {
          "metadata": {
            "tags": null
          },
          "name": "stderr",
          "output_type": "stream",
          "text": [
            "INFO:httpx:HTTP Request: POST https://api.openai.com/v1/embeddings \"HTTP/1.1 200 OK\"\n"
          ]
        },
        {
          "metadata": {
            "tags": null
          },
          "name": "stdout",
          "output_type": "stream",
          "text": [
            "Question: What is the significance of solar power satellites in the design for space colonization?\n",
            "The significance of solar power satellites (SPS) in the design for space colonization is that they could provide a reliable source of energy to colonies on the Moon, Mars, and other locations in space. SPS could transmit power wirelessly to these locations, eliminating the need for fuel-based power sources and reducing the reliance on Earth-based energy. This could be particularly beneficial for colonies on the Moon and Mars, where solar energy is discontinuous due to nights and dust storms. Additionally, SPS could also provide energy to communications satellites, fuel depots, and other infrastructure in space, making them a crucial component of the space colonization effort.\n",
            "___________________________\n"
          ]
        },
        {
          "metadata": {
            "tags": null
          },
          "name": "stderr",
          "output_type": "stream",
          "text": [
            "INFO:httpx:HTTP Request: POST https://api.openai.com/v1/embeddings \"HTTP/1.1 200 OK\"\n"
          ]
        },
        {
          "metadata": {
            "tags": null
          },
          "name": "stdout",
          "output_type": "stream",
          "text": [
            "Question: What is the chosen method for refining aluminum from lunar anorthosite?\n",
            "The chosen method for refining aluminum from lunar anorthosite is melt-quench-leach production of alumina followed by high temperature electro-winning of aluminum from aluminum chloride.\n",
            "___________________________\n"
          ]
        },
        {
          "metadata": {
            "tags": null
          },
          "name": "stderr",
          "output_type": "stream",
          "text": [
            "INFO:httpx:HTTP Request: POST https://api.openai.com/v1/embeddings \"HTTP/1.1 200 OK\"\n"
          ]
        },
        {
          "metadata": {
            "tags": null
          },
          "name": "stdout",
          "output_type": "stream",
          "text": [
            "Question: How does the expense of providing human workers encourage reliance on automation and push for extreme reliability and maintainability in space commercial ventures?\n",
            "There is no direct answer to this question in the provided context. The text does not mention how the expense of providing human workers encourages reliance on automation and pushes for extreme reliability and maintainability in space commercial ventures.\n",
            "___________________________\n"
          ]
        },
        {
          "metadata": {
            "tags": null
          },
          "name": "stderr",
          "output_type": "stream",
          "text": [
            "INFO:httpx:HTTP Request: POST https://api.openai.com/v1/embeddings \"HTTP/1.1 200 OK\"\n"
          ]
        },
        {
          "metadata": {
            "tags": null
          },
          "name": "stdout",
          "output_type": "stream",
          "text": [
            "Question: What are the suggested advantageous locations for colonization according to Robert Zubrin?\n",
            "According to Robert Zubrin, the suggested advantageous locations for colonization are Saturn, Uranus, and Neptune, due to their atmospheres being good sources of fusion fuels, such as deuterium and helium-3.\n",
            "___________________________\n"
          ]
        },
        {
          "metadata": {
            "tags": null
          },
          "name": "stderr",
          "output_type": "stream",
          "text": [
            "INFO:httpx:HTTP Request: POST https://api.openai.com/v1/embeddings \"HTTP/1.1 200 OK\"\n"
          ]
        },
        {
          "metadata": {
            "tags": null
          },
          "name": "stdout",
          "output_type": "stream",
          "text": [
            "Question: What are the chief assumptions about habitable planets in terms of their characteristics?\n",
            "According to the text, the chief assumptions about habitable planets are that they are:\n",
            "\n",
            "1. Rocky and terrestrial-type planets and moons with the potential for Earth-like chemistry.\n",
            "2. Located in habitable zones around their host stars, where liquid water can exist on their surfaces.\n",
            "3. Potentially hosting alternative biochemistries and located in specific types of astronomical bodies.\n",
            "4. Similar to Earth in terms of their bulk composition, orbital properties, atmosphere, and potential chemical interactions.\n",
            "5. Possibly hosting extremophiles, which are organisms that can survive in extreme habitats.\n",
            "___________________________\n"
          ]
        },
        {
          "metadata": {
            "tags": null
          },
          "name": "stderr",
          "output_type": "stream",
          "text": [
            "INFO:httpx:HTTP Request: POST https://api.openai.com/v1/embeddings \"HTTP/1.1 200 OK\"\n"
          ]
        },
        {
          "metadata": {
            "tags": null
          },
          "name": "stdout",
          "output_type": "stream",
          "text": [
            "Question: How has space colonization been discussed as a continuation of imperialism and colonialism?\n",
            "Space colonization has been discussed as a continuation of imperialism and colonialism in several ways:\n",
            "\n",
            "* It has been seen as a postcolonial continuation of imperialism and colonialism, with critics arguing that space colonization would primarily benefit wealthy elites and perpetuate existing power structures.\n",
            "* The narrative of the \"New Frontier\" has been criticized as an unreflected continuation of settler colonialism and manifest destiny.\n",
            "* Space colonization has been identified as a new sacrifice zone of colonialism, where the same exploitative practices would be repeated.\n",
            "* The advocacy for territorial colonization of Mars has been called \"surfacism\", a concept similar to surface chauvinism.\n",
            "* Space infrastructure such as the Mauna Kea Observatories and the Guiana Space Centre have been criticized and protested against as being colonialist.\n",
            "\n",
            "Overall, critics argue that space colonization would perpetuate existing colonial and imperialist power structures, and that it is essential to decolonize space and promote inclusive and democratic participation in space exploration and habitation.\n",
            "___________________________\n"
          ]
        },
        {
          "metadata": {
            "tags": null
          },
          "name": "stderr",
          "output_type": "stream",
          "text": [
            "INFO:httpx:HTTP Request: POST https://api.openai.com/v1/embeddings \"HTTP/1.1 200 OK\"\n"
          ]
        },
        {
          "metadata": {
            "tags": null
          },
          "name": "stdout",
          "output_type": "stream",
          "text": [
            "Question: What are some criticisms of space colonization?\n",
            "Some criticisms of space colonization include:\n",
            "\n",
            "* The costs of commercial activity in space are too high to be profitable against Earth-based industries.\n",
            "* The forthcoming colonization and commodification of the cosmos is likely to enhance the interests of the already powerful, including major economic and military institutions.\n",
            "* A slowdown in population growth rates since the 1980s has alleviated the risk of overpopulation, making space colonization less necessary.\n",
            "* Changing only the location but not the logic of exploitation will not create a more sustainable future.\n",
            "* Shipping any excess population into space is not a viable solution to human overpopulation.\n",
            "___________________________\n"
          ]
        },
        {
          "data": {
            "text/html": [
              "<pre style=\"white-space:pre;overflow-x:auto;line-height:normal;font-family:Menlo,'DejaVu Sans Mono',consolas,'Courier New',monospace\">Evaluated <span style=\"color: #008080; text-decoration-color: #008080; font-weight: bold\">21</span> of <span style=\"color: #008080; text-decoration-color: #008080; font-weight: bold\">50</span> examples\n",
              "</pre>\n"
            ],
            "text/plain": [
              "Evaluated \u001b[1;36m21\u001b[0m of \u001b[1;36m50\u001b[0m examples\n"
            ]
          },
          "metadata": {},
          "output_type": "display_data"
        },
        {
          "data": {
            "text/html": [
              "<pre style=\"white-space:pre;overflow-x:auto;line-height:normal;font-family:Menlo,'DejaVu Sans Mono',consolas,'Courier New',monospace\">Evaluated <span style=\"color: #008080; text-decoration-color: #008080; font-weight: bold\">22</span> of <span style=\"color: #008080; text-decoration-color: #008080; font-weight: bold\">50</span> examples\n",
              "</pre>\n"
            ],
            "text/plain": [
              "Evaluated \u001b[1;36m22\u001b[0m of \u001b[1;36m50\u001b[0m examples\n"
            ]
          },
          "metadata": {},
          "output_type": "display_data"
        },
        {
          "data": {
            "text/html": [
              "<pre style=\"white-space:pre;overflow-x:auto;line-height:normal;font-family:Menlo,'DejaVu Sans Mono',consolas,'Courier New',monospace\">Evaluated <span style=\"color: #008080; text-decoration-color: #008080; font-weight: bold\">23</span> of <span style=\"color: #008080; text-decoration-color: #008080; font-weight: bold\">50</span> examples\n",
              "</pre>\n"
            ],
            "text/plain": [
              "Evaluated \u001b[1;36m23\u001b[0m of \u001b[1;36m50\u001b[0m examples\n"
            ]
          },
          "metadata": {},
          "output_type": "display_data"
        },
        {
          "data": {
            "text/html": [
              "<pre style=\"white-space:pre;overflow-x:auto;line-height:normal;font-family:Menlo,'DejaVu Sans Mono',consolas,'Courier New',monospace\">Evaluated <span style=\"color: #008080; text-decoration-color: #008080; font-weight: bold\">24</span> of <span style=\"color: #008080; text-decoration-color: #008080; font-weight: bold\">50</span> examples\n",
              "</pre>\n"
            ],
            "text/plain": [
              "Evaluated \u001b[1;36m24\u001b[0m of \u001b[1;36m50\u001b[0m examples\n"
            ]
          },
          "metadata": {},
          "output_type": "display_data"
        },
        {
          "data": {
            "text/html": [
              "<pre style=\"white-space:pre;overflow-x:auto;line-height:normal;font-family:Menlo,'DejaVu Sans Mono',consolas,'Courier New',monospace\">Evaluated <span style=\"color: #008080; text-decoration-color: #008080; font-weight: bold\">25</span> of <span style=\"color: #008080; text-decoration-color: #008080; font-weight: bold\">50</span> examples\n",
              "</pre>\n"
            ],
            "text/plain": [
              "Evaluated \u001b[1;36m25\u001b[0m of \u001b[1;36m50\u001b[0m examples\n"
            ]
          },
          "metadata": {},
          "output_type": "display_data"
        },
        {
          "data": {
            "text/html": [
              "<pre style=\"white-space:pre;overflow-x:auto;line-height:normal;font-family:Menlo,'DejaVu Sans Mono',consolas,'Courier New',monospace\">Evaluated <span style=\"color: #008080; text-decoration-color: #008080; font-weight: bold\">26</span> of <span style=\"color: #008080; text-decoration-color: #008080; font-weight: bold\">50</span> examples\n",
              "</pre>\n"
            ],
            "text/plain": [
              "Evaluated \u001b[1;36m26\u001b[0m of \u001b[1;36m50\u001b[0m examples\n"
            ]
          },
          "metadata": {},
          "output_type": "display_data"
        },
        {
          "data": {
            "text/html": [
              "<pre style=\"white-space:pre;overflow-x:auto;line-height:normal;font-family:Menlo,'DejaVu Sans Mono',consolas,'Courier New',monospace\">Evaluated <span style=\"color: #008080; text-decoration-color: #008080; font-weight: bold\">27</span> of <span style=\"color: #008080; text-decoration-color: #008080; font-weight: bold\">50</span> examples\n",
              "</pre>\n"
            ],
            "text/plain": [
              "Evaluated \u001b[1;36m27\u001b[0m of \u001b[1;36m50\u001b[0m examples\n"
            ]
          },
          "metadata": {},
          "output_type": "display_data"
        },
        {
          "data": {
            "text/html": [
              "<pre style=\"white-space:pre;overflow-x:auto;line-height:normal;font-family:Menlo,'DejaVu Sans Mono',consolas,'Courier New',monospace\">Evaluated <span style=\"color: #008080; text-decoration-color: #008080; font-weight: bold\">28</span> of <span style=\"color: #008080; text-decoration-color: #008080; font-weight: bold\">50</span> examples\n",
              "</pre>\n"
            ],
            "text/plain": [
              "Evaluated \u001b[1;36m28\u001b[0m of \u001b[1;36m50\u001b[0m examples\n"
            ]
          },
          "metadata": {},
          "output_type": "display_data"
        },
        {
          "data": {
            "text/html": [
              "<pre style=\"white-space:pre;overflow-x:auto;line-height:normal;font-family:Menlo,'DejaVu Sans Mono',consolas,'Courier New',monospace\">Evaluated <span style=\"color: #008080; text-decoration-color: #008080; font-weight: bold\">29</span> of <span style=\"color: #008080; text-decoration-color: #008080; font-weight: bold\">50</span> examples\n",
              "</pre>\n"
            ],
            "text/plain": [
              "Evaluated \u001b[1;36m29\u001b[0m of \u001b[1;36m50\u001b[0m examples\n"
            ]
          },
          "metadata": {},
          "output_type": "display_data"
        },
        {
          "data": {
            "text/html": [
              "<pre style=\"white-space:pre;overflow-x:auto;line-height:normal;font-family:Menlo,'DejaVu Sans Mono',consolas,'Courier New',monospace\">Evaluated <span style=\"color: #008080; text-decoration-color: #008080; font-weight: bold\">30</span> of <span style=\"color: #008080; text-decoration-color: #008080; font-weight: bold\">50</span> examples\n",
              "</pre>\n"
            ],
            "text/plain": [
              "Evaluated \u001b[1;36m30\u001b[0m of \u001b[1;36m50\u001b[0m examples\n"
            ]
          },
          "metadata": {},
          "output_type": "display_data"
        },
        {
          "data": {
            "text/html": [
              "<pre style=\"white-space:pre;overflow-x:auto;line-height:normal;font-family:Menlo,'DejaVu Sans Mono',consolas,'Courier New',monospace\">Evaluated <span style=\"color: #008080; text-decoration-color: #008080; font-weight: bold\">31</span> of <span style=\"color: #008080; text-decoration-color: #008080; font-weight: bold\">50</span> examples\n",
              "</pre>\n"
            ],
            "text/plain": [
              "Evaluated \u001b[1;36m31\u001b[0m of \u001b[1;36m50\u001b[0m examples\n"
            ]
          },
          "metadata": {},
          "output_type": "display_data"
        },
        {
          "data": {
            "text/html": [
              "<pre style=\"white-space:pre;overflow-x:auto;line-height:normal;font-family:Menlo,'DejaVu Sans Mono',consolas,'Courier New',monospace\">Evaluated <span style=\"color: #008080; text-decoration-color: #008080; font-weight: bold\">32</span> of <span style=\"color: #008080; text-decoration-color: #008080; font-weight: bold\">50</span> examples\n",
              "</pre>\n"
            ],
            "text/plain": [
              "Evaluated \u001b[1;36m32\u001b[0m of \u001b[1;36m50\u001b[0m examples\n"
            ]
          },
          "metadata": {},
          "output_type": "display_data"
        },
        {
          "data": {
            "text/html": [
              "<pre style=\"white-space:pre;overflow-x:auto;line-height:normal;font-family:Menlo,'DejaVu Sans Mono',consolas,'Courier New',monospace\">Evaluated <span style=\"color: #008080; text-decoration-color: #008080; font-weight: bold\">33</span> of <span style=\"color: #008080; text-decoration-color: #008080; font-weight: bold\">50</span> examples\n",
              "</pre>\n"
            ],
            "text/plain": [
              "Evaluated \u001b[1;36m33\u001b[0m of \u001b[1;36m50\u001b[0m examples\n"
            ]
          },
          "metadata": {},
          "output_type": "display_data"
        },
        {
          "data": {
            "text/html": [
              "<pre style=\"white-space:pre;overflow-x:auto;line-height:normal;font-family:Menlo,'DejaVu Sans Mono',consolas,'Courier New',monospace\">Evaluated <span style=\"color: #008080; text-decoration-color: #008080; font-weight: bold\">34</span> of <span style=\"color: #008080; text-decoration-color: #008080; font-weight: bold\">50</span> examples\n",
              "</pre>\n"
            ],
            "text/plain": [
              "Evaluated \u001b[1;36m34\u001b[0m of \u001b[1;36m50\u001b[0m examples\n"
            ]
          },
          "metadata": {},
          "output_type": "display_data"
        },
        {
          "data": {
            "text/html": [
              "<pre style=\"white-space:pre;overflow-x:auto;line-height:normal;font-family:Menlo,'DejaVu Sans Mono',consolas,'Courier New',monospace\">Evaluated <span style=\"color: #008080; text-decoration-color: #008080; font-weight: bold\">35</span> of <span style=\"color: #008080; text-decoration-color: #008080; font-weight: bold\">50</span> examples\n",
              "</pre>\n"
            ],
            "text/plain": [
              "Evaluated \u001b[1;36m35\u001b[0m of \u001b[1;36m50\u001b[0m examples\n"
            ]
          },
          "metadata": {},
          "output_type": "display_data"
        },
        {
          "data": {
            "text/html": [
              "<pre style=\"white-space:pre;overflow-x:auto;line-height:normal;font-family:Menlo,'DejaVu Sans Mono',consolas,'Courier New',monospace\">Evaluated <span style=\"color: #008080; text-decoration-color: #008080; font-weight: bold\">36</span> of <span style=\"color: #008080; text-decoration-color: #008080; font-weight: bold\">50</span> examples\n",
              "</pre>\n"
            ],
            "text/plain": [
              "Evaluated \u001b[1;36m36\u001b[0m of \u001b[1;36m50\u001b[0m examples\n"
            ]
          },
          "metadata": {},
          "output_type": "display_data"
        },
        {
          "data": {
            "text/html": [
              "<pre style=\"white-space:pre;overflow-x:auto;line-height:normal;font-family:Menlo,'DejaVu Sans Mono',consolas,'Courier New',monospace\">Evaluated <span style=\"color: #008080; text-decoration-color: #008080; font-weight: bold\">37</span> of <span style=\"color: #008080; text-decoration-color: #008080; font-weight: bold\">50</span> examples\n",
              "</pre>\n"
            ],
            "text/plain": [
              "Evaluated \u001b[1;36m37\u001b[0m of \u001b[1;36m50\u001b[0m examples\n"
            ]
          },
          "metadata": {},
          "output_type": "display_data"
        },
        {
          "metadata": {
            "tags": null
          },
          "name": "stdout",
          "output_type": "stream",
          "text": [
            "{\"concise\": false}\n",
            "{\"relevant\": false}\n",
            "{\"accurate\": false}\n",
            "{\"concise\": false}\n",
            "{\"relevant\": false}\n",
            "{\"accurate\": false}\n",
            "{\"concise\": true}\n",
            "{\"relevant\": true}\n",
            "{\"accurate\": true}\n",
            "{\"concise\": true}\n",
            "{\"relevant\": true}\n",
            "{\"accurate\": true}\n",
            "{\"concise\":true}\n",
            "{\"relevant\": true}\n",
            "{\"accurate\": true}\n",
            "{\"concise\": false}\n",
            "{\"relevant\": false}\n",
            "{\"accurate\": false}\n",
            "{\"concise\": true}\n",
            "{\"relevant\": true}\n",
            "{\"accurate\": true}\n",
            "{\"concise\": false}\n",
            "{\"relevant\": false}\n",
            "{\"accurate\": false}\n",
            "{\"concise\": false}\n",
            "{\"relevant\": true}\n",
            "{\"accurate\": true}\n",
            "{\"concise\": true}\n",
            "{\"relevant\": true}\n",
            "{\"accurate\": true}\n"
          ]
        },
        {
          "data": {
            "text/html": [
              "<pre style=\"white-space:pre;overflow-x:auto;line-height:normal;font-family:Menlo,'DejaVu Sans Mono',consolas,'Courier New',monospace\">Evaluated <span style=\"color: #008080; text-decoration-color: #008080; font-weight: bold\">38</span> of <span style=\"color: #008080; text-decoration-color: #008080; font-weight: bold\">50</span> examples\n",
              "</pre>\n"
            ],
            "text/plain": [
              "Evaluated \u001b[1;36m38\u001b[0m of \u001b[1;36m50\u001b[0m examples\n"
            ]
          },
          "metadata": {},
          "output_type": "display_data"
        },
        {
          "data": {
            "text/html": [
              "<pre style=\"white-space:pre;overflow-x:auto;line-height:normal;font-family:Menlo,'DejaVu Sans Mono',consolas,'Courier New',monospace\">Evaluated <span style=\"color: #008080; text-decoration-color: #008080; font-weight: bold\">39</span> of <span style=\"color: #008080; text-decoration-color: #008080; font-weight: bold\">50</span> examples\n",
              "</pre>\n"
            ],
            "text/plain": [
              "Evaluated \u001b[1;36m39\u001b[0m of \u001b[1;36m50\u001b[0m examples\n"
            ]
          },
          "metadata": {},
          "output_type": "display_data"
        },
        {
          "data": {
            "text/html": [
              "<pre style=\"white-space:pre;overflow-x:auto;line-height:normal;font-family:Menlo,'DejaVu Sans Mono',consolas,'Courier New',monospace\">Evaluated <span style=\"color: #008080; text-decoration-color: #008080; font-weight: bold\">40</span> of <span style=\"color: #008080; text-decoration-color: #008080; font-weight: bold\">50</span> examples\n",
              "</pre>\n"
            ],
            "text/plain": [
              "Evaluated \u001b[1;36m40\u001b[0m of \u001b[1;36m50\u001b[0m examples\n"
            ]
          },
          "metadata": {},
          "output_type": "display_data"
        },
        {
          "metadata": {
            "tags": null
          },
          "name": "stderr",
          "output_type": "stream",
          "text": [
            "Retrieving responses: 100%|██████████| 1/1 [00:00<00:00, 744.73it/s]\n",
            "Scoring responses:   0%|          | 0/1 [00:00<?, ?it/s]INFO:httpx:HTTP Request: POST https://api.openai.com/v1/chat/completions \"HTTP/1.1 200 OK\"\n"
          ]
        },
        {
          "metadata": {
            "tags": null
          },
          "name": "stdout",
          "output_type": "stream",
          "text": [
            "🍩 https://wandb.ai/lavanyashukla/spacerag_novtest2/r/call/0192f801-4a2f-7b50-a239-9031b48d9561\n"
          ]
        },
        {
          "metadata": {
            "tags": null
          },
          "name": "stderr",
          "output_type": "stream",
          "text": [
            "INFO:httpx:HTTP Request: POST https://api.openai.com/v1/chat/completions \"HTTP/1.1 200 OK\"\n"
          ]
        },
        {
          "metadata": {
            "tags": null
          },
          "name": "stdout",
          "output_type": "stream",
          "text": [
            "🍩 https://wandb.ai/lavanyashukla/spacerag_novtest2/r/call/0192f801-4cd4-7652-8364-f1b481491c77\n"
          ]
        },
        {
          "metadata": {
            "tags": null
          },
          "name": "stderr",
          "output_type": "stream",
          "text": [
            "INFO:httpx:HTTP Request: POST https://api.openai.com/v1/chat/completions \"HTTP/1.1 200 OK\"\n"
          ]
        },
        {
          "metadata": {
            "tags": null
          },
          "name": "stdout",
          "output_type": "stream",
          "text": [
            "🍩 https://wandb.ai/lavanyashukla/spacerag_novtest2/r/call/0192f801-4ff2-7ba0-bc0d-3d46ae351cf9\n"
          ]
        },
        {
          "metadata": {
            "tags": null
          },
          "name": "stderr",
          "output_type": "stream",
          "text": [
            "INFO:httpx:HTTP Request: POST https://api.openai.com/v1/chat/completions \"HTTP/1.1 200 OK\"\n"
          ]
        },
        {
          "metadata": {
            "tags": null
          },
          "name": "stdout",
          "output_type": "stream",
          "text": [
            "🍩 https://wandb.ai/lavanyashukla/spacerag_novtest2/r/call/0192f801-5bc7-7450-8bfa-b6f8b9d8d23f\n"
          ]
        },
        {
          "metadata": {
            "tags": null
          },
          "name": "stderr",
          "output_type": "stream",
          "text": [
            "INFO:httpx:HTTP Request: POST https://api.openai.com/v1/chat/completions \"HTTP/1.1 200 OK\"\n"
          ]
        },
        {
          "metadata": {
            "tags": null
          },
          "name": "stdout",
          "output_type": "stream",
          "text": [
            "🍩 https://wandb.ai/lavanyashukla/spacerag_novtest2/r/call/0192f801-6109-7603-8876-7d0cc5c3fe14\n"
          ]
        },
        {
          "metadata": {
            "tags": null
          },
          "name": "stderr",
          "output_type": "stream",
          "text": [
            "INFO:httpx:HTTP Request: POST https://api.openai.com/v1/chat/completions \"HTTP/1.1 200 OK\"\n",
            "Scoring responses: 100%|██████████| 1/1 [00:07<00:00,  7.50s/it]\n"
          ]
        },
        {
          "metadata": {
            "tags": null
          },
          "name": "stdout",
          "output_type": "stream",
          "text": [
            "🍩 https://wandb.ai/lavanyashukla/spacerag_novtest2/r/call/0192f801-6428-7cd0-868c-d61a49e1892e\n"
          ]
        },
        {
          "metadata": {
            "tags": null
          },
          "name": "stderr",
          "output_type": "stream",
          "text": [
            "Retrieving responses: 100%|██████████| 1/1 [00:00<00:00, 4877.10it/s]\n",
            "Scoring responses:   0%|          | 0/1 [00:00<?, ?it/s]INFO:httpx:HTTP Request: POST https://api.openai.com/v1/chat/completions \"HTTP/1.1 200 OK\"\n"
          ]
        },
        {
          "metadata": {
            "tags": null
          },
          "name": "stdout",
          "output_type": "stream",
          "text": [
            "🍩 https://wandb.ai/lavanyashukla/spacerag_novtest2/r/call/0192f801-6b89-78f0-8bad-c8614b0cf9b3\n"
          ]
        },
        {
          "metadata": {
            "tags": null
          },
          "name": "stderr",
          "output_type": "stream",
          "text": [
            "INFO:httpx:HTTP Request: POST https://api.openai.com/v1/chat/completions \"HTTP/1.1 200 OK\"\n"
          ]
        },
        {
          "metadata": {
            "tags": null
          },
          "name": "stdout",
          "output_type": "stream",
          "text": [
            "🍩 https://wandb.ai/lavanyashukla/spacerag_novtest2/r/call/0192f801-6dc9-7d10-b978-cd8add0ee49f\n"
          ]
        },
        {
          "metadata": {
            "tags": null
          },
          "name": "stderr",
          "output_type": "stream",
          "text": [
            "INFO:httpx:HTTP Request: POST https://api.openai.com/v1/chat/completions \"HTTP/1.1 200 OK\"\n"
          ]
        },
        {
          "metadata": {
            "tags": null
          },
          "name": "stdout",
          "output_type": "stream",
          "text": [
            "🍩 https://wandb.ai/lavanyashukla/spacerag_novtest2/r/call/0192f801-6fe4-7971-befb-e5f59ad448cf\n"
          ]
        },
        {
          "metadata": {
            "tags": null
          },
          "name": "stderr",
          "output_type": "stream",
          "text": [
            "INFO:httpx:HTTP Request: POST https://api.openai.com/v1/chat/completions \"HTTP/1.1 200 OK\"\n"
          ]
        },
        {
          "metadata": {
            "tags": null
          },
          "name": "stdout",
          "output_type": "stream",
          "text": [
            "🍩 https://wandb.ai/lavanyashukla/spacerag_novtest2/r/call/0192f801-79d3-7bb3-a652-6998b9397ecb\n"
          ]
        },
        {
          "metadata": {
            "tags": null
          },
          "name": "stderr",
          "output_type": "stream",
          "text": [
            "INFO:httpx:HTTP Request: POST https://api.openai.com/v1/chat/completions \"HTTP/1.1 200 OK\"\n"
          ]
        },
        {
          "metadata": {
            "tags": null
          },
          "name": "stdout",
          "output_type": "stream",
          "text": [
            "🍩 https://wandb.ai/lavanyashukla/spacerag_novtest2/r/call/0192f801-7d80-7912-8a49-9777a0eb0f1e\n"
          ]
        },
        {
          "metadata": {
            "tags": null
          },
          "name": "stderr",
          "output_type": "stream",
          "text": [
            "INFO:httpx:HTTP Request: POST https://api.openai.com/v1/chat/completions \"HTTP/1.1 200 OK\"\n",
            "Scoring responses: 100%|██████████| 1/1 [00:06<00:00,  6.71s/it]\n"
          ]
        },
        {
          "metadata": {
            "tags": null
          },
          "name": "stdout",
          "output_type": "stream",
          "text": [
            "🍩 https://wandb.ai/lavanyashukla/spacerag_novtest2/r/call/0192f801-80f3-7990-926f-b9a0ee436fa9\n"
          ]
        },
        {
          "metadata": {
            "tags": null
          },
          "name": "stderr",
          "output_type": "stream",
          "text": [
            "Retrieving responses: 100%|██████████| 1/1 [00:00<00:00, 6700.17it/s]\n",
            "Scoring responses:   0%|          | 0/1 [00:00<?, ?it/s]INFO:httpx:HTTP Request: POST https://api.openai.com/v1/chat/completions \"HTTP/1.1 200 OK\"\n"
          ]
        },
        {
          "metadata": {
            "tags": null
          },
          "name": "stdout",
          "output_type": "stream",
          "text": [
            "🍩 https://wandb.ai/lavanyashukla/spacerag_novtest2/r/call/0192f801-894d-7ef3-857f-bee55dd88127\n"
          ]
        },
        {
          "metadata": {
            "tags": null
          },
          "name": "stderr",
          "output_type": "stream",
          "text": [
            "INFO:httpx:HTTP Request: POST https://api.openai.com/v1/chat/completions \"HTTP/1.1 200 OK\"\n"
          ]
        },
        {
          "metadata": {
            "tags": null
          },
          "name": "stdout",
          "output_type": "stream",
          "text": [
            "🍩 https://wandb.ai/lavanyashukla/spacerag_novtest2/r/call/0192f801-94d4-75a3-a8a0-8aafbf2ec6c1\n"
          ]
        },
        {
          "metadata": {
            "tags": null
          },
          "name": "stderr",
          "output_type": "stream",
          "text": [
            "INFO:httpx:HTTP Request: POST https://api.openai.com/v1/chat/completions \"HTTP/1.1 200 OK\"\n"
          ]
        },
        {
          "metadata": {
            "tags": null
          },
          "name": "stdout",
          "output_type": "stream",
          "text": [
            "🍩 https://wandb.ai/lavanyashukla/spacerag_novtest2/r/call/0192f801-975c-7d42-a941-44b58cb82ec7\n"
          ]
        },
        {
          "metadata": {
            "tags": null
          },
          "name": "stderr",
          "output_type": "stream",
          "text": [
            "INFO:httpx:HTTP Request: POST https://api.openai.com/v1/chat/completions \"HTTP/1.1 200 OK\"\n"
          ]
        },
        {
          "metadata": {
            "tags": null
          },
          "name": "stdout",
          "output_type": "stream",
          "text": [
            "🍩 https://wandb.ai/lavanyashukla/spacerag_novtest2/r/call/0192f801-ac2a-70b0-8144-2d07b6c38935\n"
          ]
        },
        {
          "metadata": {
            "tags": null
          },
          "name": "stderr",
          "output_type": "stream",
          "text": [
            "INFO:httpx:HTTP Request: POST https://api.openai.com/v1/chat/completions \"HTTP/1.1 200 OK\"\n"
          ]
        },
        {
          "metadata": {
            "tags": null
          },
          "name": "stdout",
          "output_type": "stream",
          "text": [
            "🍩 https://wandb.ai/lavanyashukla/spacerag_novtest2/r/call/0192f801-afa3-7e82-a3af-2e3c0e77a82a\n"
          ]
        },
        {
          "metadata": {
            "tags": null
          },
          "name": "stderr",
          "output_type": "stream",
          "text": [
            "INFO:httpx:HTTP Request: POST https://api.openai.com/v1/chat/completions \"HTTP/1.1 200 OK\"\n"
          ]
        },
        {
          "metadata": {
            "tags": null
          },
          "name": "stdout",
          "output_type": "stream",
          "text": [
            "🍩 https://wandb.ai/lavanyashukla/spacerag_novtest2/r/call/0192f801-b719-7b11-88fa-313111f7eaac\n"
          ]
        },
        {
          "metadata": {
            "tags": null
          },
          "name": "stderr",
          "output_type": "stream",
          "text": [
            "INFO:httpx:HTTP Request: POST https://api.openai.com/v1/chat/completions \"HTTP/1.1 200 OK\"\n",
            "Scoring responses: 100%|██████████| 1/1 [00:14<00:00, 14.04s/it]\n"
          ]
        },
        {
          "metadata": {
            "tags": null
          },
          "name": "stdout",
          "output_type": "stream",
          "text": [
            "🍩 https://wandb.ai/lavanyashukla/spacerag_novtest2/r/call/0192f801-bc3e-7ea1-a70c-bb0992f0bf4e\n"
          ]
        },
        {
          "metadata": {
            "tags": null
          },
          "name": "stderr",
          "output_type": "stream",
          "text": [
            "Retrieving responses: 100%|██████████| 1/1 [00:00<00:00, 6307.22it/s]\n",
            "Scoring responses:   0%|          | 0/1 [00:00<?, ?it/s]INFO:httpx:HTTP Request: POST https://api.openai.com/v1/chat/completions \"HTTP/1.1 200 OK\"\n"
          ]
        },
        {
          "metadata": {
            "tags": null
          },
          "name": "stdout",
          "output_type": "stream",
          "text": [
            "🍩 https://wandb.ai/lavanyashukla/spacerag_novtest2/r/call/0192f801-c40e-77c3-af90-abd43023c11d\n"
          ]
        },
        {
          "metadata": {
            "tags": null
          },
          "name": "stderr",
          "output_type": "stream",
          "text": [
            "INFO:httpx:HTTP Request: POST https://api.openai.com/v1/chat/completions \"HTTP/1.1 200 OK\"\n"
          ]
        },
        {
          "metadata": {
            "tags": null
          },
          "name": "stdout",
          "output_type": "stream",
          "text": [
            "🍩 https://wandb.ai/lavanyashukla/spacerag_novtest2/r/call/0192f801-c8c7-7360-9092-bc77b62f7f70\n"
          ]
        },
        {
          "metadata": {
            "tags": null
          },
          "name": "stderr",
          "output_type": "stream",
          "text": [
            "INFO:httpx:HTTP Request: POST https://api.openai.com/v1/chat/completions \"HTTP/1.1 200 OK\"\n"
          ]
        },
        {
          "metadata": {
            "tags": null
          },
          "name": "stdout",
          "output_type": "stream",
          "text": [
            "🍩 https://wandb.ai/lavanyashukla/spacerag_novtest2/r/call/0192f801-cb1d-7d43-bdf1-6b9a1a17c26d\n"
          ]
        },
        {
          "metadata": {
            "tags": null
          },
          "name": "stderr",
          "output_type": "stream",
          "text": [
            "INFO:httpx:HTTP Request: POST https://api.openai.com/v1/chat/completions \"HTTP/1.1 200 OK\"\n"
          ]
        },
        {
          "metadata": {
            "tags": null
          },
          "name": "stdout",
          "output_type": "stream",
          "text": [
            "🍩 https://wandb.ai/lavanyashukla/spacerag_novtest2/r/call/0192f801-e555-71d0-969e-093aa996a82a\n"
          ]
        },
        {
          "metadata": {
            "tags": null
          },
          "name": "stderr",
          "output_type": "stream",
          "text": [
            "INFO:httpx:HTTP Request: POST https://api.openai.com/v1/chat/completions \"HTTP/1.1 200 OK\"\n"
          ]
        },
        {
          "metadata": {
            "tags": null
          },
          "name": "stdout",
          "output_type": "stream",
          "text": [
            "🍩 https://wandb.ai/lavanyashukla/spacerag_novtest2/r/call/0192f801-e8bf-7a40-a29e-23209cf17dd2\n"
          ]
        },
        {
          "metadata": {
            "tags": null
          },
          "name": "stderr",
          "output_type": "stream",
          "text": [
            "INFO:httpx:HTTP Request: POST https://api.openai.com/v1/chat/completions \"HTTP/1.1 200 OK\"\n"
          ]
        },
        {
          "metadata": {
            "tags": null
          },
          "name": "stdout",
          "output_type": "stream",
          "text": [
            "🍩 https://wandb.ai/lavanyashukla/spacerag_novtest2/r/call/0192f801-ec13-7492-b2b2-faf9c01800fd\n"
          ]
        },
        {
          "metadata": {
            "tags": null
          },
          "name": "stderr",
          "output_type": "stream",
          "text": [
            "INFO:httpx:HTTP Request: POST https://api.openai.com/v1/chat/completions \"HTTP/1.1 200 OK\"\n",
            "Scoring responses: 100%|██████████| 1/1 [00:11<00:00, 11.96s/it]\n"
          ]
        },
        {
          "metadata": {
            "tags": null
          },
          "name": "stdout",
          "output_type": "stream",
          "text": [
            "🍩 https://wandb.ai/lavanyashukla/spacerag_novtest2/r/call/0192f801-ef7f-7b62-bdfa-ee75aa792ce6\n"
          ]
        },
        {
          "metadata": {
            "tags": null
          },
          "name": "stderr",
          "output_type": "stream",
          "text": [
            "Retrieving responses: 100%|██████████| 1/1 [00:00<00:00, 656.69it/s]\n",
            "Scoring responses:   0%|          | 0/1 [00:00<?, ?it/s]INFO:httpx:HTTP Request: POST https://api.openai.com/v1/chat/completions \"HTTP/1.1 200 OK\"\n"
          ]
        },
        {
          "metadata": {
            "tags": null
          },
          "name": "stdout",
          "output_type": "stream",
          "text": [
            "🍩 https://wandb.ai/lavanyashukla/spacerag_novtest2/r/call/0192f801-f6a9-7520-ace4-0985f7b2e5db\n"
          ]
        },
        {
          "metadata": {
            "tags": null
          },
          "name": "stderr",
          "output_type": "stream",
          "text": [
            "INFO:httpx:HTTP Request: POST https://api.openai.com/v1/chat/completions \"HTTP/1.1 200 OK\"\n"
          ]
        },
        {
          "metadata": {
            "tags": null
          },
          "name": "stdout",
          "output_type": "stream",
          "text": [
            "🍩 https://wandb.ai/lavanyashukla/spacerag_novtest2/r/call/0192f801-f937-7553-aab5-9c73b3c69f34\n"
          ]
        },
        {
          "metadata": {
            "tags": null
          },
          "name": "stderr",
          "output_type": "stream",
          "text": [
            "INFO:httpx:HTTP Request: POST https://api.openai.com/v1/chat/completions \"HTTP/1.1 200 OK\"\n"
          ]
        },
        {
          "metadata": {
            "tags": null
          },
          "name": "stdout",
          "output_type": "stream",
          "text": [
            "🍩 https://wandb.ai/lavanyashukla/spacerag_novtest2/r/call/0192f801-fd20-7fb3-b346-e485f9f2583a\n"
          ]
        },
        {
          "metadata": {
            "tags": null
          },
          "name": "stderr",
          "output_type": "stream",
          "text": [
            "INFO:httpx:HTTP Request: POST https://api.openai.com/v1/chat/completions \"HTTP/1.1 200 OK\"\n"
          ]
        },
        {
          "metadata": {
            "tags": null
          },
          "name": "stdout",
          "output_type": "stream",
          "text": [
            "🍩 https://wandb.ai/lavanyashukla/spacerag_novtest2/r/call/0192f802-1481-7b42-92c4-f88199f5cd47\n"
          ]
        },
        {
          "metadata": {
            "tags": null
          },
          "name": "stderr",
          "output_type": "stream",
          "text": [
            "INFO:httpx:HTTP Request: POST https://api.openai.com/v1/chat/completions \"HTTP/1.1 200 OK\"\n"
          ]
        },
        {
          "metadata": {
            "tags": null
          },
          "name": "stdout",
          "output_type": "stream",
          "text": [
            "🍩 https://wandb.ai/lavanyashukla/spacerag_novtest2/r/call/0192f802-1991-7e71-b872-144e15a7c7ed\n"
          ]
        },
        {
          "metadata": {
            "tags": null
          },
          "name": "stderr",
          "output_type": "stream",
          "text": [
            "INFO:httpx:HTTP Request: POST https://api.openai.com/v1/chat/completions \"HTTP/1.1 200 OK\"\n"
          ]
        },
        {
          "metadata": {
            "tags": null
          },
          "name": "stdout",
          "output_type": "stream",
          "text": [
            "🍩 https://wandb.ai/lavanyashukla/spacerag_novtest2/r/call/0192f802-23d7-77e3-af95-3c80cab8a3f7\n"
          ]
        },
        {
          "metadata": {
            "tags": null
          },
          "name": "stderr",
          "output_type": "stream",
          "text": [
            "INFO:httpx:HTTP Request: POST https://api.openai.com/v1/chat/completions \"HTTP/1.1 200 OK\"\n"
          ]
        },
        {
          "metadata": {
            "tags": null
          },
          "name": "stdout",
          "output_type": "stream",
          "text": [
            "🍩 https://wandb.ai/lavanyashukla/spacerag_novtest2/r/call/0192f802-2798-7ed1-a0d0-f3d09b4c4781\n"
          ]
        },
        {
          "metadata": {
            "tags": null
          },
          "name": "stderr",
          "output_type": "stream",
          "text": [
            "INFO:httpx:HTTP Request: POST https://api.openai.com/v1/chat/completions \"HTTP/1.1 200 OK\"\n",
            "Scoring responses: 100%|██████████| 1/1 [00:15<00:00, 15.21s/it]\n"
          ]
        },
        {
          "metadata": {
            "tags": null
          },
          "name": "stdout",
          "output_type": "stream",
          "text": [
            "🍩 https://wandb.ai/lavanyashukla/spacerag_novtest2/r/call/0192f802-2b87-7f93-a105-cce259681cfb\n"
          ]
        },
        {
          "metadata": {
            "tags": null
          },
          "name": "stderr",
          "output_type": "stream",
          "text": [
            "Retrieving responses: 100%|██████████| 1/1 [00:00<00:00, 752.21it/s]\n",
            "Scoring responses:   0%|          | 0/1 [00:00<?, ?it/s]INFO:httpx:HTTP Request: POST https://api.openai.com/v1/chat/completions \"HTTP/1.1 200 OK\"\n"
          ]
        },
        {
          "metadata": {
            "tags": null
          },
          "name": "stdout",
          "output_type": "stream",
          "text": [
            "🍩 https://wandb.ai/lavanyashukla/spacerag_novtest2/r/call/0192f802-35a9-78a3-a8a3-9721a93315bc\n"
          ]
        },
        {
          "metadata": {
            "tags": null
          },
          "name": "stderr",
          "output_type": "stream",
          "text": [
            "INFO:httpx:HTTP Request: POST https://api.openai.com/v1/chat/completions \"HTTP/1.1 200 OK\"\n"
          ]
        },
        {
          "metadata": {
            "tags": null
          },
          "name": "stdout",
          "output_type": "stream",
          "text": [
            "🍩 https://wandb.ai/lavanyashukla/spacerag_novtest2/r/call/0192f802-3a21-7952-9ca5-7a6a5c34ca03\n"
          ]
        },
        {
          "metadata": {
            "tags": null
          },
          "name": "stderr",
          "output_type": "stream",
          "text": [
            "INFO:httpx:HTTP Request: POST https://api.openai.com/v1/chat/completions \"HTTP/1.1 200 OK\"\n"
          ]
        },
        {
          "metadata": {
            "tags": null
          },
          "name": "stdout",
          "output_type": "stream",
          "text": [
            "🍩 https://wandb.ai/lavanyashukla/spacerag_novtest2/r/call/0192f802-3fa0-7ac1-9f07-394ac81612d9\n"
          ]
        },
        {
          "metadata": {
            "tags": null
          },
          "name": "stderr",
          "output_type": "stream",
          "text": [
            "INFO:httpx:HTTP Request: POST https://api.openai.com/v1/chat/completions \"HTTP/1.1 200 OK\"\n"
          ]
        },
        {
          "metadata": {
            "tags": null
          },
          "name": "stdout",
          "output_type": "stream",
          "text": [
            "🍩 https://wandb.ai/lavanyashukla/spacerag_novtest2/r/call/0192f802-4955-7742-acc4-535407e01544\n"
          ]
        },
        {
          "metadata": {
            "tags": null
          },
          "name": "stderr",
          "output_type": "stream",
          "text": [
            "INFO:httpx:HTTP Request: POST https://api.openai.com/v1/chat/completions \"HTTP/1.1 200 OK\"\n"
          ]
        },
        {
          "metadata": {
            "tags": null
          },
          "name": "stdout",
          "output_type": "stream",
          "text": [
            "🍩 https://wandb.ai/lavanyashukla/spacerag_novtest2/r/call/0192f802-4c3c-7cd0-9f6f-5565868e5766\n"
          ]
        },
        {
          "metadata": {
            "tags": null
          },
          "name": "stderr",
          "output_type": "stream",
          "text": [
            "INFO:httpx:HTTP Request: POST https://api.openai.com/v1/chat/completions \"HTTP/1.1 200 OK\"\n",
            "Scoring responses: 100%|██████████| 1/1 [00:07<00:00,  7.53s/it]\n"
          ]
        },
        {
          "metadata": {
            "tags": null
          },
          "name": "stdout",
          "output_type": "stream",
          "text": [
            "🍩 https://wandb.ai/lavanyashukla/spacerag_novtest2/r/call/0192f802-4f96-7ce0-80e6-52a6e4fe36b3\n"
          ]
        },
        {
          "metadata": {
            "tags": null
          },
          "name": "stderr",
          "output_type": "stream",
          "text": [
            "Retrieving responses: 100%|██████████| 1/1 [00:00<00:00, 6213.78it/s]\n",
            "Scoring responses:   0%|          | 0/1 [00:00<?, ?it/s]INFO:httpx:HTTP Request: POST https://api.openai.com/v1/chat/completions \"HTTP/1.1 200 OK\"\n"
          ]
        },
        {
          "metadata": {
            "tags": null
          },
          "name": "stdout",
          "output_type": "stream",
          "text": [
            "🍩 https://wandb.ai/lavanyashukla/spacerag_novtest2/r/call/0192f802-56aa-77d1-aac4-471c1ae8b3d3\n"
          ]
        },
        {
          "metadata": {
            "tags": null
          },
          "name": "stderr",
          "output_type": "stream",
          "text": [
            "INFO:httpx:HTTP Request: POST https://api.openai.com/v1/chat/completions \"HTTP/1.1 200 OK\"\n"
          ]
        },
        {
          "metadata": {
            "tags": null
          },
          "name": "stdout",
          "output_type": "stream",
          "text": [
            "🍩 https://wandb.ai/lavanyashukla/spacerag_novtest2/r/call/0192f802-5903-7712-8e39-d3b6375ec54d\n"
          ]
        },
        {
          "metadata": {
            "tags": null
          },
          "name": "stderr",
          "output_type": "stream",
          "text": [
            "INFO:httpx:HTTP Request: POST https://api.openai.com/v1/chat/completions \"HTTP/1.1 200 OK\"\n"
          ]
        },
        {
          "metadata": {
            "tags": null
          },
          "name": "stdout",
          "output_type": "stream",
          "text": [
            "🍩 https://wandb.ai/lavanyashukla/spacerag_novtest2/r/call/0192f802-5b5b-7982-8da8-40b2cbf97764\n"
          ]
        },
        {
          "metadata": {
            "tags": null
          },
          "name": "stderr",
          "output_type": "stream",
          "text": [
            "INFO:httpx:HTTP Request: POST https://api.openai.com/v1/chat/completions \"HTTP/1.1 200 OK\"\n"
          ]
        },
        {
          "metadata": {
            "tags": null
          },
          "name": "stdout",
          "output_type": "stream",
          "text": [
            "🍩 https://wandb.ai/lavanyashukla/spacerag_novtest2/r/call/0192f802-64e6-7513-82f9-028218db6cf6\n"
          ]
        },
        {
          "metadata": {
            "tags": null
          },
          "name": "stderr",
          "output_type": "stream",
          "text": [
            "INFO:httpx:HTTP Request: POST https://api.openai.com/v1/chat/completions \"HTTP/1.1 200 OK\"\n"
          ]
        },
        {
          "metadata": {
            "tags": null
          },
          "name": "stdout",
          "output_type": "stream",
          "text": [
            "🍩 https://wandb.ai/lavanyashukla/spacerag_novtest2/r/call/0192f802-6910-7c33-bdab-47c87062ae69\n"
          ]
        },
        {
          "metadata": {
            "tags": null
          },
          "name": "stderr",
          "output_type": "stream",
          "text": [
            "INFO:httpx:HTTP Request: POST https://api.openai.com/v1/chat/completions \"HTTP/1.1 200 OK\"\n",
            "Scoring responses: 100%|██████████| 1/1 [00:06<00:00,  6.79s/it]\n"
          ]
        },
        {
          "metadata": {
            "tags": null
          },
          "name": "stdout",
          "output_type": "stream",
          "text": [
            "🍩 https://wandb.ai/lavanyashukla/spacerag_novtest2/r/call/0192f802-6d95-7f22-a5c2-f0615cf78ce8\n"
          ]
        },
        {
          "metadata": {
            "tags": null
          },
          "name": "stderr",
          "output_type": "stream",
          "text": [
            "Retrieving responses: 100%|██████████| 1/1 [00:00<00:00, 3469.23it/s]\n",
            "Scoring responses:   0%|          | 0/1 [00:00<?, ?it/s]INFO:httpx:HTTP Request: POST https://api.openai.com/v1/chat/completions \"HTTP/1.1 200 OK\"\n"
          ]
        },
        {
          "metadata": {
            "tags": null
          },
          "name": "stdout",
          "output_type": "stream",
          "text": [
            "🍩 https://wandb.ai/lavanyashukla/spacerag_novtest2/r/call/0192f802-7599-7c10-acd4-ada0c9d94f01\n"
          ]
        },
        {
          "metadata": {
            "tags": null
          },
          "name": "stderr",
          "output_type": "stream",
          "text": [
            "INFO:httpx:HTTP Request: POST https://api.openai.com/v1/chat/completions \"HTTP/1.1 200 OK\"\n"
          ]
        },
        {
          "metadata": {
            "tags": null
          },
          "name": "stdout",
          "output_type": "stream",
          "text": [
            "🍩 https://wandb.ai/lavanyashukla/spacerag_novtest2/r/call/0192f802-79d9-76a3-b407-af0b28f728c2\n"
          ]
        },
        {
          "metadata": {
            "tags": null
          },
          "name": "stderr",
          "output_type": "stream",
          "text": [
            "INFO:httpx:HTTP Request: POST https://api.openai.com/v1/chat/completions \"HTTP/1.1 200 OK\"\n"
          ]
        },
        {
          "metadata": {
            "tags": null
          },
          "name": "stdout",
          "output_type": "stream",
          "text": [
            "🍩 https://wandb.ai/lavanyashukla/spacerag_novtest2/r/call/0192f802-7cb2-7e20-b4e6-56d57300a00b\n"
          ]
        },
        {
          "metadata": {
            "tags": null
          },
          "name": "stderr",
          "output_type": "stream",
          "text": [
            "INFO:httpx:HTTP Request: POST https://api.openai.com/v1/chat/completions \"HTTP/1.1 200 OK\"\n"
          ]
        },
        {
          "metadata": {
            "tags": null
          },
          "name": "stdout",
          "output_type": "stream",
          "text": [
            "🍩 https://wandb.ai/lavanyashukla/spacerag_novtest2/r/call/0192f802-958a-74d0-bd2e-61151200f4d9\n"
          ]
        },
        {
          "metadata": {
            "tags": null
          },
          "name": "stderr",
          "output_type": "stream",
          "text": [
            "INFO:httpx:HTTP Request: POST https://api.openai.com/v1/chat/completions \"HTTP/1.1 200 OK\"\n"
          ]
        },
        {
          "metadata": {
            "tags": null
          },
          "name": "stdout",
          "output_type": "stream",
          "text": [
            "🍩 https://wandb.ai/lavanyashukla/spacerag_novtest2/r/call/0192f802-9898-70d1-84a6-bfd7adacc590\n"
          ]
        },
        {
          "metadata": {
            "tags": null
          },
          "name": "stderr",
          "output_type": "stream",
          "text": [
            "INFO:httpx:HTTP Request: POST https://api.openai.com/v1/chat/completions \"HTTP/1.1 200 OK\"\n"
          ]
        },
        {
          "metadata": {
            "tags": null
          },
          "name": "stdout",
          "output_type": "stream",
          "text": [
            "🍩 https://wandb.ai/lavanyashukla/spacerag_novtest2/r/call/0192f802-9bac-71d1-89bf-83b3a348818d\n"
          ]
        },
        {
          "metadata": {
            "tags": null
          },
          "name": "stderr",
          "output_type": "stream",
          "text": [
            "INFO:httpx:HTTP Request: POST https://api.openai.com/v1/chat/completions \"HTTP/1.1 200 OK\"\n"
          ]
        },
        {
          "metadata": {
            "tags": null
          },
          "name": "stdout",
          "output_type": "stream",
          "text": [
            "🍩 https://wandb.ai/lavanyashukla/spacerag_novtest2/r/call/0192f802-9ebd-7951-83ae-db18c4a56cf9\n"
          ]
        },
        {
          "metadata": {
            "tags": null
          },
          "name": "stderr",
          "output_type": "stream",
          "text": [
            "INFO:httpx:HTTP Request: POST https://api.openai.com/v1/chat/completions \"HTTP/1.1 200 OK\"\n",
            "Scoring responses: 100%|██████████| 1/1 [00:12<00:00, 12.19s/it]\n"
          ]
        },
        {
          "metadata": {
            "tags": null
          },
          "name": "stdout",
          "output_type": "stream",
          "text": [
            "🍩 https://wandb.ai/lavanyashukla/spacerag_novtest2/r/call/0192f802-a1e6-7a93-aa28-1a431e8d825b\n"
          ]
        },
        {
          "metadata": {
            "tags": null
          },
          "name": "stderr",
          "output_type": "stream",
          "text": [
            "Retrieving responses: 100%|██████████| 1/1 [00:00<00:00, 6887.20it/s]\n",
            "Scoring responses:   0%|          | 0/1 [00:00<?, ?it/s]INFO:httpx:HTTP Request: POST https://api.openai.com/v1/chat/completions \"HTTP/1.1 200 OK\"\n"
          ]
        },
        {
          "metadata": {
            "tags": null
          },
          "name": "stdout",
          "output_type": "stream",
          "text": [
            "🍩 https://wandb.ai/lavanyashukla/spacerag_novtest2/r/call/0192f802-a8e5-7bb0-a8d7-70f800f05cbe\n"
          ]
        },
        {
          "metadata": {
            "tags": null
          },
          "name": "stderr",
          "output_type": "stream",
          "text": [
            "INFO:httpx:HTTP Request: POST https://api.openai.com/v1/chat/completions \"HTTP/1.1 200 OK\"\n"
          ]
        },
        {
          "metadata": {
            "tags": null
          },
          "name": "stdout",
          "output_type": "stream",
          "text": [
            "🍩 https://wandb.ai/lavanyashukla/spacerag_novtest2/r/call/0192f802-ac18-75e1-a3ee-89d56bebecb4\n"
          ]
        },
        {
          "metadata": {
            "tags": null
          },
          "name": "stderr",
          "output_type": "stream",
          "text": [
            "INFO:httpx:HTTP Request: POST https://api.openai.com/v1/chat/completions \"HTTP/1.1 200 OK\"\n"
          ]
        },
        {
          "metadata": {
            "tags": null
          },
          "name": "stdout",
          "output_type": "stream",
          "text": [
            "🍩 https://wandb.ai/lavanyashukla/spacerag_novtest2/r/call/0192f802-b12a-7ef0-a568-833c9d51e5a6\n"
          ]
        },
        {
          "metadata": {
            "tags": null
          },
          "name": "stderr",
          "output_type": "stream",
          "text": [
            "INFO:httpx:HTTP Request: POST https://api.openai.com/v1/chat/completions \"HTTP/1.1 200 OK\"\n"
          ]
        },
        {
          "metadata": {
            "tags": null
          },
          "name": "stdout",
          "output_type": "stream",
          "text": [
            "🍩 https://wandb.ai/lavanyashukla/spacerag_novtest2/r/call/0192f802-cd0c-75a3-bf21-6e49d3cff3eb\n"
          ]
        },
        {
          "metadata": {
            "tags": null
          },
          "name": "stderr",
          "output_type": "stream",
          "text": [
            "INFO:httpx:HTTP Request: POST https://api.openai.com/v1/chat/completions \"HTTP/1.1 200 OK\"\n"
          ]
        },
        {
          "metadata": {
            "tags": null
          },
          "name": "stdout",
          "output_type": "stream",
          "text": [
            "🍩 https://wandb.ai/lavanyashukla/spacerag_novtest2/r/call/0192f802-d0b9-7670-9803-88b07b346fbd\n"
          ]
        },
        {
          "metadata": {
            "tags": null
          },
          "name": "stderr",
          "output_type": "stream",
          "text": [
            "INFO:httpx:HTTP Request: POST https://api.openai.com/v1/chat/completions \"HTTP/1.1 200 OK\"\n"
          ]
        },
        {
          "metadata": {
            "tags": null
          },
          "name": "stdout",
          "output_type": "stream",
          "text": [
            "🍩 https://wandb.ai/lavanyashukla/spacerag_novtest2/r/call/0192f802-d4aa-7e83-abbf-c9464a4a99f0\n"
          ]
        },
        {
          "metadata": {
            "tags": null
          },
          "name": "stderr",
          "output_type": "stream",
          "text": [
            "INFO:httpx:HTTP Request: POST https://api.openai.com/v1/chat/completions \"HTTP/1.1 200 OK\"\n"
          ]
        },
        {
          "metadata": {
            "tags": null
          },
          "name": "stdout",
          "output_type": "stream",
          "text": [
            "🍩 https://wandb.ai/lavanyashukla/spacerag_novtest2/r/call/0192f802-d861-74f0-a6be-2783bef94c60\n"
          ]
        },
        {
          "metadata": {
            "tags": null
          },
          "name": "stderr",
          "output_type": "stream",
          "text": [
            "INFO:httpx:HTTP Request: POST https://api.openai.com/v1/chat/completions \"HTTP/1.1 200 OK\"\n"
          ]
        },
        {
          "metadata": {
            "tags": null
          },
          "name": "stdout",
          "output_type": "stream",
          "text": [
            "🍩 https://wandb.ai/lavanyashukla/spacerag_novtest2/r/call/0192f802-de21-7a62-a68b-b4acb388502b\n"
          ]
        },
        {
          "metadata": {
            "tags": null
          },
          "name": "stderr",
          "output_type": "stream",
          "text": [
            "INFO:httpx:HTTP Request: POST https://api.openai.com/v1/chat/completions \"HTTP/1.1 200 OK\"\n",
            "Scoring responses: 100%|██████████| 1/1 [00:16<00:00, 16.26s/it]\n"
          ]
        },
        {
          "metadata": {
            "tags": null
          },
          "name": "stdout",
          "output_type": "stream",
          "text": [
            "🍩 https://wandb.ai/lavanyashukla/spacerag_novtest2/r/call/0192f802-e45a-77b1-bebb-0d5d7f8f56cb\n"
          ]
        },
        {
          "metadata": {
            "tags": null
          },
          "name": "stderr",
          "output_type": "stream",
          "text": [
            "Retrieving responses: 100%|██████████| 1/1 [00:00<00:00, 1192.58it/s]\n",
            "Scoring responses:   0%|          | 0/1 [00:00<?, ?it/s]INFO:httpx:HTTP Request: POST https://api.openai.com/v1/chat/completions \"HTTP/1.1 200 OK\"\n"
          ]
        },
        {
          "metadata": {
            "tags": null
          },
          "name": "stdout",
          "output_type": "stream",
          "text": [
            "🍩 https://wandb.ai/lavanyashukla/spacerag_novtest2/r/call/0192f802-ec60-7432-bf30-b829d620712a\n"
          ]
        },
        {
          "metadata": {
            "tags": null
          },
          "name": "stderr",
          "output_type": "stream",
          "text": [
            "INFO:httpx:HTTP Request: POST https://api.openai.com/v1/chat/completions \"HTTP/1.1 200 OK\"\n"
          ]
        },
        {
          "metadata": {
            "tags": null
          },
          "name": "stdout",
          "output_type": "stream",
          "text": [
            "🍩 https://wandb.ai/lavanyashukla/spacerag_novtest2/r/call/0192f802-eec2-7492-93ea-3e3fde443a63\n"
          ]
        },
        {
          "metadata": {
            "tags": null
          },
          "name": "stderr",
          "output_type": "stream",
          "text": [
            "INFO:httpx:HTTP Request: POST https://api.openai.com/v1/chat/completions \"HTTP/1.1 200 OK\"\n"
          ]
        },
        {
          "metadata": {
            "tags": null
          },
          "name": "stdout",
          "output_type": "stream",
          "text": [
            "🍩 https://wandb.ai/lavanyashukla/spacerag_novtest2/r/call/0192f802-f112-75e1-8a1b-ea8273bb5fe0\n"
          ]
        },
        {
          "metadata": {
            "tags": null
          },
          "name": "stderr",
          "output_type": "stream",
          "text": [
            "INFO:httpx:HTTP Request: POST https://api.openai.com/v1/chat/completions \"HTTP/1.1 200 OK\"\n"
          ]
        },
        {
          "metadata": {
            "tags": null
          },
          "name": "stdout",
          "output_type": "stream",
          "text": [
            "🍩 https://wandb.ai/lavanyashukla/spacerag_novtest2/r/call/0192f803-0392-7b53-b063-7c8081ff3884\n"
          ]
        },
        {
          "metadata": {
            "tags": null
          },
          "name": "stderr",
          "output_type": "stream",
          "text": [
            "INFO:httpx:HTTP Request: POST https://api.openai.com/v1/chat/completions \"HTTP/1.1 200 OK\"\n"
          ]
        },
        {
          "metadata": {
            "tags": null
          },
          "name": "stdout",
          "output_type": "stream",
          "text": [
            "🍩 https://wandb.ai/lavanyashukla/spacerag_novtest2/r/call/0192f803-0716-7a83-a45d-edd11feaeed8\n"
          ]
        },
        {
          "metadata": {
            "tags": null
          },
          "name": "stderr",
          "output_type": "stream",
          "text": [
            "INFO:httpx:HTTP Request: POST https://api.openai.com/v1/chat/completions \"HTTP/1.1 200 OK\"\n"
          ]
        },
        {
          "metadata": {
            "tags": null
          },
          "name": "stdout",
          "output_type": "stream",
          "text": [
            "🍩 https://wandb.ai/lavanyashukla/spacerag_novtest2/r/call/0192f803-0a88-7c42-9532-20fb3edef9de\n"
          ]
        },
        {
          "metadata": {
            "tags": null
          },
          "name": "stderr",
          "output_type": "stream",
          "text": [
            "INFO:httpx:HTTP Request: POST https://api.openai.com/v1/chat/completions \"HTTP/1.1 200 OK\"\n"
          ]
        },
        {
          "metadata": {
            "tags": null
          },
          "name": "stdout",
          "output_type": "stream",
          "text": [
            "🍩 https://wandb.ai/lavanyashukla/spacerag_novtest2/r/call/0192f803-0f61-7fd3-9410-12d74d5f5879\n"
          ]
        },
        {
          "metadata": {
            "tags": null
          },
          "name": "stderr",
          "output_type": "stream",
          "text": [
            "INFO:httpx:HTTP Request: POST https://api.openai.com/v1/chat/completions \"HTTP/1.1 200 OK\"\n",
            "Scoring responses: 100%|██████████| 1/1 [00:10<00:00, 10.86s/it]\n"
          ]
        },
        {
          "metadata": {
            "tags": null
          },
          "name": "stdout",
          "output_type": "stream",
          "text": [
            "🍩 https://wandb.ai/lavanyashukla/spacerag_novtest2/r/call/0192f803-1260-7241-bd20-c1095ff9b7b2\n"
          ]
        },
        {
          "data": {
            "text/html": [
              "<pre style=\"white-space:pre;overflow-x:auto;line-height:normal;font-family:Menlo,'DejaVu Sans Mono',consolas,'Courier New',monospace\">Evaluated <span style=\"color: #008080; text-decoration-color: #008080; font-weight: bold\">41</span> of <span style=\"color: #008080; text-decoration-color: #008080; font-weight: bold\">50</span> examples\n",
              "</pre>\n"
            ],
            "text/plain": [
              "Evaluated \u001b[1;36m41\u001b[0m of \u001b[1;36m50\u001b[0m examples\n"
            ]
          },
          "metadata": {},
          "output_type": "display_data"
        },
        {
          "data": {
            "text/html": [
              "<pre style=\"white-space:pre;overflow-x:auto;line-height:normal;font-family:Menlo,'DejaVu Sans Mono',consolas,'Courier New',monospace\">Evaluated <span style=\"color: #008080; text-decoration-color: #008080; font-weight: bold\">42</span> of <span style=\"color: #008080; text-decoration-color: #008080; font-weight: bold\">50</span> examples\n",
              "</pre>\n"
            ],
            "text/plain": [
              "Evaluated \u001b[1;36m42\u001b[0m of \u001b[1;36m50\u001b[0m examples\n"
            ]
          },
          "metadata": {},
          "output_type": "display_data"
        },
        {
          "data": {
            "text/html": [
              "<pre style=\"white-space:pre;overflow-x:auto;line-height:normal;font-family:Menlo,'DejaVu Sans Mono',consolas,'Courier New',monospace\">Evaluated <span style=\"color: #008080; text-decoration-color: #008080; font-weight: bold\">43</span> of <span style=\"color: #008080; text-decoration-color: #008080; font-weight: bold\">50</span> examples\n",
              "</pre>\n"
            ],
            "text/plain": [
              "Evaluated \u001b[1;36m43\u001b[0m of \u001b[1;36m50\u001b[0m examples\n"
            ]
          },
          "metadata": {},
          "output_type": "display_data"
        },
        {
          "data": {
            "text/html": [
              "<pre style=\"white-space:pre;overflow-x:auto;line-height:normal;font-family:Menlo,'DejaVu Sans Mono',consolas,'Courier New',monospace\">Evaluated <span style=\"color: #008080; text-decoration-color: #008080; font-weight: bold\">44</span> of <span style=\"color: #008080; text-decoration-color: #008080; font-weight: bold\">50</span> examples\n",
              "</pre>\n"
            ],
            "text/plain": [
              "Evaluated \u001b[1;36m44\u001b[0m of \u001b[1;36m50\u001b[0m examples\n"
            ]
          },
          "metadata": {},
          "output_type": "display_data"
        },
        {
          "data": {
            "text/html": [
              "<pre style=\"white-space:pre;overflow-x:auto;line-height:normal;font-family:Menlo,'DejaVu Sans Mono',consolas,'Courier New',monospace\">Evaluated <span style=\"color: #008080; text-decoration-color: #008080; font-weight: bold\">45</span> of <span style=\"color: #008080; text-decoration-color: #008080; font-weight: bold\">50</span> examples\n",
              "</pre>\n"
            ],
            "text/plain": [
              "Evaluated \u001b[1;36m45\u001b[0m of \u001b[1;36m50\u001b[0m examples\n"
            ]
          },
          "metadata": {},
          "output_type": "display_data"
        },
        {
          "data": {
            "text/html": [
              "<pre style=\"white-space:pre;overflow-x:auto;line-height:normal;font-family:Menlo,'DejaVu Sans Mono',consolas,'Courier New',monospace\">Evaluated <span style=\"color: #008080; text-decoration-color: #008080; font-weight: bold\">46</span> of <span style=\"color: #008080; text-decoration-color: #008080; font-weight: bold\">50</span> examples\n",
              "</pre>\n"
            ],
            "text/plain": [
              "Evaluated \u001b[1;36m46\u001b[0m of \u001b[1;36m50\u001b[0m examples\n"
            ]
          },
          "metadata": {},
          "output_type": "display_data"
        },
        {
          "data": {
            "text/html": [
              "<pre style=\"white-space:pre;overflow-x:auto;line-height:normal;font-family:Menlo,'DejaVu Sans Mono',consolas,'Courier New',monospace\">Evaluated <span style=\"color: #008080; text-decoration-color: #008080; font-weight: bold\">47</span> of <span style=\"color: #008080; text-decoration-color: #008080; font-weight: bold\">50</span> examples\n",
              "</pre>\n"
            ],
            "text/plain": [
              "Evaluated \u001b[1;36m47\u001b[0m of \u001b[1;36m50\u001b[0m examples\n"
            ]
          },
          "metadata": {},
          "output_type": "display_data"
        },
        {
          "data": {
            "text/html": [
              "<pre style=\"white-space:pre;overflow-x:auto;line-height:normal;font-family:Menlo,'DejaVu Sans Mono',consolas,'Courier New',monospace\">Evaluated <span style=\"color: #008080; text-decoration-color: #008080; font-weight: bold\">48</span> of <span style=\"color: #008080; text-decoration-color: #008080; font-weight: bold\">50</span> examples\n",
              "</pre>\n"
            ],
            "text/plain": [
              "Evaluated \u001b[1;36m48\u001b[0m of \u001b[1;36m50\u001b[0m examples\n"
            ]
          },
          "metadata": {},
          "output_type": "display_data"
        },
        {
          "data": {
            "text/html": [
              "<pre style=\"white-space:pre;overflow-x:auto;line-height:normal;font-family:Menlo,'DejaVu Sans Mono',consolas,'Courier New',monospace\">Evaluated <span style=\"color: #008080; text-decoration-color: #008080; font-weight: bold\">49</span> of <span style=\"color: #008080; text-decoration-color: #008080; font-weight: bold\">50</span> examples\n",
              "</pre>\n"
            ],
            "text/plain": [
              "Evaluated \u001b[1;36m49\u001b[0m of \u001b[1;36m50\u001b[0m examples\n"
            ]
          },
          "metadata": {},
          "output_type": "display_data"
        },
        {
          "data": {
            "text/html": [
              "<pre style=\"white-space:pre;overflow-x:auto;line-height:normal;font-family:Menlo,'DejaVu Sans Mono',consolas,'Courier New',monospace\">Evaluated <span style=\"color: #008080; text-decoration-color: #008080; font-weight: bold\">50</span> of <span style=\"color: #008080; text-decoration-color: #008080; font-weight: bold\">50</span> examples\n",
              "</pre>\n"
            ],
            "text/plain": [
              "Evaluated \u001b[1;36m50\u001b[0m of \u001b[1;36m50\u001b[0m examples\n"
            ]
          },
          "metadata": {},
          "output_type": "display_data"
        },
        {
          "data": {
            "text/html": [
              "<pre style=\"white-space:pre;overflow-x:auto;line-height:normal;font-family:Menlo,'DejaVu Sans Mono',consolas,'Courier New',monospace\">Evaluation summary\n",
              "<span style=\"font-weight: bold\">{</span>\n",
              "    <span style=\"color: #008000; text-decoration-color: #008000\">'llm_judge_scorer'</span>: <span style=\"font-weight: bold\">{</span>\n",
              "        <span style=\"color: #008000; text-decoration-color: #008000\">''</span>: <span style=\"font-weight: bold\">{</span><span style=\"color: #008000; text-decoration-color: #008000\">'true_count'</span>: <span style=\"color: #008080; text-decoration-color: #008080; font-weight: bold\">0</span>, <span style=\"color: #008000; text-decoration-color: #008000\">'true_fraction'</span>: <span style=\"color: #008080; text-decoration-color: #008080; font-weight: bold\">0.0</span><span style=\"font-weight: bold\">}</span>,\n",
              "        <span style=\"color: #008000; text-decoration-color: #008000\">'accurate'</span>: <span style=\"font-weight: bold\">{</span><span style=\"color: #008000; text-decoration-color: #008000\">'true_count'</span>: <span style=\"color: #008080; text-decoration-color: #008080; font-weight: bold\">37</span>, <span style=\"color: #008000; text-decoration-color: #008000\">'true_fraction'</span>: <span style=\"color: #008080; text-decoration-color: #008080; font-weight: bold\">0.7551020408163265</span><span style=\"font-weight: bold\">}</span>,\n",
              "        <span style=\"color: #008000; text-decoration-color: #008000\">'concise'</span>: <span style=\"font-weight: bold\">{</span><span style=\"color: #008000; text-decoration-color: #008000\">'true_count'</span>: <span style=\"color: #008080; text-decoration-color: #008080; font-weight: bold\">33</span>, <span style=\"color: #008000; text-decoration-color: #008000\">'true_fraction'</span>: <span style=\"color: #008080; text-decoration-color: #008080; font-weight: bold\">0.673469387755102</span><span style=\"font-weight: bold\">}</span>,\n",
              "        <span style=\"color: #008000; text-decoration-color: #008000\">'concie'</span>: <span style=\"font-weight: bold\">{</span><span style=\"color: #008000; text-decoration-color: #008000\">'true_count'</span>: <span style=\"color: #008080; text-decoration-color: #008080; font-weight: bold\">0</span>, <span style=\"color: #008000; text-decoration-color: #008000\">'true_fraction'</span>: <span style=\"color: #008080; text-decoration-color: #008080; font-weight: bold\">0.0</span><span style=\"font-weight: bold\">}</span>,\n",
              "        <span style=\"color: #008000; text-decoration-color: #008000\">'relevant'</span>: <span style=\"font-weight: bold\">{</span><span style=\"color: #008000; text-decoration-color: #008000\">'true_count'</span>: <span style=\"color: #008080; text-decoration-color: #008080; font-weight: bold\">38</span>, <span style=\"color: #008000; text-decoration-color: #008000\">'true_fraction'</span>: <span style=\"color: #008080; text-decoration-color: #008080; font-weight: bold\">0.76</span><span style=\"font-weight: bold\">}</span>\n",
              "    <span style=\"font-weight: bold\">}</span>,\n",
              "    <span style=\"color: #008000; text-decoration-color: #008000\">'tonic_validate_score'</span>: <span style=\"font-weight: bold\">{</span>\n",
              "        <span style=\"color: #008000; text-decoration-color: #008000\">'answer_similarity'</span>: <span style=\"font-weight: bold\">{</span><span style=\"color: #008000; text-decoration-color: #008000\">'mean'</span>: <span style=\"color: #008080; text-decoration-color: #008080; font-weight: bold\">3.12</span><span style=\"font-weight: bold\">}</span>,\n",
              "        <span style=\"color: #008000; text-decoration-color: #008000\">'duplication_metric'</span>: <span style=\"font-weight: bold\">{</span><span style=\"color: #008000; text-decoration-color: #008000\">'mean'</span>: <span style=\"color: #008080; text-decoration-color: #008080; font-weight: bold\">0.06</span><span style=\"font-weight: bold\">}</span>,\n",
              "        <span style=\"color: #008000; text-decoration-color: #008000\">'answer_consistency'</span>: <span style=\"font-weight: bold\">{</span><span style=\"color: #008000; text-decoration-color: #008000\">'mean'</span>: <span style=\"color: #008080; text-decoration-color: #008080; font-weight: bold\">0.8088095238095238</span><span style=\"font-weight: bold\">}</span>\n",
              "    <span style=\"font-weight: bold\">}</span>,\n",
              "    <span style=\"color: #008000; text-decoration-color: #008000\">'model_latency'</span>: <span style=\"font-weight: bold\">{</span><span style=\"color: #008000; text-decoration-color: #008000\">'mean'</span>: <span style=\"color: #008080; text-decoration-color: #008080; font-weight: bold\">63.857959609031674</span><span style=\"font-weight: bold\">}</span>\n",
              "<span style=\"font-weight: bold\">}</span>\n",
              "</pre>\n"
            ],
            "text/plain": [
              "Evaluation summary\n",
              "\u001b[1m{\u001b[0m\n",
              "    \u001b[32m'llm_judge_scorer'\u001b[0m: \u001b[1m{\u001b[0m\n",
              "        \u001b[32m''\u001b[0m: \u001b[1m{\u001b[0m\u001b[32m'true_count'\u001b[0m: \u001b[1;36m0\u001b[0m, \u001b[32m'true_fraction'\u001b[0m: \u001b[1;36m0.0\u001b[0m\u001b[1m}\u001b[0m,\n",
              "        \u001b[32m'accurate'\u001b[0m: \u001b[1m{\u001b[0m\u001b[32m'true_count'\u001b[0m: \u001b[1;36m37\u001b[0m, \u001b[32m'true_fraction'\u001b[0m: \u001b[1;36m0.7551020408163265\u001b[0m\u001b[1m}\u001b[0m,\n",
              "        \u001b[32m'concise'\u001b[0m: \u001b[1m{\u001b[0m\u001b[32m'true_count'\u001b[0m: \u001b[1;36m33\u001b[0m, \u001b[32m'true_fraction'\u001b[0m: \u001b[1;36m0.673469387755102\u001b[0m\u001b[1m}\u001b[0m,\n",
              "        \u001b[32m'concie'\u001b[0m: \u001b[1m{\u001b[0m\u001b[32m'true_count'\u001b[0m: \u001b[1;36m0\u001b[0m, \u001b[32m'true_fraction'\u001b[0m: \u001b[1;36m0.0\u001b[0m\u001b[1m}\u001b[0m,\n",
              "        \u001b[32m'relevant'\u001b[0m: \u001b[1m{\u001b[0m\u001b[32m'true_count'\u001b[0m: \u001b[1;36m38\u001b[0m, \u001b[32m'true_fraction'\u001b[0m: \u001b[1;36m0.76\u001b[0m\u001b[1m}\u001b[0m\n",
              "    \u001b[1m}\u001b[0m,\n",
              "    \u001b[32m'tonic_validate_score'\u001b[0m: \u001b[1m{\u001b[0m\n",
              "        \u001b[32m'answer_similarity'\u001b[0m: \u001b[1m{\u001b[0m\u001b[32m'mean'\u001b[0m: \u001b[1;36m3.12\u001b[0m\u001b[1m}\u001b[0m,\n",
              "        \u001b[32m'duplication_metric'\u001b[0m: \u001b[1m{\u001b[0m\u001b[32m'mean'\u001b[0m: \u001b[1;36m0.06\u001b[0m\u001b[1m}\u001b[0m,\n",
              "        \u001b[32m'answer_consistency'\u001b[0m: \u001b[1m{\u001b[0m\u001b[32m'mean'\u001b[0m: \u001b[1;36m0.8088095238095238\u001b[0m\u001b[1m}\u001b[0m\n",
              "    \u001b[1m}\u001b[0m,\n",
              "    \u001b[32m'model_latency'\u001b[0m: \u001b[1m{\u001b[0m\u001b[32m'mean'\u001b[0m: \u001b[1;36m63.857959609031674\u001b[0m\u001b[1m}\u001b[0m\n",
              "\u001b[1m}\u001b[0m\n"
            ]
          },
          "metadata": {},
          "output_type": "display_data"
        },
        {
          "metadata": {
            "tags": null
          },
          "name": "stdout",
          "output_type": "stream",
          "text": [
            "🍩 https://wandb.ai/lavanyashukla/spacerag_novtest2/r/call/0192f7f4-fc68-70d0-8154-59bdc53b298f\n",
            "RAG Model: meta-llama/Meta-Llama-3.1-8B-Instruct-Turbo\n"
          ]
        },
        {
          "metadata": {
            "tags": null
          },
          "name": "stderr",
          "output_type": "stream",
          "text": [
            "INFO:httpx:HTTP Request: POST https://api.openai.com/v1/embeddings \"HTTP/1.1 200 OK\"\n"
          ]
        },
        {
          "metadata": {
            "tags": null
          },
          "name": "stdout",
          "output_type": "stream",
          "text": [
            "Question: How is the sense of spaciousness addressed in the design of habitats for the colony?\n",
            "The sense of spaciousness is addressed in the design of habitats for the colony by:\n",
            "\n",
            "1. Limiting the colonist's view so that the entire structure cannot be seen in a single scan.\n",
            "2. Providing large-scale vistas by making the habitat large enough to lessen the sense of its being manmade.\n",
            "3. Offering convenient access to regions of zero gravity and to views of the Earth, the Moon, and stars.\n",
            "4. Incorporating live, growing things such as vegetation, animals, or children at play to reduce the artificiality of the interior.\n",
            "5. Providing a building system that is flexible, light weight, and easily modifiable to allow colonists to reshape the interior based on their individual preferences.\n",
            "6. Allowing a sufficient esthetic quality, both materially and spatially, to create a pleasant living environment.\n",
            "7. Utilizing a modular component system to enable any combination of shapes to be achieved, providing a sense of flexibility and freedom.\n",
            "___________________________\n"
          ]
        },
        {
          "metadata": {
            "tags": null
          },
          "name": "stderr",
          "output_type": "stream",
          "text": [
            "INFO:httpx:HTTP Request: POST https://api.openai.com/v1/embeddings \"HTTP/1.1 200 OK\"\n"
          ]
        },
        {
          "metadata": {
            "tags": null
          },
          "name": "stdout",
          "output_type": "stream",
          "text": [
            "Question: What are the steps involved in the process of producing aluminum from lunar soil, specifically in regards to glass grinding and acid leaching?\n",
            "According to the text, the steps involved in producing aluminum from lunar soil is as follows:\n",
            "\n",
            "For glass production (to make windows and other necessary materials for the colony):\n",
            "1.  The lunar soil is processed to extract the necessary materials.\n",
            "2.  The process includes techniques such as acid leaching to remove nonsilicate ingredients and melting the remaining silica at high temperatures to produce glass.\n",
            "3.  The glass must be of high purity, with a silica content of at least 95%.\n",
            "\n",
            "For aluminum production (using anorthosite):\n",
            "1.  Melt the lunar anorthosite to produce alumina (Al2O3).\n",
            "2.  Leach the alumina, which involves dissolving it in a liquid to separate it from other impurities.\n",
            "3.  The resulting solution is then electro-lyzed to produce aluminum chloride (AlCl3).\n",
            "4.  Finally, high-temperature electro-winning is used to extract the aluminum from the aluminum chloride solution.\n",
            "___________________________\n"
          ]
        },
        {
          "metadata": {
            "tags": null
          },
          "name": "stderr",
          "output_type": "stream",
          "text": [
            "INFO:httpx:HTTP Request: POST https://api.openai.com/v1/embeddings \"HTTP/1.1 200 OK\"\n"
          ]
        },
        {
          "metadata": {
            "tags": null
          },
          "name": "stdout",
          "output_type": "stream",
          "text": [
            "Question: What is the importance of atmospheric pressure in large colonies in space?\n",
            "In large colonies in space, maintaining an acceptable atmospheric pressure is crucial for human life support. The pressure must be low enough (well below a normal Earth atmosphere) to minimize the risks associated with pressure drops or oxygen dilution, but not so low that it leads to decompression sickness or other issues.\n",
            "___________________________\n"
          ]
        },
        {
          "metadata": {
            "tags": null
          },
          "name": "stderr",
          "output_type": "stream",
          "text": [
            "INFO:httpx:HTTP Request: POST https://api.openai.com/v1/embeddings \"HTTP/1.1 200 OK\"\n"
          ]
        },
        {
          "metadata": {
            "tags": null
          },
          "name": "stdout",
          "output_type": "stream",
          "text": [
            "Question: How does the expense of providing human workers encourage reliance on automation and the push for extreme reliability and maintainability in space commercial ventures?\n",
            "The text does not explicitly mention that the expense of human workers encourages reliance on automation. However, in general, the high cost of sending humans into space and maintaining them on space missions can encourage the use of automation to reduce labor costs. \n",
            "\n",
            "In the provided text, it mentions \"progress in automation\" as a likely development that will drive the later stages of space colonization more rapidly and on a larger scale.\n",
            "___________________________\n"
          ]
        },
        {
          "metadata": {
            "tags": null
          },
          "name": "stderr",
          "output_type": "stream",
          "text": [
            "INFO:httpx:HTTP Request: POST https://api.openai.com/v1/embeddings \"HTTP/1.1 200 OK\"\n"
          ]
        },
        {
          "metadata": {
            "tags": null
          },
          "name": "stdout",
          "output_type": "stream",
          "text": [
            "Question: What are some potential benefits of long-term development in space?\n",
            "Potential benefits of long-term development in space include: \n",
            "1. Progress in automation\n",
            "2. Improved materials technology\n",
            "3. Autonomous space manufacturing, such as growing of large crystals and production of new composite materials\n",
            "4. Availability of low-cost power for direct broadcasting of radio and TV to Earth from orbit\n",
            "5. Launching and manufacturing in zero-gravity environments, leading to higher quality products like titanium and silicon crystals\n",
            "6. Space-based construction of large-scale objects, including radio telescope antennas, large optical telescopes, and scientific vessels.\n",
            "___________________________\n"
          ]
        },
        {
          "metadata": {
            "tags": null
          },
          "name": "stderr",
          "output_type": "stream",
          "text": [
            "INFO:httpx:HTTP Request: POST https://api.openai.com/v1/embeddings \"HTTP/1.1 200 OK\"\n"
          ]
        },
        {
          "metadata": {
            "tags": null
          },
          "name": "stdout",
          "output_type": "stream",
          "text": [
            "Question: What are the gravities of Jupiter's Galilean moons and Saturn's Titan compared to Earth's Moon?\n",
            "Io, 0.18g, \n",
            "Europa, 0.13g, \n",
            "Ganymede, 0.15g, \n",
            "Callisto, 0.13g, \n",
            "Titan, 0.14g, \n",
            "Earth's Moon, 0.17g\n",
            "___________________________\n"
          ]
        },
        {
          "metadata": {
            "tags": null
          },
          "name": "stderr",
          "output_type": "stream",
          "text": [
            "INFO:httpx:HTTP Request: POST https://api.openai.com/v1/embeddings \"HTTP/1.1 200 OK\"\n"
          ]
        },
        {
          "metadata": {
            "tags": null
          },
          "name": "stdout",
          "output_type": "stream",
          "text": [
            "Question: What needs to be better understood before evaluating the usefulness of other libration points for space colonies?\n",
            "The cost of station keeping.\n",
            "___________________________\n"
          ]
        },
        {
          "metadata": {
            "tags": null
          },
          "name": "stderr",
          "output_type": "stream",
          "text": [
            "INFO:httpx:HTTP Request: POST https://api.openai.com/v1/embeddings \"HTTP/1.1 200 OK\"\n"
          ]
        },
        {
          "metadata": {
            "tags": null
          },
          "name": "stdout",
          "output_type": "stream",
          "text": [
            "Question: What is the likelihood of gaseous sub-Neptunes being habitable?\n",
            "A gas giant may not be habitable due to its enormous gravity and lack of surface. However, its moons, particularly those with a suitable size and composition, might be habitable, as evidenced by Jupiter's moons Io, Europa, and potentially Titan in the Saturn system.\n",
            "___________________________\n"
          ]
        },
        {
          "metadata": {
            "tags": null
          },
          "name": "stderr",
          "output_type": "stream",
          "text": [
            "INFO:httpx:HTTP Request: POST https://api.openai.com/v1/embeddings \"HTTP/1.1 200 OK\"\n"
          ]
        },
        {
          "metadata": {
            "tags": null
          },
          "name": "stdout",
          "output_type": "stream",
          "text": [
            "Question: How can a metabolism exist outside the classical habitable zone?\n",
            "A metabolism can exist outside the classical habitable zone if it does not depend on stellar light. It can thrive in the interior of the planet where liquid water is available.\n",
            "___________________________\n"
          ]
        },
        {
          "metadata": {
            "tags": null
          },
          "name": "stderr",
          "output_type": "stream",
          "text": [
            "INFO:httpx:HTTP Request: POST https://api.openai.com/v1/embeddings \"HTTP/1.1 200 OK\"\n"
          ]
        },
        {
          "metadata": {
            "tags": null
          },
          "name": "stdout",
          "output_type": "stream",
          "text": [
            "Question: Why do some scientists and experts argue for the colonization of space as a means of saving humanity?\n",
            "Some scientists, including Stephen Hawking and Gerard K. O'Neill, argue that space colonization could save humanity by providing a means to alleviate overpopulation and resource depletion on Earth.\n",
            "___________________________\n"
          ]
        },
        {
          "metadata": {
            "tags": null
          },
          "name": "stderr",
          "output_type": "stream",
          "text": [
            "INFO:httpx:HTTP Request: POST https://api.openai.com/v1/embeddings \"HTTP/1.1 200 OK\"\n"
          ]
        },
        {
          "metadata": {
            "tags": null
          },
          "name": "stdout",
          "output_type": "stream",
          "text": [
            "Question: What are some criticisms of space colonization?\n",
            "Critics argue that the costs of commercial activity in space are too high to be profitable against Earth-based industries, making it unlikely for significant exploitation of space resources in the foreseeable future. Other objections include:\n",
            "\n",
            "- A slowdown in population growth rates since the 1980s has alleviated the risk of overpopulation.\n",
            "- The forthcoming colonization and commodification of the cosmos may enhance the interests of the already powerful, including major economic and military institutions.\n",
            "___________________________\n"
          ]
        },
        {
          "metadata": {
            "tags": null
          },
          "name": "stderr",
          "output_type": "stream",
          "text": [
            "INFO:httpx:HTTP Request: POST https://api.openai.com/v1/embeddings \"HTTP/1.1 200 OK\"\n"
          ]
        },
        {
          "metadata": {
            "tags": null
          },
          "name": "stdout",
          "output_type": "stream",
          "text": [
            "Question: What is the purpose of positioning another spacecraft fueled for a return to Earth in orbit around Mars?\n",
            "It enables the initial crew to eventually return to Earth.\n",
            "___________________________\n"
          ]
        },
        {
          "metadata": {
            "tags": null
          },
          "name": "stderr",
          "output_type": "stream",
          "text": [
            "INFO:httpx:HTTP Request: POST https://api.openai.com/v1/embeddings \"HTTP/1.1 200 OK\"\n"
          ]
        },
        {
          "metadata": {
            "tags": null
          },
          "name": "stdout",
          "output_type": "stream",
          "text": [
            "Question: What is the relationship between propulsive effort and travel time in space travel?\n",
            "In space travel, the total change in velocity required to get from one point to another is inversely related to the time required to travel between any two points.\n",
            "___________________________\n"
          ]
        },
        {
          "metadata": {
            "tags": null
          },
          "name": "stderr",
          "output_type": "stream",
          "text": [
            "INFO:httpx:HTTP Request: POST https://api.openai.com/v1/embeddings \"HTTP/1.1 200 OK\"\n"
          ]
        },
        {
          "metadata": {
            "tags": null
          },
          "name": "stdout",
          "output_type": "stream",
          "text": [
            "Question: What are the advantages of the Moon for the space colonization program?\n",
            "The Moon is considered a prime target for space colonization due to its proximity to Earth and lower escape velocity. It offers abundant resources such as ice trapped in permanently shadowed craters near the poles, which can provide water for a lunar colony. The Moon also has native precious metals, like gold, silver, and platinum, concentrated at the lunar poles. Additionally, the Moon's lava tubes can provide protection from space radiation and meteoroids.\n",
            "___________________________\n"
          ]
        },
        {
          "metadata": {
            "tags": null
          },
          "name": "stderr",
          "output_type": "stream",
          "text": [
            "INFO:httpx:HTTP Request: POST https://api.openai.com/v1/embeddings \"HTTP/1.1 200 OK\"\n"
          ]
        },
        {
          "metadata": {
            "tags": null
          },
          "name": "stdout",
          "output_type": "stream",
          "text": [
            "Question: How could self-replication enable exponential growth in space colonization?\n",
            "Self-replication in space manufacturing could enable exponential growth in space colonization by allowing for the creation of more colonies and infrastructure with minimal dependence on Earth. It would allow a colony to produce or obtain materials and components to replicate itself, such as robots, tools, and facilities, thereby increasing its capability to expand continuously.\n",
            "___________________________\n"
          ]
        },
        {
          "metadata": {
            "tags": null
          },
          "name": "stderr",
          "output_type": "stream",
          "text": [
            "INFO:httpx:HTTP Request: POST https://api.openai.com/v1/embeddings \"HTTP/1.1 200 OK\"\n"
          ]
        },
        {
          "metadata": {
            "tags": null
          },
          "name": "stdout",
          "output_type": "stream",
          "text": [
            "Question: What factors determine the habitability of planets within galactic habitable zones?\n",
            "Several factors determine the habitability of planets in the galactic habitable zones: \n",
            "\n",
            "1. Bulk composition\n",
            "2. Orbital properties\n",
            "3. Atmospheric properties\n",
            "4. Chemical composition of the host star\n",
            "5. Star mass and luminosity\n",
            "6. Stable stellar variability\n",
            "7. High metallicity (of the star)\n",
            "8. Presence of liquid water\n",
            "9. Geophysical and geodynamical aspects\n",
            "10. Radiation environment of the star\n",
            "11. Presence of biosignatures or biological activity\n",
            "___________________________\n"
          ]
        },
        {
          "metadata": {
            "tags": null
          },
          "name": "stderr",
          "output_type": "stream",
          "text": [
            "INFO:httpx:HTTP Request: POST https://api.openai.com/v1/embeddings \"HTTP/1.1 200 OK\"\n"
          ]
        },
        {
          "metadata": {
            "tags": null
          },
          "name": "stdout",
          "output_type": "stream",
          "text": [
            "Question: What are the difficulties associated with automated rendezvous and interception in the context of the transport system for a lunar colony?\n",
            "Difficulty of collecting payloads after launch due to large dispersion.\n",
            "___________________________\n"
          ]
        },
        {
          "metadata": {
            "tags": null
          },
          "name": "stderr",
          "output_type": "stream",
          "text": [
            "INFO:httpx:HTTP Request: POST https://api.openai.com/v1/embeddings \"HTTP/1.1 200 OK\"\n"
          ]
        },
        {
          "metadata": {
            "tags": null
          },
          "name": "stdout",
          "output_type": "stream",
          "text": [
            "Question: How does the design of the space colonization system incorporate existing technology?\n",
            "The space colonization system incorporates existing technology to meet the subsidiary goals established to guide the choice of the principal elements of a practicable colony in space. It utilizes solar energy to generate electricity and power solar furnaces to refine aluminum, titanium, and silicon from lunar ores, relying on existing materials and technologies from our current understanding of space colonization and energy generation.\n",
            "___________________________\n"
          ]
        },
        {
          "metadata": {
            "tags": null
          },
          "name": "stderr",
          "output_type": "stream",
          "text": [
            "INFO:httpx:HTTP Request: POST https://api.openai.com/v1/embeddings \"HTTP/1.1 200 OK\"\n"
          ]
        },
        {
          "metadata": {
            "tags": null
          },
          "name": "stdout",
          "output_type": "stream",
          "text": [
            "Question: What is the chosen location for the first space colony?\n",
            "The Lagrangian point L5 is initially proposed as a potential location for the first space colony.\n",
            "___________________________\n"
          ]
        },
        {
          "metadata": {
            "tags": null
          },
          "name": "stderr",
          "output_type": "stream",
          "text": [
            "INFO:httpx:HTTP Request: POST https://api.openai.com/v1/embeddings \"HTTP/1.1 200 OK\"\n"
          ]
        },
        {
          "output_type": "stream",
          "name": "stdout",
          "text": [
            "Question: What role does critical path analysis play in determining the sequencing of mirror, power plant, shield, and internal construction in the fabrication of space habitats?\n",
            "Critical path analysis is used to reveal the best sequencing of mirror, power plant, shield, and internal construction in the fabrication of space habitats.\n",
            "___________________________\n",
            "{\"concise\": true}\n",
            "{\"relevant\": true}\n",
            "{\"accurate\": true}\n",
            "{\"concise\": true}\n",
            "{\"relevant\": true}\n",
            "{\"accurate\": true}\n",
            "{\"concise\": true}\n",
            "{\"relevant\": true}\n",
            "{\"accurate\": true}\n",
            "{\"concise\": false}\n",
            "{\"relevant\": true}\n",
            "{\"accurate\": true}\n",
            "{\"concise\": true}\n",
            "{\"relevant\": true}\n",
            "{\"accurate\":true}\n",
            "{\"concise\": true}\n",
            "{\"relevant\": true}\n",
            "{\"accurate\": true}\n",
            "{\"concise\": false}\n",
            "{\"relevant\": false}\n",
            "{\"accurate\": false}\n",
            "{\"concise\": false}\n",
            "{\"relevant\": true}\n",
            "{\"accurate\": true}\n",
            "{\"concise\": true}\n",
            "{\"relevant\": true}\n",
            "{\"accurate\": true}\n",
            "{\"concise\": true}\n",
            "{\"relevant\": true}\n",
            "{\"accurate\": true}\n",
            "{\"concise\": true}\n",
            "{\"relevant\": true}\n",
            "{\"accurate\": false}\n",
            "{\"concise\": true}\n",
            "{\"relevant\": true}\n",
            "{\"accurate\": true}\n",
            "{\"concise\": true}\n",
            "{\"relevant\": true}\n",
            "{\"accurate\": true}\n",
            "{\"concise\": true}\n",
            "{\"relevant\": true}\n",
            "{\"accurate\": true}\n",
            "{\"concise\": true}\n",
            "{\"relevant\": true}\n",
            "{\"accurate\": true}\n",
            "{\"concise\": false}\n",
            "{\"relevant\": false}\n",
            "{\"accurate\": false}\n",
            "{\"concise\": true}\n",
            "{\"relevant\": true}\n",
            "{\"accurate\": true}\n",
            "{\"concise\": true}\n",
            "{\"relevant\": true}\n",
            "{\"accurate\": true}\n",
            "{\"concise\": true}\n",
            "{ \"relevant\": true }\n",
            "{\"accurate\": true}\n",
            "{\"concise\": true}\n",
            "{\"relevant\": true}\n",
            "{\"accurate\": true}\n"
          ]
        },
        {
          "output_type": "stream",
          "name": "stderr",
          "text": [
            "Retrieving responses: 100%|██████████| 1/1 [00:00<00:00, 1278.75it/s]\n",
            "Scoring responses:   0%|          | 0/1 [00:00<?, ?it/s]INFO:httpx:HTTP Request: POST https://api.openai.com/v1/chat/completions \"HTTP/1.1 200 OK\"\n"
          ]
        },
        {
          "output_type": "stream",
          "name": "stdout",
          "text": [
            "🍩 https://wandb.ai/lavanyashukla/spacerag_novtest2/r/call/0192f804-cf13-7491-b1a3-fd119661cf93\n"
          ]
        },
        {
          "output_type": "stream",
          "name": "stderr",
          "text": [
            "INFO:httpx:HTTP Request: POST https://api.openai.com/v1/chat/completions \"HTTP/1.1 200 OK\"\n"
          ]
        },
        {
          "output_type": "stream",
          "name": "stdout",
          "text": [
            "🍩 https://wandb.ai/lavanyashukla/spacerag_novtest2/r/call/0192f804-d1a6-7590-a36c-046f5ab4d97f\n"
          ]
        },
        {
          "output_type": "stream",
          "name": "stderr",
          "text": [
            "INFO:httpx:HTTP Request: POST https://api.openai.com/v1/chat/completions \"HTTP/1.1 200 OK\"\n"
          ]
        },
        {
          "output_type": "stream",
          "name": "stdout",
          "text": [
            "🍩 https://wandb.ai/lavanyashukla/spacerag_novtest2/r/call/0192f804-d82d-7941-b235-e57340defcc1\n"
          ]
        },
        {
          "output_type": "stream",
          "name": "stderr",
          "text": [
            "INFO:httpx:HTTP Request: POST https://api.openai.com/v1/chat/completions \"HTTP/1.1 200 OK\"\n"
          ]
        },
        {
          "output_type": "stream",
          "name": "stdout",
          "text": [
            "🍩 https://wandb.ai/lavanyashukla/spacerag_novtest2/r/call/0192f805-0178-7740-ab5b-082728558fba\n"
          ]
        },
        {
          "output_type": "stream",
          "name": "stderr",
          "text": [
            "INFO:httpx:HTTP Request: POST https://api.openai.com/v1/chat/completions \"HTTP/1.1 200 OK\"\n"
          ]
        },
        {
          "output_type": "stream",
          "name": "stdout",
          "text": [
            "🍩 https://wandb.ai/lavanyashukla/spacerag_novtest2/r/call/0192f805-057b-7532-8c32-cf4196567aa8\n"
          ]
        },
        {
          "output_type": "stream",
          "name": "stderr",
          "text": [
            "INFO:httpx:HTTP Request: POST https://api.openai.com/v1/chat/completions \"HTTP/1.1 200 OK\"\n"
          ]
        },
        {
          "output_type": "stream",
          "name": "stdout",
          "text": [
            "🍩 https://wandb.ai/lavanyashukla/spacerag_novtest2/r/call/0192f805-0bf3-7eb1-9c52-33b548e21865\n"
          ]
        },
        {
          "output_type": "stream",
          "name": "stderr",
          "text": [
            "INFO:httpx:HTTP Request: POST https://api.openai.com/v1/chat/completions \"HTTP/1.1 200 OK\"\n"
          ]
        },
        {
          "output_type": "stream",
          "name": "stdout",
          "text": [
            "🍩 https://wandb.ai/lavanyashukla/spacerag_novtest2/r/call/0192f805-0f2d-7c53-bf41-eab6c8120a87\n"
          ]
        },
        {
          "output_type": "stream",
          "name": "stderr",
          "text": [
            "INFO:httpx:HTTP Request: POST https://api.openai.com/v1/chat/completions \"HTTP/1.1 200 OK\"\n"
          ]
        },
        {
          "output_type": "stream",
          "name": "stdout",
          "text": [
            "🍩 https://wandb.ai/lavanyashukla/spacerag_novtest2/r/call/0192f805-128d-7281-b0b0-202aeca7a889\n"
          ]
        },
        {
          "output_type": "stream",
          "name": "stderr",
          "text": [
            "INFO:httpx:HTTP Request: POST https://api.openai.com/v1/chat/completions \"HTTP/1.1 200 OK\"\n"
          ]
        },
        {
          "output_type": "stream",
          "name": "stdout",
          "text": [
            "🍩 https://wandb.ai/lavanyashukla/spacerag_novtest2/r/call/0192f805-17d4-7de3-8f9f-eac69a19946a\n"
          ]
        },
        {
          "output_type": "stream",
          "name": "stderr",
          "text": [
            "INFO:httpx:HTTP Request: POST https://api.openai.com/v1/chat/completions \"HTTP/1.1 200 OK\"\n",
            "Scoring responses: 100%|██████████| 1/1 [00:20<00:00, 20.46s/it]\n"
          ]
        },
        {
          "output_type": "stream",
          "name": "stdout",
          "text": [
            "🍩 https://wandb.ai/lavanyashukla/spacerag_novtest2/r/call/0192f805-1b27-7122-8756-4ef7ce9a2a20\n"
          ]
        },
        {
          "output_type": "stream",
          "name": "stderr",
          "text": [
            "Retrieving responses: 100%|██████████| 1/1 [00:00<00:00, 6875.91it/s]\n",
            "Scoring responses:   0%|          | 0/1 [00:00<?, ?it/s]INFO:httpx:HTTP Request: POST https://api.openai.com/v1/chat/completions \"HTTP/1.1 200 OK\"\n"
          ]
        },
        {
          "output_type": "stream",
          "name": "stdout",
          "text": [
            "🍩 https://wandb.ai/lavanyashukla/spacerag_novtest2/r/call/0192f805-22cb-7fd1-9890-6bfb0b048385\n"
          ]
        },
        {
          "output_type": "stream",
          "name": "stderr",
          "text": [
            "INFO:httpx:HTTP Request: POST https://api.openai.com/v1/chat/completions \"HTTP/1.1 200 OK\"\n"
          ]
        },
        {
          "output_type": "stream",
          "name": "stdout",
          "text": [
            "🍩 https://wandb.ai/lavanyashukla/spacerag_novtest2/r/call/0192f805-26e0-7fd0-8be5-683baa431244\n"
          ]
        },
        {
          "output_type": "stream",
          "name": "stderr",
          "text": [
            "INFO:httpx:HTTP Request: POST https://api.openai.com/v1/chat/completions \"HTTP/1.1 200 OK\"\n"
          ]
        },
        {
          "output_type": "stream",
          "name": "stdout",
          "text": [
            "🍩 https://wandb.ai/lavanyashukla/spacerag_novtest2/r/call/0192f805-2d78-7b72-893b-b1e179dd71bf\n"
          ]
        },
        {
          "output_type": "stream",
          "name": "stderr",
          "text": [
            "INFO:httpx:HTTP Request: POST https://api.openai.com/v1/chat/completions \"HTTP/1.1 200 OK\"\n"
          ]
        },
        {
          "output_type": "stream",
          "name": "stdout",
          "text": [
            "🍩 https://wandb.ai/lavanyashukla/spacerag_novtest2/r/call/0192f805-4a2b-7e41-9668-554c222eb317\n"
          ]
        },
        {
          "output_type": "stream",
          "name": "stderr",
          "text": [
            "INFO:httpx:HTTP Request: POST https://api.openai.com/v1/chat/completions \"HTTP/1.1 200 OK\"\n"
          ]
        },
        {
          "output_type": "stream",
          "name": "stdout",
          "text": [
            "🍩 https://wandb.ai/lavanyashukla/spacerag_novtest2/r/call/0192f805-4d30-7db3-9222-7dc15c51bba3\n"
          ]
        },
        {
          "output_type": "stream",
          "name": "stderr",
          "text": [
            "INFO:httpx:HTTP Request: POST https://api.openai.com/v1/chat/completions \"HTTP/1.1 200 OK\"\n"
          ]
        },
        {
          "output_type": "stream",
          "name": "stdout",
          "text": [
            "🍩 https://wandb.ai/lavanyashukla/spacerag_novtest2/r/call/0192f805-5050-7aa3-a55d-a6c203a1dce2\n"
          ]
        },
        {
          "output_type": "stream",
          "name": "stderr",
          "text": [
            "INFO:httpx:HTTP Request: POST https://api.openai.com/v1/chat/completions \"HTTP/1.1 200 OK\"\n"
          ]
        },
        {
          "output_type": "stream",
          "name": "stdout",
          "text": [
            "🍩 https://wandb.ai/lavanyashukla/spacerag_novtest2/r/call/0192f805-54fa-7373-b930-46b9941a9048\n"
          ]
        },
        {
          "output_type": "stream",
          "name": "stderr",
          "text": [
            "INFO:httpx:HTTP Request: POST https://api.openai.com/v1/chat/completions \"HTTP/1.1 200 OK\"\n"
          ]
        },
        {
          "output_type": "stream",
          "name": "stdout",
          "text": [
            "🍩 https://wandb.ai/lavanyashukla/spacerag_novtest2/r/call/0192f805-587d-7dd3-a4fa-9c2e4638a21f\n"
          ]
        },
        {
          "output_type": "stream",
          "name": "stderr",
          "text": [
            "INFO:httpx:HTTP Request: POST https://api.openai.com/v1/chat/completions \"HTTP/1.1 200 OK\"\n"
          ]
        },
        {
          "output_type": "stream",
          "name": "stdout",
          "text": [
            "🍩 https://wandb.ai/lavanyashukla/spacerag_novtest2/r/call/0192f805-5b73-79f3-9467-25afcebde0b5\n"
          ]
        },
        {
          "output_type": "stream",
          "name": "stderr",
          "text": [
            "INFO:httpx:HTTP Request: POST https://api.openai.com/v1/chat/completions \"HTTP/1.1 200 OK\"\n",
            "Scoring responses: 100%|██████████| 1/1 [00:17<00:00, 17.03s/it]\n"
          ]
        },
        {
          "output_type": "stream",
          "name": "stdout",
          "text": [
            "🍩 https://wandb.ai/lavanyashukla/spacerag_novtest2/r/call/0192f805-61dc-7383-b337-0afcf72013bf\n"
          ]
        },
        {
          "output_type": "stream",
          "name": "stderr",
          "text": [
            "Retrieving responses: 100%|██████████| 1/1 [00:00<00:00, 1530.77it/s]\n",
            "Scoring responses:   0%|          | 0/1 [00:00<?, ?it/s]INFO:httpx:HTTP Request: POST https://api.openai.com/v1/chat/completions \"HTTP/1.1 200 OK\"\n"
          ]
        },
        {
          "output_type": "stream",
          "name": "stdout",
          "text": [
            "🍩 https://wandb.ai/lavanyashukla/spacerag_novtest2/r/call/0192f805-6927-7fe2-89a3-775a3c30a72d\n"
          ]
        },
        {
          "output_type": "stream",
          "name": "stderr",
          "text": [
            "INFO:httpx:HTTP Request: POST https://api.openai.com/v1/chat/completions \"HTTP/1.1 200 OK\"\n"
          ]
        },
        {
          "output_type": "stream",
          "name": "stdout",
          "text": [
            "🍩 https://wandb.ai/lavanyashukla/spacerag_novtest2/r/call/0192f805-6b9a-7373-baa5-0a83be28c1ca\n"
          ]
        },
        {
          "output_type": "stream",
          "name": "stderr",
          "text": [
            "INFO:httpx:HTTP Request: POST https://api.openai.com/v1/chat/completions \"HTTP/1.1 200 OK\"\n"
          ]
        },
        {
          "output_type": "stream",
          "name": "stdout",
          "text": [
            "🍩 https://wandb.ai/lavanyashukla/spacerag_novtest2/r/call/0192f805-7df9-7fd3-aac0-3718c2a224e7\n"
          ]
        },
        {
          "output_type": "stream",
          "name": "stderr",
          "text": [
            "INFO:httpx:HTTP Request: POST https://api.openai.com/v1/chat/completions \"HTTP/1.1 200 OK\"\n"
          ]
        },
        {
          "output_type": "stream",
          "name": "stdout",
          "text": [
            "🍩 https://wandb.ai/lavanyashukla/spacerag_novtest2/r/call/0192f805-8985-7531-bcaa-6e21e18b24a6\n"
          ]
        },
        {
          "output_type": "stream",
          "name": "stderr",
          "text": [
            "INFO:httpx:HTTP Request: POST https://api.openai.com/v1/chat/completions \"HTTP/1.1 200 OK\"\n"
          ]
        },
        {
          "output_type": "stream",
          "name": "stdout",
          "text": [
            "🍩 https://wandb.ai/lavanyashukla/spacerag_novtest2/r/call/0192f805-8c81-7412-98d4-beb04a8a6314\n"
          ]
        },
        {
          "output_type": "stream",
          "name": "stderr",
          "text": [
            "INFO:httpx:HTTP Request: POST https://api.openai.com/v1/chat/completions \"HTTP/1.1 200 OK\"\n",
            "Scoring responses: 100%|██████████| 1/1 [00:10<00:00, 10.73s/it]\n"
          ]
        },
        {
          "output_type": "stream",
          "name": "stdout",
          "text": [
            "🍩 https://wandb.ai/lavanyashukla/spacerag_novtest2/r/call/0192f805-8fd4-74c0-b15d-0f22e7df952e\n"
          ]
        },
        {
          "output_type": "stream",
          "name": "stderr",
          "text": [
            "Retrieving responses: 100%|██████████| 1/1 [00:00<00:00, 740.91it/s]\n",
            "Scoring responses:   0%|          | 0/1 [00:00<?, ?it/s]INFO:httpx:HTTP Request: POST https://api.openai.com/v1/chat/completions \"HTTP/1.1 200 OK\"\n"
          ]
        },
        {
          "output_type": "stream",
          "name": "stdout",
          "text": [
            "🍩 https://wandb.ai/lavanyashukla/spacerag_novtest2/r/call/0192f805-96b9-7150-a740-cde53f498179\n"
          ]
        },
        {
          "output_type": "stream",
          "name": "stderr",
          "text": [
            "INFO:httpx:HTTP Request: POST https://api.openai.com/v1/chat/completions \"HTTP/1.1 200 OK\"\n"
          ]
        },
        {
          "output_type": "stream",
          "name": "stdout",
          "text": [
            "🍩 https://wandb.ai/lavanyashukla/spacerag_novtest2/r/call/0192f805-99a3-7c03-b2ad-48a5572b4f2a\n"
          ]
        },
        {
          "output_type": "stream",
          "name": "stderr",
          "text": [
            "INFO:httpx:HTTP Request: POST https://api.openai.com/v1/chat/completions \"HTTP/1.1 200 OK\"\n"
          ]
        },
        {
          "output_type": "stream",
          "name": "stdout",
          "text": [
            "🍩 https://wandb.ai/lavanyashukla/spacerag_novtest2/r/call/0192f805-9c99-7562-902b-12f716b6d4d5\n"
          ]
        },
        {
          "output_type": "stream",
          "name": "stderr",
          "text": [
            "INFO:httpx:HTTP Request: POST https://api.openai.com/v1/chat/completions \"HTTP/1.1 200 OK\"\n"
          ]
        },
        {
          "output_type": "stream",
          "name": "stdout",
          "text": [
            "🍩 https://wandb.ai/lavanyashukla/spacerag_novtest2/r/call/0192f805-a8b5-7402-94bf-dee5004b638b\n"
          ]
        },
        {
          "output_type": "stream",
          "name": "stderr",
          "text": [
            "INFO:httpx:HTTP Request: POST https://api.openai.com/v1/chat/completions \"HTTP/1.1 200 OK\"\n"
          ]
        },
        {
          "output_type": "stream",
          "name": "stdout",
          "text": [
            "🍩 https://wandb.ai/lavanyashukla/spacerag_novtest2/r/call/0192f805-ab85-7151-b456-f82292527a29\n"
          ]
        },
        {
          "output_type": "stream",
          "name": "stderr",
          "text": [
            "INFO:httpx:HTTP Request: POST https://api.openai.com/v1/chat/completions \"HTTP/1.1 200 OK\"\n",
            "Scoring responses: 100%|██████████| 1/1 [00:07<00:00,  7.03s/it]\n"
          ]
        },
        {
          "output_type": "stream",
          "name": "stdout",
          "text": [
            "🍩 https://wandb.ai/lavanyashukla/spacerag_novtest2/r/call/0192f805-ae9e-7890-9e5b-5fdff68551c5\n"
          ]
        },
        {
          "output_type": "stream",
          "name": "stderr",
          "text": [
            "Retrieving responses: 100%|██████████| 1/1 [00:00<00:00, 7781.64it/s]\n",
            "Scoring responses:   0%|          | 0/1 [00:00<?, ?it/s]INFO:httpx:HTTP Request: POST https://api.openai.com/v1/chat/completions \"HTTP/1.1 200 OK\"\n"
          ]
        },
        {
          "output_type": "stream",
          "name": "stdout",
          "text": [
            "🍩 https://wandb.ai/lavanyashukla/spacerag_novtest2/r/call/0192f805-b679-7863-ac7f-585d36a9ffe0\n"
          ]
        },
        {
          "output_type": "stream",
          "name": "stderr",
          "text": [
            "INFO:httpx:HTTP Request: POST https://api.openai.com/v1/chat/completions \"HTTP/1.1 200 OK\"\n"
          ]
        },
        {
          "output_type": "stream",
          "name": "stdout",
          "text": [
            "🍩 https://wandb.ai/lavanyashukla/spacerag_novtest2/r/call/0192f805-bacb-76a2-99de-942b994d8e2b\n"
          ]
        },
        {
          "output_type": "stream",
          "name": "stderr",
          "text": [
            "INFO:httpx:HTTP Request: POST https://api.openai.com/v1/chat/completions \"HTTP/1.1 200 OK\"\n"
          ]
        },
        {
          "output_type": "stream",
          "name": "stdout",
          "text": [
            "🍩 https://wandb.ai/lavanyashukla/spacerag_novtest2/r/call/0192f805-bd8e-7e22-859c-22bed4b0a578\n"
          ]
        },
        {
          "output_type": "stream",
          "name": "stderr",
          "text": [
            "INFO:httpx:HTTP Request: POST https://api.openai.com/v1/chat/completions \"HTTP/1.1 200 OK\"\n"
          ]
        },
        {
          "output_type": "stream",
          "name": "stdout",
          "text": [
            "🍩 https://wandb.ai/lavanyashukla/spacerag_novtest2/r/call/0192f805-d0bf-7320-a989-73e5c92723d3\n"
          ]
        },
        {
          "output_type": "stream",
          "name": "stderr",
          "text": [
            "INFO:httpx:HTTP Request: POST https://api.openai.com/v1/chat/completions \"HTTP/1.1 200 OK\"\n"
          ]
        },
        {
          "output_type": "stream",
          "name": "stdout",
          "text": [
            "🍩 https://wandb.ai/lavanyashukla/spacerag_novtest2/r/call/0192f805-d59e-72b3-b3f1-d8dfa0834c27\n"
          ]
        },
        {
          "output_type": "stream",
          "name": "stderr",
          "text": [
            "INFO:httpx:HTTP Request: POST https://api.openai.com/v1/chat/completions \"HTTP/1.1 200 OK\"\n"
          ]
        },
        {
          "output_type": "stream",
          "name": "stdout",
          "text": [
            "🍩 https://wandb.ai/lavanyashukla/spacerag_novtest2/r/call/0192f805-d949-75d0-bba0-6a941ae0de38\n"
          ]
        },
        {
          "output_type": "stream",
          "name": "stderr",
          "text": [
            "INFO:httpx:HTTP Request: POST https://api.openai.com/v1/chat/completions \"HTTP/1.1 200 OK\"\n"
          ]
        },
        {
          "output_type": "stream",
          "name": "stdout",
          "text": [
            "🍩 https://wandb.ai/lavanyashukla/spacerag_novtest2/r/call/0192f805-ddde-7721-9280-b931c62a0de5\n"
          ]
        },
        {
          "output_type": "stream",
          "name": "stderr",
          "text": [
            "INFO:httpx:HTTP Request: POST https://api.openai.com/v1/chat/completions \"HTTP/1.1 200 OK\"\n"
          ]
        },
        {
          "output_type": "stream",
          "name": "stdout",
          "text": [
            "🍩 https://wandb.ai/lavanyashukla/spacerag_novtest2/r/call/0192f805-e0f2-7041-873a-cb81e5edb0dc\n"
          ]
        },
        {
          "output_type": "stream",
          "name": "stderr",
          "text": [
            "INFO:httpx:HTTP Request: POST https://api.openai.com/v1/chat/completions \"HTTP/1.1 200 OK\"\n",
            "Scoring responses: 100%|██████████| 1/1 [00:12<00:00, 12.51s/it]\n"
          ]
        },
        {
          "output_type": "stream",
          "name": "stdout",
          "text": [
            "🍩 https://wandb.ai/lavanyashukla/spacerag_novtest2/r/call/0192f805-e445-7073-a21f-ebe045b0ce83\n"
          ]
        },
        {
          "output_type": "stream",
          "name": "stderr",
          "text": [
            "Retrieving responses: 100%|██████████| 1/1 [00:00<00:00, 2246.55it/s]\n",
            "Scoring responses:   0%|          | 0/1 [00:00<?, ?it/s]INFO:httpx:HTTP Request: POST https://api.openai.com/v1/chat/completions \"HTTP/1.1 200 OK\"\n"
          ]
        },
        {
          "output_type": "stream",
          "name": "stdout",
          "text": [
            "🍩 https://wandb.ai/lavanyashukla/spacerag_novtest2/r/call/0192f805-ebdb-7f01-944f-8725e196d5df\n"
          ]
        },
        {
          "output_type": "stream",
          "name": "stderr",
          "text": [
            "INFO:httpx:HTTP Request: POST https://api.openai.com/v1/chat/completions \"HTTP/1.1 200 OK\"\n"
          ]
        },
        {
          "output_type": "stream",
          "name": "stdout",
          "text": [
            "🍩 https://wandb.ai/lavanyashukla/spacerag_novtest2/r/call/0192f805-eee4-7db0-8edc-610ba9ebbe6e\n"
          ]
        },
        {
          "output_type": "stream",
          "name": "stderr",
          "text": [
            "INFO:httpx:HTTP Request: POST https://api.openai.com/v1/chat/completions \"HTTP/1.1 200 OK\"\n"
          ]
        },
        {
          "output_type": "stream",
          "name": "stdout",
          "text": [
            "🍩 https://wandb.ai/lavanyashukla/spacerag_novtest2/r/call/0192f805-f173-7ef0-ba60-b230ec7d511b\n"
          ]
        },
        {
          "output_type": "stream",
          "name": "stderr",
          "text": [
            "INFO:httpx:HTTP Request: POST https://api.openai.com/v1/chat/completions \"HTTP/1.1 200 OK\"\n"
          ]
        },
        {
          "output_type": "stream",
          "name": "stdout",
          "text": [
            "🍩 https://wandb.ai/lavanyashukla/spacerag_novtest2/r/call/0192f806-0253-71a0-bf46-2f3331ac9fc0\n"
          ]
        },
        {
          "output_type": "stream",
          "name": "stderr",
          "text": [
            "INFO:httpx:HTTP Request: POST https://api.openai.com/v1/chat/completions \"HTTP/1.1 200 OK\"\n"
          ]
        },
        {
          "output_type": "stream",
          "name": "stdout",
          "text": [
            "🍩 https://wandb.ai/lavanyashukla/spacerag_novtest2/r/call/0192f806-055e-7893-b408-0f976b459991\n"
          ]
        },
        {
          "output_type": "stream",
          "name": "stderr",
          "text": [
            "INFO:httpx:HTTP Request: POST https://api.openai.com/v1/chat/completions \"HTTP/1.1 200 OK\"\n"
          ]
        },
        {
          "output_type": "stream",
          "name": "stdout",
          "text": [
            "🍩 https://wandb.ai/lavanyashukla/spacerag_novtest2/r/call/0192f806-094d-7792-8ab6-282cea809e4b\n"
          ]
        },
        {
          "output_type": "stream",
          "name": "stderr",
          "text": [
            "INFO:httpx:HTTP Request: POST https://api.openai.com/v1/chat/completions \"HTTP/1.1 200 OK\"\n"
          ]
        },
        {
          "output_type": "stream",
          "name": "stdout",
          "text": [
            "🍩 https://wandb.ai/lavanyashukla/spacerag_novtest2/r/call/0192f806-0e18-7032-9f32-73f68dc7bd2f\n"
          ]
        },
        {
          "output_type": "stream",
          "name": "stderr",
          "text": [
            "INFO:httpx:HTTP Request: POST https://api.openai.com/v1/chat/completions \"HTTP/1.1 200 OK\"\n"
          ]
        },
        {
          "output_type": "stream",
          "name": "stdout",
          "text": [
            "🍩 https://wandb.ai/lavanyashukla/spacerag_novtest2/r/call/0192f806-15c4-7e92-9a35-8815aadec2b4\n"
          ]
        },
        {
          "output_type": "stream",
          "name": "stderr",
          "text": [
            "INFO:httpx:HTTP Request: POST https://api.openai.com/v1/chat/completions \"HTTP/1.1 200 OK\"\n",
            "Scoring responses: 100%|██████████| 1/1 [00:15<00:00, 15.73s/it]\n"
          ]
        },
        {
          "output_type": "stream",
          "name": "stdout",
          "text": [
            "🍩 https://wandb.ai/lavanyashukla/spacerag_novtest2/r/call/0192f806-1db0-79f0-bee8-b58b1b022c89\n"
          ]
        },
        {
          "output_type": "stream",
          "name": "stderr",
          "text": [
            "Retrieving responses: 100%|██████████| 1/1 [00:00<00:00, 787.51it/s]\n",
            "Scoring responses:   0%|          | 0/1 [00:00<?, ?it/s]INFO:httpx:HTTP Request: POST https://api.openai.com/v1/chat/completions \"HTTP/1.1 200 OK\"\n"
          ]
        },
        {
          "output_type": "stream",
          "name": "stdout",
          "text": [
            "🍩 https://wandb.ai/lavanyashukla/spacerag_novtest2/r/call/0192f806-2cde-79a3-a1ae-d8ebf02142e7\n"
          ]
        },
        {
          "output_type": "stream",
          "name": "stderr",
          "text": [
            "INFO:httpx:HTTP Request: POST https://api.openai.com/v1/chat/completions \"HTTP/1.1 200 OK\"\n"
          ]
        },
        {
          "output_type": "stream",
          "name": "stdout",
          "text": [
            "🍩 https://wandb.ai/lavanyashukla/spacerag_novtest2/r/call/0192f806-2f45-7283-b256-ffd748f91e9f\n"
          ]
        },
        {
          "output_type": "stream",
          "name": "stderr",
          "text": [
            "INFO:httpx:HTTP Request: POST https://api.openai.com/v1/chat/completions \"HTTP/1.1 200 OK\"\n"
          ]
        },
        {
          "output_type": "stream",
          "name": "stdout",
          "text": [
            "🍩 https://wandb.ai/lavanyashukla/spacerag_novtest2/r/call/0192f806-3250-7da1-899d-980d9197f570\n"
          ]
        },
        {
          "output_type": "stream",
          "name": "stderr",
          "text": [
            "INFO:httpx:HTTP Request: POST https://api.openai.com/v1/chat/completions \"HTTP/1.1 200 OK\"\n",
            "Scoring responses: 100%|██████████| 1/1 [00:03<00:00,  3.09s/it]\n"
          ]
        },
        {
          "output_type": "stream",
          "name": "stdout",
          "text": [
            "🍩 https://wandb.ai/lavanyashukla/spacerag_novtest2/r/call/0192f806-35cb-7880-985e-6867886166f0\n"
          ]
        },
        {
          "output_type": "stream",
          "name": "stderr",
          "text": [
            "Retrieving responses: 100%|██████████| 1/1 [00:00<00:00, 6307.22it/s]\n",
            "Scoring responses:   0%|          | 0/1 [00:00<?, ?it/s]INFO:httpx:HTTP Request: POST https://api.openai.com/v1/chat/completions \"HTTP/1.1 200 OK\"\n"
          ]
        },
        {
          "output_type": "stream",
          "name": "stdout",
          "text": [
            "🍩 https://wandb.ai/lavanyashukla/spacerag_novtest2/r/call/0192f806-3cb5-7b20-b2a1-eec67f896b8b\n"
          ]
        },
        {
          "output_type": "stream",
          "name": "stderr",
          "text": [
            "INFO:httpx:HTTP Request: POST https://api.openai.com/v1/chat/completions \"HTTP/1.1 200 OK\"\n"
          ]
        },
        {
          "output_type": "stream",
          "name": "stdout",
          "text": [
            "🍩 https://wandb.ai/lavanyashukla/spacerag_novtest2/r/call/0192f806-3f3b-7b93-9171-eec356ff72df\n"
          ]
        },
        {
          "output_type": "stream",
          "name": "stderr",
          "text": [
            "INFO:httpx:HTTP Request: POST https://api.openai.com/v1/chat/completions \"HTTP/1.1 200 OK\"\n"
          ]
        },
        {
          "output_type": "stream",
          "name": "stdout",
          "text": [
            "🍩 https://wandb.ai/lavanyashukla/spacerag_novtest2/r/call/0192f806-420f-7462-af7e-445fb2c4217b\n"
          ]
        },
        {
          "output_type": "stream",
          "name": "stderr",
          "text": [
            "INFO:httpx:HTTP Request: POST https://api.openai.com/v1/chat/completions \"HTTP/1.1 200 OK\"\n"
          ]
        },
        {
          "output_type": "stream",
          "name": "stdout",
          "text": [
            "🍩 https://wandb.ai/lavanyashukla/spacerag_novtest2/r/call/0192f806-512a-7a21-bac5-4256431dcc82\n"
          ]
        },
        {
          "output_type": "stream",
          "name": "stderr",
          "text": [
            "INFO:httpx:HTTP Request: POST https://api.openai.com/v1/chat/completions \"HTTP/1.1 200 OK\"\n"
          ]
        },
        {
          "output_type": "stream",
          "name": "stdout",
          "text": [
            "🍩 https://wandb.ai/lavanyashukla/spacerag_novtest2/r/call/0192f806-5462-72c1-b355-59830bcd09cf\n"
          ]
        },
        {
          "output_type": "stream",
          "name": "stderr",
          "text": [
            "INFO:httpx:HTTP Request: POST https://api.openai.com/v1/chat/completions \"HTTP/1.1 200 OK\"\n",
            "Scoring responses: 100%|██████████| 1/1 [00:08<00:00,  8.32s/it]\n"
          ]
        },
        {
          "output_type": "stream",
          "name": "stdout",
          "text": [
            "🍩 https://wandb.ai/lavanyashukla/spacerag_novtest2/r/call/0192f806-58b1-7921-b7b0-3138c57823d4\n"
          ]
        },
        {
          "output_type": "stream",
          "name": "stderr",
          "text": [
            "Retrieving responses: 100%|██████████| 1/1 [00:00<00:00, 594.26it/s]\n",
            "Scoring responses:   0%|          | 0/1 [00:00<?, ?it/s]INFO:httpx:HTTP Request: POST https://api.openai.com/v1/chat/completions \"HTTP/1.1 200 OK\"\n"
          ]
        },
        {
          "output_type": "stream",
          "name": "stdout",
          "text": [
            "🍩 https://wandb.ai/lavanyashukla/spacerag_novtest2/r/call/0192f806-6159-72e2-a997-1cbebcdd14df\n"
          ]
        },
        {
          "output_type": "stream",
          "name": "stderr",
          "text": [
            "INFO:httpx:HTTP Request: POST https://api.openai.com/v1/chat/completions \"HTTP/1.1 200 OK\"\n"
          ]
        },
        {
          "output_type": "stream",
          "name": "stdout",
          "text": [
            "🍩 https://wandb.ai/lavanyashukla/spacerag_novtest2/r/call/0192f806-63cb-75b1-83d9-6d1f2c16bab0\n"
          ]
        },
        {
          "output_type": "stream",
          "name": "stderr",
          "text": [
            "INFO:httpx:HTTP Request: POST https://api.openai.com/v1/chat/completions \"HTTP/1.1 200 OK\"\n"
          ]
        },
        {
          "output_type": "stream",
          "name": "stdout",
          "text": [
            "🍩 https://wandb.ai/lavanyashukla/spacerag_novtest2/r/call/0192f806-6a5a-7ad2-aa31-db34a73cd3bf\n"
          ]
        },
        {
          "output_type": "stream",
          "name": "stderr",
          "text": [
            "INFO:httpx:HTTP Request: POST https://api.openai.com/v1/chat/completions \"HTTP/1.1 200 OK\"\n"
          ]
        },
        {
          "output_type": "stream",
          "name": "stdout",
          "text": [
            "🍩 https://wandb.ai/lavanyashukla/spacerag_novtest2/r/call/0192f806-72d3-7a71-976d-2ef4456040f2\n"
          ]
        },
        {
          "output_type": "stream",
          "name": "stderr",
          "text": [
            "INFO:httpx:HTTP Request: POST https://api.openai.com/v1/chat/completions \"HTTP/1.1 200 OK\"\n",
            "Scoring responses: 100%|██████████| 1/1 [00:06<00:00,  6.41s/it]\n"
          ]
        },
        {
          "output_type": "stream",
          "name": "stdout",
          "text": [
            "🍩 https://wandb.ai/lavanyashukla/spacerag_novtest2/r/call/0192f806-7745-7060-a498-0dd9d5089c87\n"
          ]
        },
        {
          "output_type": "stream",
          "name": "stderr",
          "text": [
            "Retrieving responses: 100%|██████████| 1/1 [00:00<00:00, 6250.83it/s]\n",
            "Scoring responses:   0%|          | 0/1 [00:00<?, ?it/s]INFO:httpx:HTTP Request: POST https://api.openai.com/v1/chat/completions \"HTTP/1.1 200 OK\"\n"
          ]
        },
        {
          "output_type": "stream",
          "name": "stdout",
          "text": [
            "🍩 https://wandb.ai/lavanyashukla/spacerag_novtest2/r/call/0192f806-7e1a-7763-bf93-96d77474d7d6\n"
          ]
        },
        {
          "output_type": "stream",
          "name": "stderr",
          "text": [
            "INFO:httpx:HTTP Request: POST https://api.openai.com/v1/chat/completions \"HTTP/1.1 200 OK\"\n"
          ]
        },
        {
          "output_type": "stream",
          "name": "stdout",
          "text": [
            "🍩 https://wandb.ai/lavanyashukla/spacerag_novtest2/r/call/0192f806-81b5-7ec1-ab8f-f5eda98912eb\n"
          ]
        },
        {
          "output_type": "stream",
          "name": "stderr",
          "text": [
            "INFO:httpx:HTTP Request: POST https://api.openai.com/v1/chat/completions \"HTTP/1.1 200 OK\"\n"
          ]
        },
        {
          "output_type": "stream",
          "name": "stdout",
          "text": [
            "🍩 https://wandb.ai/lavanyashukla/spacerag_novtest2/r/call/0192f806-841b-75e3-8f08-d31cd647f890\n"
          ]
        },
        {
          "output_type": "stream",
          "name": "stderr",
          "text": [
            "INFO:httpx:HTTP Request: POST https://api.openai.com/v1/chat/completions \"HTTP/1.1 200 OK\"\n"
          ]
        },
        {
          "output_type": "stream",
          "name": "stdout",
          "text": [
            "🍩 https://wandb.ai/lavanyashukla/spacerag_novtest2/r/call/0192f806-8e31-77f1-9310-7ce20e9c9e75\n"
          ]
        },
        {
          "output_type": "stream",
          "name": "stderr",
          "text": [
            "INFO:httpx:HTTP Request: POST https://api.openai.com/v1/chat/completions \"HTTP/1.1 200 OK\"\n"
          ]
        },
        {
          "output_type": "stream",
          "name": "stdout",
          "text": [
            "🍩 https://wandb.ai/lavanyashukla/spacerag_novtest2/r/call/0192f806-924e-71e1-bb10-c7a54b889b23\n"
          ]
        },
        {
          "output_type": "stream",
          "name": "stderr",
          "text": [
            "INFO:httpx:HTTP Request: POST https://api.openai.com/v1/chat/completions \"HTTP/1.1 200 OK\"\n",
            "Scoring responses: 100%|██████████| 1/1 [00:06<00:00,  6.83s/it]\n"
          ]
        },
        {
          "output_type": "stream",
          "name": "stdout",
          "text": [
            "🍩 https://wandb.ai/lavanyashukla/spacerag_novtest2/r/call/0192f806-959f-7301-979e-f395110a0878\n"
          ]
        },
        {
          "output_type": "stream",
          "name": "stderr",
          "text": [
            "Retrieving responses: 100%|██████████| 1/1 [00:00<00:00, 5426.01it/s]\n",
            "Scoring responses:   0%|          | 0/1 [00:00<?, ?it/s]INFO:httpx:HTTP Request: POST https://api.openai.com/v1/chat/completions \"HTTP/1.1 200 OK\"\n"
          ]
        },
        {
          "output_type": "stream",
          "name": "stdout",
          "text": [
            "🍩 https://wandb.ai/lavanyashukla/spacerag_novtest2/r/call/0192f806-9cd8-7f83-b3ae-b87d7fe5af7b\n"
          ]
        },
        {
          "output_type": "stream",
          "name": "stderr",
          "text": [
            "INFO:httpx:HTTP Request: POST https://api.openai.com/v1/chat/completions \"HTTP/1.1 200 OK\"\n"
          ]
        },
        {
          "output_type": "stream",
          "name": "stdout",
          "text": [
            "🍩 https://wandb.ai/lavanyashukla/spacerag_novtest2/r/call/0192f806-9f55-7e30-abba-d63cb3468ab1\n"
          ]
        },
        {
          "output_type": "stream",
          "name": "stderr",
          "text": [
            "INFO:httpx:HTTP Request: POST https://api.openai.com/v1/chat/completions \"HTTP/1.1 200 OK\"\n"
          ]
        },
        {
          "output_type": "stream",
          "name": "stdout",
          "text": [
            "🍩 https://wandb.ai/lavanyashukla/spacerag_novtest2/r/call/0192f806-a1b4-7ce2-be78-a90f0b49542c\n"
          ]
        },
        {
          "output_type": "stream",
          "name": "stderr",
          "text": [
            "INFO:httpx:HTTP Request: POST https://api.openai.com/v1/chat/completions \"HTTP/1.1 200 OK\"\n"
          ]
        },
        {
          "output_type": "stream",
          "name": "stdout",
          "text": [
            "🍩 https://wandb.ai/lavanyashukla/spacerag_novtest2/r/call/0192f806-b39a-7be2-95d6-a8d8f7f37d54\n"
          ]
        },
        {
          "output_type": "stream",
          "name": "stderr",
          "text": [
            "INFO:httpx:HTTP Request: POST https://api.openai.com/v1/chat/completions \"HTTP/1.1 200 OK\"\n"
          ]
        },
        {
          "output_type": "stream",
          "name": "stdout",
          "text": [
            "🍩 https://wandb.ai/lavanyashukla/spacerag_novtest2/r/call/0192f806-b89c-7f81-987f-6ea50c83b228\n"
          ]
        },
        {
          "output_type": "stream",
          "name": "stderr",
          "text": [
            "INFO:httpx:HTTP Request: POST https://api.openai.com/v1/chat/completions \"HTTP/1.1 200 OK\"\n",
            "Scoring responses: 100%|██████████| 1/1 [00:09<00:00,  9.15s/it]\n"
          ]
        },
        {
          "output_type": "stream",
          "name": "stdout",
          "text": [
            "🍩 https://wandb.ai/lavanyashukla/spacerag_novtest2/r/call/0192f806-bc83-75d1-9f38-2a4b77834b94\n"
          ]
        },
        {
          "output_type": "stream",
          "name": "stderr",
          "text": [
            "Retrieving responses: 100%|██████████| 1/1 [00:00<00:00, 677.27it/s]\n",
            "Scoring responses:   0%|          | 0/1 [00:00<?, ?it/s]INFO:httpx:HTTP Request: POST https://api.openai.com/v1/chat/completions \"HTTP/1.1 200 OK\"\n"
          ]
        },
        {
          "output_type": "stream",
          "name": "stdout",
          "text": [
            "🍩 https://wandb.ai/lavanyashukla/spacerag_novtest2/r/call/0192f806-c425-7df1-88f8-ff4a25d58425\n"
          ]
        },
        {
          "output_type": "stream",
          "name": "stderr",
          "text": [
            "INFO:httpx:HTTP Request: POST https://api.openai.com/v1/chat/completions \"HTTP/1.1 200 OK\"\n"
          ]
        },
        {
          "output_type": "stream",
          "name": "stdout",
          "text": [
            "🍩 https://wandb.ai/lavanyashukla/spacerag_novtest2/r/call/0192f806-c673-7541-82c1-b9cb48412007\n"
          ]
        },
        {
          "output_type": "stream",
          "name": "stderr",
          "text": [
            "INFO:httpx:HTTP Request: POST https://api.openai.com/v1/chat/completions \"HTTP/1.1 200 OK\"\n"
          ]
        },
        {
          "output_type": "stream",
          "name": "stdout",
          "text": [
            "🍩 https://wandb.ai/lavanyashukla/spacerag_novtest2/r/call/0192f806-c89c-7800-8963-860db0a31766\n"
          ]
        },
        {
          "output_type": "stream",
          "name": "stderr",
          "text": [
            "INFO:httpx:HTTP Request: POST https://api.openai.com/v1/chat/completions \"HTTP/1.1 200 OK\"\n",
            "Scoring responses: 100%|██████████| 1/1 [00:02<00:00,  2.86s/it]\n"
          ]
        },
        {
          "output_type": "stream",
          "name": "stdout",
          "text": [
            "🍩 https://wandb.ai/lavanyashukla/spacerag_novtest2/r/call/0192f806-cbb9-7f42-a11d-8ff600ee6564\n"
          ]
        },
        {
          "output_type": "stream",
          "name": "stderr",
          "text": [
            "Retrieving responses: 100%|██████████| 1/1 [00:00<00:00, 1503.87it/s]\n",
            "Scoring responses:   0%|          | 0/1 [00:00<?, ?it/s]INFO:httpx:HTTP Request: POST https://api.openai.com/v1/chat/completions \"HTTP/1.1 200 OK\"\n"
          ]
        },
        {
          "output_type": "stream",
          "name": "stdout",
          "text": [
            "🍩 https://wandb.ai/lavanyashukla/spacerag_novtest2/r/call/0192f806-d302-7200-b4aa-d74cdaa7fd53\n"
          ]
        },
        {
          "output_type": "stream",
          "name": "stderr",
          "text": [
            "INFO:httpx:HTTP Request: POST https://api.openai.com/v1/chat/completions \"HTTP/1.1 200 OK\"\n"
          ]
        },
        {
          "output_type": "stream",
          "name": "stdout",
          "text": [
            "🍩 https://wandb.ai/lavanyashukla/spacerag_novtest2/r/call/0192f806-d52f-7870-959d-4d207a31cb33\n"
          ]
        },
        {
          "output_type": "stream",
          "name": "stderr",
          "text": [
            "INFO:httpx:HTTP Request: POST https://api.openai.com/v1/chat/completions \"HTTP/1.1 200 OK\"\n"
          ]
        },
        {
          "output_type": "stream",
          "name": "stdout",
          "text": [
            "🍩 https://wandb.ai/lavanyashukla/spacerag_novtest2/r/call/0192f806-d8a7-7102-bd8e-86e57696e9bb\n"
          ]
        },
        {
          "output_type": "stream",
          "name": "stderr",
          "text": [
            "INFO:httpx:HTTP Request: POST https://api.openai.com/v1/chat/completions \"HTTP/1.1 200 OK\"\n",
            "Scoring responses: 100%|██████████| 1/1 [00:04<00:00,  4.99s/it]\n"
          ]
        },
        {
          "output_type": "stream",
          "name": "stdout",
          "text": [
            "🍩 https://wandb.ai/lavanyashukla/spacerag_novtest2/r/call/0192f806-e375-7923-9fde-e2f9b6e912f5\n"
          ]
        },
        {
          "output_type": "stream",
          "name": "stderr",
          "text": [
            "Retrieving responses: 100%|██████████| 1/1 [00:00<00:00, 6159.04it/s]\n",
            "Scoring responses:   0%|          | 0/1 [00:00<?, ?it/s]INFO:httpx:HTTP Request: POST https://api.openai.com/v1/chat/completions \"HTTP/1.1 200 OK\"\n"
          ]
        },
        {
          "output_type": "stream",
          "name": "stdout",
          "text": [
            "🍩 https://wandb.ai/lavanyashukla/spacerag_novtest2/r/call/0192f806-ea54-7a52-b15b-480fb2fcf400\n"
          ]
        },
        {
          "output_type": "stream",
          "name": "stderr",
          "text": [
            "INFO:httpx:HTTP Request: POST https://api.openai.com/v1/chat/completions \"HTTP/1.1 200 OK\"\n"
          ]
        },
        {
          "output_type": "stream",
          "name": "stdout",
          "text": [
            "🍩 https://wandb.ai/lavanyashukla/spacerag_novtest2/r/call/0192f806-ed60-7b01-abcb-6887baf13b55\n"
          ]
        },
        {
          "output_type": "stream",
          "name": "stderr",
          "text": [
            "INFO:httpx:HTTP Request: POST https://api.openai.com/v1/chat/completions \"HTTP/1.1 200 OK\"\n"
          ]
        },
        {
          "output_type": "stream",
          "name": "stdout",
          "text": [
            "🍩 https://wandb.ai/lavanyashukla/spacerag_novtest2/r/call/0192f806-f142-7022-b4b6-bc6494ac3722\n"
          ]
        },
        {
          "output_type": "stream",
          "name": "stderr",
          "text": [
            "INFO:httpx:HTTP Request: POST https://api.openai.com/v1/chat/completions \"HTTP/1.1 200 OK\"\n"
          ]
        },
        {
          "output_type": "stream",
          "name": "stdout",
          "text": [
            "🍩 https://wandb.ai/lavanyashukla/spacerag_novtest2/r/call/0192f807-00d0-75d2-9a80-9a1ac3053360\n"
          ]
        },
        {
          "output_type": "stream",
          "name": "stderr",
          "text": [
            "INFO:httpx:HTTP Request: POST https://api.openai.com/v1/chat/completions \"HTTP/1.1 200 OK\"\n"
          ]
        },
        {
          "output_type": "stream",
          "name": "stdout",
          "text": [
            "🍩 https://wandb.ai/lavanyashukla/spacerag_novtest2/r/call/0192f807-04bf-7733-9d6b-700df70e9d8a\n"
          ]
        },
        {
          "output_type": "stream",
          "name": "stderr",
          "text": [
            "INFO:httpx:HTTP Request: POST https://api.openai.com/v1/chat/completions \"HTTP/1.1 200 OK\"\n"
          ]
        },
        {
          "output_type": "stream",
          "name": "stdout",
          "text": [
            "🍩 https://wandb.ai/lavanyashukla/spacerag_novtest2/r/call/0192f807-0df1-7150-a1a0-00cfd108cef1\n"
          ]
        },
        {
          "output_type": "stream",
          "name": "stderr",
          "text": [
            "INFO:httpx:HTTP Request: POST https://api.openai.com/v1/chat/completions \"HTTP/1.1 200 OK\"\n",
            "Scoring responses: 100%|██████████| 1/1 [00:11<00:00, 11.12s/it]\n"
          ]
        },
        {
          "output_type": "stream",
          "name": "stdout",
          "text": [
            "🍩 https://wandb.ai/lavanyashukla/spacerag_novtest2/r/call/0192f807-11ac-7f63-9f8e-1712123de2bb\n"
          ]
        },
        {
          "output_type": "stream",
          "name": "stderr",
          "text": [
            "Retrieving responses: 100%|██████████| 1/1 [00:00<00:00, 733.14it/s]\n",
            "Scoring responses:   0%|          | 0/1 [00:00<?, ?it/s]INFO:httpx:HTTP Request: POST https://api.openai.com/v1/chat/completions \"HTTP/1.1 200 OK\"\n"
          ]
        },
        {
          "output_type": "stream",
          "name": "stdout",
          "text": [
            "🍩 https://wandb.ai/lavanyashukla/spacerag_novtest2/r/call/0192f807-19b1-7f42-8901-679576aaa01c\n"
          ]
        },
        {
          "output_type": "stream",
          "name": "stderr",
          "text": [
            "INFO:httpx:HTTP Request: POST https://api.openai.com/v1/chat/completions \"HTTP/1.1 200 OK\"\n"
          ]
        },
        {
          "output_type": "stream",
          "name": "stdout",
          "text": [
            "🍩 https://wandb.ai/lavanyashukla/spacerag_novtest2/r/call/0192f807-1f65-7d52-bc10-171454c690ac\n"
          ]
        },
        {
          "output_type": "stream",
          "name": "stderr",
          "text": [
            "INFO:httpx:HTTP Request: POST https://api.openai.com/v1/chat/completions \"HTTP/1.1 200 OK\"\n"
          ]
        },
        {
          "output_type": "stream",
          "name": "stdout",
          "text": [
            "🍩 https://wandb.ai/lavanyashukla/spacerag_novtest2/r/call/0192f807-2199-7003-96f3-c4f91ae5d90f\n"
          ]
        },
        {
          "output_type": "stream",
          "name": "stderr",
          "text": [
            "INFO:httpx:HTTP Request: POST https://api.openai.com/v1/chat/completions \"HTTP/1.1 200 OK\"\n"
          ]
        },
        {
          "output_type": "stream",
          "name": "stdout",
          "text": [
            "🍩 https://wandb.ai/lavanyashukla/spacerag_novtest2/r/call/0192f807-2d6c-7d31-b567-0ca05a3e5804\n"
          ]
        },
        {
          "output_type": "stream",
          "name": "stderr",
          "text": [
            "INFO:httpx:HTTP Request: POST https://api.openai.com/v1/chat/completions \"HTTP/1.1 200 OK\"\n"
          ]
        },
        {
          "output_type": "stream",
          "name": "stdout",
          "text": [
            "🍩 https://wandb.ai/lavanyashukla/spacerag_novtest2/r/call/0192f807-3115-7840-8c9b-6fd5a39a427c\n"
          ]
        },
        {
          "output_type": "stream",
          "name": "stderr",
          "text": [
            "INFO:httpx:HTTP Request: POST https://api.openai.com/v1/chat/completions \"HTTP/1.1 200 OK\"\n"
          ]
        },
        {
          "output_type": "stream",
          "name": "stdout",
          "text": [
            "🍩 https://wandb.ai/lavanyashukla/spacerag_novtest2/r/call/0192f807-3484-79c1-af87-8f76c2505dd4\n"
          ]
        },
        {
          "output_type": "stream",
          "name": "stderr",
          "text": [
            "INFO:httpx:HTTP Request: POST https://api.openai.com/v1/chat/completions \"HTTP/1.1 200 OK\"\n",
            "Scoring responses: 100%|██████████| 1/1 [00:08<00:00,  8.69s/it]\n"
          ]
        },
        {
          "output_type": "stream",
          "name": "stdout",
          "text": [
            "🍩 https://wandb.ai/lavanyashukla/spacerag_novtest2/r/call/0192f807-385e-7310-86cc-f3676d31738b\n"
          ]
        },
        {
          "output_type": "stream",
          "name": "stderr",
          "text": [
            "Retrieving responses: 100%|██████████| 1/1 [00:00<00:00, 655.97it/s]\n",
            "Scoring responses:   0%|          | 0/1 [00:00<?, ?it/s]INFO:httpx:HTTP Request: POST https://api.openai.com/v1/chat/completions \"HTTP/1.1 200 OK\"\n"
          ]
        },
        {
          "output_type": "stream",
          "name": "stdout",
          "text": [
            "🍩 https://wandb.ai/lavanyashukla/spacerag_novtest2/r/call/0192f807-3f86-7a82-9477-9834e868f573\n"
          ]
        },
        {
          "output_type": "stream",
          "name": "stderr",
          "text": [
            "INFO:httpx:HTTP Request: POST https://api.openai.com/v1/chat/completions \"HTTP/1.1 200 OK\"\n"
          ]
        },
        {
          "output_type": "stream",
          "name": "stdout",
          "text": [
            "🍩 https://wandb.ai/lavanyashukla/spacerag_novtest2/r/call/0192f807-4256-7733-952b-ce61accbcd35\n"
          ]
        },
        {
          "output_type": "stream",
          "name": "stderr",
          "text": [
            "INFO:httpx:HTTP Request: POST https://api.openai.com/v1/chat/completions \"HTTP/1.1 200 OK\"\n"
          ]
        },
        {
          "output_type": "stream",
          "name": "stdout",
          "text": [
            "🍩 https://wandb.ai/lavanyashukla/spacerag_novtest2/r/call/0192f807-44cd-76f1-8e61-3db99d6929af\n"
          ]
        },
        {
          "output_type": "stream",
          "name": "stderr",
          "text": [
            "INFO:httpx:HTTP Request: POST https://api.openai.com/v1/chat/completions \"HTTP/1.1 200 OK\"\n"
          ]
        },
        {
          "output_type": "stream",
          "name": "stdout",
          "text": [
            "🍩 https://wandb.ai/lavanyashukla/spacerag_novtest2/r/call/0192f807-59fb-7812-8da9-7282b6791490\n"
          ]
        },
        {
          "output_type": "stream",
          "name": "stderr",
          "text": [
            "INFO:httpx:HTTP Request: POST https://api.openai.com/v1/chat/completions \"HTTP/1.1 200 OK\"\n"
          ]
        },
        {
          "output_type": "stream",
          "name": "stdout",
          "text": [
            "🍩 https://wandb.ai/lavanyashukla/spacerag_novtest2/r/call/0192f807-5d4f-7552-9976-9d882a14ff06\n"
          ]
        },
        {
          "output_type": "stream",
          "name": "stderr",
          "text": [
            "INFO:httpx:HTTP Request: POST https://api.openai.com/v1/chat/completions \"HTTP/1.1 200 OK\"\n"
          ]
        },
        {
          "output_type": "stream",
          "name": "stdout",
          "text": [
            "🍩 https://wandb.ai/lavanyashukla/spacerag_novtest2/r/call/0192f807-6362-7c21-a837-2ef1b5f75a45\n"
          ]
        },
        {
          "output_type": "stream",
          "name": "stderr",
          "text": [
            "INFO:httpx:HTTP Request: POST https://api.openai.com/v1/chat/completions \"HTTP/1.1 200 OK\"\n"
          ]
        },
        {
          "output_type": "stream",
          "name": "stdout",
          "text": [
            "🍩 https://wandb.ai/lavanyashukla/spacerag_novtest2/r/call/0192f807-6952-79b3-8d0d-3dc127b24890\n"
          ]
        },
        {
          "output_type": "stream",
          "name": "stderr",
          "text": [
            "INFO:httpx:HTTP Request: POST https://api.openai.com/v1/chat/completions \"HTTP/1.1 200 OK\"\n"
          ]
        },
        {
          "output_type": "stream",
          "name": "stdout",
          "text": [
            "🍩 https://wandb.ai/lavanyashukla/spacerag_novtest2/r/call/0192f807-6cda-7aa0-9c89-c95e0fe7ace0\n"
          ]
        },
        {
          "output_type": "stream",
          "name": "stderr",
          "text": [
            "INFO:httpx:HTTP Request: POST https://api.openai.com/v1/chat/completions \"HTTP/1.1 200 OK\"\n"
          ]
        },
        {
          "output_type": "stream",
          "name": "stdout",
          "text": [
            "🍩 https://wandb.ai/lavanyashukla/spacerag_novtest2/r/call/0192f807-707c-76d0-adda-1a370b376660\n"
          ]
        },
        {
          "output_type": "stream",
          "name": "stderr",
          "text": [
            "INFO:httpx:HTTP Request: POST https://api.openai.com/v1/chat/completions \"HTTP/1.1 200 OK\"\n"
          ]
        },
        {
          "output_type": "stream",
          "name": "stdout",
          "text": [
            "🍩 https://wandb.ai/lavanyashukla/spacerag_novtest2/r/call/0192f807-7847-7fe0-b148-aea575fe315b\n"
          ]
        },
        {
          "output_type": "stream",
          "name": "stderr",
          "text": [
            "INFO:httpx:HTTP Request: POST https://api.openai.com/v1/chat/completions \"HTTP/1.1 200 OK\"\n"
          ]
        },
        {
          "output_type": "stream",
          "name": "stdout",
          "text": [
            "🍩 https://wandb.ai/lavanyashukla/spacerag_novtest2/r/call/0192f807-7b9a-7872-81f3-2e4cd63a80ab\n"
          ]
        },
        {
          "output_type": "stream",
          "name": "stderr",
          "text": [
            "INFO:httpx:HTTP Request: POST https://api.openai.com/v1/chat/completions \"HTTP/1.1 200 OK\"\n"
          ]
        },
        {
          "output_type": "stream",
          "name": "stdout",
          "text": [
            "🍩 https://wandb.ai/lavanyashukla/spacerag_novtest2/r/call/0192f807-82fb-7d92-8177-5daa4fb1511c\n"
          ]
        },
        {
          "output_type": "stream",
          "name": "stderr",
          "text": [
            "INFO:httpx:HTTP Request: POST https://api.openai.com/v1/chat/completions \"HTTP/1.1 200 OK\"\n"
          ]
        },
        {
          "output_type": "stream",
          "name": "stdout",
          "text": [
            "🍩 https://wandb.ai/lavanyashukla/spacerag_novtest2/r/call/0192f807-8c28-7861-95d9-532da486219b\n"
          ]
        },
        {
          "output_type": "stream",
          "name": "stderr",
          "text": [
            "INFO:httpx:HTTP Request: POST https://api.openai.com/v1/chat/completions \"HTTP/1.1 200 OK\"\n",
            "Scoring responses: 100%|██████████| 1/1 [00:21<00:00, 21.76s/it]\n"
          ]
        },
        {
          "output_type": "stream",
          "name": "stdout",
          "text": [
            "🍩 https://wandb.ai/lavanyashukla/spacerag_novtest2/r/call/0192f807-8fa0-7982-8756-04f59d24d151\n"
          ]
        },
        {
          "output_type": "stream",
          "name": "stderr",
          "text": [
            "Retrieving responses: 100%|██████████| 1/1 [00:00<00:00, 652.51it/s]\n",
            "Scoring responses:   0%|          | 0/1 [00:00<?, ?it/s]INFO:httpx:HTTP Request: POST https://api.openai.com/v1/chat/completions \"HTTP/1.1 200 OK\"\n"
          ]
        },
        {
          "output_type": "stream",
          "name": "stdout",
          "text": [
            "🍩 https://wandb.ai/lavanyashukla/spacerag_novtest2/r/call/0192f807-9860-7543-8be1-7f654f3494bf\n"
          ]
        },
        {
          "output_type": "stream",
          "name": "stderr",
          "text": [
            "INFO:httpx:HTTP Request: POST https://api.openai.com/v1/chat/completions \"HTTP/1.1 200 OK\"\n"
          ]
        },
        {
          "output_type": "stream",
          "name": "stdout",
          "text": [
            "🍩 https://wandb.ai/lavanyashukla/spacerag_novtest2/r/call/0192f807-9a8d-7122-8d25-acb6a91e4105\n"
          ]
        },
        {
          "output_type": "stream",
          "name": "stderr",
          "text": [
            "INFO:httpx:HTTP Request: POST https://api.openai.com/v1/chat/completions \"HTTP/1.1 200 OK\"\n"
          ]
        },
        {
          "output_type": "stream",
          "name": "stdout",
          "text": [
            "🍩 https://wandb.ai/lavanyashukla/spacerag_novtest2/r/call/0192f807-9e4f-73e3-9e53-02853521d621\n"
          ]
        },
        {
          "output_type": "stream",
          "name": "stderr",
          "text": [
            "INFO:httpx:HTTP Request: POST https://api.openai.com/v1/chat/completions \"HTTP/1.1 200 OK\"\n"
          ]
        },
        {
          "output_type": "stream",
          "name": "stdout",
          "text": [
            "🍩 https://wandb.ai/lavanyashukla/spacerag_novtest2/r/call/0192f807-a14a-79f3-ab98-232972ec2272\n"
          ]
        },
        {
          "output_type": "stream",
          "name": "stderr",
          "text": [
            "INFO:httpx:HTTP Request: POST https://api.openai.com/v1/chat/completions \"HTTP/1.1 200 OK\"\n",
            "Scoring responses: 100%|██████████| 1/1 [00:03<00:00,  3.97s/it]\n"
          ]
        },
        {
          "output_type": "stream",
          "name": "stdout",
          "text": [
            "🍩 https://wandb.ai/lavanyashukla/spacerag_novtest2/r/call/0192f807-a473-7af1-a24d-8b7913154d21\n"
          ]
        },
        {
          "output_type": "stream",
          "name": "stderr",
          "text": [
            "Retrieving responses: 100%|██████████| 1/1 [00:00<00:00, 6123.07it/s]\n",
            "Scoring responses:   0%|          | 0/1 [00:00<?, ?it/s]INFO:httpx:HTTP Request: POST https://api.openai.com/v1/chat/completions \"HTTP/1.1 200 OK\"\n"
          ]
        },
        {
          "output_type": "stream",
          "name": "stdout",
          "text": [
            "🍩 https://wandb.ai/lavanyashukla/spacerag_novtest2/r/call/0192f807-abbe-7e03-b9ed-05ab9e156ca9\n"
          ]
        },
        {
          "output_type": "stream",
          "name": "stderr",
          "text": [
            "INFO:httpx:HTTP Request: POST https://api.openai.com/v1/chat/completions \"HTTP/1.1 200 OK\"\n"
          ]
        },
        {
          "output_type": "stream",
          "name": "stdout",
          "text": [
            "🍩 https://wandb.ai/lavanyashukla/spacerag_novtest2/r/call/0192f807-ae24-7cb0-9cc8-7adf55ad24c4\n"
          ]
        },
        {
          "output_type": "stream",
          "name": "stderr",
          "text": [
            "INFO:httpx:HTTP Request: POST https://api.openai.com/v1/chat/completions \"HTTP/1.1 200 OK\"\n"
          ]
        },
        {
          "output_type": "stream",
          "name": "stdout",
          "text": [
            "🍩 https://wandb.ai/lavanyashukla/spacerag_novtest2/r/call/0192f807-b109-7a21-9e5e-84e8525ea3c7\n"
          ]
        },
        {
          "output_type": "stream",
          "name": "stderr",
          "text": [
            "INFO:httpx:HTTP Request: POST https://api.openai.com/v1/chat/completions \"HTTP/1.1 200 OK\"\n"
          ]
        },
        {
          "output_type": "stream",
          "name": "stdout",
          "text": [
            "🍩 https://wandb.ai/lavanyashukla/spacerag_novtest2/r/call/0192f807-d79a-7852-bd6e-20de305022af\n"
          ]
        },
        {
          "output_type": "stream",
          "name": "stderr",
          "text": [
            "INFO:httpx:HTTP Request: POST https://api.openai.com/v1/chat/completions \"HTTP/1.1 200 OK\"\n"
          ]
        },
        {
          "output_type": "stream",
          "name": "stdout",
          "text": [
            "🍩 https://wandb.ai/lavanyashukla/spacerag_novtest2/r/call/0192f807-db0d-7613-b72d-6d676a1cc0ac\n"
          ]
        },
        {
          "output_type": "stream",
          "name": "stderr",
          "text": [
            "INFO:httpx:HTTP Request: POST https://api.openai.com/v1/chat/completions \"HTTP/1.1 200 OK\"\n"
          ]
        },
        {
          "output_type": "stream",
          "name": "stdout",
          "text": [
            "🍩 https://wandb.ai/lavanyashukla/spacerag_novtest2/r/call/0192f807-debf-7862-b24f-813e1235d817\n"
          ]
        },
        {
          "output_type": "stream",
          "name": "stderr",
          "text": [
            "INFO:httpx:HTTP Request: POST https://api.openai.com/v1/chat/completions \"HTTP/1.1 200 OK\"\n",
            "Scoring responses: 100%|██████████| 1/1 [00:14<00:00, 14.74s/it]\n"
          ]
        },
        {
          "output_type": "stream",
          "name": "stdout",
          "text": [
            "🍩 https://wandb.ai/lavanyashukla/spacerag_novtest2/r/call/0192f807-e1ef-7222-b03a-c43cbb7af808\n"
          ]
        },
        {
          "output_type": "stream",
          "name": "stderr",
          "text": [
            "Retrieving responses: 100%|██████████| 1/1 [00:00<00:00, 736.36it/s]\n",
            "Scoring responses:   0%|          | 0/1 [00:00<?, ?it/s]INFO:httpx:HTTP Request: POST https://api.openai.com/v1/chat/completions \"HTTP/1.1 200 OK\"\n"
          ]
        },
        {
          "output_type": "stream",
          "name": "stdout",
          "text": [
            "🍩 https://wandb.ai/lavanyashukla/spacerag_novtest2/r/call/0192f807-e911-7040-a577-61a0153d228e\n"
          ]
        },
        {
          "output_type": "stream",
          "name": "stderr",
          "text": [
            "INFO:httpx:HTTP Request: POST https://api.openai.com/v1/chat/completions \"HTTP/1.1 200 OK\"\n"
          ]
        },
        {
          "output_type": "stream",
          "name": "stdout",
          "text": [
            "🍩 https://wandb.ai/lavanyashukla/spacerag_novtest2/r/call/0192f807-eb29-7da3-b7ec-064477992266\n"
          ]
        },
        {
          "output_type": "stream",
          "name": "stderr",
          "text": [
            "INFO:httpx:HTTP Request: POST https://api.openai.com/v1/chat/completions \"HTTP/1.1 200 OK\"\n"
          ]
        },
        {
          "output_type": "stream",
          "name": "stdout",
          "text": [
            "🍩 https://wandb.ai/lavanyashukla/spacerag_novtest2/r/call/0192f807-ed3a-76c2-bc44-c2f5d01991d3\n"
          ]
        },
        {
          "output_type": "stream",
          "name": "stderr",
          "text": [
            "INFO:httpx:HTTP Request: POST https://api.openai.com/v1/chat/completions \"HTTP/1.1 200 OK\"\n",
            "Scoring responses: 100%|██████████| 1/1 [00:03<00:00,  3.23s/it]\n"
          ]
        },
        {
          "output_type": "stream",
          "name": "stdout",
          "text": [
            "🍩 https://wandb.ai/lavanyashukla/spacerag_novtest2/r/call/0192f807-f22d-7e00-9a4a-6b3baced7850\n"
          ]
        },
        {
          "output_type": "stream",
          "name": "stderr",
          "text": [
            "Retrieving responses: 100%|██████████| 1/1 [00:00<00:00, 681.89it/s]\n",
            "Scoring responses:   0%|          | 0/1 [00:00<?, ?it/s]INFO:httpx:HTTP Request: POST https://api.openai.com/v1/chat/completions \"HTTP/1.1 200 OK\"\n"
          ]
        },
        {
          "output_type": "stream",
          "name": "stdout",
          "text": [
            "🍩 https://wandb.ai/lavanyashukla/spacerag_novtest2/r/call/0192f807-f95a-7140-a807-3a56a6c9be29\n"
          ]
        },
        {
          "output_type": "stream",
          "name": "stderr",
          "text": [
            "INFO:httpx:HTTP Request: POST https://api.openai.com/v1/chat/completions \"HTTP/1.1 200 OK\"\n"
          ]
        },
        {
          "output_type": "stream",
          "name": "stdout",
          "text": [
            "🍩 https://wandb.ai/lavanyashukla/spacerag_novtest2/r/call/0192f807-fb42-7a00-b330-fd12c4f00ad7\n"
          ]
        },
        {
          "output_type": "stream",
          "name": "stderr",
          "text": [
            "INFO:httpx:HTTP Request: POST https://api.openai.com/v1/chat/completions \"HTTP/1.1 200 OK\"\n"
          ]
        },
        {
          "output_type": "stream",
          "name": "stdout",
          "text": [
            "🍩 https://wandb.ai/lavanyashukla/spacerag_novtest2/r/call/0192f808-01b7-7c63-a741-eb8e3caddd77\n"
          ]
        },
        {
          "output_type": "stream",
          "name": "stderr",
          "text": [
            "INFO:httpx:HTTP Request: POST https://api.openai.com/v1/chat/completions \"HTTP/1.1 200 OK\"\n"
          ]
        },
        {
          "output_type": "stream",
          "name": "stdout",
          "text": [
            "🍩 https://wandb.ai/lavanyashukla/spacerag_novtest2/r/call/0192f808-0e7b-7372-81b9-8cc32a65c463\n"
          ]
        },
        {
          "output_type": "stream",
          "name": "stderr",
          "text": [
            "INFO:httpx:HTTP Request: POST https://api.openai.com/v1/chat/completions \"HTTP/1.1 200 OK\"\n"
          ]
        },
        {
          "output_type": "stream",
          "name": "stdout",
          "text": [
            "🍩 https://wandb.ai/lavanyashukla/spacerag_novtest2/r/call/0192f808-1210-7790-bf79-1d86b6e2bee9\n"
          ]
        },
        {
          "output_type": "stream",
          "name": "stderr",
          "text": [
            "INFO:httpx:HTTP Request: POST https://api.openai.com/v1/chat/completions \"HTTP/1.1 200 OK\"\n",
            "Scoring responses: 100%|██████████| 1/1 [00:08<00:00,  8.22s/it]\n"
          ]
        },
        {
          "output_type": "stream",
          "name": "stdout",
          "text": [
            "🍩 https://wandb.ai/lavanyashukla/spacerag_novtest2/r/call/0192f808-162a-7a11-9240-7eb35e17ee76\n"
          ]
        },
        {
          "output_type": "stream",
          "name": "stderr",
          "text": [
            "INFO:httpx:HTTP Request: POST https://api.openai.com/v1/embeddings \"HTTP/1.1 200 OK\"\n"
          ]
        },
        {
          "output_type": "stream",
          "name": "stdout",
          "text": [
            "Question: What are the disadvantages of the intense ionizing radiation on the moons of Jupiter for colonization?\n",
            "The intense ionizing radiation from Jupiter's magnetosphere delivers about 36 Sv per day to Io and about 5.40 Sv per day to Europa. This level of radiation can cause radiation poisoning and is potentially fatal.\n",
            "___________________________\n"
          ]
        },
        {
          "output_type": "stream",
          "name": "stderr",
          "text": [
            "INFO:httpx:HTTP Request: POST https://api.openai.com/v1/embeddings \"HTTP/1.1 200 OK\"\n"
          ]
        },
        {
          "output_type": "stream",
          "name": "stdout",
          "text": [
            "Question: Why did Stephen Hawking argue for space colonization as a means of saving humanity?\n",
            "Stephen Hawking argued for space colonization as a means to alleviate the risk of overpopulation on Earth.\n",
            "___________________________\n"
          ]
        },
        {
          "output_type": "stream",
          "name": "stderr",
          "text": [
            "INFO:httpx:HTTP Request: POST https://api.openai.com/v1/embeddings \"HTTP/1.1 200 OK\"\n"
          ]
        },
        {
          "output_type": "stream",
          "name": "stdout",
          "text": [
            "Question: How does the mass launcher use the principle of the linear induction motor to launch lunar material?\n",
            "The mass launcher uses the principle of the linear induction motor by a linear electric motor running the length of the track. The linear induction motor accelerates a container or \"bucket\" at 30 g over 10 km, holding the bucket and its payload (five 10-kg masses of lunar material) during acceleration. Once lunar escape velocity is reached, the payload is released, and the bucket is then decelerated at over 100 g by a trackside linear synchronous motor, returning it to the loading end of the track.\n",
            "___________________________\n"
          ]
        },
        {
          "output_type": "stream",
          "name": "stderr",
          "text": [
            "INFO:httpx:HTTP Request: POST https://api.openai.com/v1/embeddings \"HTTP/1.1 200 OK\"\n"
          ]
        },
        {
          "output_type": "stream",
          "name": "stdout",
          "text": [
            "Question: What are the advantages of locating the colony in large orbits around L4 and L5?\n",
            "The advantages of locating the colony in large orbits around L4 and L5 are:\n",
            "\n",
            "- The location allows for less mission complexity for launch to L2 at L4 because it's one-seventh the distance from Earth to L5.\n",
            "- It's more practical to use the Moon's known rocky material and a nearside location for a mass-driver.\n",
            "- An advantage for L5 is that a nearside location for mass-driver permits line-of-sight communications to Earth.\n",
            "___________________________\n"
          ]
        },
        {
          "output_type": "stream",
          "name": "stderr",
          "text": [
            "INFO:httpx:HTTP Request: POST https://api.openai.com/v1/embeddings \"HTTP/1.1 200 OK\"\n"
          ]
        },
        {
          "output_type": "stream",
          "name": "stdout",
          "text": [
            "Question: What are alternative biochemistries and how do they relate to the search for extraterrestrial life?\n",
            "The text doesn't directly discuss alternative biochemistries. However, it mentions that the search for extraterrestrial life assumes that any life in the universe is likely to be based on the same fundamental biochemistry as found on Earth. This suggests that the search for extraterrestrial life is focused on identifying life based on Earth-like biochemistry, but it implies that the possibility of alternative biochemistries exists.\n",
            "___________________________\n"
          ]
        },
        {
          "output_type": "stream",
          "name": "stderr",
          "text": [
            "INFO:httpx:HTTP Request: POST https://api.openai.com/v1/embeddings \"HTTP/1.1 200 OK\"\n"
          ]
        },
        {
          "output_type": "stream",
          "name": "stdout",
          "text": [
            "Question: What is the significance of water availability in determining habitability?\n",
            "Water availability is a significant factor in determining habitability, as it supports life forms and enables various biological processes, such as reactions that led to life's emergence. In the early Earth, water was essential for the delivery of the necessary infrastructure for supporting life, particularly for forming the first reactions that led to life.\n",
            "___________________________\n"
          ]
        },
        {
          "output_type": "stream",
          "name": "stderr",
          "text": [
            "INFO:httpx:HTTP Request: POST https://api.openai.com/v1/embeddings \"HTTP/1.1 200 OK\"\n"
          ]
        },
        {
          "output_type": "stream",
          "name": "stdout",
          "text": [
            "Question: What is the significance of the list of extrasolar planet candidates released by the Kepler Space Observatory Mission team?\n",
            "The significance of the list released by the Kepler Space Observatory Mission team is to present a collection of potentially habitable exoplanet candidates, which helps astronomers narrow down their search for life beyond Earth and further studies these candidates for habitability.\n",
            "___________________________\n"
          ]
        },
        {
          "output_type": "stream",
          "name": "stderr",
          "text": [
            "INFO:httpx:HTTP Request: POST https://api.openai.com/v1/embeddings \"HTTP/1.1 200 OK\"\n"
          ]
        },
        {
          "output_type": "stream",
          "name": "stdout",
          "text": [
            "Question: What are some arguments against using space colonization as a solution to human overpopulation?\n",
            "Some arguments against using space colonization as a solution to human overpopulation include:\n",
            "\n",
            "- Shipping excess population into space is not a viable solution \n",
            "- Spreading overpopulation to another planet does not necessarily create a more sustainable future, as the logic of exploitation remains the same.\n",
            "- The physical impracticality of transporting large numbers of people into space.\n",
            "- The estimated enormous costs of the initial investment and the return on investment \n",
            "- It could enhance the interests of powerful institutions creating an unequal power structure.\n",
            "___________________________\n"
          ]
        },
        {
          "output_type": "stream",
          "name": "stderr",
          "text": [
            "INFO:httpx:HTTP Request: POST https://api.openai.com/v1/embeddings \"HTTP/1.1 200 OK\"\n"
          ]
        },
        {
          "output_type": "stream",
          "name": "stdout",
          "text": [
            "Question: What are some arguments for and against space settlement?\n",
            "Arguments For Space Settlement:\n",
            "- Survival of human civilization in case of a planetary-scale disaster\n",
            "- Availability of additional resources in space to expand human society\n",
            "\n",
            "Arguments Against Space Settlement:\n",
            "- Concerns over commodification of space\n",
            "- Prevention of colonial claims\n",
            "- Militarization of space\n",
            "- International space law prohibits territorial claims and encourages sharing of space resources.\n",
            "___________________________\n"
          ]
        },
        {
          "output_type": "stream",
          "name": "stderr",
          "text": [
            "INFO:httpx:HTTP Request: POST https://api.openai.com/v1/embeddings \"HTTP/1.1 200 OK\"\n"
          ]
        },
        {
          "output_type": "stream",
          "name": "stdout",
          "text": [
            "Question: What is the role of electrical supply and distribution in a space colony?\n",
            "The role of electrical supply and distribution in a space colony is mentioned indirectly through the mention of critical factors such as requiring an external energy source for dry incineration in the waste management system, and especially with wet oxidation process depending on exothermic reactions to operate at high temperatures, suggesting that the colony might have a large electrical power requirement, likely satisfied by solar power satellites (SPS), with no other alternatives for large-scale economic enterprises mentioned.\n",
            "___________________________\n"
          ]
        },
        {
          "output_type": "stream",
          "name": "stderr",
          "text": [
            "INFO:httpx:HTTP Request: POST https://api.openai.com/v1/embeddings \"HTTP/1.1 200 OK\"\n"
          ]
        },
        {
          "output_type": "stream",
          "name": "stdout",
          "text": [
            "Question: What is the proposed trajectory for mankind's expansion into space colonization?\n",
            "There is no specific proposed trajectory for mankind's expansion into space colonization mentioned in the text. However, it is suggested that a 50-year development plan is in place for the Eros Project.\n",
            "___________________________\n"
          ]
        },
        {
          "output_type": "stream",
          "name": "stderr",
          "text": [
            "INFO:httpx:HTTP Request: POST https://api.openai.com/v1/embeddings \"HTTP/1.1 200 OK\"\n"
          ]
        },
        {
          "output_type": "stream",
          "name": "stdout",
          "text": [
            "Question: What is the purpose of a heavy lift launch vehicle in space colonization?\n",
            "The text does not explicitly mention the purpose of a heavy lift launch vehicle in space colonization. However, it does mention the transportation of material from space to Earth, and potential uses of materials like titanium, which might be manufactured in space. A heavy lift launch vehicle is likely necessary to transport these materials back to Earth.\n",
            "___________________________\n"
          ]
        },
        {
          "output_type": "stream",
          "name": "stderr",
          "text": [
            "INFO:httpx:HTTP Request: POST https://api.openai.com/v1/embeddings \"HTTP/1.1 200 OK\"\n"
          ]
        },
        {
          "output_type": "stream",
          "name": "stdout",
          "text": [
            "Question: What are the advantages and disadvantages of the Bernal sphere as a habitat configuration?\n",
            "The Bernal sphere is a habitat configuration that has been proposed for a space colony. \n",
            "\n",
            "Advantages of the Bernal sphere: \n",
            "\n",
            "- It can provide enough space for a colony of 10,000 people, as specifically mentioned in the text.\n",
            "- It requires less shielding mass compared to some other configurations, specifically 300,000 tonnes less than the banded torus.\n",
            "- It is efficient in terms of overall mass requirements.\n",
            "\n",
            "Disadvantages of the Bernal sphere:\n",
            "- It requires a larger mass of atmosphere than other configurations, potentially twice to four times as much.\n",
            "- It requires more structural mass, potentially three to four times as much as other configurations.\n",
            "- The relocation of the agriculture to the placement outside the shielded sphere is crucial to its design.\n",
            "___________________________\n"
          ]
        },
        {
          "output_type": "stream",
          "name": "stderr",
          "text": [
            "INFO:httpx:HTTP Request: POST https://api.openai.com/v1/embeddings \"HTTP/1.1 200 OK\"\n"
          ]
        },
        {
          "output_type": "stream",
          "name": "stdout",
          "text": [
            "Question: What factors affect the economic viability of space colonization for the production of SSPS's?\n",
            "Several factors affect the economic viability of space colonization for the production of SSPS's:\n",
            "\n",
            "1. **Cost Uncertainties**: The extended time horizon of the program (70 years) introduces cost uncertainties.\n",
            "2. **Initial Costs**: High initial costs of building the first colony and the lunar base.\n",
            "3. **Repaying Earth**: The ability of space colonies to repay Earth for their initial and operating costs by supplying energy from space.\n",
            "4. **Power Demand**: The growth in demand for electricity on Earth, which affects the potential market size and revenue.\n",
            "5. **Technological Advancements**: The development of a second-generation shuttle system with lower operating costs, which could improve the economic viability of the program.\n",
            "6. **Lunar SSPS Production**: The cost of producing the lunar SSPS at L5, which affects the overall cost and feasibility of the program.\n",
            "7. **Market Penetration**: Uncertainties in new technology acceptance and the time required to fully penetrate the electricity market (10 years).\n",
            "8. **Construction Shacks and Colonies**: The trade-off between the cost of building construction shacks and colonies, where shacks are quicker and less expensive but have higher recurring costs.\n",
            "9. **Rectenna and Lunar Materials**: The cost of building a rectenna on the Moon and producing lunar materials, which affects the overall costs of the program.\n",
            "10. **Electricity Pricing and Competition**: The competitive pricing of space-derived electricity (14.1 mills) and the assumption that all nations will be charged the same price.\n",
            "___________________________\n"
          ]
        },
        {
          "output_type": "stream",
          "name": "stderr",
          "text": [
            "INFO:httpx:HTTP Request: POST https://api.openai.com/v1/embeddings \"HTTP/1.1 200 OK\"\n"
          ]
        },
        {
          "output_type": "stream",
          "name": "stdout",
          "text": [
            "Question: What factors were considered in determining the size and distribution of the population in the space colony design?\n",
            "Area available per person, with a minimum of 40 m^2 per person, was considered as a criterion to calculate the population density of habitation and to limit services and facilities provided to the inhabitants.\n",
            "___________________________\n"
          ]
        },
        {
          "output_type": "stream",
          "name": "stderr",
          "text": [
            "INFO:httpx:HTTP Request: POST https://api.openai.com/v1/embeddings \"HTTP/1.1 200 OK\"\n"
          ]
        },
        {
          "output_type": "stream",
          "name": "stdout",
          "text": [
            "Question: What are some proposed models of transplanetary or extraterrestrial governance in the context of space colonization?\n",
            "Robert Zubrin identified Saturn, Uranus, and Neptune as potential locations for colonizing due to their abundance of helium-3 and deuterium for a fusion economy.\n",
            "___________________________\n"
          ]
        },
        {
          "output_type": "stream",
          "name": "stderr",
          "text": [
            "INFO:httpx:HTTP Request: POST https://api.openai.com/v1/embeddings \"HTTP/1.1 200 OK\"\n"
          ]
        },
        {
          "output_type": "stream",
          "name": "stdout",
          "text": [
            "Question: What role did NASA play in determining the habitability of KOI-1686.01?\n",
            "NASA proved that KOI-1686.01 was a false positive.\n",
            "___________________________\n"
          ]
        },
        {
          "output_type": "display_data",
          "data": {
            "text/plain": [
              "Evaluated \u001b[1;36m1\u001b[0m of \u001b[1;36m50\u001b[0m examples\n"
            ],
            "text/html": [
              "<pre style=\"white-space:pre;overflow-x:auto;line-height:normal;font-family:Menlo,'DejaVu Sans Mono',consolas,'Courier New',monospace\">Evaluated <span style=\"color: #008080; text-decoration-color: #008080; font-weight: bold\">1</span> of <span style=\"color: #008080; text-decoration-color: #008080; font-weight: bold\">50</span> examples\n",
              "</pre>\n"
            ]
          },
          "metadata": {}
        },
        {
          "output_type": "display_data",
          "data": {
            "text/plain": [
              "Evaluated \u001b[1;36m2\u001b[0m of \u001b[1;36m50\u001b[0m examples\n"
            ],
            "text/html": [
              "<pre style=\"white-space:pre;overflow-x:auto;line-height:normal;font-family:Menlo,'DejaVu Sans Mono',consolas,'Courier New',monospace\">Evaluated <span style=\"color: #008080; text-decoration-color: #008080; font-weight: bold\">2</span> of <span style=\"color: #008080; text-decoration-color: #008080; font-weight: bold\">50</span> examples\n",
              "</pre>\n"
            ]
          },
          "metadata": {}
        },
        {
          "output_type": "display_data",
          "data": {
            "text/plain": [
              "Evaluated \u001b[1;36m3\u001b[0m of \u001b[1;36m50\u001b[0m examples\n"
            ],
            "text/html": [
              "<pre style=\"white-space:pre;overflow-x:auto;line-height:normal;font-family:Menlo,'DejaVu Sans Mono',consolas,'Courier New',monospace\">Evaluated <span style=\"color: #008080; text-decoration-color: #008080; font-weight: bold\">3</span> of <span style=\"color: #008080; text-decoration-color: #008080; font-weight: bold\">50</span> examples\n",
              "</pre>\n"
            ]
          },
          "metadata": {}
        },
        {
          "output_type": "display_data",
          "data": {
            "text/plain": [
              "Evaluated \u001b[1;36m4\u001b[0m of \u001b[1;36m50\u001b[0m examples\n"
            ],
            "text/html": [
              "<pre style=\"white-space:pre;overflow-x:auto;line-height:normal;font-family:Menlo,'DejaVu Sans Mono',consolas,'Courier New',monospace\">Evaluated <span style=\"color: #008080; text-decoration-color: #008080; font-weight: bold\">4</span> of <span style=\"color: #008080; text-decoration-color: #008080; font-weight: bold\">50</span> examples\n",
              "</pre>\n"
            ]
          },
          "metadata": {}
        },
        {
          "output_type": "display_data",
          "data": {
            "text/plain": [
              "Evaluated \u001b[1;36m5\u001b[0m of \u001b[1;36m50\u001b[0m examples\n"
            ],
            "text/html": [
              "<pre style=\"white-space:pre;overflow-x:auto;line-height:normal;font-family:Menlo,'DejaVu Sans Mono',consolas,'Courier New',monospace\">Evaluated <span style=\"color: #008080; text-decoration-color: #008080; font-weight: bold\">5</span> of <span style=\"color: #008080; text-decoration-color: #008080; font-weight: bold\">50</span> examples\n",
              "</pre>\n"
            ]
          },
          "metadata": {}
        },
        {
          "output_type": "display_data",
          "data": {
            "text/plain": [
              "Evaluated \u001b[1;36m6\u001b[0m of \u001b[1;36m50\u001b[0m examples\n"
            ],
            "text/html": [
              "<pre style=\"white-space:pre;overflow-x:auto;line-height:normal;font-family:Menlo,'DejaVu Sans Mono',consolas,'Courier New',monospace\">Evaluated <span style=\"color: #008080; text-decoration-color: #008080; font-weight: bold\">6</span> of <span style=\"color: #008080; text-decoration-color: #008080; font-weight: bold\">50</span> examples\n",
              "</pre>\n"
            ]
          },
          "metadata": {}
        },
        {
          "output_type": "display_data",
          "data": {
            "text/plain": [
              "Evaluated \u001b[1;36m7\u001b[0m of \u001b[1;36m50\u001b[0m examples\n"
            ],
            "text/html": [
              "<pre style=\"white-space:pre;overflow-x:auto;line-height:normal;font-family:Menlo,'DejaVu Sans Mono',consolas,'Courier New',monospace\">Evaluated <span style=\"color: #008080; text-decoration-color: #008080; font-weight: bold\">7</span> of <span style=\"color: #008080; text-decoration-color: #008080; font-weight: bold\">50</span> examples\n",
              "</pre>\n"
            ]
          },
          "metadata": {}
        },
        {
          "output_type": "display_data",
          "data": {
            "text/plain": [
              "Evaluated \u001b[1;36m8\u001b[0m of \u001b[1;36m50\u001b[0m examples\n"
            ],
            "text/html": [
              "<pre style=\"white-space:pre;overflow-x:auto;line-height:normal;font-family:Menlo,'DejaVu Sans Mono',consolas,'Courier New',monospace\">Evaluated <span style=\"color: #008080; text-decoration-color: #008080; font-weight: bold\">8</span> of <span style=\"color: #008080; text-decoration-color: #008080; font-weight: bold\">50</span> examples\n",
              "</pre>\n"
            ]
          },
          "metadata": {}
        },
        {
          "output_type": "display_data",
          "data": {
            "text/plain": [
              "Evaluated \u001b[1;36m9\u001b[0m of \u001b[1;36m50\u001b[0m examples\n"
            ],
            "text/html": [
              "<pre style=\"white-space:pre;overflow-x:auto;line-height:normal;font-family:Menlo,'DejaVu Sans Mono',consolas,'Courier New',monospace\">Evaluated <span style=\"color: #008080; text-decoration-color: #008080; font-weight: bold\">9</span> of <span style=\"color: #008080; text-decoration-color: #008080; font-weight: bold\">50</span> examples\n",
              "</pre>\n"
            ]
          },
          "metadata": {}
        },
        {
          "output_type": "display_data",
          "data": {
            "text/plain": [
              "Evaluated \u001b[1;36m10\u001b[0m of \u001b[1;36m50\u001b[0m examples\n"
            ],
            "text/html": [
              "<pre style=\"white-space:pre;overflow-x:auto;line-height:normal;font-family:Menlo,'DejaVu Sans Mono',consolas,'Courier New',monospace\">Evaluated <span style=\"color: #008080; text-decoration-color: #008080; font-weight: bold\">10</span> of <span style=\"color: #008080; text-decoration-color: #008080; font-weight: bold\">50</span> examples\n",
              "</pre>\n"
            ]
          },
          "metadata": {}
        },
        {
          "output_type": "display_data",
          "data": {
            "text/plain": [
              "Evaluated \u001b[1;36m11\u001b[0m of \u001b[1;36m50\u001b[0m examples\n"
            ],
            "text/html": [
              "<pre style=\"white-space:pre;overflow-x:auto;line-height:normal;font-family:Menlo,'DejaVu Sans Mono',consolas,'Courier New',monospace\">Evaluated <span style=\"color: #008080; text-decoration-color: #008080; font-weight: bold\">11</span> of <span style=\"color: #008080; text-decoration-color: #008080; font-weight: bold\">50</span> examples\n",
              "</pre>\n"
            ]
          },
          "metadata": {}
        },
        {
          "output_type": "display_data",
          "data": {
            "text/plain": [
              "Evaluated \u001b[1;36m12\u001b[0m of \u001b[1;36m50\u001b[0m examples\n"
            ],
            "text/html": [
              "<pre style=\"white-space:pre;overflow-x:auto;line-height:normal;font-family:Menlo,'DejaVu Sans Mono',consolas,'Courier New',monospace\">Evaluated <span style=\"color: #008080; text-decoration-color: #008080; font-weight: bold\">12</span> of <span style=\"color: #008080; text-decoration-color: #008080; font-weight: bold\">50</span> examples\n",
              "</pre>\n"
            ]
          },
          "metadata": {}
        },
        {
          "output_type": "display_data",
          "data": {
            "text/plain": [
              "Evaluated \u001b[1;36m13\u001b[0m of \u001b[1;36m50\u001b[0m examples\n"
            ],
            "text/html": [
              "<pre style=\"white-space:pre;overflow-x:auto;line-height:normal;font-family:Menlo,'DejaVu Sans Mono',consolas,'Courier New',monospace\">Evaluated <span style=\"color: #008080; text-decoration-color: #008080; font-weight: bold\">13</span> of <span style=\"color: #008080; text-decoration-color: #008080; font-weight: bold\">50</span> examples\n",
              "</pre>\n"
            ]
          },
          "metadata": {}
        },
        {
          "output_type": "display_data",
          "data": {
            "text/plain": [
              "Evaluated \u001b[1;36m14\u001b[0m of \u001b[1;36m50\u001b[0m examples\n"
            ],
            "text/html": [
              "<pre style=\"white-space:pre;overflow-x:auto;line-height:normal;font-family:Menlo,'DejaVu Sans Mono',consolas,'Courier New',monospace\">Evaluated <span style=\"color: #008080; text-decoration-color: #008080; font-weight: bold\">14</span> of <span style=\"color: #008080; text-decoration-color: #008080; font-weight: bold\">50</span> examples\n",
              "</pre>\n"
            ]
          },
          "metadata": {}
        },
        {
          "output_type": "display_data",
          "data": {
            "text/plain": [
              "Evaluated \u001b[1;36m15\u001b[0m of \u001b[1;36m50\u001b[0m examples\n"
            ],
            "text/html": [
              "<pre style=\"white-space:pre;overflow-x:auto;line-height:normal;font-family:Menlo,'DejaVu Sans Mono',consolas,'Courier New',monospace\">Evaluated <span style=\"color: #008080; text-decoration-color: #008080; font-weight: bold\">15</span> of <span style=\"color: #008080; text-decoration-color: #008080; font-weight: bold\">50</span> examples\n",
              "</pre>\n"
            ]
          },
          "metadata": {}
        },
        {
          "output_type": "display_data",
          "data": {
            "text/plain": [
              "Evaluated \u001b[1;36m16\u001b[0m of \u001b[1;36m50\u001b[0m examples\n"
            ],
            "text/html": [
              "<pre style=\"white-space:pre;overflow-x:auto;line-height:normal;font-family:Menlo,'DejaVu Sans Mono',consolas,'Courier New',monospace\">Evaluated <span style=\"color: #008080; text-decoration-color: #008080; font-weight: bold\">16</span> of <span style=\"color: #008080; text-decoration-color: #008080; font-weight: bold\">50</span> examples\n",
              "</pre>\n"
            ]
          },
          "metadata": {}
        },
        {
          "output_type": "display_data",
          "data": {
            "text/plain": [
              "Evaluated \u001b[1;36m17\u001b[0m of \u001b[1;36m50\u001b[0m examples\n"
            ],
            "text/html": [
              "<pre style=\"white-space:pre;overflow-x:auto;line-height:normal;font-family:Menlo,'DejaVu Sans Mono',consolas,'Courier New',monospace\">Evaluated <span style=\"color: #008080; text-decoration-color: #008080; font-weight: bold\">17</span> of <span style=\"color: #008080; text-decoration-color: #008080; font-weight: bold\">50</span> examples\n",
              "</pre>\n"
            ]
          },
          "metadata": {}
        },
        {
          "output_type": "stream",
          "name": "stderr",
          "text": [
            "INFO:httpx:HTTP Request: POST https://api.openai.com/v1/embeddings \"HTTP/1.1 200 OK\"\n"
          ]
        },
        {
          "output_type": "stream",
          "name": "stdout",
          "text": [
            "Question: What are the effects of isolation in closed environments on the mental and emotional health of colonists in space colonization?\n",
            "NASA found that isolation in closed environments aboard the International Space Station led to depression, sleep disorders, and diminished personal interactions.\n",
            "___________________________\n"
          ]
        },
        {
          "output_type": "stream",
          "name": "stderr",
          "text": [
            "INFO:httpx:HTTP Request: POST https://api.openai.com/v1/embeddings \"HTTP/1.1 200 OK\"\n"
          ]
        },
        {
          "output_type": "stream",
          "name": "stdout",
          "text": [
            "Question: What are the characteristics of TOI-700_d?\n",
            "TOI-700_d has a mass of ~1.72 times that of Earth and a radius around 1.14 times its size.\n",
            "___________________________\n",
            "{\"concise\": true}\n",
            "{\"relevant\": true}\n",
            "{\"accurate\":true}\n",
            "{\"concise\": true}\n",
            "{\"relevant\": true}\n",
            "{\"accurate\": true}\n",
            "{\"concise\": true}\n",
            "{\"relevant\": true}\n",
            "{\"accurate\": true}\n",
            "{\"concise\": true}\n",
            "{\"relevant\": true}\n",
            "{\"accurate\": true}\n",
            "{\"concise\": false}\n",
            "{\"relevant\": false}\n",
            "{\" accurrate\": true}\n",
            "{\"concise\": true}\n",
            "{\"relevant\": true}\n",
            "{\"accurate\": true}\n",
            "{\"concise\": true}\n",
            "{\"relevant\": true}\n",
            "{\"accurate\": false}\n",
            "{\"concise\": true}\n",
            "{\"relevant\": true}\n",
            "{\"accurate\": true}\n",
            "{\"concise\": false}\n",
            "{\"relevant\": true}\n",
            "{\"accurate\": false}\n",
            "{\"concise\": false}\n",
            "{\"relevant\": true}\n",
            "{\"accurate\": true}\n",
            "{\"concise\": false}\n",
            "{\"relevant\": false}\n",
            "{\"accurate\": false}\n",
            "{\"concise\": false}\n",
            "{\"relevant\": true}\n",
            "{\"accurate\": true}\n"
          ]
        },
        {
          "output_type": "stream",
          "name": "stderr",
          "text": [
            "INFO:httpx:HTTP Request: POST https://api.openai.com/v1/embeddings \"HTTP/1.1 200 OK\"\n"
          ]
        },
        {
          "output_type": "stream",
          "name": "stdout",
          "text": [
            "Question: How is a solar furnace used in the production of aluminum from lunar soil?\n",
            "The solar furnace is used indirectly for manufacturing aluminum from lunar soil. It is used to generate high temperatures, but specifically for the production of aluminum, solar power is used to create aluminum chloride, which is then used in high temperature electro-winning of aluminum.\n",
            "___________________________\n",
            "{\"concise\": true}\n",
            "{\"relevant\": true}\n",
            "{\"accurate\": true}\n",
            "{\"concise\": false}\n",
            "{\"relevant\": true}\n",
            "{\"accurate\": true}\n",
            "{\"concise\": true}\n",
            "{\"relevant\": true}\n",
            "{\"accurate\": true}\n",
            "{\"concise\": false}\n",
            "{\"relevant\": false}\n",
            "{\"accurate\": false}\n"
          ]
        },
        {
          "output_type": "display_data",
          "data": {
            "text/plain": [
              "Evaluated \u001b[1;36m18\u001b[0m of \u001b[1;36m50\u001b[0m examples\n"
            ],
            "text/html": [
              "<pre style=\"white-space:pre;overflow-x:auto;line-height:normal;font-family:Menlo,'DejaVu Sans Mono',consolas,'Courier New',monospace\">Evaluated <span style=\"color: #008080; text-decoration-color: #008080; font-weight: bold\">18</span> of <span style=\"color: #008080; text-decoration-color: #008080; font-weight: bold\">50</span> examples\n",
              "</pre>\n"
            ]
          },
          "metadata": {}
        },
        {
          "output_type": "display_data",
          "data": {
            "text/plain": [
              "Evaluated \u001b[1;36m19\u001b[0m of \u001b[1;36m50\u001b[0m examples\n"
            ],
            "text/html": [
              "<pre style=\"white-space:pre;overflow-x:auto;line-height:normal;font-family:Menlo,'DejaVu Sans Mono',consolas,'Courier New',monospace\">Evaluated <span style=\"color: #008080; text-decoration-color: #008080; font-weight: bold\">19</span> of <span style=\"color: #008080; text-decoration-color: #008080; font-weight: bold\">50</span> examples\n",
              "</pre>\n"
            ]
          },
          "metadata": {}
        },
        {
          "output_type": "display_data",
          "data": {
            "text/plain": [
              "Evaluated \u001b[1;36m20\u001b[0m of \u001b[1;36m50\u001b[0m examples\n"
            ],
            "text/html": [
              "<pre style=\"white-space:pre;overflow-x:auto;line-height:normal;font-family:Menlo,'DejaVu Sans Mono',consolas,'Courier New',monospace\">Evaluated <span style=\"color: #008080; text-decoration-color: #008080; font-weight: bold\">20</span> of <span style=\"color: #008080; text-decoration-color: #008080; font-weight: bold\">50</span> examples\n",
              "</pre>\n"
            ]
          },
          "metadata": {}
        },
        {
          "output_type": "stream",
          "name": "stdout",
          "text": [
            "{\"concise\": true}\n",
            "{\"relevant\": true}\n",
            "{\"accurate\": true}\n",
            "{\"concise\": true}\n",
            "{\"relevant\": true}\n",
            "{\"accurate\": true}\n",
            "{\"conicise\": true}\n",
            "{\"relevant\": true}\n",
            "{\"accurate\": false}\n"
          ]
        },
        {
          "output_type": "stream",
          "name": "stderr",
          "text": [
            "Retrieving responses: 100%|██████████| 1/1 [00:00<00:00, 639.38it/s]\n",
            "Scoring responses:   0%|          | 0/1 [00:00<?, ?it/s]INFO:httpx:HTTP Request: POST https://api.openai.com/v1/chat/completions \"HTTP/1.1 200 OK\"\n"
          ]
        },
        {
          "output_type": "stream",
          "name": "stdout",
          "text": [
            "🍩 https://wandb.ai/lavanyashukla/spacerag_novtest2/r/call/0192f809-6b04-7c12-8ae6-273cba13465a\n"
          ]
        },
        {
          "output_type": "stream",
          "name": "stderr",
          "text": [
            "INFO:httpx:HTTP Request: POST https://api.openai.com/v1/chat/completions \"HTTP/1.1 200 OK\"\n"
          ]
        },
        {
          "output_type": "stream",
          "name": "stdout",
          "text": [
            "🍩 https://wandb.ai/lavanyashukla/spacerag_novtest2/r/call/0192f809-6d46-7680-a0e2-842b3ebc133c\n"
          ]
        },
        {
          "output_type": "stream",
          "name": "stderr",
          "text": [
            "INFO:httpx:HTTP Request: POST https://api.openai.com/v1/chat/completions \"HTTP/1.1 200 OK\"\n"
          ]
        },
        {
          "output_type": "stream",
          "name": "stdout",
          "text": [
            "🍩 https://wandb.ai/lavanyashukla/spacerag_novtest2/r/call/0192f809-6f66-7991-a1f2-bd791e760c39\n"
          ]
        },
        {
          "output_type": "stream",
          "name": "stderr",
          "text": [
            "INFO:httpx:HTTP Request: POST https://api.openai.com/v1/chat/completions \"HTTP/1.1 200 OK\"\n"
          ]
        },
        {
          "output_type": "stream",
          "name": "stdout",
          "text": [
            "🍩 https://wandb.ai/lavanyashukla/spacerag_novtest2/r/call/0192f809-7831-7e12-b7a4-6fd80160de4e\n"
          ]
        },
        {
          "output_type": "stream",
          "name": "stderr",
          "text": [
            "INFO:httpx:HTTP Request: POST https://api.openai.com/v1/chat/completions \"HTTP/1.1 200 OK\"\n",
            "Scoring responses: 100%|██████████| 1/1 [00:05<00:00,  5.23s/it]\n"
          ]
        },
        {
          "output_type": "stream",
          "name": "stdout",
          "text": [
            "🍩 https://wandb.ai/lavanyashukla/spacerag_novtest2/r/call/0192f809-7c08-79e3-be0d-463056f077f1\n"
          ]
        },
        {
          "output_type": "stream",
          "name": "stderr",
          "text": [
            "Retrieving responses: 100%|██████████| 1/1 [00:00<00:00, 735.07it/s]\n",
            "Scoring responses:   0%|          | 0/1 [00:00<?, ?it/s]INFO:httpx:HTTP Request: POST https://api.openai.com/v1/chat/completions \"HTTP/1.1 200 OK\"\n"
          ]
        },
        {
          "output_type": "stream",
          "name": "stdout",
          "text": [
            "🍩 https://wandb.ai/lavanyashukla/spacerag_novtest2/r/call/0192f809-8314-7072-85e8-22303e1ba2ab\n"
          ]
        },
        {
          "output_type": "stream",
          "name": "stderr",
          "text": [
            "INFO:httpx:HTTP Request: POST https://api.openai.com/v1/chat/completions \"HTTP/1.1 200 OK\"\n"
          ]
        },
        {
          "output_type": "stream",
          "name": "stdout",
          "text": [
            "🍩 https://wandb.ai/lavanyashukla/spacerag_novtest2/r/call/0192f809-8514-7a01-a550-9c674ade19cf\n"
          ]
        },
        {
          "output_type": "stream",
          "name": "stderr",
          "text": [
            "INFO:httpx:HTTP Request: POST https://api.openai.com/v1/chat/completions \"HTTP/1.1 200 OK\"\n"
          ]
        },
        {
          "output_type": "stream",
          "name": "stdout",
          "text": [
            "🍩 https://wandb.ai/lavanyashukla/spacerag_novtest2/r/call/0192f809-8709-7c21-95e4-c168a764773d\n"
          ]
        },
        {
          "output_type": "stream",
          "name": "stderr",
          "text": [
            "INFO:httpx:HTTP Request: POST https://api.openai.com/v1/chat/completions \"HTTP/1.1 200 OK\"\n"
          ]
        },
        {
          "output_type": "stream",
          "name": "stdout",
          "text": [
            "🍩 https://wandb.ai/lavanyashukla/spacerag_novtest2/r/call/0192f809-8bd0-7113-9fce-06f266f25007\n"
          ]
        },
        {
          "output_type": "stream",
          "name": "stderr",
          "text": [
            "INFO:httpx:HTTP Request: POST https://api.openai.com/v1/chat/completions \"HTTP/1.1 200 OK\"\n",
            "Scoring responses: 100%|██████████| 1/1 [00:03<00:00,  3.86s/it]\n"
          ]
        },
        {
          "output_type": "stream",
          "name": "stdout",
          "text": [
            "🍩 https://wandb.ai/lavanyashukla/spacerag_novtest2/r/call/0192f809-8efd-7e02-a3a1-aae594984cd2\n"
          ]
        },
        {
          "output_type": "stream",
          "name": "stderr",
          "text": [
            "Retrieving responses: 100%|██████████| 1/1 [00:00<00:00, 6326.25it/s]\n",
            "Scoring responses:   0%|          | 0/1 [00:00<?, ?it/s]INFO:httpx:HTTP Request: POST https://api.openai.com/v1/chat/completions \"HTTP/1.1 200 OK\"\n"
          ]
        },
        {
          "output_type": "stream",
          "name": "stdout",
          "text": [
            "🍩 https://wandb.ai/lavanyashukla/spacerag_novtest2/r/call/0192f809-95dd-7d20-9153-e03912ef38ba\n"
          ]
        },
        {
          "output_type": "stream",
          "name": "stderr",
          "text": [
            "INFO:httpx:HTTP Request: POST https://api.openai.com/v1/chat/completions \"HTTP/1.1 200 OK\"\n"
          ]
        },
        {
          "output_type": "stream",
          "name": "stdout",
          "text": [
            "🍩 https://wandb.ai/lavanyashukla/spacerag_novtest2/r/call/0192f809-9b84-7852-9057-7cf94632e586\n"
          ]
        },
        {
          "output_type": "stream",
          "name": "stderr",
          "text": [
            "INFO:httpx:HTTP Request: POST https://api.openai.com/v1/chat/completions \"HTTP/1.1 200 OK\"\n"
          ]
        },
        {
          "output_type": "stream",
          "name": "stdout",
          "text": [
            "🍩 https://wandb.ai/lavanyashukla/spacerag_novtest2/r/call/0192f809-9d9a-7b60-b5dc-39313186cbb8\n"
          ]
        },
        {
          "output_type": "stream",
          "name": "stderr",
          "text": [
            "INFO:httpx:HTTP Request: POST https://api.openai.com/v1/chat/completions \"HTTP/1.1 200 OK\"\n"
          ]
        },
        {
          "output_type": "stream",
          "name": "stdout",
          "text": [
            "🍩 https://wandb.ai/lavanyashukla/spacerag_novtest2/r/call/0192f809-b29a-7140-9909-86134d219db3\n"
          ]
        },
        {
          "output_type": "stream",
          "name": "stderr",
          "text": [
            "INFO:httpx:HTTP Request: POST https://api.openai.com/v1/chat/completions \"HTTP/1.1 200 OK\"\n"
          ]
        },
        {
          "output_type": "stream",
          "name": "stdout",
          "text": [
            "🍩 https://wandb.ai/lavanyashukla/spacerag_novtest2/r/call/0192f809-b629-7143-844e-ea1265e5fd5f\n"
          ]
        },
        {
          "output_type": "stream",
          "name": "stderr",
          "text": [
            "INFO:httpx:HTTP Request: POST https://api.openai.com/v1/chat/completions \"HTTP/1.1 200 OK\"\n"
          ]
        },
        {
          "output_type": "stream",
          "name": "stdout",
          "text": [
            "🍩 https://wandb.ai/lavanyashukla/spacerag_novtest2/r/call/0192f809-b95c-79e1-9893-77ea3af833be\n"
          ]
        },
        {
          "output_type": "stream",
          "name": "stderr",
          "text": [
            "INFO:httpx:HTTP Request: POST https://api.openai.com/v1/chat/completions \"HTTP/1.1 200 OK\"\n"
          ]
        },
        {
          "output_type": "stream",
          "name": "stdout",
          "text": [
            "🍩 https://wandb.ai/lavanyashukla/spacerag_novtest2/r/call/0192f809-bc66-78b3-ad98-a72b02722f87\n"
          ]
        },
        {
          "output_type": "stream",
          "name": "stderr",
          "text": [
            "INFO:httpx:HTTP Request: POST https://api.openai.com/v1/chat/completions \"HTTP/1.1 200 OK\"\n"
          ]
        },
        {
          "output_type": "stream",
          "name": "stdout",
          "text": [
            "🍩 https://wandb.ai/lavanyashukla/spacerag_novtest2/r/call/0192f809-c062-7681-9a0b-fc929857c259\n"
          ]
        },
        {
          "output_type": "stream",
          "name": "stderr",
          "text": [
            "INFO:httpx:HTTP Request: POST https://api.openai.com/v1/chat/completions \"HTTP/1.1 200 OK\"\n"
          ]
        },
        {
          "output_type": "stream",
          "name": "stdout",
          "text": [
            "🍩 https://wandb.ai/lavanyashukla/spacerag_novtest2/r/call/0192f809-c37e-7cd3-83a4-52103d4d294d\n"
          ]
        },
        {
          "output_type": "stream",
          "name": "stderr",
          "text": [
            "INFO:httpx:HTTP Request: POST https://api.openai.com/v1/chat/completions \"HTTP/1.1 200 OK\"\n",
            "Scoring responses: 100%|██████████| 1/1 [00:13<00:00, 13.29s/it]\n"
          ]
        },
        {
          "output_type": "stream",
          "name": "stdout",
          "text": [
            "🍩 https://wandb.ai/lavanyashukla/spacerag_novtest2/r/call/0192f809-c6a3-7662-8da0-6417322b726d\n"
          ]
        },
        {
          "output_type": "stream",
          "name": "stderr",
          "text": [
            "Retrieving responses: 100%|██████████| 1/1 [00:00<00:00, 1532.45it/s]\n",
            "Scoring responses:   0%|          | 0/1 [00:00<?, ?it/s]INFO:httpx:HTTP Request: POST https://api.openai.com/v1/chat/completions \"HTTP/1.1 200 OK\"\n"
          ]
        },
        {
          "output_type": "stream",
          "name": "stdout",
          "text": [
            "🍩 https://wandb.ai/lavanyashukla/spacerag_novtest2/r/call/0192f809-cd84-7012-b230-b0da7635b3c2\n"
          ]
        },
        {
          "output_type": "stream",
          "name": "stderr",
          "text": [
            "INFO:httpx:HTTP Request: POST https://api.openai.com/v1/chat/completions \"HTTP/1.1 200 OK\"\n"
          ]
        },
        {
          "output_type": "stream",
          "name": "stdout",
          "text": [
            "🍩 https://wandb.ai/lavanyashukla/spacerag_novtest2/r/call/0192f809-cfd3-7052-a540-f086396b79f5\n"
          ]
        },
        {
          "output_type": "stream",
          "name": "stderr",
          "text": [
            "INFO:httpx:HTTP Request: POST https://api.openai.com/v1/chat/completions \"HTTP/1.1 200 OK\"\n"
          ]
        },
        {
          "output_type": "stream",
          "name": "stdout",
          "text": [
            "🍩 https://wandb.ai/lavanyashukla/spacerag_novtest2/r/call/0192f809-d23f-7813-b991-8d81f3309f9a\n"
          ]
        },
        {
          "output_type": "stream",
          "name": "stderr",
          "text": [
            "INFO:httpx:HTTP Request: POST https://api.openai.com/v1/chat/completions \"HTTP/1.1 200 OK\"\n"
          ]
        },
        {
          "output_type": "stream",
          "name": "stdout",
          "text": [
            "🍩 https://wandb.ai/lavanyashukla/spacerag_novtest2/r/call/0192f809-e013-7381-8d49-97f042ce112f\n"
          ]
        },
        {
          "output_type": "stream",
          "name": "stderr",
          "text": [
            "INFO:httpx:HTTP Request: POST https://api.openai.com/v1/chat/completions \"HTTP/1.1 200 OK\"\n"
          ]
        },
        {
          "output_type": "stream",
          "name": "stdout",
          "text": [
            "🍩 https://wandb.ai/lavanyashukla/spacerag_novtest2/r/call/0192f809-e34a-76e2-b383-1b05625c409d\n"
          ]
        },
        {
          "output_type": "stream",
          "name": "stderr",
          "text": [
            "INFO:httpx:HTTP Request: POST https://api.openai.com/v1/chat/completions \"HTTP/1.1 200 OK\"\n",
            "Scoring responses: 100%|██████████| 1/1 [00:07<00:00,  7.14s/it]\n"
          ]
        },
        {
          "output_type": "stream",
          "name": "stdout",
          "text": [
            "🍩 https://wandb.ai/lavanyashukla/spacerag_novtest2/r/call/0192f809-e638-77d1-828d-9b6de5029b5f\n"
          ]
        },
        {
          "output_type": "stream",
          "name": "stderr",
          "text": [
            "Retrieving responses: 100%|██████████| 1/1 [00:00<00:00, 777.73it/s]\n",
            "Scoring responses:   0%|          | 0/1 [00:00<?, ?it/s]INFO:httpx:HTTP Request: POST https://api.openai.com/v1/chat/completions \"HTTP/1.1 200 OK\"\n"
          ]
        },
        {
          "output_type": "stream",
          "name": "stdout",
          "text": [
            "🍩 https://wandb.ai/lavanyashukla/spacerag_novtest2/r/call/0192f809-ed5f-7281-98f1-c2174d2da900\n"
          ]
        },
        {
          "output_type": "stream",
          "name": "stderr",
          "text": [
            "INFO:httpx:HTTP Request: POST https://api.openai.com/v1/chat/completions \"HTTP/1.1 200 OK\"\n"
          ]
        },
        {
          "output_type": "stream",
          "name": "stdout",
          "text": [
            "🍩 https://wandb.ai/lavanyashukla/spacerag_novtest2/r/call/0192f809-efb8-7742-8ef1-386b2383f108\n"
          ]
        },
        {
          "output_type": "stream",
          "name": "stderr",
          "text": [
            "INFO:httpx:HTTP Request: POST https://api.openai.com/v1/chat/completions \"HTTP/1.1 200 OK\"\n"
          ]
        },
        {
          "output_type": "stream",
          "name": "stdout",
          "text": [
            "🍩 https://wandb.ai/lavanyashukla/spacerag_novtest2/r/call/0192f809-f215-7892-ade6-6a2c00ec1a96\n"
          ]
        },
        {
          "output_type": "stream",
          "name": "stderr",
          "text": [
            "INFO:httpx:HTTP Request: POST https://api.openai.com/v1/chat/completions \"HTTP/1.1 200 OK\"\n"
          ]
        },
        {
          "output_type": "stream",
          "name": "stdout",
          "text": [
            "🍩 https://wandb.ai/lavanyashukla/spacerag_novtest2/r/call/0192f80a-0eb6-72b3-84f8-e5d25305fde5\n"
          ]
        },
        {
          "output_type": "stream",
          "name": "stderr",
          "text": [
            "INFO:httpx:HTTP Request: POST https://api.openai.com/v1/chat/completions \"HTTP/1.1 200 OK\"\n"
          ]
        },
        {
          "output_type": "stream",
          "name": "stdout",
          "text": [
            "🍩 https://wandb.ai/lavanyashukla/spacerag_novtest2/r/call/0192f80a-1264-7091-8db0-3bb4f802db42\n"
          ]
        },
        {
          "output_type": "stream",
          "name": "stderr",
          "text": [
            "INFO:httpx:HTTP Request: POST https://api.openai.com/v1/chat/completions \"HTTP/1.1 200 OK\"\n"
          ]
        },
        {
          "output_type": "stream",
          "name": "stdout",
          "text": [
            "🍩 https://wandb.ai/lavanyashukla/spacerag_novtest2/r/call/0192f80a-1630-78b0-a84b-8ace85dde9a1\n"
          ]
        },
        {
          "output_type": "stream",
          "name": "stderr",
          "text": [
            "INFO:httpx:HTTP Request: POST https://api.openai.com/v1/chat/completions \"HTTP/1.1 200 OK\"\n"
          ]
        },
        {
          "output_type": "stream",
          "name": "stdout",
          "text": [
            "🍩 https://wandb.ai/lavanyashukla/spacerag_novtest2/r/call/0192f80a-1de0-7372-8ad9-c29f2c10b458\n"
          ]
        },
        {
          "output_type": "stream",
          "name": "stderr",
          "text": [
            "INFO:httpx:HTTP Request: POST https://api.openai.com/v1/chat/completions \"HTTP/1.1 200 OK\"\n",
            "Scoring responses: 100%|██████████| 1/1 [00:14<00:00, 14.62s/it]\n"
          ]
        },
        {
          "output_type": "stream",
          "name": "stdout",
          "text": [
            "🍩 https://wandb.ai/lavanyashukla/spacerag_novtest2/r/call/0192f80a-2123-77e3-96da-8671ab62ea18\n"
          ]
        },
        {
          "output_type": "stream",
          "name": "stderr",
          "text": [
            "Retrieving responses: 100%|██████████| 1/1 [00:00<00:00, 752.34it/s]\n",
            "Scoring responses:   0%|          | 0/1 [00:00<?, ?it/s]INFO:httpx:HTTP Request: POST https://api.openai.com/v1/chat/completions \"HTTP/1.1 200 OK\"\n"
          ]
        },
        {
          "output_type": "stream",
          "name": "stdout",
          "text": [
            "🍩 https://wandb.ai/lavanyashukla/spacerag_novtest2/r/call/0192f80a-2a11-7ac2-9812-2b5805798561\n"
          ]
        },
        {
          "output_type": "stream",
          "name": "stderr",
          "text": [
            "INFO:httpx:HTTP Request: POST https://api.openai.com/v1/chat/completions \"HTTP/1.1 200 OK\"\n"
          ]
        },
        {
          "output_type": "stream",
          "name": "stdout",
          "text": [
            "🍩 https://wandb.ai/lavanyashukla/spacerag_novtest2/r/call/0192f80a-2c5c-76b1-91f3-57e1d7151f9e\n"
          ]
        },
        {
          "output_type": "stream",
          "name": "stderr",
          "text": [
            "INFO:httpx:HTTP Request: POST https://api.openai.com/v1/chat/completions \"HTTP/1.1 200 OK\"\n"
          ]
        },
        {
          "output_type": "stream",
          "name": "stdout",
          "text": [
            "🍩 https://wandb.ai/lavanyashukla/spacerag_novtest2/r/call/0192f80a-2ec7-7ae2-946b-7592ca137664\n"
          ]
        },
        {
          "output_type": "stream",
          "name": "stderr",
          "text": [
            "INFO:httpx:HTTP Request: POST https://api.openai.com/v1/chat/completions \"HTTP/1.1 200 OK\"\n"
          ]
        },
        {
          "output_type": "stream",
          "name": "stdout",
          "text": [
            "🍩 https://wandb.ai/lavanyashukla/spacerag_novtest2/r/call/0192f80a-391e-7070-85b9-1160675192a1\n"
          ]
        },
        {
          "output_type": "stream",
          "name": "stderr",
          "text": [
            "INFO:httpx:HTTP Request: POST https://api.openai.com/v1/chat/completions \"HTTP/1.1 200 OK\"\n"
          ]
        },
        {
          "output_type": "stream",
          "name": "stdout",
          "text": [
            "🍩 https://wandb.ai/lavanyashukla/spacerag_novtest2/r/call/0192f80a-3c2f-75f2-9381-9b66813c28e5\n"
          ]
        },
        {
          "output_type": "stream",
          "name": "stderr",
          "text": [
            "INFO:httpx:HTTP Request: POST https://api.openai.com/v1/chat/completions \"HTTP/1.1 200 OK\"\n",
            "Scoring responses: 100%|██████████| 1/1 [00:06<00:00,  6.57s/it]\n"
          ]
        },
        {
          "output_type": "stream",
          "name": "stdout",
          "text": [
            "🍩 https://wandb.ai/lavanyashukla/spacerag_novtest2/r/call/0192f80a-4084-7442-a266-09f44e3f41c6\n"
          ]
        },
        {
          "output_type": "stream",
          "name": "stderr",
          "text": [
            "Retrieving responses: 100%|██████████| 1/1 [00:00<00:00, 7928.74it/s]\n",
            "Scoring responses:   0%|          | 0/1 [00:00<?, ?it/s]INFO:httpx:HTTP Request: POST https://api.openai.com/v1/chat/completions \"HTTP/1.1 200 OK\"\n"
          ]
        },
        {
          "output_type": "stream",
          "name": "stdout",
          "text": [
            "🍩 https://wandb.ai/lavanyashukla/spacerag_novtest2/r/call/0192f80a-4770-7983-a367-ed92757a2a0e\n"
          ]
        },
        {
          "output_type": "stream",
          "name": "stderr",
          "text": [
            "INFO:httpx:HTTP Request: POST https://api.openai.com/v1/chat/completions \"HTTP/1.1 200 OK\"\n"
          ]
        },
        {
          "output_type": "stream",
          "name": "stdout",
          "text": [
            "🍩 https://wandb.ai/lavanyashukla/spacerag_novtest2/r/call/0192f80a-4b43-79b1-b77f-0a29ef3662ea\n"
          ]
        },
        {
          "output_type": "stream",
          "name": "stderr",
          "text": [
            "INFO:httpx:HTTP Request: POST https://api.openai.com/v1/chat/completions \"HTTP/1.1 200 OK\"\n"
          ]
        },
        {
          "output_type": "stream",
          "name": "stdout",
          "text": [
            "🍩 https://wandb.ai/lavanyashukla/spacerag_novtest2/r/call/0192f80a-4de8-72c2-8959-1429fb4edc31\n"
          ]
        },
        {
          "output_type": "stream",
          "name": "stderr",
          "text": [
            "INFO:httpx:HTTP Request: POST https://api.openai.com/v1/chat/completions \"HTTP/1.1 200 OK\"\n"
          ]
        },
        {
          "output_type": "stream",
          "name": "stdout",
          "text": [
            "🍩 https://wandb.ai/lavanyashukla/spacerag_novtest2/r/call/0192f80a-5674-7613-97fb-4ad0034c9d6a\n"
          ]
        },
        {
          "output_type": "stream",
          "name": "stderr",
          "text": [
            "INFO:httpx:HTTP Request: POST https://api.openai.com/v1/chat/completions \"HTTP/1.1 200 OK\"\n"
          ]
        },
        {
          "output_type": "stream",
          "name": "stdout",
          "text": [
            "🍩 https://wandb.ai/lavanyashukla/spacerag_novtest2/r/call/0192f80a-5ae0-7161-a630-ea779d56a3cc\n"
          ]
        },
        {
          "output_type": "stream",
          "name": "stderr",
          "text": [
            "INFO:httpx:HTTP Request: POST https://api.openai.com/v1/chat/completions \"HTTP/1.1 200 OK\"\n",
            "Scoring responses: 100%|██████████| 1/1 [00:06<00:00,  6.72s/it]\n"
          ]
        },
        {
          "output_type": "stream",
          "name": "stdout",
          "text": [
            "🍩 https://wandb.ai/lavanyashukla/spacerag_novtest2/r/call/0192f80a-5e61-76d1-83ca-2387030d8867\n"
          ]
        },
        {
          "output_type": "stream",
          "name": "stderr",
          "text": [
            "Retrieving responses: 100%|██████████| 1/1 [00:00<00:00, 1750.54it/s]\n",
            "Scoring responses:   0%|          | 0/1 [00:00<?, ?it/s]INFO:httpx:HTTP Request: POST https://api.openai.com/v1/chat/completions \"HTTP/1.1 200 OK\"\n"
          ]
        },
        {
          "output_type": "stream",
          "name": "stdout",
          "text": [
            "🍩 https://wandb.ai/lavanyashukla/spacerag_novtest2/r/call/0192f80a-65ac-7a73-a078-29caa490af5a\n"
          ]
        },
        {
          "output_type": "stream",
          "name": "stderr",
          "text": [
            "INFO:httpx:HTTP Request: POST https://api.openai.com/v1/chat/completions \"HTTP/1.1 200 OK\"\n"
          ]
        },
        {
          "output_type": "stream",
          "name": "stdout",
          "text": [
            "🍩 https://wandb.ai/lavanyashukla/spacerag_novtest2/r/call/0192f80a-6d10-78a1-adba-7eddec3aba39\n"
          ]
        },
        {
          "output_type": "stream",
          "name": "stderr",
          "text": [
            "INFO:httpx:HTTP Request: POST https://api.openai.com/v1/chat/completions \"HTTP/1.1 200 OK\"\n"
          ]
        },
        {
          "output_type": "stream",
          "name": "stdout",
          "text": [
            "🍩 https://wandb.ai/lavanyashukla/spacerag_novtest2/r/call/0192f80a-6f5d-7fe2-8514-49fbfa0affa3\n"
          ]
        },
        {
          "output_type": "stream",
          "name": "stderr",
          "text": [
            "INFO:httpx:HTTP Request: POST https://api.openai.com/v1/chat/completions \"HTTP/1.1 200 OK\"\n"
          ]
        },
        {
          "output_type": "stream",
          "name": "stdout",
          "text": [
            "🍩 https://wandb.ai/lavanyashukla/spacerag_novtest2/r/call/0192f80a-8052-7b33-9694-f466822263ff\n"
          ]
        },
        {
          "output_type": "stream",
          "name": "stderr",
          "text": [
            "INFO:httpx:HTTP Request: POST https://api.openai.com/v1/chat/completions \"HTTP/1.1 200 OK\"\n"
          ]
        },
        {
          "output_type": "stream",
          "name": "stdout",
          "text": [
            "🍩 https://wandb.ai/lavanyashukla/spacerag_novtest2/r/call/0192f80a-835d-7b43-af86-a8d54c26c952\n"
          ]
        },
        {
          "output_type": "stream",
          "name": "stderr",
          "text": [
            "INFO:httpx:HTTP Request: POST https://api.openai.com/v1/chat/completions \"HTTP/1.1 200 OK\"\n"
          ]
        },
        {
          "output_type": "stream",
          "name": "stdout",
          "text": [
            "🍩 https://wandb.ai/lavanyashukla/spacerag_novtest2/r/call/0192f80a-8639-7713-9fc7-56603f27c5e1\n"
          ]
        },
        {
          "output_type": "stream",
          "name": "stderr",
          "text": [
            "INFO:httpx:HTTP Request: POST https://api.openai.com/v1/chat/completions \"HTTP/1.1 200 OK\"\n"
          ]
        },
        {
          "output_type": "stream",
          "name": "stdout",
          "text": [
            "🍩 https://wandb.ai/lavanyashukla/spacerag_novtest2/r/call/0192f80a-8ecf-74d1-8c6a-fce590d9f39b\n"
          ]
        },
        {
          "output_type": "stream",
          "name": "stderr",
          "text": [
            "INFO:httpx:HTTP Request: POST https://api.openai.com/v1/chat/completions \"HTTP/1.1 200 OK\"\n",
            "Scoring responses: 100%|██████████| 1/1 [00:13<00:00, 13.27s/it]\n"
          ]
        },
        {
          "output_type": "stream",
          "name": "stdout",
          "text": [
            "🍩 https://wandb.ai/lavanyashukla/spacerag_novtest2/r/call/0192f80a-9229-72c2-8f3d-14efa3c9d432\n"
          ]
        },
        {
          "output_type": "stream",
          "name": "stderr",
          "text": [
            "Retrieving responses: 100%|██████████| 1/1 [00:00<00:00, 5966.29it/s]\n",
            "Scoring responses:   0%|          | 0/1 [00:00<?, ?it/s]INFO:httpx:HTTP Request: POST https://api.openai.com/v1/chat/completions \"HTTP/1.1 200 OK\"\n"
          ]
        },
        {
          "output_type": "stream",
          "name": "stdout",
          "text": [
            "🍩 https://wandb.ai/lavanyashukla/spacerag_novtest2/r/call/0192f80a-9d71-7292-80e7-06b331c91f9c\n"
          ]
        },
        {
          "output_type": "stream",
          "name": "stderr",
          "text": [
            "INFO:httpx:HTTP Request: POST https://api.openai.com/v1/chat/completions \"HTTP/1.1 200 OK\"\n"
          ]
        },
        {
          "output_type": "stream",
          "name": "stdout",
          "text": [
            "🍩 https://wandb.ai/lavanyashukla/spacerag_novtest2/r/call/0192f80a-a024-7983-ac47-a3d17f65b6b1\n"
          ]
        },
        {
          "output_type": "stream",
          "name": "stderr",
          "text": [
            "INFO:httpx:HTTP Request: POST https://api.openai.com/v1/chat/completions \"HTTP/1.1 200 OK\"\n"
          ]
        },
        {
          "output_type": "stream",
          "name": "stdout",
          "text": [
            "🍩 https://wandb.ai/lavanyashukla/spacerag_novtest2/r/call/0192f80a-a2de-79f2-a867-795a159f1fa3\n"
          ]
        },
        {
          "output_type": "stream",
          "name": "stderr",
          "text": [
            "INFO:httpx:HTTP Request: POST https://api.openai.com/v1/chat/completions \"HTTP/1.1 200 OK\"\n"
          ]
        },
        {
          "output_type": "stream",
          "name": "stdout",
          "text": [
            "🍩 https://wandb.ai/lavanyashukla/spacerag_novtest2/r/call/0192f80a-afb4-7c80-a2b3-e3c6952b2e95\n"
          ]
        },
        {
          "output_type": "stream",
          "name": "stderr",
          "text": [
            "INFO:httpx:HTTP Request: POST https://api.openai.com/v1/chat/completions \"HTTP/1.1 200 OK\"\n"
          ]
        },
        {
          "output_type": "stream",
          "name": "stdout",
          "text": [
            "🍩 https://wandb.ai/lavanyashukla/spacerag_novtest2/r/call/0192f80a-b346-75e2-808c-f7e000764c49\n"
          ]
        },
        {
          "output_type": "stream",
          "name": "stderr",
          "text": [
            "INFO:httpx:HTTP Request: POST https://api.openai.com/v1/chat/completions \"HTTP/1.1 200 OK\"\n"
          ]
        },
        {
          "output_type": "stream",
          "name": "stdout",
          "text": [
            "🍩 https://wandb.ai/lavanyashukla/spacerag_novtest2/r/call/0192f80a-b6b3-7bd0-a79f-aa0e716b852d\n"
          ]
        },
        {
          "output_type": "stream",
          "name": "stderr",
          "text": [
            "INFO:httpx:HTTP Request: POST https://api.openai.com/v1/chat/completions \"HTTP/1.1 200 OK\"\n"
          ]
        },
        {
          "output_type": "stream",
          "name": "stdout",
          "text": [
            "🍩 https://wandb.ai/lavanyashukla/spacerag_novtest2/r/call/0192f80a-ba36-7ce0-9f04-566ac32ff1f4\n"
          ]
        },
        {
          "output_type": "stream",
          "name": "stderr",
          "text": [
            "INFO:httpx:HTTP Request: POST https://api.openai.com/v1/chat/completions \"HTTP/1.1 200 OK\"\n"
          ]
        },
        {
          "output_type": "stream",
          "name": "stdout",
          "text": [
            "🍩 https://wandb.ai/lavanyashukla/spacerag_novtest2/r/call/0192f80a-bd5f-7e50-9d27-ed92665f219d\n"
          ]
        },
        {
          "output_type": "stream",
          "name": "stderr",
          "text": [
            "INFO:httpx:HTTP Request: POST https://api.openai.com/v1/chat/completions \"HTTP/1.1 200 OK\"\n",
            "Scoring responses: 100%|██████████| 1/1 [00:10<00:00, 10.56s/it]\n"
          ]
        },
        {
          "output_type": "stream",
          "name": "stdout",
          "text": [
            "🍩 https://wandb.ai/lavanyashukla/spacerag_novtest2/r/call/0192f80a-c282-71e1-b7fd-b95b8dee7cf1\n"
          ]
        },
        {
          "output_type": "stream",
          "name": "stderr",
          "text": [
            "Retrieving responses: 100%|██████████| 1/1 [00:00<00:00, 874.36it/s]\n",
            "Scoring responses:   0%|          | 0/1 [00:00<?, ?it/s]INFO:httpx:HTTP Request: POST https://api.openai.com/v1/chat/completions \"HTTP/1.1 200 OK\"\n"
          ]
        },
        {
          "output_type": "stream",
          "name": "stdout",
          "text": [
            "🍩 https://wandb.ai/lavanyashukla/spacerag_novtest2/r/call/0192f80a-caf9-7d50-b612-6d1dd1361e9a\n"
          ]
        },
        {
          "output_type": "stream",
          "name": "stderr",
          "text": [
            "INFO:httpx:HTTP Request: POST https://api.openai.com/v1/chat/completions \"HTTP/1.1 200 OK\"\n"
          ]
        },
        {
          "output_type": "stream",
          "name": "stdout",
          "text": [
            "🍩 https://wandb.ai/lavanyashukla/spacerag_novtest2/r/call/0192f80a-cdb7-7dc2-a654-d32e45557e27\n"
          ]
        },
        {
          "output_type": "stream",
          "name": "stderr",
          "text": [
            "INFO:httpx:HTTP Request: POST https://api.openai.com/v1/chat/completions \"HTTP/1.1 200 OK\"\n"
          ]
        },
        {
          "output_type": "stream",
          "name": "stdout",
          "text": [
            "🍩 https://wandb.ai/lavanyashukla/spacerag_novtest2/r/call/0192f80a-d04a-7d33-bc3a-b275bcc18ac8\n"
          ]
        },
        {
          "output_type": "stream",
          "name": "stderr",
          "text": [
            "INFO:httpx:HTTP Request: POST https://api.openai.com/v1/chat/completions \"HTTP/1.1 200 OK\"\n"
          ]
        },
        {
          "output_type": "stream",
          "name": "stdout",
          "text": [
            "🍩 https://wandb.ai/lavanyashukla/spacerag_novtest2/r/call/0192f80a-e9f7-7363-bef1-11350fd3a676\n"
          ]
        },
        {
          "output_type": "stream",
          "name": "stderr",
          "text": [
            "INFO:httpx:HTTP Request: POST https://api.openai.com/v1/chat/completions \"HTTP/1.1 200 OK\"\n"
          ]
        },
        {
          "output_type": "stream",
          "name": "stdout",
          "text": [
            "🍩 https://wandb.ai/lavanyashukla/spacerag_novtest2/r/call/0192f80a-ed63-78a0-8f37-b1179ff9e360\n"
          ]
        },
        {
          "output_type": "stream",
          "name": "stderr",
          "text": [
            "INFO:httpx:HTTP Request: POST https://api.openai.com/v1/chat/completions \"HTTP/1.1 200 OK\"\n"
          ]
        },
        {
          "output_type": "stream",
          "name": "stdout",
          "text": [
            "🍩 https://wandb.ai/lavanyashukla/spacerag_novtest2/r/call/0192f80a-f408-72c0-8565-43278071e561\n"
          ]
        },
        {
          "output_type": "stream",
          "name": "stderr",
          "text": [
            "INFO:httpx:HTTP Request: POST https://api.openai.com/v1/chat/completions \"HTTP/1.1 200 OK\"\n"
          ]
        },
        {
          "output_type": "stream",
          "name": "stdout",
          "text": [
            "🍩 https://wandb.ai/lavanyashukla/spacerag_novtest2/r/call/0192f80a-f792-7e81-8390-1eb7a515ad14\n"
          ]
        },
        {
          "output_type": "stream",
          "name": "stderr",
          "text": [
            "INFO:httpx:HTTP Request: POST https://api.openai.com/v1/chat/completions \"HTTP/1.1 200 OK\"\n",
            "Scoring responses: 100%|██████████| 1/1 [00:16<00:00, 16.61s/it]\n"
          ]
        },
        {
          "output_type": "stream",
          "name": "stdout",
          "text": [
            "🍩 https://wandb.ai/lavanyashukla/spacerag_novtest2/r/call/0192f80a-fe81-77f0-b56f-285f240c8702\n"
          ]
        },
        {
          "output_type": "stream",
          "name": "stderr",
          "text": [
            "Retrieving responses: 100%|██████████| 1/1 [00:00<00:00, 760.80it/s]\n",
            "Scoring responses:   0%|          | 0/1 [00:00<?, ?it/s]INFO:httpx:HTTP Request: POST https://api.openai.com/v1/chat/completions \"HTTP/1.1 200 OK\"\n"
          ]
        },
        {
          "output_type": "stream",
          "name": "stdout",
          "text": [
            "🍩 https://wandb.ai/lavanyashukla/spacerag_novtest2/r/call/0192f80b-0fa7-7d70-b622-d0312697abbb\n"
          ]
        },
        {
          "output_type": "stream",
          "name": "stderr",
          "text": [
            "INFO:httpx:HTTP Request: POST https://api.openai.com/v1/chat/completions \"HTTP/1.1 200 OK\"\n"
          ]
        },
        {
          "output_type": "stream",
          "name": "stdout",
          "text": [
            "🍩 https://wandb.ai/lavanyashukla/spacerag_novtest2/r/call/0192f80b-13ab-7e53-881a-6a16ef4d88c2\n"
          ]
        },
        {
          "output_type": "stream",
          "name": "stderr",
          "text": [
            "INFO:httpx:HTTP Request: POST https://api.openai.com/v1/chat/completions \"HTTP/1.1 200 OK\"\n"
          ]
        },
        {
          "output_type": "stream",
          "name": "stdout",
          "text": [
            "🍩 https://wandb.ai/lavanyashukla/spacerag_novtest2/r/call/0192f80b-1688-7853-a4aa-daa0d4810f80\n"
          ]
        },
        {
          "output_type": "stream",
          "name": "stderr",
          "text": [
            "INFO:httpx:HTTP Request: POST https://api.openai.com/v1/chat/completions \"HTTP/1.1 200 OK\"\n"
          ]
        },
        {
          "output_type": "stream",
          "name": "stdout",
          "text": [
            "🍩 https://wandb.ai/lavanyashukla/spacerag_novtest2/r/call/0192f80b-1e71-7570-9041-cd236f5b4785\n"
          ]
        },
        {
          "output_type": "stream",
          "name": "stderr",
          "text": [
            "INFO:httpx:HTTP Request: POST https://api.openai.com/v1/chat/completions \"HTTP/1.1 200 OK\"\n"
          ]
        },
        {
          "output_type": "stream",
          "name": "stdout",
          "text": [
            "🍩 https://wandb.ai/lavanyashukla/spacerag_novtest2/r/call/0192f80b-2242-7b01-b6ad-d8a13ff245e2\n"
          ]
        },
        {
          "output_type": "stream",
          "name": "stderr",
          "text": [
            "INFO:httpx:HTTP Request: POST https://api.openai.com/v1/chat/completions \"HTTP/1.1 200 OK\"\n",
            "Scoring responses: 100%|██████████| 1/1 [00:06<00:00,  6.59s/it]\n"
          ]
        },
        {
          "output_type": "stream",
          "name": "stdout",
          "text": [
            "🍩 https://wandb.ai/lavanyashukla/spacerag_novtest2/r/call/0192f80b-261f-7173-b56a-ebd128f2691f\n"
          ]
        },
        {
          "output_type": "stream",
          "name": "stderr",
          "text": [
            "Retrieving responses: 100%|██████████| 1/1 [00:00<00:00, 1810.23it/s]\n",
            "Scoring responses:   0%|          | 0/1 [00:00<?, ?it/s]INFO:httpx:HTTP Request: POST https://api.openai.com/v1/chat/completions \"HTTP/1.1 200 OK\"\n"
          ]
        },
        {
          "output_type": "stream",
          "name": "stdout",
          "text": [
            "🍩 https://wandb.ai/lavanyashukla/spacerag_novtest2/r/call/0192f80b-2d5d-7500-86b8-6b85a1d358f6\n"
          ]
        },
        {
          "output_type": "stream",
          "name": "stderr",
          "text": [
            "INFO:httpx:HTTP Request: POST https://api.openai.com/v1/chat/completions \"HTTP/1.1 200 OK\"\n"
          ]
        },
        {
          "output_type": "stream",
          "name": "stdout",
          "text": [
            "🍩 https://wandb.ai/lavanyashukla/spacerag_novtest2/r/call/0192f80b-2ff5-72d1-a933-b381f8bfe2e0\n"
          ]
        },
        {
          "output_type": "stream",
          "name": "stderr",
          "text": [
            "INFO:httpx:HTTP Request: POST https://api.openai.com/v1/chat/completions \"HTTP/1.1 200 OK\"\n"
          ]
        },
        {
          "output_type": "stream",
          "name": "stdout",
          "text": [
            "🍩 https://wandb.ai/lavanyashukla/spacerag_novtest2/r/call/0192f80b-326d-71a3-868e-ff71ad67b1a5\n"
          ]
        },
        {
          "output_type": "stream",
          "name": "stderr",
          "text": [
            "INFO:httpx:HTTP Request: POST https://api.openai.com/v1/chat/completions \"HTTP/1.1 200 OK\"\n"
          ]
        },
        {
          "output_type": "stream",
          "name": "stdout",
          "text": [
            "🍩 https://wandb.ai/lavanyashukla/spacerag_novtest2/r/call/0192f80b-3d0f-7a12-af3a-7e3b3aefbd7c\n"
          ]
        },
        {
          "output_type": "stream",
          "name": "stderr",
          "text": [
            "INFO:httpx:HTTP Request: POST https://api.openai.com/v1/chat/completions \"HTTP/1.1 200 OK\"\n"
          ]
        },
        {
          "output_type": "stream",
          "name": "stdout",
          "text": [
            "🍩 https://wandb.ai/lavanyashukla/spacerag_novtest2/r/call/0192f80b-4616-7a11-9d83-3ddb9d5fe121\n"
          ]
        },
        {
          "output_type": "stream",
          "name": "stderr",
          "text": [
            "INFO:httpx:HTTP Request: POST https://api.openai.com/v1/chat/completions \"HTTP/1.1 200 OK\"\n"
          ]
        },
        {
          "output_type": "stream",
          "name": "stdout",
          "text": [
            "🍩 https://wandb.ai/lavanyashukla/spacerag_novtest2/r/call/0192f80b-4c35-70e1-9f26-e62583616e99\n"
          ]
        },
        {
          "output_type": "stream",
          "name": "stderr",
          "text": [
            "INFO:httpx:HTTP Request: POST https://api.openai.com/v1/chat/completions \"HTTP/1.1 200 OK\"\n",
            "Scoring responses: 100%|██████████| 1/1 [00:10<00:00, 10.18s/it]\n"
          ]
        },
        {
          "output_type": "stream",
          "name": "stdout",
          "text": [
            "🍩 https://wandb.ai/lavanyashukla/spacerag_novtest2/r/call/0192f80b-50d8-7bc1-b03a-be3e59176548\n",
            "{\"concise\": false}\n",
            "{\"relevant\": true}\n",
            "{\"accurate\": true}\n"
          ]
        },
        {
          "output_type": "stream",
          "name": "stderr",
          "text": [
            "Retrieving responses: 100%|██████████| 1/1 [00:00<00:00, 6921.29it/s]\n",
            "Scoring responses:   0%|          | 0/1 [00:00<?, ?it/s]INFO:httpx:HTTP Request: POST https://api.openai.com/v1/chat/completions \"HTTP/1.1 200 OK\"\n"
          ]
        },
        {
          "output_type": "stream",
          "name": "stdout",
          "text": [
            "🍩 https://wandb.ai/lavanyashukla/spacerag_novtest2/r/call/0192f80b-60c0-7a61-b68b-dbb1b91767d8\n"
          ]
        },
        {
          "output_type": "stream",
          "name": "stderr",
          "text": [
            "INFO:httpx:HTTP Request: POST https://api.openai.com/v1/chat/completions \"HTTP/1.1 200 OK\"\n"
          ]
        },
        {
          "output_type": "stream",
          "name": "stdout",
          "text": [
            "🍩 https://wandb.ai/lavanyashukla/spacerag_novtest2/r/call/0192f80b-6e6e-72f1-971f-315405bafcf2\n"
          ]
        },
        {
          "output_type": "stream",
          "name": "stderr",
          "text": [
            "INFO:httpx:HTTP Request: POST https://api.openai.com/v1/chat/completions \"HTTP/1.1 200 OK\"\n"
          ]
        },
        {
          "output_type": "stream",
          "name": "stdout",
          "text": [
            "🍩 https://wandb.ai/lavanyashukla/spacerag_novtest2/r/call/0192f80b-70a7-7022-8ce2-e25796f3f01c\n"
          ]
        },
        {
          "output_type": "stream",
          "name": "stderr",
          "text": [
            "INFO:httpx:HTTP Request: POST https://api.openai.com/v1/chat/completions \"HTTP/1.1 200 OK\"\n"
          ]
        },
        {
          "output_type": "stream",
          "name": "stdout",
          "text": [
            "🍩 https://wandb.ai/lavanyashukla/spacerag_novtest2/r/call/0192f80b-8c2f-7e10-a904-a4838ca99924\n"
          ]
        },
        {
          "output_type": "stream",
          "name": "stderr",
          "text": [
            "INFO:httpx:HTTP Request: POST https://api.openai.com/v1/chat/completions \"HTTP/1.1 200 OK\"\n"
          ]
        },
        {
          "output_type": "stream",
          "name": "stdout",
          "text": [
            "🍩 https://wandb.ai/lavanyashukla/spacerag_novtest2/r/call/0192f80b-9131-7a32-a2fb-c4c4ed483184\n"
          ]
        },
        {
          "output_type": "stream",
          "name": "stderr",
          "text": [
            "INFO:httpx:HTTP Request: POST https://api.openai.com/v1/chat/completions \"HTTP/1.1 200 OK\"\n"
          ]
        },
        {
          "output_type": "stream",
          "name": "stdout",
          "text": [
            "🍩 https://wandb.ai/lavanyashukla/spacerag_novtest2/r/call/0192f80b-94ab-7622-a91c-b5bf2149b155\n"
          ]
        },
        {
          "output_type": "stream",
          "name": "stderr",
          "text": [
            "INFO:httpx:HTTP Request: POST https://api.openai.com/v1/chat/completions \"HTTP/1.1 200 OK\"\n"
          ]
        },
        {
          "output_type": "stream",
          "name": "stdout",
          "text": [
            "🍩 https://wandb.ai/lavanyashukla/spacerag_novtest2/r/call/0192f80b-98a4-7e62-ac2b-4815cfde0b14\n"
          ]
        },
        {
          "output_type": "stream",
          "name": "stderr",
          "text": [
            "INFO:httpx:HTTP Request: POST https://api.openai.com/v1/chat/completions \"HTTP/1.1 200 OK\"\n"
          ]
        },
        {
          "output_type": "stream",
          "name": "stdout",
          "text": [
            "🍩 https://wandb.ai/lavanyashukla/spacerag_novtest2/r/call/0192f80b-9cbe-77c3-8f7c-cbdd8c57176f\n"
          ]
        },
        {
          "output_type": "stream",
          "name": "stderr",
          "text": [
            "INFO:httpx:HTTP Request: POST https://api.openai.com/v1/chat/completions \"HTTP/1.1 200 OK\"\n"
          ]
        },
        {
          "output_type": "stream",
          "name": "stdout",
          "text": [
            "🍩 https://wandb.ai/lavanyashukla/spacerag_novtest2/r/call/0192f80b-a400-7141-9100-a43e3e88ac86\n"
          ]
        },
        {
          "output_type": "stream",
          "name": "stderr",
          "text": [
            "INFO:httpx:HTTP Request: POST https://api.openai.com/v1/chat/completions \"HTTP/1.1 200 OK\"\n",
            "Scoring responses: 100%|██████████| 1/1 [00:20<00:00, 20.36s/it]\n"
          ]
        },
        {
          "output_type": "stream",
          "name": "stdout",
          "text": [
            "🍩 https://wandb.ai/lavanyashukla/spacerag_novtest2/r/call/0192f80b-ac08-70d0-8295-6c96d7e88745\n"
          ]
        },
        {
          "output_type": "stream",
          "name": "stderr",
          "text": [
            "Retrieving responses: 100%|██████████| 1/1 [00:00<00:00, 508.96it/s]\n",
            "Scoring responses:   0%|          | 0/1 [00:00<?, ?it/s]INFO:httpx:HTTP Request: POST https://api.openai.com/v1/chat/completions \"HTTP/1.1 200 OK\"\n"
          ]
        },
        {
          "output_type": "stream",
          "name": "stdout",
          "text": [
            "🍩 https://wandb.ai/lavanyashukla/spacerag_novtest2/r/call/0192f80b-b442-78e1-87bc-570beadd81d7\n"
          ]
        },
        {
          "output_type": "stream",
          "name": "stderr",
          "text": [
            "INFO:httpx:HTTP Request: POST https://api.openai.com/v1/chat/completions \"HTTP/1.1 200 OK\"\n"
          ]
        },
        {
          "output_type": "stream",
          "name": "stdout",
          "text": [
            "🍩 https://wandb.ai/lavanyashukla/spacerag_novtest2/r/call/0192f80b-b7ea-71d0-80fb-11a5c893fd02\n"
          ]
        },
        {
          "output_type": "stream",
          "name": "stderr",
          "text": [
            "INFO:httpx:HTTP Request: POST https://api.openai.com/v1/chat/completions \"HTTP/1.1 200 OK\"\n"
          ]
        },
        {
          "output_type": "stream",
          "name": "stdout",
          "text": [
            "🍩 https://wandb.ai/lavanyashukla/spacerag_novtest2/r/call/0192f80b-bbab-77b1-b62c-1459c5d308e9\n"
          ]
        },
        {
          "output_type": "stream",
          "name": "stderr",
          "text": [
            "INFO:httpx:HTTP Request: POST https://api.openai.com/v1/chat/completions \"HTTP/1.1 200 OK\"\n"
          ]
        },
        {
          "output_type": "stream",
          "name": "stdout",
          "text": [
            "🍩 https://wandb.ai/lavanyashukla/spacerag_novtest2/r/call/0192f80b-f526-7162-abf0-7f95af03b1ba\n"
          ]
        },
        {
          "output_type": "stream",
          "name": "stderr",
          "text": [
            "INFO:httpx:HTTP Request: POST https://api.openai.com/v1/chat/completions \"HTTP/1.1 200 OK\"\n"
          ]
        },
        {
          "output_type": "stream",
          "name": "stdout",
          "text": [
            "🍩 https://wandb.ai/lavanyashukla/spacerag_novtest2/r/call/0192f80c-002f-7b82-8a70-9e7e457d9bf2\n"
          ]
        },
        {
          "output_type": "stream",
          "name": "stderr",
          "text": [
            "INFO:httpx:HTTP Request: POST https://api.openai.com/v1/chat/completions \"HTTP/1.1 200 OK\"\n"
          ]
        },
        {
          "output_type": "stream",
          "name": "stdout",
          "text": [
            "🍩 https://wandb.ai/lavanyashukla/spacerag_novtest2/r/call/0192f80c-040e-7d42-ab3b-b0cc22700c06\n"
          ]
        },
        {
          "output_type": "stream",
          "name": "stderr",
          "text": [
            "INFO:httpx:HTTP Request: POST https://api.openai.com/v1/chat/completions \"HTTP/1.1 200 OK\"\n"
          ]
        },
        {
          "output_type": "stream",
          "name": "stdout",
          "text": [
            "🍩 https://wandb.ai/lavanyashukla/spacerag_novtest2/r/call/0192f80c-08ed-77e3-97c4-a556f3b99452\n"
          ]
        },
        {
          "output_type": "stream",
          "name": "stderr",
          "text": [
            "INFO:httpx:HTTP Request: POST https://api.openai.com/v1/chat/completions \"HTTP/1.1 200 OK\"\n"
          ]
        },
        {
          "output_type": "stream",
          "name": "stdout",
          "text": [
            "🍩 https://wandb.ai/lavanyashukla/spacerag_novtest2/r/call/0192f80c-0c78-7610-9ae0-26bd2a053dd7\n"
          ]
        },
        {
          "output_type": "stream",
          "name": "stderr",
          "text": [
            "INFO:httpx:HTTP Request: POST https://api.openai.com/v1/chat/completions \"HTTP/1.1 200 OK\"\n"
          ]
        },
        {
          "output_type": "stream",
          "name": "stdout",
          "text": [
            "🍩 https://wandb.ai/lavanyashukla/spacerag_novtest2/r/call/0192f80c-0fe0-7840-b0a0-c4dd4f42f5d8\n"
          ]
        },
        {
          "output_type": "stream",
          "name": "stderr",
          "text": [
            "INFO:httpx:HTTP Request: POST https://api.openai.com/v1/chat/completions \"HTTP/1.1 200 OK\"\n"
          ]
        },
        {
          "output_type": "stream",
          "name": "stdout",
          "text": [
            "🍩 https://wandb.ai/lavanyashukla/spacerag_novtest2/r/call/0192f80c-1384-7522-bf30-372550309a30\n"
          ]
        },
        {
          "output_type": "stream",
          "name": "stderr",
          "text": [
            "INFO:httpx:HTTP Request: POST https://api.openai.com/v1/chat/completions \"HTTP/1.1 200 OK\"\n"
          ]
        },
        {
          "output_type": "stream",
          "name": "stdout",
          "text": [
            "🍩 https://wandb.ai/lavanyashukla/spacerag_novtest2/r/call/0192f80c-1715-79e1-bedf-e7c97431dcc3\n"
          ]
        },
        {
          "output_type": "stream",
          "name": "stderr",
          "text": [
            "INFO:httpx:HTTP Request: POST https://api.openai.com/v1/chat/completions \"HTTP/1.1 200 OK\"\n"
          ]
        },
        {
          "output_type": "stream",
          "name": "stdout",
          "text": [
            "🍩 https://wandb.ai/lavanyashukla/spacerag_novtest2/r/call/0192f80c-1a9b-7852-af74-9960f8965947\n"
          ]
        },
        {
          "output_type": "stream",
          "name": "stderr",
          "text": [
            "INFO:httpx:HTTP Request: POST https://api.openai.com/v1/chat/completions \"HTTP/1.1 200 OK\"\n",
            "Scoring responses: 100%|██████████| 1/1 [00:28<00:00, 28.06s/it]\n"
          ]
        },
        {
          "output_type": "stream",
          "name": "stdout",
          "text": [
            "🍩 https://wandb.ai/lavanyashukla/spacerag_novtest2/r/call/0192f80c-1e39-79c0-9caf-db99bdc50fa3\n"
          ]
        },
        {
          "output_type": "stream",
          "name": "stderr",
          "text": [
            "Retrieving responses: 100%|██████████| 1/1 [00:00<00:00, 1362.67it/s]\n",
            "Scoring responses:   0%|          | 0/1 [00:00<?, ?it/s]INFO:httpx:HTTP Request: POST https://api.openai.com/v1/chat/completions \"HTTP/1.1 200 OK\"\n"
          ]
        },
        {
          "output_type": "stream",
          "name": "stdout",
          "text": [
            "🍩 https://wandb.ai/lavanyashukla/spacerag_novtest2/r/call/0192f80c-270a-71e2-b1de-bf1898b53f17\n"
          ]
        },
        {
          "output_type": "stream",
          "name": "stderr",
          "text": [
            "INFO:httpx:HTTP Request: POST https://api.openai.com/v1/chat/completions \"HTTP/1.1 200 OK\"\n"
          ]
        },
        {
          "output_type": "stream",
          "name": "stdout",
          "text": [
            "🍩 https://wandb.ai/lavanyashukla/spacerag_novtest2/r/call/0192f80c-298c-7da0-8cbc-6b086ca9c6d6\n"
          ]
        },
        {
          "output_type": "stream",
          "name": "stderr",
          "text": [
            "INFO:httpx:HTTP Request: POST https://api.openai.com/v1/chat/completions \"HTTP/1.1 200 OK\"\n"
          ]
        },
        {
          "output_type": "stream",
          "name": "stdout",
          "text": [
            "🍩 https://wandb.ai/lavanyashukla/spacerag_novtest2/r/call/0192f80c-2c84-7b71-a26f-3231bce3e472\n"
          ]
        },
        {
          "output_type": "stream",
          "name": "stderr",
          "text": [
            "INFO:httpx:HTTP Request: POST https://api.openai.com/v1/chat/completions \"HTTP/1.1 200 OK\"\n"
          ]
        },
        {
          "output_type": "stream",
          "name": "stdout",
          "text": [
            "🍩 https://wandb.ai/lavanyashukla/spacerag_novtest2/r/call/0192f80c-3549-7eb0-ab66-bd31f85e7382\n"
          ]
        },
        {
          "output_type": "stream",
          "name": "stderr",
          "text": [
            "INFO:httpx:HTTP Request: POST https://api.openai.com/v1/chat/completions \"HTTP/1.1 200 OK\"\n",
            "Scoring responses: 100%|██████████| 1/1 [00:06<00:00,  6.91s/it]\n"
          ]
        },
        {
          "output_type": "stream",
          "name": "stdout",
          "text": [
            "🍩 https://wandb.ai/lavanyashukla/spacerag_novtest2/r/call/0192f80c-3f0a-72c3-8fd5-cdb0615c0a47\n"
          ]
        },
        {
          "output_type": "stream",
          "name": "stderr",
          "text": [
            "Retrieving responses: 100%|██████████| 1/1 [00:00<00:00, 7612.17it/s]\n",
            "Scoring responses:   0%|          | 0/1 [00:00<?, ?it/s]INFO:httpx:HTTP Request: POST https://api.openai.com/v1/chat/completions \"HTTP/1.1 200 OK\"\n"
          ]
        },
        {
          "output_type": "stream",
          "name": "stdout",
          "text": [
            "🍩 https://wandb.ai/lavanyashukla/spacerag_novtest2/r/call/0192f80c-45bf-78b1-b44b-710f548b4d50\n"
          ]
        },
        {
          "output_type": "stream",
          "name": "stderr",
          "text": [
            "INFO:httpx:HTTP Request: POST https://api.openai.com/v1/chat/completions \"HTTP/1.1 200 OK\"\n"
          ]
        },
        {
          "output_type": "stream",
          "name": "stdout",
          "text": [
            "🍩 https://wandb.ai/lavanyashukla/spacerag_novtest2/r/call/0192f80c-48bc-7a33-8a73-311f4d6560a3\n"
          ]
        },
        {
          "output_type": "stream",
          "name": "stderr",
          "text": [
            "INFO:httpx:HTTP Request: POST https://api.openai.com/v1/chat/completions \"HTTP/1.1 200 OK\"\n"
          ]
        },
        {
          "output_type": "stream",
          "name": "stdout",
          "text": [
            "🍩 https://wandb.ai/lavanyashukla/spacerag_novtest2/r/call/0192f80c-4adf-7412-b09f-bcb26215f135\n"
          ]
        },
        {
          "output_type": "stream",
          "name": "stderr",
          "text": [
            "INFO:httpx:HTTP Request: POST https://api.openai.com/v1/chat/completions \"HTTP/1.1 200 OK\"\n"
          ]
        },
        {
          "output_type": "stream",
          "name": "stdout",
          "text": [
            "🍩 https://wandb.ai/lavanyashukla/spacerag_novtest2/r/call/0192f80c-548f-78a2-8a5a-c375bfd829e2\n"
          ]
        },
        {
          "output_type": "stream",
          "name": "stderr",
          "text": [
            "INFO:httpx:HTTP Request: POST https://api.openai.com/v1/chat/completions \"HTTP/1.1 200 OK\"\n"
          ]
        },
        {
          "output_type": "stream",
          "name": "stdout",
          "text": [
            "🍩 https://wandb.ai/lavanyashukla/spacerag_novtest2/r/call/0192f80c-57e1-7173-b4f4-d2dece1214fe\n"
          ]
        },
        {
          "output_type": "stream",
          "name": "stderr",
          "text": [
            "INFO:httpx:HTTP Request: POST https://api.openai.com/v1/chat/completions \"HTTP/1.1 200 OK\"\n",
            "Scoring responses: 100%|██████████| 1/1 [00:06<00:00,  6.86s/it]\n"
          ]
        },
        {
          "output_type": "stream",
          "name": "stdout",
          "text": [
            "🍩 https://wandb.ai/lavanyashukla/spacerag_novtest2/r/call/0192f80c-5c87-7241-a683-d7fbdb732f1e\n"
          ]
        },
        {
          "output_type": "stream",
          "name": "stderr",
          "text": [
            "Retrieving responses: 100%|██████████| 1/1 [00:00<00:00, 5729.92it/s]\n",
            "Scoring responses:   0%|          | 0/1 [00:00<?, ?it/s]INFO:httpx:HTTP Request: POST https://api.openai.com/v1/chat/completions \"HTTP/1.1 200 OK\"\n"
          ]
        },
        {
          "output_type": "stream",
          "name": "stdout",
          "text": [
            "🍩 https://wandb.ai/lavanyashukla/spacerag_novtest2/r/call/0192f80c-642d-7813-af9f-45054b8e4189\n"
          ]
        },
        {
          "output_type": "stream",
          "name": "stderr",
          "text": [
            "INFO:httpx:HTTP Request: POST https://api.openai.com/v1/chat/completions \"HTTP/1.1 200 OK\"\n"
          ]
        },
        {
          "output_type": "stream",
          "name": "stdout",
          "text": [
            "🍩 https://wandb.ai/lavanyashukla/spacerag_novtest2/r/call/0192f80c-66b1-7b73-8df8-87b83bc87772\n"
          ]
        },
        {
          "output_type": "stream",
          "name": "stderr",
          "text": [
            "INFO:httpx:HTTP Request: POST https://api.openai.com/v1/chat/completions \"HTTP/1.1 200 OK\"\n"
          ]
        },
        {
          "output_type": "stream",
          "name": "stdout",
          "text": [
            "🍩 https://wandb.ai/lavanyashukla/spacerag_novtest2/r/call/0192f80c-6a86-7e53-b327-3be36f14d819\n"
          ]
        },
        {
          "output_type": "stream",
          "name": "stderr",
          "text": [
            "INFO:httpx:HTTP Request: POST https://api.openai.com/v1/chat/completions \"HTTP/1.1 200 OK\"\n"
          ]
        },
        {
          "output_type": "stream",
          "name": "stdout",
          "text": [
            "🍩 https://wandb.ai/lavanyashukla/spacerag_novtest2/r/call/0192f80c-702a-7302-a942-cdfef54f1185\n"
          ]
        },
        {
          "output_type": "stream",
          "name": "stderr",
          "text": [
            "INFO:httpx:HTTP Request: POST https://api.openai.com/v1/chat/completions \"HTTP/1.1 200 OK\"\n",
            "Scoring responses: 100%|██████████| 1/1 [00:05<00:00,  5.34s/it]\n"
          ]
        },
        {
          "output_type": "stream",
          "name": "stdout",
          "text": [
            "🍩 https://wandb.ai/lavanyashukla/spacerag_novtest2/r/call/0192f80c-73a6-7922-b03c-91688da36f26\n"
          ]
        },
        {
          "output_type": "stream",
          "name": "stderr",
          "text": [
            "Retrieving responses: 100%|██████████| 1/1 [00:00<00:00, 1441.34it/s]\n",
            "Scoring responses:   0%|          | 0/1 [00:00<?, ?it/s]INFO:httpx:HTTP Request: POST https://api.openai.com/v1/chat/completions \"HTTP/1.1 200 OK\"\n"
          ]
        },
        {
          "output_type": "stream",
          "name": "stdout",
          "text": [
            "🍩 https://wandb.ai/lavanyashukla/spacerag_novtest2/r/call/0192f80c-7cd7-73c3-be65-7fbda5f381a8\n"
          ]
        },
        {
          "output_type": "stream",
          "name": "stderr",
          "text": [
            "INFO:httpx:HTTP Request: POST https://api.openai.com/v1/chat/completions \"HTTP/1.1 200 OK\"\n"
          ]
        },
        {
          "output_type": "stream",
          "name": "stdout",
          "text": [
            "🍩 https://wandb.ai/lavanyashukla/spacerag_novtest2/r/call/0192f80c-7f70-75d2-83ca-3f5e13c84b67\n"
          ]
        },
        {
          "output_type": "stream",
          "name": "stderr",
          "text": [
            "INFO:httpx:HTTP Request: POST https://api.openai.com/v1/chat/completions \"HTTP/1.1 200 OK\"\n"
          ]
        },
        {
          "output_type": "stream",
          "name": "stdout",
          "text": [
            "🍩 https://wandb.ai/lavanyashukla/spacerag_novtest2/r/call/0192f80c-823d-7903-a38b-31d972588c18\n"
          ]
        },
        {
          "output_type": "stream",
          "name": "stderr",
          "text": [
            "INFO:httpx:HTTP Request: POST https://api.openai.com/v1/chat/completions \"HTTP/1.1 200 OK\"\n"
          ]
        },
        {
          "output_type": "stream",
          "name": "stdout",
          "text": [
            "🍩 https://wandb.ai/lavanyashukla/spacerag_novtest2/r/call/0192f80c-8ba8-7c70-80c7-05ccbd9b2e10\n"
          ]
        },
        {
          "output_type": "stream",
          "name": "stderr",
          "text": [
            "INFO:httpx:HTTP Request: POST https://api.openai.com/v1/chat/completions \"HTTP/1.1 200 OK\"\n"
          ]
        },
        {
          "output_type": "stream",
          "name": "stdout",
          "text": [
            "🍩 https://wandb.ai/lavanyashukla/spacerag_novtest2/r/call/0192f80c-8ec1-7e90-8a80-02126e97054c\n"
          ]
        },
        {
          "output_type": "stream",
          "name": "stderr",
          "text": [
            "INFO:httpx:HTTP Request: POST https://api.openai.com/v1/chat/completions \"HTTP/1.1 200 OK\"\n",
            "Scoring responses: 100%|██████████| 1/1 [00:06<00:00,  6.31s/it]\n"
          ]
        },
        {
          "output_type": "stream",
          "name": "stdout",
          "text": [
            "🍩 https://wandb.ai/lavanyashukla/spacerag_novtest2/r/call/0192f80c-91ea-7fd1-bca1-121242603ec4\n"
          ]
        },
        {
          "output_type": "stream",
          "name": "stderr",
          "text": [
            "Retrieving responses: 100%|██████████| 1/1 [00:00<00:00, 8160.12it/s]\n",
            "Scoring responses:   0%|          | 0/1 [00:00<?, ?it/s]INFO:httpx:HTTP Request: POST https://api.openai.com/v1/chat/completions \"HTTP/1.1 200 OK\"\n"
          ]
        },
        {
          "output_type": "stream",
          "name": "stdout",
          "text": [
            "🍩 https://wandb.ai/lavanyashukla/spacerag_novtest2/r/call/0192f80c-9957-7fd1-a335-42db3fa3cef4\n"
          ]
        },
        {
          "output_type": "stream",
          "name": "stderr",
          "text": [
            "INFO:httpx:HTTP Request: POST https://api.openai.com/v1/chat/completions \"HTTP/1.1 200 OK\"\n"
          ]
        },
        {
          "output_type": "stream",
          "name": "stdout",
          "text": [
            "🍩 https://wandb.ai/lavanyashukla/spacerag_novtest2/r/call/0192f80c-9b24-7581-b40e-b8ddfe9d8e2d\n"
          ]
        },
        {
          "output_type": "stream",
          "name": "stderr",
          "text": [
            "INFO:httpx:HTTP Request: POST https://api.openai.com/v1/chat/completions \"HTTP/1.1 200 OK\"\n"
          ]
        },
        {
          "output_type": "stream",
          "name": "stdout",
          "text": [
            "🍩 https://wandb.ai/lavanyashukla/spacerag_novtest2/r/call/0192f80c-9d1b-7711-b64e-80c34b64268a\n"
          ]
        },
        {
          "output_type": "stream",
          "name": "stderr",
          "text": [
            "INFO:httpx:HTTP Request: POST https://api.openai.com/v1/chat/completions \"HTTP/1.1 200 OK\"\n"
          ]
        },
        {
          "output_type": "stream",
          "name": "stdout",
          "text": [
            "🍩 https://wandb.ai/lavanyashukla/spacerag_novtest2/r/call/0192f80c-ad99-7a32-a8f3-787a596f9614\n"
          ]
        },
        {
          "output_type": "stream",
          "name": "stderr",
          "text": [
            "INFO:httpx:HTTP Request: POST https://api.openai.com/v1/chat/completions \"HTTP/1.1 200 OK\"\n"
          ]
        },
        {
          "output_type": "stream",
          "name": "stdout",
          "text": [
            "🍩 https://wandb.ai/lavanyashukla/spacerag_novtest2/r/call/0192f80c-b15a-7f61-8435-0a3a688e3178\n"
          ]
        },
        {
          "output_type": "stream",
          "name": "stderr",
          "text": [
            "INFO:httpx:HTTP Request: POST https://api.openai.com/v1/chat/completions \"HTTP/1.1 200 OK\"\n",
            "Scoring responses: 100%|██████████| 1/1 [00:08<00:00,  8.05s/it]\n"
          ]
        },
        {
          "output_type": "stream",
          "name": "stdout",
          "text": [
            "🍩 https://wandb.ai/lavanyashukla/spacerag_novtest2/r/call/0192f80c-b523-7780-9713-0c86e85e4876\n"
          ]
        },
        {
          "output_type": "stream",
          "name": "stderr",
          "text": [
            "Retrieving responses: 100%|██████████| 1/1 [00:00<00:00, 1218.21it/s]\n",
            "Scoring responses:   0%|          | 0/1 [00:00<?, ?it/s]INFO:httpx:HTTP Request: POST https://api.openai.com/v1/chat/completions \"HTTP/1.1 200 OK\"\n"
          ]
        },
        {
          "output_type": "stream",
          "name": "stdout",
          "text": [
            "🍩 https://wandb.ai/lavanyashukla/spacerag_novtest2/r/call/0192f80c-bcdd-7f31-84fb-ca84975ecdfd\n"
          ]
        },
        {
          "output_type": "stream",
          "name": "stderr",
          "text": [
            "INFO:httpx:HTTP Request: POST https://api.openai.com/v1/chat/completions \"HTTP/1.1 200 OK\"\n"
          ]
        },
        {
          "output_type": "stream",
          "name": "stdout",
          "text": [
            "🍩 https://wandb.ai/lavanyashukla/spacerag_novtest2/r/call/0192f80c-c006-7d73-8344-dcc1fa3afda9\n"
          ]
        },
        {
          "output_type": "stream",
          "name": "stderr",
          "text": [
            "INFO:httpx:HTTP Request: POST https://api.openai.com/v1/chat/completions \"HTTP/1.1 200 OK\"\n"
          ]
        },
        {
          "output_type": "stream",
          "name": "stdout",
          "text": [
            "🍩 https://wandb.ai/lavanyashukla/spacerag_novtest2/r/call/0192f80c-c265-77f2-9f66-c6e3125f4a88\n"
          ]
        },
        {
          "output_type": "stream",
          "name": "stderr",
          "text": [
            "INFO:httpx:HTTP Request: POST https://api.openai.com/v1/chat/completions \"HTTP/1.1 200 OK\"\n"
          ]
        },
        {
          "output_type": "stream",
          "name": "stdout",
          "text": [
            "🍩 https://wandb.ai/lavanyashukla/spacerag_novtest2/r/call/0192f80c-cdbd-7ef1-8672-d1562aa1c488\n"
          ]
        },
        {
          "output_type": "stream",
          "name": "stderr",
          "text": [
            "INFO:httpx:HTTP Request: POST https://api.openai.com/v1/chat/completions \"HTTP/1.1 200 OK\"\n"
          ]
        },
        {
          "output_type": "stream",
          "name": "stdout",
          "text": [
            "🍩 https://wandb.ai/lavanyashukla/spacerag_novtest2/r/call/0192f80c-d0d8-7000-9915-6aaa16807b84\n"
          ]
        },
        {
          "output_type": "stream",
          "name": "stderr",
          "text": [
            "INFO:httpx:HTTP Request: POST https://api.openai.com/v1/chat/completions \"HTTP/1.1 200 OK\"\n"
          ]
        },
        {
          "output_type": "stream",
          "name": "stdout",
          "text": [
            "🍩 https://wandb.ai/lavanyashukla/spacerag_novtest2/r/call/0192f80c-d41b-7432-9fbc-5f49cee6a87e\n"
          ]
        },
        {
          "output_type": "stream",
          "name": "stderr",
          "text": [
            "INFO:httpx:HTTP Request: POST https://api.openai.com/v1/chat/completions \"HTTP/1.1 200 OK\"\n"
          ]
        },
        {
          "output_type": "stream",
          "name": "stdout",
          "text": [
            "🍩 https://wandb.ai/lavanyashukla/spacerag_novtest2/r/call/0192f80c-d8b3-7233-9d31-509dec024faa\n"
          ]
        },
        {
          "output_type": "stream",
          "name": "stderr",
          "text": [
            "INFO:httpx:HTTP Request: POST https://api.openai.com/v1/chat/completions \"HTTP/1.1 200 OK\"\n",
            "Scoring responses: 100%|██████████| 1/1 [00:08<00:00,  8.85s/it]\n"
          ]
        },
        {
          "output_type": "stream",
          "name": "stdout",
          "text": [
            "🍩 https://wandb.ai/lavanyashukla/spacerag_novtest2/r/call/0192f80c-dbed-7113-a9e0-d219e97467f8\n"
          ]
        },
        {
          "output_type": "stream",
          "name": "stderr",
          "text": [
            "INFO:httpx:HTTP Request: POST https://api.openai.com/v1/embeddings \"HTTP/1.1 200 OK\"\n"
          ]
        },
        {
          "output_type": "stream",
          "name": "stdout",
          "text": [
            "Question: What are the psychological challenges faced by astronauts during prolonged space missions?\n",
            "The provided text does not explicitly mention the psychological challenges faced by astronauts during prolonged space missions. However, it does discuss the need for providing psychological and esthetic needs of the colonists in the section on \"Human Needs in Space.\"\n",
            "___________________________\n"
          ]
        },
        {
          "output_type": "stream",
          "name": "stderr",
          "text": [
            "INFO:httpx:HTTP Request: POST https://api.openai.com/v1/embeddings \"HTTP/1.1 200 OK\"\n"
          ]
        },
        {
          "output_type": "stream",
          "name": "stdout",
          "text": [
            "Question: How does volcanic activity affect the colonization potential of the Saturnian moons?\n",
            "There is no mention of volcanic activity affecting the colonization potential of the Saturnian moons in the provided text. It mentions volcanic activity on Io, a Jupiter moon, but not the Saturnian moons.\n",
            "___________________________\n"
          ]
        },
        {
          "output_type": "stream",
          "name": "stderr",
          "text": [
            "INFO:httpx:HTTP Request: POST https://api.openai.com/v1/embeddings \"HTTP/1.1 200 OK\"\n"
          ]
        },
        {
          "output_type": "stream",
          "name": "stdout",
          "text": [
            "Question: What factors limit the habitability of exoplanets around red dwarf stars?\n",
            "Red dwarf stars are thought to be common, but their size and energy output result in several factors that limit the habitability of exoplanets around them: \n",
            "\n",
            "1. Slow nuclear reactions: Their small size means nuclear reactions occur slowly, leading to low energy output.\n",
            "2. Low light emission: Red dwarfs emit very little light, making it difficult for planets to receive the necessary solar energy.\n",
            "3. Tidal locking: A planet must be very close to the star to achieve Earth-like temperatures, resulting in tidal locking, where one side of the planet permanently faces the star.\n",
            "4. Thin atmosphere: A thick atmosphere is necessary to transfer heat from the day side to the night side, but this would prevent sunlight from reaching the surface, hindering photosynthesis.\n",
            "5. Tidal locking to a gas giant as an alternative: A habitable moon orbiting a gas giant within the habitable zone could potentially avoid the extreme temperature differences.\n",
            "___________________________\n"
          ]
        },
        {
          "output_type": "stream",
          "name": "stderr",
          "text": [
            "INFO:httpx:HTTP Request: POST https://api.openai.com/v1/embeddings \"HTTP/1.1 200 OK\"\n"
          ]
        },
        {
          "output_type": "stream",
          "name": "stdout",
          "text": [
            "Question: What is the significance of solar power satellites in the design for space colonization?\n",
            "Solar power satellites (SPS) are a major export of the initial space settlement designs and could provide a source of clean energy for locations on Earth, the Moon, and other locations in space. They can send power wirelessly using microwave or laser beams, eliminating greenhouse gases and nuclear waste from electricity generation and having lower costs than fossil fuel or nuclear energy.\n",
            "___________________________\n"
          ]
        },
        {
          "output_type": "stream",
          "name": "stderr",
          "text": [
            "INFO:httpx:HTTP Request: POST https://api.openai.com/v1/embeddings \"HTTP/1.1 200 OK\"\n"
          ]
        },
        {
          "output_type": "stream",
          "name": "stdout",
          "text": [
            "Question: What is the chosen method for refining aluminum from lunar anorthosite?\n",
            "Melt-quench-leach production of alumina followed by high temperature electro-winning of aluminum from aluminum chloride.\n",
            "___________________________\n"
          ]
        },
        {
          "output_type": "stream",
          "name": "stderr",
          "text": [
            "INFO:httpx:HTTP Request: POST https://api.openai.com/v1/embeddings \"HTTP/1.1 200 OK\"\n"
          ]
        },
        {
          "output_type": "stream",
          "name": "stdout",
          "text": [
            "Question: How does the expense of providing human workers encourage reliance on automation and push for extreme reliability and maintainability in space commercial ventures?\n",
            "The expense of providing human workers is likely to discourage reliance on human workers and instead encourage the use of automation. This would push for extreme reliability and maintainability in space commercial ventures to minimize human involvement and potential downtime.\n",
            "___________________________\n"
          ]
        },
        {
          "output_type": "stream",
          "name": "stderr",
          "text": [
            "INFO:httpx:HTTP Request: POST https://api.openai.com/v1/embeddings \"HTTP/1.1 200 OK\"\n"
          ]
        },
        {
          "output_type": "stream",
          "name": "stdout",
          "text": [
            "Question: What are the suggested advantageous locations for colonization according to Robert Zubrin?\n",
            "Saturn, Uranus, and Neptune.\n",
            "___________________________\n"
          ]
        },
        {
          "output_type": "stream",
          "name": "stderr",
          "text": [
            "INFO:httpx:HTTP Request: POST https://api.openai.com/v1/embeddings \"HTTP/1.1 200 OK\"\n"
          ]
        },
        {
          "output_type": "stream",
          "name": "stdout",
          "text": [
            "Question: What are the chief assumptions about habitable planets in terms of their characteristics?\n",
            "Classic habitable planets are assumed to be rocky, wet, and terrestrial with Earth-like chemistry, but alternative theories examine other biochemistries and types of bodies. A habitable planet is usually considered to be located in the habitable zone of a star, where liquid water can exist on its surface.\n",
            "___________________________\n"
          ]
        },
        {
          "output_type": "stream",
          "name": "stderr",
          "text": [
            "INFO:httpx:HTTP Request: POST https://api.openai.com/v1/embeddings \"HTTP/1.1 200 OK\"\n"
          ]
        },
        {
          "output_type": "stream",
          "name": "stdout",
          "text": [
            "Question: How has space colonization been discussed as a continuation of imperialism and colonialism?\n",
            "Space colonization has been discussed as a continuation of imperialism and colonialism, with proponents calling for decolonization instead. Critics argue that the present politico-legal regimes and their philosophic grounding advantage imperialist development of space, and that space colonization could primarily benefit wealthy elites affiliated with private corporations rather than ordinary citizens.\n",
            "___________________________\n"
          ]
        },
        {
          "output_type": "stream",
          "name": "stderr",
          "text": [
            "INFO:httpx:HTTP Request: POST https://api.openai.com/v1/embeddings \"HTTP/1.1 200 OK\"\n"
          ]
        },
        {
          "output_type": "stream",
          "name": "stdout",
          "text": [
            "Question: What are some criticisms of space colonization?\n",
            "Some criticisms of space colonization include:\n",
            "\n",
            "1. High costs and unprofitable against Earth-based industries.\n",
            "2. Lack of success in addressing the problem of human overpopulation, as population growth rates have slowed down since the 1980s.\n",
            "3. Risk of enhancing the interests of powerful groups, such as large financial institutions and the military-industrial complex.\n",
            "4. Impracticality of shipping excess population into space.\n",
            "5. Potential negative consequences of colonization, such as environmental devastation and displacement of indigenous life forms, cannot be dismissed if there is extant life in the outer Solar System.\n",
            "___________________________\n"
          ]
        },
        {
          "output_type": "display_data",
          "data": {
            "text/plain": [
              "Evaluated \u001b[1;36m21\u001b[0m of \u001b[1;36m50\u001b[0m examples\n"
            ],
            "text/html": [
              "<pre style=\"white-space:pre;overflow-x:auto;line-height:normal;font-family:Menlo,'DejaVu Sans Mono',consolas,'Courier New',monospace\">Evaluated <span style=\"color: #008080; text-decoration-color: #008080; font-weight: bold\">21</span> of <span style=\"color: #008080; text-decoration-color: #008080; font-weight: bold\">50</span> examples\n",
              "</pre>\n"
            ]
          },
          "metadata": {}
        },
        {
          "output_type": "display_data",
          "data": {
            "text/plain": [
              "Evaluated \u001b[1;36m22\u001b[0m of \u001b[1;36m50\u001b[0m examples\n"
            ],
            "text/html": [
              "<pre style=\"white-space:pre;overflow-x:auto;line-height:normal;font-family:Menlo,'DejaVu Sans Mono',consolas,'Courier New',monospace\">Evaluated <span style=\"color: #008080; text-decoration-color: #008080; font-weight: bold\">22</span> of <span style=\"color: #008080; text-decoration-color: #008080; font-weight: bold\">50</span> examples\n",
              "</pre>\n"
            ]
          },
          "metadata": {}
        },
        {
          "output_type": "display_data",
          "data": {
            "text/plain": [
              "Evaluated \u001b[1;36m23\u001b[0m of \u001b[1;36m50\u001b[0m examples\n"
            ],
            "text/html": [
              "<pre style=\"white-space:pre;overflow-x:auto;line-height:normal;font-family:Menlo,'DejaVu Sans Mono',consolas,'Courier New',monospace\">Evaluated <span style=\"color: #008080; text-decoration-color: #008080; font-weight: bold\">23</span> of <span style=\"color: #008080; text-decoration-color: #008080; font-weight: bold\">50</span> examples\n",
              "</pre>\n"
            ]
          },
          "metadata": {}
        },
        {
          "output_type": "display_data",
          "data": {
            "text/plain": [
              "Evaluated \u001b[1;36m24\u001b[0m of \u001b[1;36m50\u001b[0m examples\n"
            ],
            "text/html": [
              "<pre style=\"white-space:pre;overflow-x:auto;line-height:normal;font-family:Menlo,'DejaVu Sans Mono',consolas,'Courier New',monospace\">Evaluated <span style=\"color: #008080; text-decoration-color: #008080; font-weight: bold\">24</span> of <span style=\"color: #008080; text-decoration-color: #008080; font-weight: bold\">50</span> examples\n",
              "</pre>\n"
            ]
          },
          "metadata": {}
        },
        {
          "output_type": "display_data",
          "data": {
            "text/plain": [
              "Evaluated \u001b[1;36m25\u001b[0m of \u001b[1;36m50\u001b[0m examples\n"
            ],
            "text/html": [
              "<pre style=\"white-space:pre;overflow-x:auto;line-height:normal;font-family:Menlo,'DejaVu Sans Mono',consolas,'Courier New',monospace\">Evaluated <span style=\"color: #008080; text-decoration-color: #008080; font-weight: bold\">25</span> of <span style=\"color: #008080; text-decoration-color: #008080; font-weight: bold\">50</span> examples\n",
              "</pre>\n"
            ]
          },
          "metadata": {}
        },
        {
          "output_type": "display_data",
          "data": {
            "text/plain": [
              "Evaluated \u001b[1;36m26\u001b[0m of \u001b[1;36m50\u001b[0m examples\n"
            ],
            "text/html": [
              "<pre style=\"white-space:pre;overflow-x:auto;line-height:normal;font-family:Menlo,'DejaVu Sans Mono',consolas,'Courier New',monospace\">Evaluated <span style=\"color: #008080; text-decoration-color: #008080; font-weight: bold\">26</span> of <span style=\"color: #008080; text-decoration-color: #008080; font-weight: bold\">50</span> examples\n",
              "</pre>\n"
            ]
          },
          "metadata": {}
        },
        {
          "output_type": "display_data",
          "data": {
            "text/plain": [
              "Evaluated \u001b[1;36m27\u001b[0m of \u001b[1;36m50\u001b[0m examples\n"
            ],
            "text/html": [
              "<pre style=\"white-space:pre;overflow-x:auto;line-height:normal;font-family:Menlo,'DejaVu Sans Mono',consolas,'Courier New',monospace\">Evaluated <span style=\"color: #008080; text-decoration-color: #008080; font-weight: bold\">27</span> of <span style=\"color: #008080; text-decoration-color: #008080; font-weight: bold\">50</span> examples\n",
              "</pre>\n"
            ]
          },
          "metadata": {}
        },
        {
          "output_type": "display_data",
          "data": {
            "text/plain": [
              "Evaluated \u001b[1;36m28\u001b[0m of \u001b[1;36m50\u001b[0m examples\n"
            ],
            "text/html": [
              "<pre style=\"white-space:pre;overflow-x:auto;line-height:normal;font-family:Menlo,'DejaVu Sans Mono',consolas,'Courier New',monospace\">Evaluated <span style=\"color: #008080; text-decoration-color: #008080; font-weight: bold\">28</span> of <span style=\"color: #008080; text-decoration-color: #008080; font-weight: bold\">50</span> examples\n",
              "</pre>\n"
            ]
          },
          "metadata": {}
        },
        {
          "output_type": "display_data",
          "data": {
            "text/plain": [
              "Evaluated \u001b[1;36m29\u001b[0m of \u001b[1;36m50\u001b[0m examples\n"
            ],
            "text/html": [
              "<pre style=\"white-space:pre;overflow-x:auto;line-height:normal;font-family:Menlo,'DejaVu Sans Mono',consolas,'Courier New',monospace\">Evaluated <span style=\"color: #008080; text-decoration-color: #008080; font-weight: bold\">29</span> of <span style=\"color: #008080; text-decoration-color: #008080; font-weight: bold\">50</span> examples\n",
              "</pre>\n"
            ]
          },
          "metadata": {}
        },
        {
          "output_type": "display_data",
          "data": {
            "text/plain": [
              "Evaluated \u001b[1;36m30\u001b[0m of \u001b[1;36m50\u001b[0m examples\n"
            ],
            "text/html": [
              "<pre style=\"white-space:pre;overflow-x:auto;line-height:normal;font-family:Menlo,'DejaVu Sans Mono',consolas,'Courier New',monospace\">Evaluated <span style=\"color: #008080; text-decoration-color: #008080; font-weight: bold\">30</span> of <span style=\"color: #008080; text-decoration-color: #008080; font-weight: bold\">50</span> examples\n",
              "</pre>\n"
            ]
          },
          "metadata": {}
        },
        {
          "output_type": "display_data",
          "data": {
            "text/plain": [
              "Evaluated \u001b[1;36m31\u001b[0m of \u001b[1;36m50\u001b[0m examples\n"
            ],
            "text/html": [
              "<pre style=\"white-space:pre;overflow-x:auto;line-height:normal;font-family:Menlo,'DejaVu Sans Mono',consolas,'Courier New',monospace\">Evaluated <span style=\"color: #008080; text-decoration-color: #008080; font-weight: bold\">31</span> of <span style=\"color: #008080; text-decoration-color: #008080; font-weight: bold\">50</span> examples\n",
              "</pre>\n"
            ]
          },
          "metadata": {}
        },
        {
          "output_type": "display_data",
          "data": {
            "text/plain": [
              "Evaluated \u001b[1;36m32\u001b[0m of \u001b[1;36m50\u001b[0m examples\n"
            ],
            "text/html": [
              "<pre style=\"white-space:pre;overflow-x:auto;line-height:normal;font-family:Menlo,'DejaVu Sans Mono',consolas,'Courier New',monospace\">Evaluated <span style=\"color: #008080; text-decoration-color: #008080; font-weight: bold\">32</span> of <span style=\"color: #008080; text-decoration-color: #008080; font-weight: bold\">50</span> examples\n",
              "</pre>\n"
            ]
          },
          "metadata": {}
        },
        {
          "output_type": "display_data",
          "data": {
            "text/plain": [
              "Evaluated \u001b[1;36m33\u001b[0m of \u001b[1;36m50\u001b[0m examples\n"
            ],
            "text/html": [
              "<pre style=\"white-space:pre;overflow-x:auto;line-height:normal;font-family:Menlo,'DejaVu Sans Mono',consolas,'Courier New',monospace\">Evaluated <span style=\"color: #008080; text-decoration-color: #008080; font-weight: bold\">33</span> of <span style=\"color: #008080; text-decoration-color: #008080; font-weight: bold\">50</span> examples\n",
              "</pre>\n"
            ]
          },
          "metadata": {}
        },
        {
          "output_type": "display_data",
          "data": {
            "text/plain": [
              "Evaluated \u001b[1;36m34\u001b[0m of \u001b[1;36m50\u001b[0m examples\n"
            ],
            "text/html": [
              "<pre style=\"white-space:pre;overflow-x:auto;line-height:normal;font-family:Menlo,'DejaVu Sans Mono',consolas,'Courier New',monospace\">Evaluated <span style=\"color: #008080; text-decoration-color: #008080; font-weight: bold\">34</span> of <span style=\"color: #008080; text-decoration-color: #008080; font-weight: bold\">50</span> examples\n",
              "</pre>\n"
            ]
          },
          "metadata": {}
        },
        {
          "output_type": "display_data",
          "data": {
            "text/plain": [
              "Evaluated \u001b[1;36m35\u001b[0m of \u001b[1;36m50\u001b[0m examples\n"
            ],
            "text/html": [
              "<pre style=\"white-space:pre;overflow-x:auto;line-height:normal;font-family:Menlo,'DejaVu Sans Mono',consolas,'Courier New',monospace\">Evaluated <span style=\"color: #008080; text-decoration-color: #008080; font-weight: bold\">35</span> of <span style=\"color: #008080; text-decoration-color: #008080; font-weight: bold\">50</span> examples\n",
              "</pre>\n"
            ]
          },
          "metadata": {}
        },
        {
          "output_type": "stream",
          "name": "stdout",
          "text": [
            "{\"concise\": false}\n",
            "{\"relevant\": false}\n",
            "{\"accurate\": false}\n",
            "{\"concise\": true}\n",
            "{\"relevant\": false}\n",
            "{\"accurate\": false}\n",
            "{\"concise\": true}\n",
            "{\"relevant\": true}\n",
            "{\"accurate\":true}\n",
            "{\"concise\": true}\n"
          ]
        }
      ],
      "source": [
        "models = [\"meta-llama/Meta-Llama-3-70B-Instruct-Turbo\",\n",
        "          \"meta-llama/Meta-Llama-3.1-8B-Instruct-Turbo\",\n",
        "          \"Snowflake/snowflake-arctic-instruct\",\n",
        "          \"mistralai/Mixtral-8x22B-Instruct-v0.1\"\n",
        "          ]  # 🛠️LEVER\n",
        "for model in models:\n",
        "    rag_model = SpaceRAGModel(model=model)\n",
        "    model_name = model.split('/')[-1]  # Get only the part after the '/'\n",
        "    evaluation = Evaluation(name=f\"spacerag-{model_name}\", dataset=small_questions, scorers=[\n",
        "    llm_judge_scorer,\n",
        "    # ragas_score,\n",
        "    tonic_validate_score\n",
        "])\n",
        "    print(f\"RAG Model: {model}\")\n",
        "    await evaluation.evaluate(rag_model, __weave={\"display_name\": f\"spacerag-{model_name}\"})\n"
      ]
    },
    {
      "cell_type": "code",
      "execution_count": null,
      "metadata": {
        "id": "bLGtl-vM7yLu"
      },
      "outputs": [],
      "source": []
    }
  ],
  "metadata": {
    "kernelspec": {
      "display_name": ".venv",
      "language": "python",
      "name": "python3"
    },
    "language_info": {
      "codemirror_mode": {
        "name": "ipython",
        "version": 3
      },
      "file_extension": ".py",
      "mimetype": "text/x-python",
      "name": "python",
      "nbconvert_exporter": "python",
      "pygments_lexer": "ipython3",
      "version": "3.12.4"
    },
    "colab": {
      "provenance": [],
      "name": "SpaceRAG-initial.ipynb",
      "include_colab_link": true
    }
  },
  "nbformat": 4,
  "nbformat_minor": 0
}